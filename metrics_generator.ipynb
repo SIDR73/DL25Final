{
  "cells": [
    {
      "cell_type": "markdown",
      "metadata": {},
      "source": [
        "Deep Learning Final Project\n",
        "\n",
        "Generate IoU, Dice, Sensitivity, Specificity Metrics from Model Results/PNGs"
      ]
    },
    {
      "cell_type": "code",
      "execution_count": 1,
      "metadata": {
        "id": "pFz2qWhL_W3-"
      },
      "outputs": [],
      "source": [
        "# input masks in a mask zip file, and predictions in a prediction zip file\n",
        "# items are, say, mask/---.png and prediction/---.png"
      ]
    },
    {
      "cell_type": "code",
      "execution_count": 2,
      "metadata": {
        "colab": {
          "base_uri": "https://localhost:8080/"
        },
        "id": "lhfhQUlFBs-s",
        "outputId": "2707ceaf-4cf1-456b-8a27-a1fb3854ab0b"
      },
      "outputs": [
        {
          "name": "stdout",
          "output_type": "stream",
          "text": [
            "unzip:  cannot find or open *.zip, *.zip.zip or *.zip.ZIP.\n",
            "\n",
            "No zipfiles found.\n"
          ]
        }
      ],
      "source": [
        "!unzip '*.zip'"
      ]
    },
    {
      "cell_type": "code",
      "execution_count": 3,
      "metadata": {
        "colab": {
          "base_uri": "https://localhost:8080/",
          "height": 211
        },
        "id": "vqnF8Bjqyyf2",
        "outputId": "3871566d-2d71-46b4-a02b-551896572763"
      },
      "outputs": [
        {
          "ename": "FileNotFoundError",
          "evalue": "[Errno 2] No such file or directory: './mask'",
          "output_type": "error",
          "traceback": [
            "\u001b[0;31m---------------------------------------------------------------------------\u001b[0m",
            "\u001b[0;31mFileNotFoundError\u001b[0m                         Traceback (most recent call last)",
            "\u001b[0;32m<ipython-input-3-430c5d2dd6de>\u001b[0m in \u001b[0;36m<cell line: 0>\u001b[0;34m()\u001b[0m\n\u001b[1;32m      3\u001b[0m \u001b[0;34m\u001b[0m\u001b[0m\n\u001b[1;32m      4\u001b[0m \u001b[0mindexes\u001b[0m\u001b[0;34m=\u001b[0m\u001b[0;34m[\u001b[0m\u001b[0;34m]\u001b[0m\u001b[0;34m\u001b[0m\u001b[0;34m\u001b[0m\u001b[0m\n\u001b[0;32m----> 5\u001b[0;31m \u001b[0;32mfor\u001b[0m \u001b[0mfile\u001b[0m \u001b[0;32min\u001b[0m \u001b[0mos\u001b[0m\u001b[0;34m.\u001b[0m\u001b[0mlistdir\u001b[0m\u001b[0;34m(\u001b[0m\u001b[0;34m'./mask'\u001b[0m\u001b[0;34m)\u001b[0m\u001b[0;34m:\u001b[0m\u001b[0;34m\u001b[0m\u001b[0;34m\u001b[0m\u001b[0m\n\u001b[0m\u001b[1;32m      6\u001b[0m   \u001b[0;32mif\u001b[0m \u001b[0mfnmatch\u001b[0m\u001b[0;34m.\u001b[0m\u001b[0mfnmatch\u001b[0m\u001b[0;34m(\u001b[0m\u001b[0mfile\u001b[0m\u001b[0;34m,\u001b[0m \u001b[0;34m'brats_val_*_t1_123_w_mask_*.png'\u001b[0m\u001b[0;34m)\u001b[0m\u001b[0;34m:\u001b[0m\u001b[0;34m\u001b[0m\u001b[0;34m\u001b[0m\u001b[0m\n\u001b[1;32m      7\u001b[0m     \u001b[0;32mif\u001b[0m \u001b[0mindexes\u001b[0m\u001b[0;34m.\u001b[0m\u001b[0mcount\u001b[0m\u001b[0;34m(\u001b[0m\u001b[0mint\u001b[0m\u001b[0;34m(\u001b[0m\u001b[0mfile\u001b[0m\u001b[0;34m[\u001b[0m\u001b[0;36m10\u001b[0m\u001b[0;34m:\u001b[0m\u001b[0;36m13\u001b[0m\u001b[0;34m]\u001b[0m\u001b[0;34m)\u001b[0m\u001b[0;34m)\u001b[0m \u001b[0;34m==\u001b[0m \u001b[0;36m0\u001b[0m\u001b[0;34m:\u001b[0m\u001b[0;34m\u001b[0m\u001b[0;34m\u001b[0m\u001b[0m\n",
            "\u001b[0;31mFileNotFoundError\u001b[0m: [Errno 2] No such file or directory: './mask'"
          ]
        }
      ],
      "source": [
        "import fnmatch\n",
        "import os\n",
        "\n",
        "indexes=[]\n",
        "for file in os.listdir('./mask'):\n",
        "  if fnmatch.fnmatch(file, 'brats_val_*_t1_123_w_mask_*.png'):\n",
        "    if indexes.count(int(file[10:13])) == 0:\n",
        "      indexes.append(int(file[10:13]))\n",
        "indexes=sorted(indexes)\n",
        "print(indexes)"
      ]
    },
    {
      "cell_type": "code",
      "execution_count": null,
      "metadata": {
        "id": "hKw1bUJtxKv0"
      },
      "outputs": [],
      "source": [
        "import imageio.v3 as iio\n",
        "import numpy as np\n",
        "\n",
        "im = iio.imread('download.png')\n",
        "imin2 = iio.imread('download (1).png')\n",
        "mask=(imin2[:,:,0]>200).astype(np.uint8)\n",
        "invmask=1-mask\n",
        "im0=im[:,:,0]\n",
        "im1=im[:,:,1]\n",
        "im2=im[:,:,2]\n",
        "im3=im[:,:,3]"
      ]
    },
    {
      "cell_type": "code",
      "execution_count": null,
      "metadata": {
        "id": "CQ_2iThstNRd"
      },
      "outputs": [],
      "source": [
        "def IoU(mask,img):\n",
        "  falseP=(1-mask)*(img/255.0)\n",
        "  trueP=mask*(img/255.0)\n",
        "  return sum(sum(trueP))/(sum(sum(falseP))+sum(sum(mask.astype(int))))\n",
        "\n",
        "def sensitivity(mask,img):\n",
        "  return sum(sum(img/255.0))/sum(sum(mask.astype(int)))"
      ]
    },
    {
      "cell_type": "code",
      "execution_count": null,
      "metadata": {
        "id": "U4F2bOCQnPf0"
      },
      "outputs": [],
      "source": [
        "IoUsum = 0\n",
        "positsum = 0\n",
        "predpsum = 0\n",
        "upredsum = 0\n",
        "opredsum = 0\n",
        "total = 0\n",
        "TNsum = 0\n",
        "for i in indexes:\n",
        "  for l in [0,1,2,3,4]:\n",
        "    pred = iio.imread('prediction/brats_val_' + str(i) + '_t1_123_w_pred_' + str(l) + '.png')\n",
        "    pred = pred[:,:,0]/3+pred[:,:,1]/3+pred[:,:,2]/3\n",
        "    mask = iio.imread('mask/brats_val_' + str(i) + '_t1_123_w_mask_' + str(l) + '.png')\n",
        "    mask = mask[:,:,0]/3+mask[:,:,1]/3+mask[:,:,2]/3\n",
        "    mask=(mask[:,:]>200).astype(np.uint8)\n",
        "    print(str(i) + \".\" + str(l) + \": IoU: \" + str(IoU(mask,pred)) + \" sens: \" + str(sensitivity(mask,pred)))\n",
        "    total = total + 1\n",
        "    IoUsum = IoUsum + IoU(mask,pred)\n",
        "    positsum = positsum + sum(sum(mask.astype(int)))\n",
        "    predpsum = predpsum + sum(sum(pred/255.0))\n",
        "    upredsum = upredsum + sum(sum(mask*(pred/255.0)))\n",
        "    opredsum = opredsum + sum(sum((1-mask)*(pred/255.0)))\n",
        "    TNsum = TNsum + sum(sum((1-mask)*(255-pred)/255))\n",
        "print(\"IoU: \" + str(upredsum/(opredsum+positsum)))\n",
        "print(\"sensitivity: \" + str(predpsum/positsum))\n",
        "print(\"specificity: \" + str(TNsum/(TNsum+opredsum)))\n",
        "print(\"Dice: \" + str(2*upredsum/(predpsum+positsum)))"
      ]
    }
  ],
  "metadata": {
    "colab": {
      "provenance": []
    },
    "kernelspec": {
      "display_name": "Python 3",
      "name": "python3"
    },
    "language_info": {
      "name": "python"
    }
  },
  "nbformat": 4,
  "nbformat_minor": 0
}
