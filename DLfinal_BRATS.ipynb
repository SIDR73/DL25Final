{
  "cells": [
    {
      "cell_type": "code",
      "execution_count": 39,
      "metadata": {
        "colab": {
          "base_uri": "https://localhost:8080/"
        },
        "id": "pjHp7SysJf-f",
        "outputId": "ffd5abc4-1acd-4521-d217-83ad6d81883e"
      },
      "outputs": [
        {
          "output_type": "stream",
          "name": "stdout",
          "text": [
            "Path to dataset files: /kaggle/input/brats20-dataset-training-validation\n"
          ]
        }
      ],
      "source": [
        "import kagglehub\n",
        "import subprocess\n",
        "\n",
        "# Download latest version\n",
        "path = kagglehub.dataset_download(\"awsaf49/brats20-dataset-training-validation\")\n",
        "\n",
        "print(\"Path to dataset files:\", path)"
      ]
    },
    {
      "cell_type": "code",
      "source": [
        "!ls /kaggle/input/brats20-dataset-training-validation"
      ],
      "metadata": {
        "colab": {
          "base_uri": "https://localhost:8080/"
        },
        "id": "GlnXI3086s3Y",
        "outputId": "4010c8b8-134a-4c99-864b-2c4768575dfb"
      },
      "execution_count": 40,
      "outputs": [
        {
          "output_type": "stream",
          "name": "stdout",
          "text": [
            "BraTS2020_TrainingData\tBraTS2020_ValidationData\n"
          ]
        }
      ]
    },
    {
      "cell_type": "code",
      "execution_count": 41,
      "metadata": {
        "colab": {
          "base_uri": "https://localhost:8080/"
        },
        "id": "IysWIYJdLvzA",
        "outputId": "b06adc70-0b83-4f9d-a779-aa45a687093d"
      },
      "outputs": [
        {
          "output_type": "execute_result",
          "data": {
            "text/plain": [
              "1"
            ]
          },
          "metadata": {},
          "execution_count": 41
        }
      ],
      "source": [
        "subprocess.call(\"git clone https://github.com/WuJunde/MedSegDiff.git\", shell=True)\n",
        "subprocess.call(\"mv MedSegDiff/* ./\", shell=True)"
      ]
    },
    {
      "cell_type": "code",
      "source": [
        "# With June's edits:\n",
        "subprocess.call(\"git clone https://github.com/JuneMetz/MedSegDiff\", shell=True)\n",
        "subprocess.call(\"mv MedSegDiff/* ./\", shell=True)"
      ],
      "metadata": {
        "id": "H28RQp0KCCRC"
      },
      "execution_count": null,
      "outputs": []
    },
    {
      "cell_type": "code",
      "source": [
        "!sed -i 's/.*x=x[:,-1:,...].*/        x=x[:,-1:,...]\\n        if x.shape != model_output.shape:\\n            model_output = model_output[:,[0],...]/' /content/guided_diffusion/gaussian_diffusion.py"
      ],
      "metadata": {
        "id": "tubvtq3V0-iv"
      },
      "execution_count": 42,
      "outputs": []
    },
    {
      "cell_type": "code",
      "source": [
        "!sed -n '275,+20p'  /content/guided_diffusion/gaussian_diffusion.py"
      ],
      "metadata": {
        "colab": {
          "base_uri": "https://localhost:8080/"
        },
        "id": "QBSp6pql06HL",
        "outputId": "dafd415b-34f1-40c4-8f6a-fdede0b6b296"
      },
      "execution_count": 43,
      "outputs": [
        {
          "output_type": "stream",
          "name": "stdout",
          "text": [
            "        x=x[:,-1:,...]\n",
            "        if x.shape != model_output.shape:\n",
            "            model_output = model_output[:,[0],...]\n",
            "        if x.shape != model_output.shape:\n",
            "            model_output = model_output[:,[0],...]\n",
            "        if self.model_var_type in [ModelVarType.LEARNED, ModelVarType.LEARNED_RANGE]:\n",
            "            assert model_output.shape == (B, C * 2, *x.shape[2:])\n",
            "            model_output, model_var_values = th.split(model_output, C, dim=1)\n",
            "            if self.model_var_type == ModelVarType.LEARNED:\n",
            "                model_log_variance = model_var_values\n",
            "                model_variance = th.exp(model_log_variance)\n",
            "            else:\n",
            "                min_log = _extract_into_tensor(\n",
            "                    self.posterior_log_variance_clipped, t, x.shape\n",
            "                )\n",
            "                max_log = _extract_into_tensor(np.log(self.betas), t, x.shape)\n",
            "                # The model_var_values is [-1, 1] for [min_var, max_var].\n",
            "                frac = (model_var_values + 1) / 2\n",
            "                model_log_variance = frac * max_log + (1 - frac) * min_log\n",
            "                model_variance = th.exp(model_log_variance)\n",
            "        else:\n"
          ]
        }
      ]
    },
    {
      "cell_type": "code",
      "source": [
        "subprocess.call(\"mkdir /kaggle\", shell=True)"
      ],
      "metadata": {
        "colab": {
          "base_uri": "https://localhost:8080/"
        },
        "id": "eADrpFh1tX4u",
        "outputId": "27b1ded5-2763-469f-8cf8-27812e003b7f"
      },
      "execution_count": 44,
      "outputs": [
        {
          "output_type": "execute_result",
          "data": {
            "text/plain": [
              "1"
            ]
          },
          "metadata": {},
          "execution_count": 44
        }
      ]
    },
    {
      "cell_type": "code",
      "source": [
        "subprocess.call(\"mkdir /kaggle/working\", shell=True)"
      ],
      "metadata": {
        "colab": {
          "base_uri": "https://localhost:8080/"
        },
        "id": "aH0qfpyetZK0",
        "outputId": "e18a60ee-afc0-432f-e11e-a9f836b7747b"
      },
      "execution_count": 45,
      "outputs": [
        {
          "output_type": "execute_result",
          "data": {
            "text/plain": [
              "1"
            ]
          },
          "metadata": {},
          "execution_count": 45
        }
      ]
    },
    {
      "cell_type": "code",
      "execution_count": 46,
      "metadata": {
        "id": "kqDGAVprODFj",
        "colab": {
          "base_uri": "https://localhost:8080/"
        },
        "outputId": "9b82337b-83d8-4a9c-c2aa-ce19329ba0d8"
      },
      "outputs": [
        {
          "output_type": "execute_result",
          "data": {
            "text/plain": [
              "127"
            ]
          },
          "metadata": {},
          "execution_count": 46
        }
      ],
      "source": [
        "subprocess.call(\"!mkdir /kaggle/working\", shell=True)"
      ]
    },
    {
      "cell_type": "code",
      "execution_count": 47,
      "metadata": {
        "id": "wPgkhLO1ODi0",
        "colab": {
          "base_uri": "https://localhost:8080/"
        },
        "outputId": "363f7fe1-659d-4c29-c83b-d7a2357c7744"
      },
      "outputs": [
        {
          "output_type": "execute_result",
          "data": {
            "text/plain": [
              "1"
            ]
          },
          "metadata": {},
          "execution_count": 47
        }
      ],
      "source": [
        "subprocess.call(\"mkdir /kaggle/working/out\", shell=True)"
      ]
    },
    {
      "cell_type": "code",
      "source": [
        "subprocess.call(\"cp -r /content/guided_diffusion /content/scripts/guided_diffusion\", shell=True)"
      ],
      "metadata": {
        "colab": {
          "base_uri": "https://localhost:8080/"
        },
        "id": "WTcfugGI5F3v",
        "outputId": "5dbc02a9-f472-482f-cc70-a9c6f91a30d4"
      },
      "execution_count": 48,
      "outputs": [
        {
          "output_type": "execute_result",
          "data": {
            "text/plain": [
              "0"
            ]
          },
          "metadata": {},
          "execution_count": 48
        }
      ]
    },
    {
      "cell_type": "code",
      "source": [
        "import os\n",
        "import glob\n",
        "import shutil\n",
        "from tqdm import tqdm\n",
        "\n",
        "def setup_brats_patient_structure():\n",
        "    # Create the main directories\n",
        "    base_dir = \"/kaggle/working/brats\"\n",
        "    training_dir = os.path.join(base_dir, \"training\")\n",
        "    validation_dir = os.path.join(base_dir, \"validation\")\n",
        "\n",
        "    # Create directories if they don't exist\n",
        "    os.makedirs(training_dir, exist_ok=True)\n",
        "    os.makedirs(validation_dir, exist_ok=True)\n",
        "\n",
        "    # Source directory with the copied BraTS data\n",
        "    source_dir = path + \"/BraTS2020_TrainingData/MICCAI_BraTS2020_TrainingData\"\n",
        "\n",
        "    # Get all patient folders\n",
        "    patient_folders = sorted(glob.glob(os.path.join(source_dir, \"BraTS20_Training_*\")))\n",
        "\n",
        "    # Use 80% for training, 20% for validation\n",
        "    split_idx = int(len(patient_folders) * 0.8)\n",
        "    training_patients = patient_folders[:split_idx]\n",
        "    validation_patients = patient_folders[split_idx:]\n",
        "\n",
        "    # Process training patients\n",
        "    for i, patient_folder in enumerate(tqdm(training_patients, desc=\"Processing training data\")):\n",
        "        patient_id = os.path.basename(patient_folder).split('_')[-1]\n",
        "        # Format patient_dir with a fixed width zero-padded number\n",
        "        patient_dir = os.path.join(training_dir, f\"patient_{i+1:02d}\")\n",
        "        os.makedirs(patient_dir, exist_ok=True)\n",
        "\n",
        "        # Find all nifti files for this patient\n",
        "        try:\n",
        "            # List all files in the directory\n",
        "            files = os.listdir(patient_folder)\n",
        "\n",
        "            # Filter to get only the nifti files\n",
        "            nifti_files = [f for f in files if f.endswith('.nii')]\n",
        "\n",
        "            if not nifti_files:\n",
        "                print(f\"No .nii files found in {patient_folder}. Skipping.\")\n",
        "                continue\n",
        "\n",
        "            # Process each modality\n",
        "            for file in nifti_files:\n",
        "                # Determine modality from filename\n",
        "                if '_t1.' in file.lower():\n",
        "                    modality = 't1'\n",
        "                elif '_t1ce.' in file.lower():\n",
        "                    modality = 't1ce'\n",
        "                elif '_t2.' in file.lower():\n",
        "                    modality = 't2'\n",
        "                elif '_flair.' in file.lower():\n",
        "                    modality = 'flair'\n",
        "                elif '_seg.' in file.lower():\n",
        "                    modality = 'seg'\n",
        "                else:\n",
        "                    print(f\"Unknown modality in file {file}. Skipping.\")\n",
        "                    continue\n",
        "\n",
        "                # Create new filename - fix the string formatting here\n",
        "                # Use string format with zfill for zero-padding\n",
        "                new_file = f\"brats_train_{patient_id.zfill(3)}_{modality}_123_w.nii\"\n",
        "\n",
        "                # Copy and rename the file\n",
        "                shutil.copy(\n",
        "                    os.path.join(patient_folder, file),\n",
        "                    os.path.join(patient_dir, new_file)\n",
        "                )\n",
        "\n",
        "            print(f\"Processed patient {patient_id} to {patient_dir}\")\n",
        "        except Exception as e:\n",
        "            print(f\"Error processing {patient_folder}: {e}\")\n",
        "\n",
        "    # Process validation patients\n",
        "    for i, patient_folder in enumerate(tqdm(validation_patients, desc=\"Processing validation data\")):\n",
        "        patient_id = os.path.basename(patient_folder).split('_')[-1]\n",
        "        # Format patient_dir with a fixed width zero-padded number\n",
        "        patient_dir = os.path.join(validation_dir, f\"patient_{i+1:02d}\")\n",
        "        os.makedirs(patient_dir, exist_ok=True)\n",
        "\n",
        "        # Find all nifti files for this patient\n",
        "        try:\n",
        "            # List all files in the directory\n",
        "            files = os.listdir(patient_folder)\n",
        "\n",
        "            # Filter to get only the nifti files\n",
        "            nifti_files = [f for f in files if f.endswith('.nii')]\n",
        "\n",
        "            if not nifti_files:\n",
        "                print(f\"No .nii files found in {patient_folder}. Skipping.\")\n",
        "                continue\n",
        "\n",
        "            # Process each modality\n",
        "            for file in nifti_files:\n",
        "                # Determine modality from filename\n",
        "                if '_t1.' in file.lower():\n",
        "                    modality = 't1'\n",
        "                elif '_t1ce.' in file.lower():\n",
        "                    modality = 't1ce'\n",
        "                elif '_t2.' in file.lower():\n",
        "                    modality = 't2'\n",
        "                elif '_flair.' in file.lower():\n",
        "                    modality = 'flair'\n",
        "                elif '_seg.' in file.lower():\n",
        "                    modality = 'seg'\n",
        "                else:\n",
        "                    print(f\"Unknown modality in file {file}. Skipping.\")\n",
        "                    continue\n",
        "\n",
        "                # Create new filename - fix the string formatting here\n",
        "                # Use string format with zfill for zero-padding\n",
        "                new_file = f\"brats_val_{patient_id.zfill(3)}_{modality}_123_w.nii\"\n",
        "\n",
        "                # Copy and rename the file\n",
        "                shutil.copy(\n",
        "                    os.path.join(patient_folder, file),\n",
        "                    os.path.join(patient_dir, new_file)\n",
        "                )\n",
        "\n",
        "            print(f\"Processed patient {patient_id} to {patient_dir}\")\n",
        "        except Exception as e:\n",
        "            print(f\"Error processing {patient_folder}: {e}\")\n",
        "\n",
        "    # Print summary\n",
        "    num_training = len(os.listdir(training_dir))\n",
        "    num_validation = len(os.listdir(validation_dir))\n",
        "\n",
        "    print(f\"Successfully created the dataset structure:\")\n",
        "    print(f\"Training patients: {num_training}\")\n",
        "    print(f\"Validation patients: {num_validation}\")\n",
        "    print(f\"Data located at: {base_dir}\")\n",
        "\n",
        "    return base_dir\n",
        "\n",
        "# Call the function to set up the data structure\n",
        "brats_data_dir = setup_brats_patient_structure()"
      ],
      "metadata": {
        "colab": {
          "base_uri": "https://localhost:8080/"
        },
        "id": "vMK9N6slBR_t",
        "outputId": "3447d060-2e9b-4c7b-f9ef-08cd5e932acb"
      },
      "execution_count": null,
      "outputs": [
        {
          "output_type": "stream",
          "name": "stderr",
          "text": [
            "Processing training data:   0%|          | 1/295 [00:01<05:45,  1.17s/it]"
          ]
        },
        {
          "output_type": "stream",
          "name": "stdout",
          "text": [
            "Processed patient 001 to /kaggle/working/brats/training/patient_01\n"
          ]
        },
        {
          "output_type": "stream",
          "name": "stderr",
          "text": [
            "\rProcessing training data:   1%|          | 2/295 [00:02<05:42,  1.17s/it]"
          ]
        },
        {
          "output_type": "stream",
          "name": "stdout",
          "text": [
            "Processed patient 002 to /kaggle/working/brats/training/patient_02\n"
          ]
        },
        {
          "output_type": "stream",
          "name": "stderr",
          "text": [
            "\rProcessing training data:   1%|          | 3/295 [00:03<05:04,  1.04s/it]"
          ]
        },
        {
          "output_type": "stream",
          "name": "stdout",
          "text": [
            "Processed patient 003 to /kaggle/working/brats/training/patient_03\n"
          ]
        },
        {
          "output_type": "stream",
          "name": "stderr",
          "text": [
            "\rProcessing training data:   1%|▏         | 4/295 [00:04<04:48,  1.01it/s]"
          ]
        },
        {
          "output_type": "stream",
          "name": "stdout",
          "text": [
            "Processed patient 004 to /kaggle/working/brats/training/patient_04\n"
          ]
        },
        {
          "output_type": "stream",
          "name": "stderr",
          "text": [
            "\rProcessing training data:   2%|▏         | 5/295 [00:05<04:35,  1.05it/s]"
          ]
        },
        {
          "output_type": "stream",
          "name": "stdout",
          "text": [
            "Processed patient 005 to /kaggle/working/brats/training/patient_05\n"
          ]
        },
        {
          "output_type": "stream",
          "name": "stderr",
          "text": [
            "\rProcessing training data:   2%|▏         | 6/295 [00:05<04:29,  1.07it/s]"
          ]
        },
        {
          "output_type": "stream",
          "name": "stdout",
          "text": [
            "Processed patient 006 to /kaggle/working/brats/training/patient_06\n"
          ]
        },
        {
          "output_type": "stream",
          "name": "stderr",
          "text": [
            "\rProcessing training data:   2%|▏         | 7/295 [00:06<04:27,  1.08it/s]"
          ]
        },
        {
          "output_type": "stream",
          "name": "stdout",
          "text": [
            "Processed patient 007 to /kaggle/working/brats/training/patient_07\n"
          ]
        },
        {
          "output_type": "stream",
          "name": "stderr",
          "text": [
            "\rProcessing training data:   3%|▎         | 8/295 [00:07<04:26,  1.08it/s]"
          ]
        },
        {
          "output_type": "stream",
          "name": "stdout",
          "text": [
            "Processed patient 008 to /kaggle/working/brats/training/patient_08\n"
          ]
        },
        {
          "output_type": "stream",
          "name": "stderr",
          "text": [
            "\rProcessing training data:   3%|▎         | 9/295 [00:08<04:28,  1.06it/s]"
          ]
        },
        {
          "output_type": "stream",
          "name": "stdout",
          "text": [
            "Processed patient 009 to /kaggle/working/brats/training/patient_09\n"
          ]
        },
        {
          "output_type": "stream",
          "name": "stderr",
          "text": [
            "\rProcessing training data:   3%|▎         | 10/295 [00:09<04:29,  1.06it/s]"
          ]
        },
        {
          "output_type": "stream",
          "name": "stdout",
          "text": [
            "Processed patient 010 to /kaggle/working/brats/training/patient_10\n"
          ]
        },
        {
          "output_type": "stream",
          "name": "stderr",
          "text": [
            "\rProcessing training data:   4%|▎         | 11/295 [00:10<04:32,  1.04it/s]"
          ]
        },
        {
          "output_type": "stream",
          "name": "stdout",
          "text": [
            "Processed patient 011 to /kaggle/working/brats/training/patient_11\n"
          ]
        },
        {
          "output_type": "stream",
          "name": "stderr",
          "text": [
            "\rProcessing training data:   4%|▍         | 12/295 [00:11<04:35,  1.03it/s]"
          ]
        },
        {
          "output_type": "stream",
          "name": "stdout",
          "text": [
            "Processed patient 012 to /kaggle/working/brats/training/patient_12\n"
          ]
        },
        {
          "output_type": "stream",
          "name": "stderr",
          "text": [
            "\rProcessing training data:   4%|▍         | 13/295 [00:12<04:38,  1.01it/s]"
          ]
        },
        {
          "output_type": "stream",
          "name": "stdout",
          "text": [
            "Processed patient 013 to /kaggle/working/brats/training/patient_13\n"
          ]
        },
        {
          "output_type": "stream",
          "name": "stderr",
          "text": [
            "\rProcessing training data:   5%|▍         | 14/295 [00:13<04:40,  1.00it/s]"
          ]
        },
        {
          "output_type": "stream",
          "name": "stdout",
          "text": [
            "Processed patient 014 to /kaggle/working/brats/training/patient_14\n"
          ]
        },
        {
          "output_type": "stream",
          "name": "stderr",
          "text": [
            "\rProcessing training data:   5%|▌         | 15/295 [00:14<04:49,  1.03s/it]"
          ]
        },
        {
          "output_type": "stream",
          "name": "stdout",
          "text": [
            "Processed patient 015 to /kaggle/working/brats/training/patient_15\n"
          ]
        },
        {
          "output_type": "stream",
          "name": "stderr",
          "text": [
            "\rProcessing training data:   5%|▌         | 16/295 [00:15<04:48,  1.04s/it]"
          ]
        },
        {
          "output_type": "stream",
          "name": "stdout",
          "text": [
            "Processed patient 016 to /kaggle/working/brats/training/patient_16\n"
          ]
        },
        {
          "output_type": "stream",
          "name": "stderr",
          "text": [
            "\rProcessing training data:   6%|▌         | 17/295 [00:16<04:50,  1.04s/it]"
          ]
        },
        {
          "output_type": "stream",
          "name": "stdout",
          "text": [
            "Processed patient 017 to /kaggle/working/brats/training/patient_17\n"
          ]
        },
        {
          "output_type": "stream",
          "name": "stderr",
          "text": [
            "\rProcessing training data:   6%|▌         | 18/295 [00:17<04:43,  1.02s/it]"
          ]
        },
        {
          "output_type": "stream",
          "name": "stdout",
          "text": [
            "Processed patient 018 to /kaggle/working/brats/training/patient_18\n"
          ]
        },
        {
          "output_type": "stream",
          "name": "stderr",
          "text": [
            "\rProcessing training data:   6%|▋         | 19/295 [00:18<04:44,  1.03s/it]"
          ]
        },
        {
          "output_type": "stream",
          "name": "stdout",
          "text": [
            "Processed patient 019 to /kaggle/working/brats/training/patient_19\n"
          ]
        },
        {
          "output_type": "stream",
          "name": "stderr",
          "text": [
            "\rProcessing training data:   7%|▋         | 20/295 [00:20<04:48,  1.05s/it]"
          ]
        },
        {
          "output_type": "stream",
          "name": "stdout",
          "text": [
            "Processed patient 020 to /kaggle/working/brats/training/patient_20\n"
          ]
        },
        {
          "output_type": "stream",
          "name": "stderr",
          "text": [
            "\rProcessing training data:   7%|▋         | 21/295 [00:21<04:43,  1.03s/it]"
          ]
        },
        {
          "output_type": "stream",
          "name": "stdout",
          "text": [
            "Processed patient 021 to /kaggle/working/brats/training/patient_21\n"
          ]
        },
        {
          "output_type": "stream",
          "name": "stderr",
          "text": [
            "\rProcessing training data:   7%|▋         | 22/295 [00:22<04:46,  1.05s/it]"
          ]
        },
        {
          "output_type": "stream",
          "name": "stdout",
          "text": [
            "Processed patient 022 to /kaggle/working/brats/training/patient_22\n"
          ]
        },
        {
          "output_type": "stream",
          "name": "stderr",
          "text": [
            "\rProcessing training data:   8%|▊         | 23/295 [00:23<04:44,  1.05s/it]"
          ]
        },
        {
          "output_type": "stream",
          "name": "stdout",
          "text": [
            "Processed patient 023 to /kaggle/working/brats/training/patient_23\n"
          ]
        },
        {
          "output_type": "stream",
          "name": "stderr",
          "text": [
            "\rProcessing training data:   8%|▊         | 24/295 [00:24<04:42,  1.04s/it]"
          ]
        },
        {
          "output_type": "stream",
          "name": "stdout",
          "text": [
            "Processed patient 024 to /kaggle/working/brats/training/patient_24\n"
          ]
        },
        {
          "output_type": "stream",
          "name": "stderr",
          "text": [
            "\rProcessing training data:   8%|▊         | 25/295 [00:25<04:40,  1.04s/it]"
          ]
        },
        {
          "output_type": "stream",
          "name": "stdout",
          "text": [
            "Processed patient 025 to /kaggle/working/brats/training/patient_25\n"
          ]
        },
        {
          "output_type": "stream",
          "name": "stderr",
          "text": [
            "\rProcessing training data:   9%|▉         | 26/295 [00:27<05:45,  1.28s/it]"
          ]
        },
        {
          "output_type": "stream",
          "name": "stdout",
          "text": [
            "Processed patient 026 to /kaggle/working/brats/training/patient_26\n"
          ]
        },
        {
          "output_type": "stream",
          "name": "stderr",
          "text": [
            "\rProcessing training data:   9%|▉         | 27/295 [00:28<05:21,  1.20s/it]"
          ]
        },
        {
          "output_type": "stream",
          "name": "stdout",
          "text": [
            "Processed patient 027 to /kaggle/working/brats/training/patient_27\n"
          ]
        },
        {
          "output_type": "stream",
          "name": "stderr",
          "text": [
            "\rProcessing training data:   9%|▉         | 28/295 [00:29<05:00,  1.12s/it]"
          ]
        },
        {
          "output_type": "stream",
          "name": "stdout",
          "text": [
            "Processed patient 028 to /kaggle/working/brats/training/patient_28\n"
          ]
        },
        {
          "output_type": "stream",
          "name": "stderr",
          "text": [
            "\rProcessing training data:  10%|▉         | 29/295 [00:29<04:41,  1.06s/it]"
          ]
        },
        {
          "output_type": "stream",
          "name": "stdout",
          "text": [
            "Processed patient 029 to /kaggle/working/brats/training/patient_29\n"
          ]
        },
        {
          "output_type": "stream",
          "name": "stderr",
          "text": [
            "\rProcessing training data:  10%|█         | 30/295 [00:30<04:28,  1.01s/it]"
          ]
        },
        {
          "output_type": "stream",
          "name": "stdout",
          "text": [
            "Processed patient 030 to /kaggle/working/brats/training/patient_30\n"
          ]
        },
        {
          "output_type": "stream",
          "name": "stderr",
          "text": [
            "\rProcessing training data:  11%|█         | 31/295 [00:31<04:24,  1.00s/it]"
          ]
        },
        {
          "output_type": "stream",
          "name": "stdout",
          "text": [
            "Processed patient 031 to /kaggle/working/brats/training/patient_31\n"
          ]
        },
        {
          "output_type": "stream",
          "name": "stderr",
          "text": [
            "\rProcessing training data:  11%|█         | 32/295 [00:32<04:14,  1.03it/s]"
          ]
        },
        {
          "output_type": "stream",
          "name": "stdout",
          "text": [
            "Processed patient 032 to /kaggle/working/brats/training/patient_32\n"
          ]
        },
        {
          "output_type": "stream",
          "name": "stderr",
          "text": [
            "\rProcessing training data:  11%|█         | 33/295 [00:33<04:07,  1.06it/s]"
          ]
        },
        {
          "output_type": "stream",
          "name": "stdout",
          "text": [
            "Processed patient 033 to /kaggle/working/brats/training/patient_33\n"
          ]
        },
        {
          "output_type": "stream",
          "name": "stderr",
          "text": [
            "\rProcessing training data:  12%|█▏        | 34/295 [00:34<04:04,  1.07it/s]"
          ]
        },
        {
          "output_type": "stream",
          "name": "stdout",
          "text": [
            "Processed patient 034 to /kaggle/working/brats/training/patient_34\n"
          ]
        },
        {
          "output_type": "stream",
          "name": "stderr",
          "text": [
            "\rProcessing training data:  12%|█▏        | 35/295 [00:35<03:59,  1.09it/s]"
          ]
        },
        {
          "output_type": "stream",
          "name": "stdout",
          "text": [
            "Processed patient 035 to /kaggle/working/brats/training/patient_35\n"
          ]
        },
        {
          "output_type": "stream",
          "name": "stderr",
          "text": [
            "\rProcessing training data:  12%|█▏        | 36/295 [00:36<03:56,  1.10it/s]"
          ]
        },
        {
          "output_type": "stream",
          "name": "stdout",
          "text": [
            "Processed patient 036 to /kaggle/working/brats/training/patient_36\n"
          ]
        },
        {
          "output_type": "stream",
          "name": "stderr",
          "text": [
            "\rProcessing training data:  13%|█▎        | 37/295 [00:37<03:57,  1.09it/s]"
          ]
        },
        {
          "output_type": "stream",
          "name": "stdout",
          "text": [
            "Processed patient 037 to /kaggle/working/brats/training/patient_37\n"
          ]
        },
        {
          "output_type": "stream",
          "name": "stderr",
          "text": [
            "\rProcessing training data:  13%|█▎        | 38/295 [00:38<03:59,  1.07it/s]"
          ]
        },
        {
          "output_type": "stream",
          "name": "stdout",
          "text": [
            "Processed patient 038 to /kaggle/working/brats/training/patient_38\n"
          ]
        },
        {
          "output_type": "stream",
          "name": "stderr",
          "text": [
            "\rProcessing training data:  13%|█▎        | 39/295 [00:39<03:53,  1.10it/s]"
          ]
        },
        {
          "output_type": "stream",
          "name": "stdout",
          "text": [
            "Processed patient 039 to /kaggle/working/brats/training/patient_39\n"
          ]
        },
        {
          "output_type": "stream",
          "name": "stderr",
          "text": [
            "\rProcessing training data:  14%|█▎        | 40/295 [00:39<03:51,  1.10it/s]"
          ]
        },
        {
          "output_type": "stream",
          "name": "stdout",
          "text": [
            "Processed patient 040 to /kaggle/working/brats/training/patient_40\n"
          ]
        },
        {
          "output_type": "stream",
          "name": "stderr",
          "text": [
            "\rProcessing training data:  14%|█▍        | 41/295 [00:40<03:46,  1.12it/s]"
          ]
        },
        {
          "output_type": "stream",
          "name": "stdout",
          "text": [
            "Processed patient 041 to /kaggle/working/brats/training/patient_41\n"
          ]
        },
        {
          "output_type": "stream",
          "name": "stderr",
          "text": [
            "\rProcessing training data:  14%|█▍        | 42/295 [00:42<04:43,  1.12s/it]"
          ]
        },
        {
          "output_type": "stream",
          "name": "stdout",
          "text": [
            "Processed patient 042 to /kaggle/working/brats/training/patient_42\n"
          ]
        },
        {
          "output_type": "stream",
          "name": "stderr",
          "text": [
            "\rProcessing training data:  15%|█▍        | 43/295 [00:43<04:23,  1.05s/it]"
          ]
        },
        {
          "output_type": "stream",
          "name": "stdout",
          "text": [
            "Processed patient 043 to /kaggle/working/brats/training/patient_43\n"
          ]
        },
        {
          "output_type": "stream",
          "name": "stderr",
          "text": [
            "\rProcessing training data:  15%|█▍        | 44/295 [00:44<04:15,  1.02s/it]"
          ]
        },
        {
          "output_type": "stream",
          "name": "stdout",
          "text": [
            "Processed patient 044 to /kaggle/working/brats/training/patient_44\n"
          ]
        },
        {
          "output_type": "stream",
          "name": "stderr",
          "text": [
            "\rProcessing training data:  15%|█▌        | 45/295 [00:45<04:06,  1.01it/s]"
          ]
        },
        {
          "output_type": "stream",
          "name": "stdout",
          "text": [
            "Processed patient 045 to /kaggle/working/brats/training/patient_45\n"
          ]
        },
        {
          "output_type": "stream",
          "name": "stderr",
          "text": [
            "\rProcessing training data:  16%|█▌        | 46/295 [00:46<04:03,  1.02it/s]"
          ]
        },
        {
          "output_type": "stream",
          "name": "stdout",
          "text": [
            "Processed patient 046 to /kaggle/working/brats/training/patient_46\n"
          ]
        },
        {
          "output_type": "stream",
          "name": "stderr",
          "text": [
            "\rProcessing training data:  16%|█▌        | 47/295 [00:47<03:54,  1.06it/s]"
          ]
        },
        {
          "output_type": "stream",
          "name": "stdout",
          "text": [
            "Processed patient 047 to /kaggle/working/brats/training/patient_47\n"
          ]
        },
        {
          "output_type": "stream",
          "name": "stderr",
          "text": [
            "\rProcessing training data:  16%|█▋        | 48/295 [00:47<03:45,  1.09it/s]"
          ]
        },
        {
          "output_type": "stream",
          "name": "stdout",
          "text": [
            "Processed patient 048 to /kaggle/working/brats/training/patient_48\n"
          ]
        },
        {
          "output_type": "stream",
          "name": "stderr",
          "text": [
            "\rProcessing training data:  17%|█▋        | 49/295 [00:48<03:52,  1.06it/s]"
          ]
        },
        {
          "output_type": "stream",
          "name": "stdout",
          "text": [
            "Processed patient 049 to /kaggle/working/brats/training/patient_49\n"
          ]
        },
        {
          "output_type": "stream",
          "name": "stderr",
          "text": [
            "\rProcessing training data:  17%|█▋        | 50/295 [00:49<03:59,  1.02it/s]"
          ]
        },
        {
          "output_type": "stream",
          "name": "stdout",
          "text": [
            "Processed patient 050 to /kaggle/working/brats/training/patient_50\n"
          ]
        },
        {
          "output_type": "stream",
          "name": "stderr",
          "text": [
            "\rProcessing training data:  17%|█▋        | 51/295 [00:50<03:57,  1.03it/s]"
          ]
        },
        {
          "output_type": "stream",
          "name": "stdout",
          "text": [
            "Processed patient 051 to /kaggle/working/brats/training/patient_51\n"
          ]
        },
        {
          "output_type": "stream",
          "name": "stderr",
          "text": [
            "\rProcessing training data:  18%|█▊        | 52/295 [00:51<03:57,  1.02it/s]"
          ]
        },
        {
          "output_type": "stream",
          "name": "stdout",
          "text": [
            "Processed patient 052 to /kaggle/working/brats/training/patient_52\n"
          ]
        },
        {
          "output_type": "stream",
          "name": "stderr",
          "text": [
            "\rProcessing training data:  18%|█▊        | 53/295 [00:52<04:04,  1.01s/it]"
          ]
        },
        {
          "output_type": "stream",
          "name": "stdout",
          "text": [
            "Processed patient 053 to /kaggle/working/brats/training/patient_53\n"
          ]
        },
        {
          "output_type": "stream",
          "name": "stderr",
          "text": [
            "\rProcessing training data:  18%|█▊        | 54/295 [00:53<03:57,  1.01it/s]"
          ]
        },
        {
          "output_type": "stream",
          "name": "stdout",
          "text": [
            "Processed patient 054 to /kaggle/working/brats/training/patient_54\n"
          ]
        },
        {
          "output_type": "stream",
          "name": "stderr",
          "text": [
            "\rProcessing training data:  19%|█▊        | 55/295 [00:54<03:59,  1.00it/s]"
          ]
        },
        {
          "output_type": "stream",
          "name": "stdout",
          "text": [
            "Processed patient 055 to /kaggle/working/brats/training/patient_55\n"
          ]
        },
        {
          "output_type": "stream",
          "name": "stderr",
          "text": [
            "\rProcessing training data:  19%|█▉        | 56/295 [00:55<03:55,  1.02it/s]"
          ]
        },
        {
          "output_type": "stream",
          "name": "stdout",
          "text": [
            "Processed patient 056 to /kaggle/working/brats/training/patient_56\n"
          ]
        },
        {
          "output_type": "stream",
          "name": "stderr",
          "text": [
            "\rProcessing training data:  19%|█▉        | 57/295 [00:58<06:19,  1.59s/it]"
          ]
        },
        {
          "output_type": "stream",
          "name": "stdout",
          "text": [
            "Processed patient 057 to /kaggle/working/brats/training/patient_57\n"
          ]
        },
        {
          "output_type": "stream",
          "name": "stderr",
          "text": [
            "\rProcessing training data:  20%|█▉        | 58/295 [00:59<05:35,  1.42s/it]"
          ]
        },
        {
          "output_type": "stream",
          "name": "stdout",
          "text": [
            "Processed patient 058 to /kaggle/working/brats/training/patient_58\n"
          ]
        },
        {
          "output_type": "stream",
          "name": "stderr",
          "text": [
            "\rProcessing training data:  20%|██        | 59/295 [01:00<05:06,  1.30s/it]"
          ]
        },
        {
          "output_type": "stream",
          "name": "stdout",
          "text": [
            "Processed patient 059 to /kaggle/working/brats/training/patient_59\n"
          ]
        },
        {
          "output_type": "stream",
          "name": "stderr",
          "text": [
            "\rProcessing training data:  20%|██        | 60/295 [01:01<04:46,  1.22s/it]"
          ]
        },
        {
          "output_type": "stream",
          "name": "stdout",
          "text": [
            "Processed patient 060 to /kaggle/working/brats/training/patient_60\n"
          ]
        },
        {
          "output_type": "stream",
          "name": "stderr",
          "text": [
            "\rProcessing training data:  21%|██        | 61/295 [01:02<04:29,  1.15s/it]"
          ]
        },
        {
          "output_type": "stream",
          "name": "stdout",
          "text": [
            "Processed patient 061 to /kaggle/working/brats/training/patient_61\n"
          ]
        },
        {
          "output_type": "stream",
          "name": "stderr",
          "text": [
            "\rProcessing training data:  21%|██        | 62/295 [01:03<04:18,  1.11s/it]"
          ]
        },
        {
          "output_type": "stream",
          "name": "stdout",
          "text": [
            "Processed patient 062 to /kaggle/working/brats/training/patient_62\n"
          ]
        },
        {
          "output_type": "stream",
          "name": "stderr",
          "text": [
            "\rProcessing training data:  21%|██▏       | 63/295 [01:05<04:11,  1.08s/it]"
          ]
        },
        {
          "output_type": "stream",
          "name": "stdout",
          "text": [
            "Processed patient 063 to /kaggle/working/brats/training/patient_63\n"
          ]
        },
        {
          "output_type": "stream",
          "name": "stderr",
          "text": [
            "\rProcessing training data:  22%|██▏       | 64/295 [01:06<04:08,  1.07s/it]"
          ]
        },
        {
          "output_type": "stream",
          "name": "stdout",
          "text": [
            "Processed patient 064 to /kaggle/working/brats/training/patient_64\n"
          ]
        },
        {
          "output_type": "stream",
          "name": "stderr",
          "text": [
            "\rProcessing training data:  22%|██▏       | 65/295 [01:09<06:38,  1.73s/it]"
          ]
        },
        {
          "output_type": "stream",
          "name": "stdout",
          "text": [
            "Processed patient 065 to /kaggle/working/brats/training/patient_65\n"
          ]
        },
        {
          "output_type": "stream",
          "name": "stderr",
          "text": [
            "\rProcessing training data:  22%|██▏       | 66/295 [01:10<05:43,  1.50s/it]"
          ]
        },
        {
          "output_type": "stream",
          "name": "stdout",
          "text": [
            "Processed patient 066 to /kaggle/working/brats/training/patient_66\n"
          ]
        },
        {
          "output_type": "stream",
          "name": "stderr",
          "text": [
            "\rProcessing training data:  23%|██▎       | 67/295 [01:11<05:07,  1.35s/it]"
          ]
        },
        {
          "output_type": "stream",
          "name": "stdout",
          "text": [
            "Processed patient 067 to /kaggle/working/brats/training/patient_67\n"
          ]
        },
        {
          "output_type": "stream",
          "name": "stderr",
          "text": [
            "\rProcessing training data:  23%|██▎       | 68/295 [01:12<04:47,  1.27s/it]"
          ]
        },
        {
          "output_type": "stream",
          "name": "stdout",
          "text": [
            "Processed patient 068 to /kaggle/working/brats/training/patient_68\n"
          ]
        },
        {
          "output_type": "stream",
          "name": "stderr",
          "text": [
            "\rProcessing training data:  23%|██▎       | 69/295 [01:13<04:33,  1.21s/it]"
          ]
        },
        {
          "output_type": "stream",
          "name": "stdout",
          "text": [
            "Processed patient 069 to /kaggle/working/brats/training/patient_69\n"
          ]
        },
        {
          "output_type": "stream",
          "name": "stderr",
          "text": [
            "\rProcessing training data:  24%|██▎       | 70/295 [01:14<04:18,  1.15s/it]"
          ]
        },
        {
          "output_type": "stream",
          "name": "stdout",
          "text": [
            "Processed patient 070 to /kaggle/working/brats/training/patient_70\n"
          ]
        },
        {
          "output_type": "stream",
          "name": "stderr",
          "text": [
            "\rProcessing training data:  24%|██▍       | 71/295 [01:15<04:08,  1.11s/it]"
          ]
        },
        {
          "output_type": "stream",
          "name": "stdout",
          "text": [
            "Processed patient 071 to /kaggle/working/brats/training/patient_71\n"
          ]
        },
        {
          "output_type": "stream",
          "name": "stderr",
          "text": [
            "\rProcessing training data:  24%|██▍       | 72/295 [01:16<04:00,  1.08s/it]"
          ]
        },
        {
          "output_type": "stream",
          "name": "stdout",
          "text": [
            "Processed patient 072 to /kaggle/working/brats/training/patient_72\n"
          ]
        },
        {
          "output_type": "stream",
          "name": "stderr",
          "text": [
            "\rProcessing training data:  25%|██▍       | 73/295 [01:17<03:54,  1.06s/it]"
          ]
        },
        {
          "output_type": "stream",
          "name": "stdout",
          "text": [
            "Processed patient 073 to /kaggle/working/brats/training/patient_73\n"
          ]
        },
        {
          "output_type": "stream",
          "name": "stderr",
          "text": [
            "\rProcessing training data:  25%|██▌       | 74/295 [01:18<03:49,  1.04s/it]"
          ]
        },
        {
          "output_type": "stream",
          "name": "stdout",
          "text": [
            "Processed patient 074 to /kaggle/working/brats/training/patient_74\n"
          ]
        },
        {
          "output_type": "stream",
          "name": "stderr",
          "text": [
            "\rProcessing training data:  25%|██▌       | 75/295 [01:19<03:46,  1.03s/it]"
          ]
        },
        {
          "output_type": "stream",
          "name": "stdout",
          "text": [
            "Processed patient 075 to /kaggle/working/brats/training/patient_75\n"
          ]
        },
        {
          "output_type": "stream",
          "name": "stderr",
          "text": [
            "\rProcessing training data:  26%|██▌       | 76/295 [01:20<03:43,  1.02s/it]"
          ]
        },
        {
          "output_type": "stream",
          "name": "stdout",
          "text": [
            "Processed patient 076 to /kaggle/working/brats/training/patient_76\n"
          ]
        },
        {
          "output_type": "stream",
          "name": "stderr",
          "text": [
            "\rProcessing training data:  26%|██▌       | 77/295 [01:21<03:43,  1.02s/it]"
          ]
        },
        {
          "output_type": "stream",
          "name": "stdout",
          "text": [
            "Processed patient 077 to /kaggle/working/brats/training/patient_77\n"
          ]
        },
        {
          "output_type": "stream",
          "name": "stderr",
          "text": [
            "\rProcessing training data:  26%|██▋       | 78/295 [01:22<03:44,  1.04s/it]"
          ]
        },
        {
          "output_type": "stream",
          "name": "stdout",
          "text": [
            "Processed patient 078 to /kaggle/working/brats/training/patient_78\n"
          ]
        },
        {
          "output_type": "stream",
          "name": "stderr",
          "text": [
            "\rProcessing training data:  27%|██▋       | 79/295 [01:23<03:38,  1.01s/it]"
          ]
        },
        {
          "output_type": "stream",
          "name": "stdout",
          "text": [
            "Processed patient 079 to /kaggle/working/brats/training/patient_79\n"
          ]
        },
        {
          "output_type": "stream",
          "name": "stderr",
          "text": [
            "\rProcessing training data:  27%|██▋       | 80/295 [01:24<03:36,  1.01s/it]"
          ]
        },
        {
          "output_type": "stream",
          "name": "stdout",
          "text": [
            "Processed patient 080 to /kaggle/working/brats/training/patient_80\n"
          ]
        },
        {
          "output_type": "stream",
          "name": "stderr",
          "text": [
            "\rProcessing training data:  27%|██▋       | 81/295 [01:25<03:32,  1.01it/s]"
          ]
        },
        {
          "output_type": "stream",
          "name": "stdout",
          "text": [
            "Processed patient 081 to /kaggle/working/brats/training/patient_81\n"
          ]
        },
        {
          "output_type": "stream",
          "name": "stderr",
          "text": [
            "\rProcessing training data:  28%|██▊       | 82/295 [01:26<03:59,  1.12s/it]"
          ]
        },
        {
          "output_type": "stream",
          "name": "stdout",
          "text": [
            "Processed patient 082 to /kaggle/working/brats/training/patient_82\n"
          ]
        },
        {
          "output_type": "stream",
          "name": "stderr",
          "text": [
            "\rProcessing training data:  28%|██▊       | 83/295 [01:27<03:48,  1.08s/it]"
          ]
        },
        {
          "output_type": "stream",
          "name": "stdout",
          "text": [
            "Processed patient 083 to /kaggle/working/brats/training/patient_83\n"
          ]
        },
        {
          "output_type": "stream",
          "name": "stderr",
          "text": [
            "\rProcessing training data:  28%|██▊       | 84/295 [01:28<03:39,  1.04s/it]"
          ]
        },
        {
          "output_type": "stream",
          "name": "stdout",
          "text": [
            "Processed patient 084 to /kaggle/working/brats/training/patient_84\n"
          ]
        },
        {
          "output_type": "stream",
          "name": "stderr",
          "text": [
            "\rProcessing training data:  29%|██▉       | 85/295 [01:29<03:32,  1.01s/it]"
          ]
        },
        {
          "output_type": "stream",
          "name": "stdout",
          "text": [
            "Processed patient 085 to /kaggle/working/brats/training/patient_85\n"
          ]
        },
        {
          "output_type": "stream",
          "name": "stderr",
          "text": [
            "\rProcessing training data:  29%|██▉       | 86/295 [01:30<03:25,  1.02it/s]"
          ]
        },
        {
          "output_type": "stream",
          "name": "stdout",
          "text": [
            "Processed patient 086 to /kaggle/working/brats/training/patient_86\n"
          ]
        },
        {
          "output_type": "stream",
          "name": "stderr",
          "text": [
            "\rProcessing training data:  29%|██▉       | 87/295 [01:31<03:22,  1.03it/s]"
          ]
        },
        {
          "output_type": "stream",
          "name": "stdout",
          "text": [
            "Processed patient 087 to /kaggle/working/brats/training/patient_87\n"
          ]
        },
        {
          "output_type": "stream",
          "name": "stderr",
          "text": [
            "\rProcessing training data:  30%|██▉       | 88/295 [01:32<03:20,  1.03it/s]"
          ]
        },
        {
          "output_type": "stream",
          "name": "stdout",
          "text": [
            "Processed patient 088 to /kaggle/working/brats/training/patient_88\n"
          ]
        },
        {
          "output_type": "stream",
          "name": "stderr",
          "text": [
            "\rProcessing training data:  30%|███       | 89/295 [01:33<03:22,  1.02it/s]"
          ]
        },
        {
          "output_type": "stream",
          "name": "stdout",
          "text": [
            "Processed patient 089 to /kaggle/working/brats/training/patient_89\n"
          ]
        },
        {
          "output_type": "stream",
          "name": "stderr",
          "text": [
            "\rProcessing training data:  31%|███       | 90/295 [01:34<03:20,  1.02it/s]"
          ]
        },
        {
          "output_type": "stream",
          "name": "stdout",
          "text": [
            "Processed patient 090 to /kaggle/working/brats/training/patient_90\n"
          ]
        },
        {
          "output_type": "stream",
          "name": "stderr",
          "text": [
            "\rProcessing training data:  31%|███       | 91/295 [01:35<03:24,  1.00s/it]"
          ]
        },
        {
          "output_type": "stream",
          "name": "stdout",
          "text": [
            "Processed patient 091 to /kaggle/working/brats/training/patient_91\n"
          ]
        },
        {
          "output_type": "stream",
          "name": "stderr",
          "text": [
            "\rProcessing training data:  31%|███       | 92/295 [01:37<03:54,  1.16s/it]"
          ]
        },
        {
          "output_type": "stream",
          "name": "stdout",
          "text": [
            "Processed patient 092 to /kaggle/working/brats/training/patient_92\n"
          ]
        },
        {
          "output_type": "stream",
          "name": "stderr",
          "text": [
            "\rProcessing training data:  32%|███▏      | 93/295 [01:38<03:39,  1.09s/it]"
          ]
        },
        {
          "output_type": "stream",
          "name": "stdout",
          "text": [
            "Processed patient 093 to /kaggle/working/brats/training/patient_93\n"
          ]
        },
        {
          "output_type": "stream",
          "name": "stderr",
          "text": [
            "\rProcessing training data:  32%|███▏      | 94/295 [01:39<03:30,  1.05s/it]"
          ]
        },
        {
          "output_type": "stream",
          "name": "stdout",
          "text": [
            "Processed patient 094 to /kaggle/working/brats/training/patient_94\n"
          ]
        },
        {
          "output_type": "stream",
          "name": "stderr",
          "text": [
            "\rProcessing training data:  32%|███▏      | 95/295 [01:40<03:25,  1.03s/it]"
          ]
        },
        {
          "output_type": "stream",
          "name": "stdout",
          "text": [
            "Processed patient 095 to /kaggle/working/brats/training/patient_95\n"
          ]
        },
        {
          "output_type": "stream",
          "name": "stderr",
          "text": [
            "\rProcessing training data:  33%|███▎      | 96/295 [01:40<03:20,  1.01s/it]"
          ]
        },
        {
          "output_type": "stream",
          "name": "stdout",
          "text": [
            "Processed patient 096 to /kaggle/working/brats/training/patient_96\n"
          ]
        },
        {
          "output_type": "stream",
          "name": "stderr",
          "text": [
            "\rProcessing training data:  33%|███▎      | 97/295 [01:44<05:34,  1.69s/it]"
          ]
        },
        {
          "output_type": "stream",
          "name": "stdout",
          "text": [
            "Processed patient 097 to /kaggle/working/brats/training/patient_97\n"
          ]
        },
        {
          "output_type": "stream",
          "name": "stderr",
          "text": [
            "\rProcessing training data:  33%|███▎      | 98/295 [01:45<04:49,  1.47s/it]"
          ]
        },
        {
          "output_type": "stream",
          "name": "stdout",
          "text": [
            "Processed patient 098 to /kaggle/working/brats/training/patient_98\n"
          ]
        },
        {
          "output_type": "stream",
          "name": "stderr",
          "text": [
            "\rProcessing training data:  34%|███▎      | 99/295 [01:46<04:17,  1.32s/it]"
          ]
        },
        {
          "output_type": "stream",
          "name": "stdout",
          "text": [
            "Processed patient 099 to /kaggle/working/brats/training/patient_99\n"
          ]
        },
        {
          "output_type": "stream",
          "name": "stderr",
          "text": [
            "\rProcessing training data:  34%|███▍      | 100/295 [01:47<04:01,  1.24s/it]"
          ]
        },
        {
          "output_type": "stream",
          "name": "stdout",
          "text": [
            "Processed patient 100 to /kaggle/working/brats/training/patient_100\n"
          ]
        },
        {
          "output_type": "stream",
          "name": "stderr",
          "text": [
            "\rProcessing training data:  34%|███▍      | 101/295 [01:48<03:48,  1.18s/it]"
          ]
        },
        {
          "output_type": "stream",
          "name": "stdout",
          "text": [
            "Processed patient 101 to /kaggle/working/brats/training/patient_101\n"
          ]
        },
        {
          "output_type": "stream",
          "name": "stderr",
          "text": [
            "\rProcessing training data:  35%|███▍      | 102/295 [01:49<03:36,  1.12s/it]"
          ]
        },
        {
          "output_type": "stream",
          "name": "stdout",
          "text": [
            "Processed patient 102 to /kaggle/working/brats/training/patient_102\n"
          ]
        },
        {
          "output_type": "stream",
          "name": "stderr",
          "text": [
            "\rProcessing training data:  35%|███▍      | 103/295 [01:50<03:33,  1.11s/it]"
          ]
        },
        {
          "output_type": "stream",
          "name": "stdout",
          "text": [
            "Processed patient 103 to /kaggle/working/brats/training/patient_103\n"
          ]
        },
        {
          "output_type": "stream",
          "name": "stderr",
          "text": [
            "\rProcessing training data:  35%|███▌      | 104/295 [01:51<03:28,  1.09s/it]"
          ]
        },
        {
          "output_type": "stream",
          "name": "stdout",
          "text": [
            "Processed patient 104 to /kaggle/working/brats/training/patient_104\n"
          ]
        },
        {
          "output_type": "stream",
          "name": "stderr",
          "text": [
            "\rProcessing training data:  36%|███▌      | 105/295 [01:52<03:29,  1.10s/it]"
          ]
        },
        {
          "output_type": "stream",
          "name": "stdout",
          "text": [
            "Processed patient 105 to /kaggle/working/brats/training/patient_105\n"
          ]
        },
        {
          "output_type": "stream",
          "name": "stderr",
          "text": [
            "\rProcessing training data:  36%|███▌      | 106/295 [01:53<03:27,  1.10s/it]"
          ]
        },
        {
          "output_type": "stream",
          "name": "stdout",
          "text": [
            "Processed patient 106 to /kaggle/working/brats/training/patient_106\n"
          ]
        },
        {
          "output_type": "stream",
          "name": "stderr",
          "text": [
            "\rProcessing training data:  36%|███▋      | 107/295 [01:54<03:22,  1.08s/it]"
          ]
        },
        {
          "output_type": "stream",
          "name": "stdout",
          "text": [
            "Processed patient 107 to /kaggle/working/brats/training/patient_107\n"
          ]
        },
        {
          "output_type": "stream",
          "name": "stderr",
          "text": [
            "\rProcessing training data:  37%|███▋      | 108/295 [01:56<03:53,  1.25s/it]"
          ]
        },
        {
          "output_type": "stream",
          "name": "stdout",
          "text": [
            "Processed patient 108 to /kaggle/working/brats/training/patient_108\n"
          ]
        },
        {
          "output_type": "stream",
          "name": "stderr",
          "text": [
            "\rProcessing training data:  37%|███▋      | 109/295 [01:58<05:04,  1.63s/it]"
          ]
        },
        {
          "output_type": "stream",
          "name": "stdout",
          "text": [
            "Processed patient 109 to /kaggle/working/brats/training/patient_109\n"
          ]
        },
        {
          "output_type": "stream",
          "name": "stderr",
          "text": [
            "\rProcessing training data:  37%|███▋      | 110/295 [01:59<04:29,  1.45s/it]"
          ]
        },
        {
          "output_type": "stream",
          "name": "stdout",
          "text": [
            "Processed patient 110 to /kaggle/working/brats/training/patient_110\n"
          ]
        },
        {
          "output_type": "stream",
          "name": "stderr",
          "text": [
            "\rProcessing training data:  38%|███▊      | 111/295 [02:00<04:07,  1.35s/it]"
          ]
        },
        {
          "output_type": "stream",
          "name": "stdout",
          "text": [
            "Processed patient 111 to /kaggle/working/brats/training/patient_111\n"
          ]
        },
        {
          "output_type": "stream",
          "name": "stderr",
          "text": [
            "\rProcessing training data:  38%|███▊      | 112/295 [02:02<03:51,  1.27s/it]"
          ]
        },
        {
          "output_type": "stream",
          "name": "stdout",
          "text": [
            "Processed patient 112 to /kaggle/working/brats/training/patient_112\n"
          ]
        },
        {
          "output_type": "stream",
          "name": "stderr",
          "text": [
            "\rProcessing training data:  38%|███▊      | 113/295 [02:03<03:37,  1.19s/it]"
          ]
        },
        {
          "output_type": "stream",
          "name": "stdout",
          "text": [
            "Processed patient 113 to /kaggle/working/brats/training/patient_113\n"
          ]
        },
        {
          "output_type": "stream",
          "name": "stderr",
          "text": [
            "\rProcessing training data:  39%|███▊      | 114/295 [02:04<03:27,  1.15s/it]"
          ]
        },
        {
          "output_type": "stream",
          "name": "stdout",
          "text": [
            "Processed patient 114 to /kaggle/working/brats/training/patient_114\n"
          ]
        },
        {
          "output_type": "stream",
          "name": "stderr",
          "text": [
            "\rProcessing training data:  39%|███▉      | 115/295 [02:05<03:20,  1.11s/it]"
          ]
        },
        {
          "output_type": "stream",
          "name": "stdout",
          "text": [
            "Processed patient 115 to /kaggle/working/brats/training/patient_115\n"
          ]
        },
        {
          "output_type": "stream",
          "name": "stderr",
          "text": [
            "\rProcessing training data:  39%|███▉      | 116/295 [02:06<03:12,  1.07s/it]"
          ]
        },
        {
          "output_type": "stream",
          "name": "stdout",
          "text": [
            "Processed patient 116 to /kaggle/working/brats/training/patient_116\n"
          ]
        },
        {
          "output_type": "stream",
          "name": "stderr",
          "text": [
            "\rProcessing training data:  40%|███▉      | 117/295 [02:07<03:10,  1.07s/it]"
          ]
        },
        {
          "output_type": "stream",
          "name": "stdout",
          "text": [
            "Processed patient 117 to /kaggle/working/brats/training/patient_117\n"
          ]
        },
        {
          "output_type": "stream",
          "name": "stderr",
          "text": [
            "\rProcessing training data:  40%|████      | 118/295 [02:08<03:01,  1.03s/it]"
          ]
        },
        {
          "output_type": "stream",
          "name": "stdout",
          "text": [
            "Processed patient 118 to /kaggle/working/brats/training/patient_118\n"
          ]
        },
        {
          "output_type": "stream",
          "name": "stderr",
          "text": [
            "\rProcessing training data:  40%|████      | 119/295 [02:09<03:01,  1.03s/it]"
          ]
        },
        {
          "output_type": "stream",
          "name": "stdout",
          "text": [
            "Processed patient 119 to /kaggle/working/brats/training/patient_119\n"
          ]
        },
        {
          "output_type": "stream",
          "name": "stderr",
          "text": [
            "\rProcessing training data:  41%|████      | 120/295 [02:10<03:04,  1.05s/it]"
          ]
        },
        {
          "output_type": "stream",
          "name": "stdout",
          "text": [
            "Processed patient 120 to /kaggle/working/brats/training/patient_120\n"
          ]
        },
        {
          "output_type": "stream",
          "name": "stderr",
          "text": [
            "\rProcessing training data:  41%|████      | 121/295 [02:11<03:09,  1.09s/it]"
          ]
        },
        {
          "output_type": "stream",
          "name": "stdout",
          "text": [
            "Processed patient 121 to /kaggle/working/brats/training/patient_121\n"
          ]
        },
        {
          "output_type": "stream",
          "name": "stderr",
          "text": [
            "\rProcessing training data:  41%|████▏     | 122/295 [02:12<03:12,  1.11s/it]"
          ]
        },
        {
          "output_type": "stream",
          "name": "stdout",
          "text": [
            "Processed patient 122 to /kaggle/working/brats/training/patient_122\n"
          ]
        },
        {
          "output_type": "stream",
          "name": "stderr",
          "text": [
            "\rProcessing training data:  42%|████▏     | 123/295 [02:13<03:07,  1.09s/it]"
          ]
        },
        {
          "output_type": "stream",
          "name": "stdout",
          "text": [
            "Processed patient 123 to /kaggle/working/brats/training/patient_123\n"
          ]
        },
        {
          "output_type": "stream",
          "name": "stderr",
          "text": [
            "\rProcessing training data:  42%|████▏     | 124/295 [02:14<03:05,  1.09s/it]"
          ]
        },
        {
          "output_type": "stream",
          "name": "stdout",
          "text": [
            "Processed patient 124 to /kaggle/working/brats/training/patient_124\n"
          ]
        },
        {
          "output_type": "stream",
          "name": "stderr",
          "text": [
            "\rProcessing training data:  42%|████▏     | 125/295 [02:15<03:00,  1.06s/it]"
          ]
        },
        {
          "output_type": "stream",
          "name": "stdout",
          "text": [
            "Processed patient 125 to /kaggle/working/brats/training/patient_125\n"
          ]
        },
        {
          "output_type": "stream",
          "name": "stderr",
          "text": [
            "\rProcessing training data:  43%|████▎     | 126/295 [02:16<02:56,  1.04s/it]"
          ]
        },
        {
          "output_type": "stream",
          "name": "stdout",
          "text": [
            "Processed patient 126 to /kaggle/working/brats/training/patient_126\n"
          ]
        },
        {
          "output_type": "stream",
          "name": "stderr",
          "text": [
            "\rProcessing training data:  43%|████▎     | 127/295 [02:17<02:55,  1.04s/it]"
          ]
        },
        {
          "output_type": "stream",
          "name": "stdout",
          "text": [
            "Processed patient 127 to /kaggle/working/brats/training/patient_127\n"
          ]
        },
        {
          "output_type": "stream",
          "name": "stderr",
          "text": [
            "\rProcessing training data:  43%|████▎     | 128/295 [02:18<02:53,  1.04s/it]"
          ]
        },
        {
          "output_type": "stream",
          "name": "stdout",
          "text": [
            "Processed patient 128 to /kaggle/working/brats/training/patient_128\n"
          ]
        },
        {
          "output_type": "stream",
          "name": "stderr",
          "text": [
            "\rProcessing training data:  44%|████▎     | 129/295 [02:19<02:50,  1.03s/it]"
          ]
        },
        {
          "output_type": "stream",
          "name": "stdout",
          "text": [
            "Processed patient 129 to /kaggle/working/brats/training/patient_129\n"
          ]
        },
        {
          "output_type": "stream",
          "name": "stderr",
          "text": [
            "\rProcessing training data:  44%|████▍     | 130/295 [02:20<02:49,  1.03s/it]"
          ]
        },
        {
          "output_type": "stream",
          "name": "stdout",
          "text": [
            "Processed patient 130 to /kaggle/working/brats/training/patient_130\n"
          ]
        },
        {
          "output_type": "stream",
          "name": "stderr",
          "text": [
            "\rProcessing training data:  44%|████▍     | 131/295 [02:21<02:53,  1.06s/it]"
          ]
        },
        {
          "output_type": "stream",
          "name": "stdout",
          "text": [
            "Processed patient 131 to /kaggle/working/brats/training/patient_131\n"
          ]
        },
        {
          "output_type": "stream",
          "name": "stderr",
          "text": [
            "\rProcessing training data:  45%|████▍     | 132/295 [02:23<02:53,  1.06s/it]"
          ]
        },
        {
          "output_type": "stream",
          "name": "stdout",
          "text": [
            "Processed patient 132 to /kaggle/working/brats/training/patient_132\n"
          ]
        },
        {
          "output_type": "stream",
          "name": "stderr",
          "text": [
            "\rProcessing training data:  45%|████▌     | 133/295 [02:23<02:47,  1.04s/it]"
          ]
        },
        {
          "output_type": "stream",
          "name": "stdout",
          "text": [
            "Processed patient 133 to /kaggle/working/brats/training/patient_133\n"
          ]
        },
        {
          "output_type": "stream",
          "name": "stderr",
          "text": [
            "\rProcessing training data:  45%|████▌     | 134/295 [02:25<02:47,  1.04s/it]"
          ]
        },
        {
          "output_type": "stream",
          "name": "stdout",
          "text": [
            "Processed patient 134 to /kaggle/working/brats/training/patient_134\n"
          ]
        },
        {
          "output_type": "stream",
          "name": "stderr",
          "text": [
            "\rProcessing training data:  46%|████▌     | 135/295 [02:29<05:07,  1.92s/it]"
          ]
        },
        {
          "output_type": "stream",
          "name": "stdout",
          "text": [
            "Processed patient 135 to /kaggle/working/brats/training/patient_135\n"
          ]
        },
        {
          "output_type": "stream",
          "name": "stderr",
          "text": [
            "\rProcessing training data:  46%|████▌     | 136/295 [02:30<04:24,  1.66s/it]"
          ]
        },
        {
          "output_type": "stream",
          "name": "stdout",
          "text": [
            "Processed patient 136 to /kaggle/working/brats/training/patient_136\n"
          ]
        },
        {
          "output_type": "stream",
          "name": "stderr",
          "text": [
            "\rProcessing training data:  46%|████▋     | 137/295 [02:31<03:52,  1.47s/it]"
          ]
        },
        {
          "output_type": "stream",
          "name": "stdout",
          "text": [
            "Processed patient 137 to /kaggle/working/brats/training/patient_137\n"
          ]
        },
        {
          "output_type": "stream",
          "name": "stderr",
          "text": [
            "\rProcessing training data:  47%|████▋     | 138/295 [02:32<03:27,  1.32s/it]"
          ]
        },
        {
          "output_type": "stream",
          "name": "stdout",
          "text": [
            "Processed patient 138 to /kaggle/working/brats/training/patient_138\n"
          ]
        },
        {
          "output_type": "stream",
          "name": "stderr",
          "text": [
            "\rProcessing training data:  47%|████▋     | 139/295 [02:33<03:09,  1.22s/it]"
          ]
        },
        {
          "output_type": "stream",
          "name": "stdout",
          "text": [
            "Processed patient 139 to /kaggle/working/brats/training/patient_139\n"
          ]
        },
        {
          "output_type": "stream",
          "name": "stderr",
          "text": [
            "\rProcessing training data:  47%|████▋     | 140/295 [02:34<02:59,  1.16s/it]"
          ]
        },
        {
          "output_type": "stream",
          "name": "stdout",
          "text": [
            "Processed patient 140 to /kaggle/working/brats/training/patient_140\n"
          ]
        },
        {
          "output_type": "stream",
          "name": "stderr",
          "text": [
            "\rProcessing training data:  48%|████▊     | 141/295 [02:35<02:50,  1.11s/it]"
          ]
        },
        {
          "output_type": "stream",
          "name": "stdout",
          "text": [
            "Processed patient 141 to /kaggle/working/brats/training/patient_141\n"
          ]
        },
        {
          "output_type": "stream",
          "name": "stderr",
          "text": [
            "\rProcessing training data:  48%|████▊     | 142/295 [02:36<02:42,  1.07s/it]"
          ]
        },
        {
          "output_type": "stream",
          "name": "stdout",
          "text": [
            "Processed patient 142 to /kaggle/working/brats/training/patient_142\n"
          ]
        },
        {
          "output_type": "stream",
          "name": "stderr",
          "text": [
            "\rProcessing training data:  48%|████▊     | 143/295 [02:39<04:17,  1.69s/it]"
          ]
        },
        {
          "output_type": "stream",
          "name": "stdout",
          "text": [
            "Processed patient 143 to /kaggle/working/brats/training/patient_143\n"
          ]
        },
        {
          "output_type": "stream",
          "name": "stderr",
          "text": [
            "\rProcessing training data:  49%|████▉     | 144/295 [02:40<03:41,  1.47s/it]"
          ]
        },
        {
          "output_type": "stream",
          "name": "stdout",
          "text": [
            "Processed patient 144 to /kaggle/working/brats/training/patient_144\n"
          ]
        },
        {
          "output_type": "stream",
          "name": "stderr",
          "text": [
            "\rProcessing training data:  49%|████▉     | 145/295 [02:41<03:18,  1.33s/it]"
          ]
        },
        {
          "output_type": "stream",
          "name": "stdout",
          "text": [
            "Processed patient 145 to /kaggle/working/brats/training/patient_145\n"
          ]
        },
        {
          "output_type": "stream",
          "name": "stderr",
          "text": [
            "\rProcessing training data:  49%|████▉     | 146/295 [02:42<02:58,  1.20s/it]"
          ]
        },
        {
          "output_type": "stream",
          "name": "stdout",
          "text": [
            "Processed patient 146 to /kaggle/working/brats/training/patient_146\n"
          ]
        },
        {
          "output_type": "stream",
          "name": "stderr",
          "text": [
            "\rProcessing training data:  50%|████▉     | 147/295 [02:43<02:49,  1.15s/it]"
          ]
        },
        {
          "output_type": "stream",
          "name": "stdout",
          "text": [
            "Processed patient 147 to /kaggle/working/brats/training/patient_147\n"
          ]
        },
        {
          "output_type": "stream",
          "name": "stderr",
          "text": [
            "\rProcessing training data:  50%|█████     | 148/295 [02:44<02:42,  1.11s/it]"
          ]
        },
        {
          "output_type": "stream",
          "name": "stdout",
          "text": [
            "Processed patient 148 to /kaggle/working/brats/training/patient_148\n"
          ]
        },
        {
          "output_type": "stream",
          "name": "stderr",
          "text": [
            "\rProcessing training data:  51%|█████     | 149/295 [02:45<02:38,  1.08s/it]"
          ]
        },
        {
          "output_type": "stream",
          "name": "stdout",
          "text": [
            "Processed patient 149 to /kaggle/working/brats/training/patient_149\n"
          ]
        },
        {
          "output_type": "stream",
          "name": "stderr",
          "text": [
            "\rProcessing training data:  51%|█████     | 150/295 [02:46<02:32,  1.05s/it]"
          ]
        },
        {
          "output_type": "stream",
          "name": "stdout",
          "text": [
            "Processed patient 150 to /kaggle/working/brats/training/patient_150\n"
          ]
        },
        {
          "output_type": "stream",
          "name": "stderr",
          "text": [
            "\rProcessing training data:  51%|█████     | 151/295 [02:47<02:45,  1.15s/it]"
          ]
        },
        {
          "output_type": "stream",
          "name": "stdout",
          "text": [
            "Processed patient 151 to /kaggle/working/brats/training/patient_151\n"
          ]
        },
        {
          "output_type": "stream",
          "name": "stderr",
          "text": [
            "\rProcessing training data:  52%|█████▏    | 152/295 [02:48<02:43,  1.14s/it]"
          ]
        },
        {
          "output_type": "stream",
          "name": "stdout",
          "text": [
            "Processed patient 152 to /kaggle/working/brats/training/patient_152\n"
          ]
        },
        {
          "output_type": "stream",
          "name": "stderr",
          "text": [
            "\rProcessing training data:  52%|█████▏    | 153/295 [02:49<02:37,  1.11s/it]"
          ]
        },
        {
          "output_type": "stream",
          "name": "stdout",
          "text": [
            "Processed patient 153 to /kaggle/working/brats/training/patient_153\n"
          ]
        },
        {
          "output_type": "stream",
          "name": "stderr",
          "text": [
            "\rProcessing training data:  52%|█████▏    | 154/295 [02:50<02:34,  1.09s/it]"
          ]
        },
        {
          "output_type": "stream",
          "name": "stdout",
          "text": [
            "Processed patient 154 to /kaggle/working/brats/training/patient_154\n"
          ]
        },
        {
          "output_type": "stream",
          "name": "stderr",
          "text": [
            "\rProcessing training data:  53%|█████▎    | 155/295 [02:51<02:35,  1.11s/it]"
          ]
        },
        {
          "output_type": "stream",
          "name": "stdout",
          "text": [
            "Processed patient 155 to /kaggle/working/brats/training/patient_155\n"
          ]
        },
        {
          "output_type": "stream",
          "name": "stderr",
          "text": [
            "\rProcessing training data:  53%|█████▎    | 156/295 [02:52<02:32,  1.10s/it]"
          ]
        },
        {
          "output_type": "stream",
          "name": "stdout",
          "text": [
            "Processed patient 156 to /kaggle/working/brats/training/patient_156\n"
          ]
        },
        {
          "output_type": "stream",
          "name": "stderr",
          "text": [
            "\rProcessing training data:  53%|█████▎    | 157/295 [02:53<02:31,  1.10s/it]"
          ]
        },
        {
          "output_type": "stream",
          "name": "stdout",
          "text": [
            "Processed patient 157 to /kaggle/working/brats/training/patient_157\n"
          ]
        },
        {
          "output_type": "stream",
          "name": "stderr",
          "text": [
            "\rProcessing training data:  54%|█████▎    | 158/295 [02:54<02:23,  1.05s/it]"
          ]
        },
        {
          "output_type": "stream",
          "name": "stdout",
          "text": [
            "Processed patient 158 to /kaggle/working/brats/training/patient_158\n"
          ]
        },
        {
          "output_type": "stream",
          "name": "stderr",
          "text": [
            "\rProcessing training data:  54%|█████▍    | 159/295 [02:57<03:45,  1.66s/it]"
          ]
        },
        {
          "output_type": "stream",
          "name": "stdout",
          "text": [
            "Processed patient 159 to /kaggle/working/brats/training/patient_159\n"
          ]
        },
        {
          "output_type": "stream",
          "name": "stderr",
          "text": [
            "\rProcessing training data:  54%|█████▍    | 160/295 [02:58<03:15,  1.45s/it]"
          ]
        },
        {
          "output_type": "stream",
          "name": "stdout",
          "text": [
            "Processed patient 160 to /kaggle/working/brats/training/patient_160\n"
          ]
        },
        {
          "output_type": "stream",
          "name": "stderr",
          "text": [
            "\rProcessing training data:  55%|█████▍    | 161/295 [02:59<02:53,  1.30s/it]"
          ]
        },
        {
          "output_type": "stream",
          "name": "stdout",
          "text": [
            "Processed patient 161 to /kaggle/working/brats/training/patient_161\n"
          ]
        },
        {
          "output_type": "stream",
          "name": "stderr",
          "text": [
            "\rProcessing training data:  55%|█████▍    | 162/295 [03:00<02:38,  1.19s/it]"
          ]
        },
        {
          "output_type": "stream",
          "name": "stdout",
          "text": [
            "Processed patient 162 to /kaggle/working/brats/training/patient_162\n"
          ]
        },
        {
          "output_type": "stream",
          "name": "stderr",
          "text": [
            "\rProcessing training data:  55%|█████▌    | 163/295 [03:01<02:28,  1.13s/it]"
          ]
        },
        {
          "output_type": "stream",
          "name": "stdout",
          "text": [
            "Processed patient 163 to /kaggle/working/brats/training/patient_163\n"
          ]
        },
        {
          "output_type": "stream",
          "name": "stderr",
          "text": [
            "\rProcessing training data:  56%|█████▌    | 164/295 [03:02<02:22,  1.09s/it]"
          ]
        },
        {
          "output_type": "stream",
          "name": "stdout",
          "text": [
            "Processed patient 164 to /kaggle/working/brats/training/patient_164\n"
          ]
        },
        {
          "output_type": "stream",
          "name": "stderr",
          "text": [
            "\rProcessing training data:  56%|█████▌    | 165/295 [03:03<02:16,  1.05s/it]"
          ]
        },
        {
          "output_type": "stream",
          "name": "stdout",
          "text": [
            "Processed patient 165 to /kaggle/working/brats/training/patient_165\n"
          ]
        },
        {
          "output_type": "stream",
          "name": "stderr",
          "text": [
            "\rProcessing training data:  56%|█████▋    | 166/295 [03:04<02:11,  1.02s/it]"
          ]
        },
        {
          "output_type": "stream",
          "name": "stdout",
          "text": [
            "Processed patient 166 to /kaggle/working/brats/training/patient_166\n"
          ]
        },
        {
          "output_type": "stream",
          "name": "stderr",
          "text": [
            "\rProcessing training data:  57%|█████▋    | 167/295 [03:05<02:10,  1.02s/it]"
          ]
        },
        {
          "output_type": "stream",
          "name": "stdout",
          "text": [
            "Processed patient 167 to /kaggle/working/brats/training/patient_167\n"
          ]
        },
        {
          "output_type": "stream",
          "name": "stderr",
          "text": [
            "\rProcessing training data:  57%|█████▋    | 168/295 [03:06<02:08,  1.01s/it]"
          ]
        },
        {
          "output_type": "stream",
          "name": "stdout",
          "text": [
            "Processed patient 168 to /kaggle/working/brats/training/patient_168\n"
          ]
        },
        {
          "output_type": "stream",
          "name": "stderr",
          "text": [
            "\rProcessing training data:  57%|█████▋    | 169/295 [03:07<02:06,  1.00s/it]"
          ]
        },
        {
          "output_type": "stream",
          "name": "stdout",
          "text": [
            "Processed patient 169 to /kaggle/working/brats/training/patient_169\n"
          ]
        },
        {
          "output_type": "stream",
          "name": "stderr",
          "text": [
            "\rProcessing training data:  58%|█████▊    | 170/295 [03:08<02:02,  1.02it/s]"
          ]
        },
        {
          "output_type": "stream",
          "name": "stdout",
          "text": [
            "Processed patient 170 to /kaggle/working/brats/training/patient_170\n"
          ]
        },
        {
          "output_type": "stream",
          "name": "stderr",
          "text": [
            "\rProcessing training data:  58%|█████▊    | 171/295 [03:09<02:03,  1.01it/s]"
          ]
        },
        {
          "output_type": "stream",
          "name": "stdout",
          "text": [
            "Processed patient 171 to /kaggle/working/brats/training/patient_171\n"
          ]
        },
        {
          "output_type": "stream",
          "name": "stderr",
          "text": [
            "\rProcessing training data:  58%|█████▊    | 172/295 [03:10<02:00,  1.02it/s]"
          ]
        },
        {
          "output_type": "stream",
          "name": "stdout",
          "text": [
            "Processed patient 172 to /kaggle/working/brats/training/patient_172\n"
          ]
        },
        {
          "output_type": "stream",
          "name": "stderr",
          "text": [
            "\rProcessing training data:  59%|█████▊    | 173/295 [03:11<02:00,  1.01it/s]"
          ]
        },
        {
          "output_type": "stream",
          "name": "stdout",
          "text": [
            "Processed patient 173 to /kaggle/working/brats/training/patient_173\n"
          ]
        },
        {
          "output_type": "stream",
          "name": "stderr",
          "text": [
            "\rProcessing training data:  59%|█████▉    | 174/295 [03:12<01:56,  1.04it/s]"
          ]
        },
        {
          "output_type": "stream",
          "name": "stdout",
          "text": [
            "Processed patient 174 to /kaggle/working/brats/training/patient_174\n"
          ]
        },
        {
          "output_type": "stream",
          "name": "stderr",
          "text": [
            "\rProcessing training data:  59%|█████▉    | 175/295 [03:13<01:56,  1.03it/s]"
          ]
        },
        {
          "output_type": "stream",
          "name": "stdout",
          "text": [
            "Processed patient 175 to /kaggle/working/brats/training/patient_175\n"
          ]
        },
        {
          "output_type": "stream",
          "name": "stderr",
          "text": [
            "\rProcessing training data:  60%|█████▉    | 176/295 [03:14<01:54,  1.04it/s]"
          ]
        },
        {
          "output_type": "stream",
          "name": "stdout",
          "text": [
            "Processed patient 176 to /kaggle/working/brats/training/patient_176\n"
          ]
        },
        {
          "output_type": "stream",
          "name": "stderr",
          "text": [
            "\rProcessing training data:  60%|██████    | 177/295 [03:15<01:54,  1.03it/s]"
          ]
        },
        {
          "output_type": "stream",
          "name": "stdout",
          "text": [
            "Processed patient 177 to /kaggle/working/brats/training/patient_177\n"
          ]
        },
        {
          "output_type": "stream",
          "name": "stderr",
          "text": [
            "\rProcessing training data:  60%|██████    | 178/295 [03:16<01:56,  1.01it/s]"
          ]
        },
        {
          "output_type": "stream",
          "name": "stdout",
          "text": [
            "Processed patient 178 to /kaggle/working/brats/training/patient_178\n"
          ]
        },
        {
          "output_type": "stream",
          "name": "stderr",
          "text": [
            "\rProcessing training data:  61%|██████    | 179/295 [03:17<02:00,  1.04s/it]"
          ]
        },
        {
          "output_type": "stream",
          "name": "stdout",
          "text": [
            "Processed patient 179 to /kaggle/working/brats/training/patient_179\n"
          ]
        },
        {
          "output_type": "stream",
          "name": "stderr",
          "text": [
            "\rProcessing training data:  61%|██████    | 180/295 [03:18<01:55,  1.00s/it]"
          ]
        },
        {
          "output_type": "stream",
          "name": "stdout",
          "text": [
            "Processed patient 180 to /kaggle/working/brats/training/patient_180\n"
          ]
        },
        {
          "output_type": "stream",
          "name": "stderr",
          "text": [
            "\rProcessing training data:  61%|██████▏   | 181/295 [03:19<01:52,  1.01it/s]"
          ]
        },
        {
          "output_type": "stream",
          "name": "stdout",
          "text": [
            "Processed patient 181 to /kaggle/working/brats/training/patient_181\n"
          ]
        },
        {
          "output_type": "stream",
          "name": "stderr",
          "text": [
            "\rProcessing training data:  62%|██████▏   | 182/295 [03:20<01:51,  1.01it/s]"
          ]
        },
        {
          "output_type": "stream",
          "name": "stdout",
          "text": [
            "Processed patient 182 to /kaggle/working/brats/training/patient_182\n"
          ]
        },
        {
          "output_type": "stream",
          "name": "stderr",
          "text": [
            "\rProcessing training data:  62%|██████▏   | 183/295 [03:21<01:48,  1.03it/s]"
          ]
        },
        {
          "output_type": "stream",
          "name": "stdout",
          "text": [
            "Processed patient 183 to /kaggle/working/brats/training/patient_183\n"
          ]
        },
        {
          "output_type": "stream",
          "name": "stderr",
          "text": [
            "\rProcessing training data:  62%|██████▏   | 184/295 [03:22<01:48,  1.02it/s]"
          ]
        },
        {
          "output_type": "stream",
          "name": "stdout",
          "text": [
            "Processed patient 184 to /kaggle/working/brats/training/patient_184\n"
          ]
        },
        {
          "output_type": "stream",
          "name": "stderr",
          "text": [
            "\rProcessing training data:  63%|██████▎   | 185/295 [03:23<01:47,  1.03it/s]"
          ]
        },
        {
          "output_type": "stream",
          "name": "stdout",
          "text": [
            "Processed patient 185 to /kaggle/working/brats/training/patient_185\n"
          ]
        },
        {
          "output_type": "stream",
          "name": "stderr",
          "text": [
            "\rProcessing training data:  63%|██████▎   | 186/295 [03:24<01:43,  1.05it/s]"
          ]
        },
        {
          "output_type": "stream",
          "name": "stdout",
          "text": [
            "Processed patient 186 to /kaggle/working/brats/training/patient_186\n"
          ]
        },
        {
          "output_type": "stream",
          "name": "stderr",
          "text": [
            "\rProcessing training data:  63%|██████▎   | 187/295 [03:25<01:40,  1.08it/s]"
          ]
        },
        {
          "output_type": "stream",
          "name": "stdout",
          "text": [
            "Processed patient 187 to /kaggle/working/brats/training/patient_187\n"
          ]
        },
        {
          "output_type": "stream",
          "name": "stderr",
          "text": [
            "\rProcessing training data:  64%|██████▎   | 188/295 [03:27<02:41,  1.51s/it]"
          ]
        },
        {
          "output_type": "stream",
          "name": "stdout",
          "text": [
            "Processed patient 188 to /kaggle/working/brats/training/patient_188\n"
          ]
        },
        {
          "output_type": "stream",
          "name": "stderr",
          "text": [
            "\rProcessing training data:  64%|██████▍   | 189/295 [03:28<02:21,  1.33s/it]"
          ]
        },
        {
          "output_type": "stream",
          "name": "stdout",
          "text": [
            "Processed patient 189 to /kaggle/working/brats/training/patient_189\n"
          ]
        },
        {
          "output_type": "stream",
          "name": "stderr",
          "text": [
            "\rProcessing training data:  64%|██████▍   | 190/295 [03:29<02:08,  1.23s/it]"
          ]
        },
        {
          "output_type": "stream",
          "name": "stdout",
          "text": [
            "Processed patient 190 to /kaggle/working/brats/training/patient_190\n"
          ]
        },
        {
          "output_type": "stream",
          "name": "stderr",
          "text": [
            "\rProcessing training data:  65%|██████▍   | 191/295 [03:30<01:57,  1.13s/it]"
          ]
        },
        {
          "output_type": "stream",
          "name": "stdout",
          "text": [
            "Processed patient 191 to /kaggle/working/brats/training/patient_191\n"
          ]
        },
        {
          "output_type": "stream",
          "name": "stderr",
          "text": [
            "\rProcessing training data:  65%|██████▌   | 192/295 [03:31<01:50,  1.07s/it]"
          ]
        },
        {
          "output_type": "stream",
          "name": "stdout",
          "text": [
            "Processed patient 192 to /kaggle/working/brats/training/patient_192\n"
          ]
        },
        {
          "output_type": "stream",
          "name": "stderr",
          "text": [
            "\rProcessing training data:  65%|██████▌   | 193/295 [03:32<01:45,  1.04s/it]"
          ]
        },
        {
          "output_type": "stream",
          "name": "stdout",
          "text": [
            "Processed patient 193 to /kaggle/working/brats/training/patient_193\n"
          ]
        },
        {
          "output_type": "stream",
          "name": "stderr",
          "text": [
            "\rProcessing training data:  66%|██████▌   | 194/295 [03:33<01:42,  1.02s/it]"
          ]
        },
        {
          "output_type": "stream",
          "name": "stdout",
          "text": [
            "Processed patient 194 to /kaggle/working/brats/training/patient_194\n"
          ]
        },
        {
          "output_type": "stream",
          "name": "stderr",
          "text": [
            "\rProcessing training data:  66%|██████▌   | 195/295 [03:34<01:38,  1.01it/s]"
          ]
        },
        {
          "output_type": "stream",
          "name": "stdout",
          "text": [
            "Processed patient 195 to /kaggle/working/brats/training/patient_195\n"
          ]
        },
        {
          "output_type": "stream",
          "name": "stderr",
          "text": [
            "\rProcessing training data:  66%|██████▋   | 196/295 [03:35<01:34,  1.04it/s]"
          ]
        },
        {
          "output_type": "stream",
          "name": "stdout",
          "text": [
            "Processed patient 196 to /kaggle/working/brats/training/patient_196\n"
          ]
        },
        {
          "output_type": "stream",
          "name": "stderr",
          "text": [
            "\rProcessing training data:  67%|██████▋   | 197/295 [03:36<01:33,  1.05it/s]"
          ]
        },
        {
          "output_type": "stream",
          "name": "stdout",
          "text": [
            "Processed patient 197 to /kaggle/working/brats/training/patient_197\n"
          ]
        },
        {
          "output_type": "stream",
          "name": "stderr",
          "text": [
            "\rProcessing training data:  67%|██████▋   | 198/295 [03:37<01:32,  1.05it/s]"
          ]
        },
        {
          "output_type": "stream",
          "name": "stdout",
          "text": [
            "Processed patient 198 to /kaggle/working/brats/training/patient_198\n"
          ]
        },
        {
          "output_type": "stream",
          "name": "stderr",
          "text": [
            "\rProcessing training data:  67%|██████▋   | 199/295 [03:38<01:30,  1.06it/s]"
          ]
        },
        {
          "output_type": "stream",
          "name": "stdout",
          "text": [
            "Processed patient 199 to /kaggle/working/brats/training/patient_199\n"
          ]
        },
        {
          "output_type": "stream",
          "name": "stderr",
          "text": [
            "\rProcessing training data:  68%|██████▊   | 200/295 [03:39<01:27,  1.09it/s]"
          ]
        },
        {
          "output_type": "stream",
          "name": "stdout",
          "text": [
            "Processed patient 200 to /kaggle/working/brats/training/patient_200\n"
          ]
        },
        {
          "output_type": "stream",
          "name": "stderr",
          "text": [
            "\rProcessing training data:  68%|██████▊   | 201/295 [03:40<01:24,  1.11it/s]"
          ]
        },
        {
          "output_type": "stream",
          "name": "stdout",
          "text": [
            "Processed patient 201 to /kaggle/working/brats/training/patient_201\n"
          ]
        },
        {
          "output_type": "stream",
          "name": "stderr",
          "text": [
            "\rProcessing training data:  68%|██████▊   | 202/295 [03:40<01:24,  1.10it/s]"
          ]
        },
        {
          "output_type": "stream",
          "name": "stdout",
          "text": [
            "Processed patient 202 to /kaggle/working/brats/training/patient_202\n"
          ]
        },
        {
          "output_type": "stream",
          "name": "stderr",
          "text": [
            "\rProcessing training data:  69%|██████▉   | 203/295 [03:41<01:27,  1.06it/s]"
          ]
        },
        {
          "output_type": "stream",
          "name": "stdout",
          "text": [
            "Processed patient 203 to /kaggle/working/brats/training/patient_203\n"
          ]
        },
        {
          "output_type": "stream",
          "name": "stderr",
          "text": [
            "\rProcessing training data:  69%|██████▉   | 204/295 [03:42<01:25,  1.07it/s]"
          ]
        },
        {
          "output_type": "stream",
          "name": "stdout",
          "text": [
            "Processed patient 204 to /kaggle/working/brats/training/patient_204\n"
          ]
        },
        {
          "output_type": "stream",
          "name": "stderr",
          "text": [
            "\rProcessing training data:  69%|██████▉   | 205/295 [03:43<01:24,  1.06it/s]"
          ]
        },
        {
          "output_type": "stream",
          "name": "stdout",
          "text": [
            "Processed patient 205 to /kaggle/working/brats/training/patient_205\n"
          ]
        },
        {
          "output_type": "stream",
          "name": "stderr",
          "text": [
            "\rProcessing training data:  70%|██████▉   | 206/295 [03:44<01:23,  1.07it/s]"
          ]
        },
        {
          "output_type": "stream",
          "name": "stdout",
          "text": [
            "Processed patient 206 to /kaggle/working/brats/training/patient_206\n"
          ]
        },
        {
          "output_type": "stream",
          "name": "stderr",
          "text": [
            "\rProcessing training data:  70%|███████   | 207/295 [03:45<01:22,  1.07it/s]"
          ]
        },
        {
          "output_type": "stream",
          "name": "stdout",
          "text": [
            "Processed patient 207 to /kaggle/working/brats/training/patient_207\n"
          ]
        },
        {
          "output_type": "stream",
          "name": "stderr",
          "text": [
            "\rProcessing training data:  71%|███████   | 208/295 [03:46<01:21,  1.06it/s]"
          ]
        },
        {
          "output_type": "stream",
          "name": "stdout",
          "text": [
            "Processed patient 208 to /kaggle/working/brats/training/patient_208\n"
          ]
        },
        {
          "output_type": "stream",
          "name": "stderr",
          "text": [
            "\rProcessing training data:  71%|███████   | 209/295 [03:47<01:18,  1.09it/s]"
          ]
        },
        {
          "output_type": "stream",
          "name": "stdout",
          "text": [
            "Processed patient 209 to /kaggle/working/brats/training/patient_209\n"
          ]
        },
        {
          "output_type": "stream",
          "name": "stderr",
          "text": [
            "\rProcessing training data:  71%|███████   | 210/295 [03:48<01:18,  1.08it/s]"
          ]
        },
        {
          "output_type": "stream",
          "name": "stdout",
          "text": [
            "Processed patient 210 to /kaggle/working/brats/training/patient_210\n"
          ]
        },
        {
          "output_type": "stream",
          "name": "stderr",
          "text": [
            "\rProcessing training data:  72%|███████▏  | 211/295 [03:49<01:16,  1.10it/s]"
          ]
        },
        {
          "output_type": "stream",
          "name": "stdout",
          "text": [
            "Processed patient 211 to /kaggle/working/brats/training/patient_211\n"
          ]
        },
        {
          "output_type": "stream",
          "name": "stderr",
          "text": [
            "\rProcessing training data:  72%|███████▏  | 212/295 [03:50<01:15,  1.10it/s]"
          ]
        },
        {
          "output_type": "stream",
          "name": "stdout",
          "text": [
            "Processed patient 212 to /kaggle/working/brats/training/patient_212\n"
          ]
        },
        {
          "output_type": "stream",
          "name": "stderr",
          "text": [
            "\rProcessing training data:  72%|███████▏  | 213/295 [03:51<01:15,  1.09it/s]"
          ]
        },
        {
          "output_type": "stream",
          "name": "stdout",
          "text": [
            "Processed patient 213 to /kaggle/working/brats/training/patient_213\n"
          ]
        },
        {
          "output_type": "stream",
          "name": "stderr",
          "text": [
            "\rProcessing training data:  73%|███████▎  | 214/295 [03:52<01:15,  1.07it/s]"
          ]
        },
        {
          "output_type": "stream",
          "name": "stdout",
          "text": [
            "Processed patient 214 to /kaggle/working/brats/training/patient_214\n"
          ]
        },
        {
          "output_type": "stream",
          "name": "stderr",
          "text": [
            "\rProcessing training data:  73%|███████▎  | 215/295 [03:53<01:15,  1.06it/s]"
          ]
        },
        {
          "output_type": "stream",
          "name": "stdout",
          "text": [
            "Processed patient 215 to /kaggle/working/brats/training/patient_215\n"
          ]
        },
        {
          "output_type": "stream",
          "name": "stderr",
          "text": [
            "\rProcessing training data:  73%|███████▎  | 216/295 [03:53<01:12,  1.09it/s]"
          ]
        },
        {
          "output_type": "stream",
          "name": "stdout",
          "text": [
            "Processed patient 216 to /kaggle/working/brats/training/patient_216\n"
          ]
        },
        {
          "output_type": "stream",
          "name": "stderr",
          "text": [
            "\rProcessing training data:  74%|███████▎  | 217/295 [03:54<01:12,  1.08it/s]"
          ]
        },
        {
          "output_type": "stream",
          "name": "stdout",
          "text": [
            "Processed patient 217 to /kaggle/working/brats/training/patient_217\n"
          ]
        },
        {
          "output_type": "stream",
          "name": "stderr",
          "text": [
            "\rProcessing training data:  74%|███████▍  | 218/295 [03:55<01:12,  1.06it/s]"
          ]
        },
        {
          "output_type": "stream",
          "name": "stdout",
          "text": [
            "Processed patient 218 to /kaggle/working/brats/training/patient_218\n"
          ]
        },
        {
          "output_type": "stream",
          "name": "stderr",
          "text": [
            "\rProcessing training data:  74%|███████▍  | 219/295 [03:59<02:12,  1.74s/it]"
          ]
        },
        {
          "output_type": "stream",
          "name": "stdout",
          "text": [
            "Processed patient 219 to /kaggle/working/brats/training/patient_219\n"
          ]
        },
        {
          "output_type": "stream",
          "name": "stderr",
          "text": [
            "\rProcessing training data:  75%|███████▍  | 220/295 [04:00<01:54,  1.53s/it]"
          ]
        },
        {
          "output_type": "stream",
          "name": "stdout",
          "text": [
            "Processed patient 220 to /kaggle/working/brats/training/patient_220\n"
          ]
        },
        {
          "output_type": "stream",
          "name": "stderr",
          "text": [
            "\rProcessing training data:  75%|███████▍  | 221/295 [04:01<01:41,  1.38s/it]"
          ]
        },
        {
          "output_type": "stream",
          "name": "stdout",
          "text": [
            "Processed patient 221 to /kaggle/working/brats/training/patient_221\n"
          ]
        },
        {
          "output_type": "stream",
          "name": "stderr",
          "text": [
            "\rProcessing training data:  75%|███████▌  | 222/295 [04:02<01:31,  1.26s/it]"
          ]
        },
        {
          "output_type": "stream",
          "name": "stdout",
          "text": [
            "Processed patient 222 to /kaggle/working/brats/training/patient_222\n"
          ]
        },
        {
          "output_type": "stream",
          "name": "stderr",
          "text": [
            "\rProcessing training data:  76%|███████▌  | 223/295 [04:03<01:25,  1.19s/it]"
          ]
        },
        {
          "output_type": "stream",
          "name": "stdout",
          "text": [
            "Processed patient 223 to /kaggle/working/brats/training/patient_223\n"
          ]
        },
        {
          "output_type": "stream",
          "name": "stderr",
          "text": [
            "\rProcessing training data:  76%|███████▌  | 224/295 [04:04<01:19,  1.12s/it]"
          ]
        },
        {
          "output_type": "stream",
          "name": "stdout",
          "text": [
            "Processed patient 224 to /kaggle/working/brats/training/patient_224\n"
          ]
        },
        {
          "output_type": "stream",
          "name": "stderr",
          "text": [
            "\rProcessing training data:  76%|███████▋  | 225/295 [04:05<01:15,  1.08s/it]"
          ]
        },
        {
          "output_type": "stream",
          "name": "stdout",
          "text": [
            "Processed patient 225 to /kaggle/working/brats/training/patient_225\n"
          ]
        },
        {
          "output_type": "stream",
          "name": "stderr",
          "text": [
            "\rProcessing training data:  77%|███████▋  | 226/295 [04:06<01:20,  1.16s/it]"
          ]
        },
        {
          "output_type": "stream",
          "name": "stdout",
          "text": [
            "Processed patient 226 to /kaggle/working/brats/training/patient_226\n"
          ]
        },
        {
          "output_type": "stream",
          "name": "stderr",
          "text": [
            "\rProcessing training data:  77%|███████▋  | 227/295 [04:07<01:16,  1.13s/it]"
          ]
        },
        {
          "output_type": "stream",
          "name": "stdout",
          "text": [
            "Processed patient 227 to /kaggle/working/brats/training/patient_227\n"
          ]
        },
        {
          "output_type": "stream",
          "name": "stderr",
          "text": [
            "\rProcessing training data:  77%|███████▋  | 228/295 [04:08<01:11,  1.07s/it]"
          ]
        },
        {
          "output_type": "stream",
          "name": "stdout",
          "text": [
            "Processed patient 228 to /kaggle/working/brats/training/patient_228\n"
          ]
        },
        {
          "output_type": "stream",
          "name": "stderr",
          "text": [
            "\rProcessing training data:  78%|███████▊  | 229/295 [04:09<01:08,  1.03s/it]"
          ]
        },
        {
          "output_type": "stream",
          "name": "stdout",
          "text": [
            "Processed patient 229 to /kaggle/working/brats/training/patient_229\n"
          ]
        },
        {
          "output_type": "stream",
          "name": "stderr",
          "text": [
            "\rProcessing training data:  78%|███████▊  | 230/295 [04:10<01:04,  1.00it/s]"
          ]
        },
        {
          "output_type": "stream",
          "name": "stdout",
          "text": [
            "Processed patient 230 to /kaggle/working/brats/training/patient_230\n"
          ]
        },
        {
          "output_type": "stream",
          "name": "stderr",
          "text": [
            "\rProcessing training data:  78%|███████▊  | 231/295 [04:11<01:02,  1.02it/s]"
          ]
        },
        {
          "output_type": "stream",
          "name": "stdout",
          "text": [
            "Processed patient 231 to /kaggle/working/brats/training/patient_231\n"
          ]
        },
        {
          "output_type": "stream",
          "name": "stderr",
          "text": [
            "\rProcessing training data:  79%|███████▊  | 232/295 [04:12<01:03,  1.00s/it]"
          ]
        },
        {
          "output_type": "stream",
          "name": "stdout",
          "text": [
            "Processed patient 232 to /kaggle/working/brats/training/patient_232\n"
          ]
        },
        {
          "output_type": "stream",
          "name": "stderr",
          "text": [
            "\rProcessing training data:  79%|███████▉  | 233/295 [04:13<01:02,  1.01s/it]"
          ]
        },
        {
          "output_type": "stream",
          "name": "stdout",
          "text": [
            "Processed patient 233 to /kaggle/working/brats/training/patient_233\n"
          ]
        },
        {
          "output_type": "stream",
          "name": "stderr",
          "text": [
            "\rProcessing training data:  79%|███████▉  | 234/295 [04:14<01:00,  1.01it/s]"
          ]
        },
        {
          "output_type": "stream",
          "name": "stdout",
          "text": [
            "Processed patient 234 to /kaggle/working/brats/training/patient_234\n"
          ]
        },
        {
          "output_type": "stream",
          "name": "stderr",
          "text": [
            "\rProcessing training data:  80%|███████▉  | 235/295 [04:15<00:58,  1.03it/s]"
          ]
        },
        {
          "output_type": "stream",
          "name": "stdout",
          "text": [
            "Processed patient 235 to /kaggle/working/brats/training/patient_235\n"
          ]
        },
        {
          "output_type": "stream",
          "name": "stderr",
          "text": [
            "\rProcessing training data:  80%|████████  | 236/295 [04:16<01:02,  1.05s/it]"
          ]
        },
        {
          "output_type": "stream",
          "name": "stdout",
          "text": [
            "Processed patient 236 to /kaggle/working/brats/training/patient_236\n"
          ]
        },
        {
          "output_type": "stream",
          "name": "stderr",
          "text": [
            "\rProcessing training data:  80%|████████  | 237/295 [04:17<00:58,  1.00s/it]"
          ]
        },
        {
          "output_type": "stream",
          "name": "stdout",
          "text": [
            "Processed patient 237 to /kaggle/working/brats/training/patient_237\n"
          ]
        },
        {
          "output_type": "stream",
          "name": "stderr",
          "text": [
            "\rProcessing training data:  81%|████████  | 238/295 [04:18<00:58,  1.02s/it]"
          ]
        },
        {
          "output_type": "stream",
          "name": "stdout",
          "text": [
            "Processed patient 238 to /kaggle/working/brats/training/patient_238\n"
          ]
        },
        {
          "output_type": "stream",
          "name": "stderr",
          "text": [
            "\rProcessing training data:  81%|████████  | 239/295 [04:19<00:55,  1.01it/s]"
          ]
        },
        {
          "output_type": "stream",
          "name": "stdout",
          "text": [
            "Processed patient 239 to /kaggle/working/brats/training/patient_239\n"
          ]
        },
        {
          "output_type": "stream",
          "name": "stderr",
          "text": [
            "\rProcessing training data:  81%|████████▏ | 240/295 [04:20<00:54,  1.00it/s]"
          ]
        },
        {
          "output_type": "stream",
          "name": "stdout",
          "text": [
            "Processed patient 240 to /kaggle/working/brats/training/patient_240\n"
          ]
        },
        {
          "output_type": "stream",
          "name": "stderr",
          "text": [
            "\rProcessing training data:  82%|████████▏ | 241/295 [04:21<00:53,  1.00it/s]"
          ]
        },
        {
          "output_type": "stream",
          "name": "stdout",
          "text": [
            "Processed patient 241 to /kaggle/working/brats/training/patient_241\n"
          ]
        },
        {
          "output_type": "stream",
          "name": "stderr",
          "text": [
            "\rProcessing training data:  82%|████████▏ | 242/295 [04:22<00:51,  1.03it/s]"
          ]
        },
        {
          "output_type": "stream",
          "name": "stdout",
          "text": [
            "Processed patient 242 to /kaggle/working/brats/training/patient_242\n"
          ]
        },
        {
          "output_type": "stream",
          "name": "stderr",
          "text": [
            "\rProcessing training data:  82%|████████▏ | 243/295 [04:23<00:49,  1.06it/s]"
          ]
        },
        {
          "output_type": "stream",
          "name": "stdout",
          "text": [
            "Processed patient 243 to /kaggle/working/brats/training/patient_243\n"
          ]
        },
        {
          "output_type": "stream",
          "name": "stderr",
          "text": [
            "\rProcessing training data:  83%|████████▎ | 244/295 [04:24<00:49,  1.04it/s]"
          ]
        },
        {
          "output_type": "stream",
          "name": "stdout",
          "text": [
            "Processed patient 244 to /kaggle/working/brats/training/patient_244\n"
          ]
        },
        {
          "output_type": "stream",
          "name": "stderr",
          "text": [
            "\rProcessing training data:  83%|████████▎ | 245/295 [04:27<01:21,  1.63s/it]"
          ]
        },
        {
          "output_type": "stream",
          "name": "stdout",
          "text": [
            "Processed patient 245 to /kaggle/working/brats/training/patient_245\n"
          ]
        },
        {
          "output_type": "stream",
          "name": "stderr",
          "text": [
            "\rProcessing training data:  83%|████████▎ | 246/295 [04:28<01:08,  1.41s/it]"
          ]
        },
        {
          "output_type": "stream",
          "name": "stdout",
          "text": [
            "Processed patient 246 to /kaggle/working/brats/training/patient_246\n"
          ]
        },
        {
          "output_type": "stream",
          "name": "stderr",
          "text": [
            "\rProcessing training data:  84%|████████▎ | 247/295 [04:29<01:00,  1.25s/it]"
          ]
        },
        {
          "output_type": "stream",
          "name": "stdout",
          "text": [
            "Processed patient 247 to /kaggle/working/brats/training/patient_247\n"
          ]
        },
        {
          "output_type": "stream",
          "name": "stderr",
          "text": [
            "\rProcessing training data:  84%|████████▍ | 248/295 [04:30<00:54,  1.16s/it]"
          ]
        },
        {
          "output_type": "stream",
          "name": "stdout",
          "text": [
            "Processed patient 248 to /kaggle/working/brats/training/patient_248\n"
          ]
        },
        {
          "output_type": "stream",
          "name": "stderr",
          "text": [
            "\rProcessing training data:  84%|████████▍ | 249/295 [04:31<00:51,  1.11s/it]"
          ]
        },
        {
          "output_type": "stream",
          "name": "stdout",
          "text": [
            "Processed patient 249 to /kaggle/working/brats/training/patient_249\n"
          ]
        },
        {
          "output_type": "stream",
          "name": "stderr",
          "text": [
            "\rProcessing training data:  85%|████████▍ | 250/295 [04:32<00:47,  1.05s/it]"
          ]
        },
        {
          "output_type": "stream",
          "name": "stdout",
          "text": [
            "Processed patient 250 to /kaggle/working/brats/training/patient_250\n"
          ]
        },
        {
          "output_type": "stream",
          "name": "stderr",
          "text": [
            "\rProcessing training data:  85%|████████▌ | 251/295 [04:33<00:44,  1.01s/it]"
          ]
        },
        {
          "output_type": "stream",
          "name": "stdout",
          "text": [
            "Processed patient 251 to /kaggle/working/brats/training/patient_251\n"
          ]
        },
        {
          "output_type": "stream",
          "name": "stderr",
          "text": [
            "\rProcessing training data:  85%|████████▌ | 252/295 [04:34<00:42,  1.01it/s]"
          ]
        },
        {
          "output_type": "stream",
          "name": "stdout",
          "text": [
            "Processed patient 252 to /kaggle/working/brats/training/patient_252\n"
          ]
        },
        {
          "output_type": "stream",
          "name": "stderr",
          "text": [
            "\rProcessing training data:  86%|████████▌ | 253/295 [04:35<00:39,  1.05it/s]"
          ]
        },
        {
          "output_type": "stream",
          "name": "stdout",
          "text": [
            "Processed patient 253 to /kaggle/working/brats/training/patient_253\n"
          ]
        },
        {
          "output_type": "stream",
          "name": "stderr",
          "text": [
            "\rProcessing training data:  86%|████████▌ | 254/295 [04:36<00:39,  1.05it/s]"
          ]
        },
        {
          "output_type": "stream",
          "name": "stdout",
          "text": [
            "Processed patient 254 to /kaggle/working/brats/training/patient_254\n"
          ]
        },
        {
          "output_type": "stream",
          "name": "stderr",
          "text": [
            "\rProcessing training data:  86%|████████▋ | 255/295 [04:36<00:38,  1.04it/s]"
          ]
        },
        {
          "output_type": "stream",
          "name": "stdout",
          "text": [
            "Processed patient 255 to /kaggle/working/brats/training/patient_255\n"
          ]
        },
        {
          "output_type": "stream",
          "name": "stderr",
          "text": [
            "\rProcessing training data:  87%|████████▋ | 256/295 [04:37<00:37,  1.04it/s]"
          ]
        },
        {
          "output_type": "stream",
          "name": "stdout",
          "text": [
            "Processed patient 256 to /kaggle/working/brats/training/patient_256\n"
          ]
        },
        {
          "output_type": "stream",
          "name": "stderr",
          "text": [
            "\rProcessing training data:  87%|████████▋ | 257/295 [04:38<00:35,  1.07it/s]"
          ]
        },
        {
          "output_type": "stream",
          "name": "stdout",
          "text": [
            "Processed patient 257 to /kaggle/working/brats/training/patient_257\n"
          ]
        },
        {
          "output_type": "stream",
          "name": "stderr",
          "text": [
            "\rProcessing training data:  87%|████████▋ | 258/295 [04:39<00:34,  1.08it/s]"
          ]
        },
        {
          "output_type": "stream",
          "name": "stdout",
          "text": [
            "Processed patient 258 to /kaggle/working/brats/training/patient_258\n"
          ]
        },
        {
          "output_type": "stream",
          "name": "stderr",
          "text": [
            "\rProcessing training data:  88%|████████▊ | 259/295 [04:40<00:32,  1.10it/s]"
          ]
        },
        {
          "output_type": "stream",
          "name": "stdout",
          "text": [
            "Processed patient 259 to /kaggle/working/brats/training/patient_259\n"
          ]
        },
        {
          "output_type": "stream",
          "name": "stderr",
          "text": [
            "\rProcessing training data:  88%|████████▊ | 260/295 [04:43<00:55,  1.59s/it]"
          ]
        },
        {
          "output_type": "stream",
          "name": "stdout",
          "text": [
            "Processed patient 260 to /kaggle/working/brats/training/patient_260\n"
          ]
        },
        {
          "output_type": "stream",
          "name": "stderr",
          "text": [
            "\rProcessing training data:  88%|████████▊ | 261/295 [04:44<00:47,  1.38s/it]"
          ]
        },
        {
          "output_type": "stream",
          "name": "stdout",
          "text": [
            "Processed patient 261 to /kaggle/working/brats/training/patient_261\n"
          ]
        },
        {
          "output_type": "stream",
          "name": "stderr",
          "text": [
            "\rProcessing training data:  89%|████████▉ | 262/295 [04:45<00:41,  1.26s/it]"
          ]
        },
        {
          "output_type": "stream",
          "name": "stdout",
          "text": [
            "Processed patient 262 to /kaggle/working/brats/training/patient_262\n"
          ]
        },
        {
          "output_type": "stream",
          "name": "stderr",
          "text": [
            "\rProcessing training data:  89%|████████▉ | 263/295 [04:46<00:37,  1.16s/it]"
          ]
        },
        {
          "output_type": "stream",
          "name": "stdout",
          "text": [
            "Processed patient 263 to /kaggle/working/brats/training/patient_263\n"
          ]
        },
        {
          "output_type": "stream",
          "name": "stderr",
          "text": [
            "\rProcessing training data:  89%|████████▉ | 264/295 [04:47<00:34,  1.12s/it]"
          ]
        },
        {
          "output_type": "stream",
          "name": "stdout",
          "text": [
            "Processed patient 264 to /kaggle/working/brats/training/patient_264\n"
          ]
        },
        {
          "output_type": "stream",
          "name": "stderr",
          "text": [
            "\rProcessing training data:  90%|████████▉ | 265/295 [04:48<00:32,  1.09s/it]"
          ]
        },
        {
          "output_type": "stream",
          "name": "stdout",
          "text": [
            "Processed patient 265 to /kaggle/working/brats/training/patient_265\n"
          ]
        },
        {
          "output_type": "stream",
          "name": "stderr",
          "text": [
            "\rProcessing training data:  90%|█████████ | 266/295 [04:49<00:29,  1.03s/it]"
          ]
        },
        {
          "output_type": "stream",
          "name": "stdout",
          "text": [
            "Processed patient 266 to /kaggle/working/brats/training/patient_266\n"
          ]
        },
        {
          "output_type": "stream",
          "name": "stderr",
          "text": [
            "\rProcessing training data:  91%|█████████ | 267/295 [04:50<00:28,  1.02s/it]"
          ]
        },
        {
          "output_type": "stream",
          "name": "stdout",
          "text": [
            "Processed patient 267 to /kaggle/working/brats/training/patient_267\n"
          ]
        },
        {
          "output_type": "stream",
          "name": "stderr",
          "text": [
            "\rProcessing training data:  91%|█████████ | 268/295 [04:51<00:27,  1.02s/it]"
          ]
        },
        {
          "output_type": "stream",
          "name": "stdout",
          "text": [
            "Processed patient 268 to /kaggle/working/brats/training/patient_268\n"
          ]
        },
        {
          "output_type": "stream",
          "name": "stderr",
          "text": [
            "\rProcessing training data:  91%|█████████ | 269/295 [04:52<00:29,  1.12s/it]"
          ]
        },
        {
          "output_type": "stream",
          "name": "stdout",
          "text": [
            "Processed patient 269 to /kaggle/working/brats/training/patient_269\n"
          ]
        },
        {
          "output_type": "stream",
          "name": "stderr",
          "text": [
            "\rProcessing training data:  92%|█████████▏| 270/295 [04:53<00:26,  1.08s/it]"
          ]
        },
        {
          "output_type": "stream",
          "name": "stdout",
          "text": [
            "Processed patient 270 to /kaggle/working/brats/training/patient_270\n"
          ]
        },
        {
          "output_type": "stream",
          "name": "stderr",
          "text": [
            "\rProcessing training data:  92%|█████████▏| 271/295 [04:54<00:25,  1.06s/it]"
          ]
        },
        {
          "output_type": "stream",
          "name": "stdout",
          "text": [
            "Processed patient 271 to /kaggle/working/brats/training/patient_271\n"
          ]
        },
        {
          "output_type": "stream",
          "name": "stderr",
          "text": [
            "\rProcessing training data:  92%|█████████▏| 272/295 [04:55<00:23,  1.03s/it]"
          ]
        },
        {
          "output_type": "stream",
          "name": "stdout",
          "text": [
            "Processed patient 272 to /kaggle/working/brats/training/patient_272\n"
          ]
        },
        {
          "output_type": "stream",
          "name": "stderr",
          "text": [
            "\rProcessing training data:  93%|█████████▎| 273/295 [04:56<00:21,  1.00it/s]"
          ]
        },
        {
          "output_type": "stream",
          "name": "stdout",
          "text": [
            "Processed patient 273 to /kaggle/working/brats/training/patient_273\n"
          ]
        },
        {
          "output_type": "stream",
          "name": "stderr",
          "text": [
            "\rProcessing training data:  93%|█████████▎| 274/295 [04:57<00:20,  1.03it/s]"
          ]
        },
        {
          "output_type": "stream",
          "name": "stdout",
          "text": [
            "Processed patient 274 to /kaggle/working/brats/training/patient_274\n"
          ]
        },
        {
          "output_type": "stream",
          "name": "stderr",
          "text": [
            "\rProcessing training data:  93%|█████████▎| 275/295 [04:58<00:19,  1.04it/s]"
          ]
        },
        {
          "output_type": "stream",
          "name": "stdout",
          "text": [
            "Processed patient 275 to /kaggle/working/brats/training/patient_275\n"
          ]
        },
        {
          "output_type": "stream",
          "name": "stderr",
          "text": [
            "\rProcessing training data:  94%|█████████▎| 276/295 [04:59<00:17,  1.06it/s]"
          ]
        },
        {
          "output_type": "stream",
          "name": "stdout",
          "text": [
            "Processed patient 276 to /kaggle/working/brats/training/patient_276\n"
          ]
        },
        {
          "output_type": "stream",
          "name": "stderr",
          "text": [
            "\rProcessing training data:  94%|█████████▍| 277/295 [05:00<00:17,  1.04it/s]"
          ]
        },
        {
          "output_type": "stream",
          "name": "stdout",
          "text": [
            "Processed patient 277 to /kaggle/working/brats/training/patient_277\n"
          ]
        },
        {
          "output_type": "stream",
          "name": "stderr",
          "text": [
            "\rProcessing training data:  94%|█████████▍| 278/295 [05:01<00:15,  1.09it/s]"
          ]
        },
        {
          "output_type": "stream",
          "name": "stdout",
          "text": [
            "Processed patient 278 to /kaggle/working/brats/training/patient_278\n"
          ]
        },
        {
          "output_type": "stream",
          "name": "stderr",
          "text": [
            "\rProcessing training data:  95%|█████████▍| 279/295 [05:02<00:16,  1.05s/it]"
          ]
        },
        {
          "output_type": "stream",
          "name": "stdout",
          "text": [
            "Processed patient 279 to /kaggle/working/brats/training/patient_279\n"
          ]
        },
        {
          "output_type": "stream",
          "name": "stderr",
          "text": [
            "\rProcessing training data:  95%|█████████▍| 280/295 [05:03<00:15,  1.00s/it]"
          ]
        },
        {
          "output_type": "stream",
          "name": "stdout",
          "text": [
            "Processed patient 280 to /kaggle/working/brats/training/patient_280\n"
          ]
        },
        {
          "output_type": "stream",
          "name": "stderr",
          "text": [
            "\rProcessing training data:  95%|█████████▌| 281/295 [05:04<00:13,  1.03it/s]"
          ]
        },
        {
          "output_type": "stream",
          "name": "stdout",
          "text": [
            "Processed patient 281 to /kaggle/working/brats/training/patient_281\n"
          ]
        },
        {
          "output_type": "stream",
          "name": "stderr",
          "text": [
            "\rProcessing training data:  96%|█████████▌| 282/295 [05:05<00:12,  1.01it/s]"
          ]
        },
        {
          "output_type": "stream",
          "name": "stdout",
          "text": [
            "Processed patient 282 to /kaggle/working/brats/training/patient_282\n"
          ]
        },
        {
          "output_type": "stream",
          "name": "stderr",
          "text": [
            "\rProcessing training data:  96%|█████████▌| 283/295 [05:06<00:12,  1.00s/it]"
          ]
        },
        {
          "output_type": "stream",
          "name": "stdout",
          "text": [
            "Processed patient 283 to /kaggle/working/brats/training/patient_283\n"
          ]
        },
        {
          "output_type": "stream",
          "name": "stderr",
          "text": [
            "\rProcessing training data:  96%|█████████▋| 284/295 [05:07<00:10,  1.01it/s]"
          ]
        },
        {
          "output_type": "stream",
          "name": "stdout",
          "text": [
            "Processed patient 284 to /kaggle/working/brats/training/patient_284\n"
          ]
        },
        {
          "output_type": "stream",
          "name": "stderr",
          "text": [
            "\rProcessing training data:  97%|█████████▋| 285/295 [05:08<00:09,  1.02it/s]"
          ]
        },
        {
          "output_type": "stream",
          "name": "stdout",
          "text": [
            "Processed patient 285 to /kaggle/working/brats/training/patient_285\n"
          ]
        },
        {
          "output_type": "stream",
          "name": "stderr",
          "text": [
            "\rProcessing training data:  97%|█████████▋| 286/295 [05:09<00:08,  1.01it/s]"
          ]
        },
        {
          "output_type": "stream",
          "name": "stdout",
          "text": [
            "Processed patient 286 to /kaggle/working/brats/training/patient_286\n"
          ]
        },
        {
          "output_type": "stream",
          "name": "stderr",
          "text": [
            "\rProcessing training data:  97%|█████████▋| 287/295 [05:10<00:07,  1.02it/s]"
          ]
        },
        {
          "output_type": "stream",
          "name": "stdout",
          "text": [
            "Processed patient 287 to /kaggle/working/brats/training/patient_287\n"
          ]
        },
        {
          "output_type": "stream",
          "name": "stderr",
          "text": [
            "\rProcessing training data:  98%|█████████▊| 288/295 [05:11<00:06,  1.00it/s]"
          ]
        },
        {
          "output_type": "stream",
          "name": "stdout",
          "text": [
            "Processed patient 288 to /kaggle/working/brats/training/patient_288\n"
          ]
        },
        {
          "output_type": "stream",
          "name": "stderr",
          "text": [
            "\rProcessing training data:  98%|█████████▊| 289/295 [05:12<00:05,  1.01it/s]"
          ]
        },
        {
          "output_type": "stream",
          "name": "stdout",
          "text": [
            "Processed patient 289 to /kaggle/working/brats/training/patient_289\n"
          ]
        },
        {
          "output_type": "stream",
          "name": "stderr",
          "text": [
            "\rProcessing training data:  98%|█████████▊| 290/295 [05:13<00:04,  1.01it/s]"
          ]
        },
        {
          "output_type": "stream",
          "name": "stdout",
          "text": [
            "Processed patient 290 to /kaggle/working/brats/training/patient_290\n"
          ]
        },
        {
          "output_type": "stream",
          "name": "stderr",
          "text": [
            "\rProcessing training data:  99%|█████████▊| 291/295 [05:14<00:03,  1.02it/s]"
          ]
        },
        {
          "output_type": "stream",
          "name": "stdout",
          "text": [
            "Processed patient 291 to /kaggle/working/brats/training/patient_291\n"
          ]
        },
        {
          "output_type": "stream",
          "name": "stderr",
          "text": [
            "\rProcessing training data:  99%|█████████▉| 292/295 [05:15<00:02,  1.05it/s]"
          ]
        },
        {
          "output_type": "stream",
          "name": "stdout",
          "text": [
            "Processed patient 292 to /kaggle/working/brats/training/patient_292\n"
          ]
        },
        {
          "output_type": "stream",
          "name": "stderr",
          "text": [
            "\rProcessing training data:  99%|█████████▉| 293/295 [05:18<00:03,  1.77s/it]"
          ]
        },
        {
          "output_type": "stream",
          "name": "stdout",
          "text": [
            "Processed patient 293 to /kaggle/working/brats/training/patient_293\n"
          ]
        },
        {
          "output_type": "stream",
          "name": "stderr",
          "text": [
            "\rProcessing training data: 100%|█████████▉| 294/295 [05:19<00:01,  1.53s/it]"
          ]
        },
        {
          "output_type": "stream",
          "name": "stdout",
          "text": [
            "Processed patient 294 to /kaggle/working/brats/training/patient_294\n"
          ]
        },
        {
          "output_type": "stream",
          "name": "stderr",
          "text": [
            "Processing training data: 100%|██████████| 295/295 [05:20<00:00,  1.09s/it]\n"
          ]
        },
        {
          "output_type": "stream",
          "name": "stdout",
          "text": [
            "Processed patient 295 to /kaggle/working/brats/training/patient_295\n"
          ]
        },
        {
          "output_type": "stream",
          "name": "stderr",
          "text": [
            "Processing validation data:   1%|▏         | 1/74 [00:01<01:15,  1.03s/it]"
          ]
        },
        {
          "output_type": "stream",
          "name": "stdout",
          "text": [
            "Processed patient 296 to /kaggle/working/brats/validation/patient_01\n"
          ]
        },
        {
          "output_type": "stream",
          "name": "stderr",
          "text": [
            "\rProcessing validation data:   3%|▎         | 2/74 [00:02<01:12,  1.01s/it]"
          ]
        },
        {
          "output_type": "stream",
          "name": "stdout",
          "text": [
            "Processed patient 297 to /kaggle/working/brats/validation/patient_02\n"
          ]
        },
        {
          "output_type": "stream",
          "name": "stderr",
          "text": [
            "\rProcessing validation data:   4%|▍         | 3/74 [00:03<01:12,  1.02s/it]"
          ]
        },
        {
          "output_type": "stream",
          "name": "stdout",
          "text": [
            "Processed patient 298 to /kaggle/working/brats/validation/patient_03\n"
          ]
        },
        {
          "output_type": "stream",
          "name": "stderr",
          "text": [
            "\rProcessing validation data:   5%|▌         | 4/74 [00:04<01:10,  1.01s/it]"
          ]
        },
        {
          "output_type": "stream",
          "name": "stdout",
          "text": [
            "Processed patient 299 to /kaggle/working/brats/validation/patient_04\n"
          ]
        },
        {
          "output_type": "stream",
          "name": "stderr",
          "text": [
            "\rProcessing validation data:   7%|▋         | 5/74 [00:05<01:08,  1.01it/s]"
          ]
        },
        {
          "output_type": "stream",
          "name": "stdout",
          "text": [
            "Processed patient 300 to /kaggle/working/brats/validation/patient_05\n"
          ]
        },
        {
          "output_type": "stream",
          "name": "stderr",
          "text": [
            "\rProcessing validation data:   8%|▊         | 6/74 [00:05<01:07,  1.01it/s]"
          ]
        },
        {
          "output_type": "stream",
          "name": "stdout",
          "text": [
            "Processed patient 301 to /kaggle/working/brats/validation/patient_06\n"
          ]
        },
        {
          "output_type": "stream",
          "name": "stderr",
          "text": [
            "\rProcessing validation data:   9%|▉         | 7/74 [00:06<01:05,  1.02it/s]"
          ]
        },
        {
          "output_type": "stream",
          "name": "stdout",
          "text": [
            "Processed patient 302 to /kaggle/working/brats/validation/patient_07\n"
          ]
        },
        {
          "output_type": "stream",
          "name": "stderr",
          "text": [
            "\rProcessing validation data:  11%|█         | 8/74 [00:07<01:04,  1.03it/s]"
          ]
        },
        {
          "output_type": "stream",
          "name": "stdout",
          "text": [
            "Processed patient 303 to /kaggle/working/brats/validation/patient_08\n"
          ]
        },
        {
          "output_type": "stream",
          "name": "stderr",
          "text": [
            "\rProcessing validation data:  12%|█▏        | 9/74 [00:08<01:03,  1.03it/s]"
          ]
        },
        {
          "output_type": "stream",
          "name": "stdout",
          "text": [
            "Processed patient 304 to /kaggle/working/brats/validation/patient_09\n"
          ]
        },
        {
          "output_type": "stream",
          "name": "stderr",
          "text": [
            "\rProcessing validation data:  14%|█▎        | 10/74 [00:12<01:51,  1.75s/it]"
          ]
        },
        {
          "output_type": "stream",
          "name": "stdout",
          "text": [
            "Processed patient 305 to /kaggle/working/brats/validation/patient_10\n"
          ]
        },
        {
          "output_type": "stream",
          "name": "stderr",
          "text": [
            "\rProcessing validation data:  15%|█▍        | 11/74 [00:13<01:34,  1.50s/it]"
          ]
        },
        {
          "output_type": "stream",
          "name": "stdout",
          "text": [
            "Processed patient 306 to /kaggle/working/brats/validation/patient_11\n"
          ]
        },
        {
          "output_type": "stream",
          "name": "stderr",
          "text": [
            "\rProcessing validation data:  16%|█▌        | 12/74 [00:14<01:21,  1.32s/it]"
          ]
        },
        {
          "output_type": "stream",
          "name": "stdout",
          "text": [
            "Processed patient 307 to /kaggle/working/brats/validation/patient_12\n"
          ]
        },
        {
          "output_type": "stream",
          "name": "stderr",
          "text": [
            "\rProcessing validation data:  18%|█▊        | 13/74 [00:15<01:11,  1.18s/it]"
          ]
        },
        {
          "output_type": "stream",
          "name": "stdout",
          "text": [
            "Processed patient 308 to /kaggle/working/brats/validation/patient_13\n"
          ]
        },
        {
          "output_type": "stream",
          "name": "stderr",
          "text": [
            "\rProcessing validation data:  19%|█▉        | 14/74 [00:15<01:04,  1.08s/it]"
          ]
        },
        {
          "output_type": "stream",
          "name": "stdout",
          "text": [
            "Processed patient 309 to /kaggle/working/brats/validation/patient_14\n"
          ]
        },
        {
          "output_type": "stream",
          "name": "stderr",
          "text": [
            "\rProcessing validation data:  20%|██        | 15/74 [00:16<01:00,  1.02s/it]"
          ]
        },
        {
          "output_type": "stream",
          "name": "stdout",
          "text": [
            "Processed patient 310 to /kaggle/working/brats/validation/patient_15\n"
          ]
        },
        {
          "output_type": "stream",
          "name": "stderr",
          "text": [
            "\rProcessing validation data:  22%|██▏       | 16/74 [00:17<00:56,  1.02it/s]"
          ]
        },
        {
          "output_type": "stream",
          "name": "stdout",
          "text": [
            "Processed patient 311 to /kaggle/working/brats/validation/patient_16\n"
          ]
        },
        {
          "output_type": "stream",
          "name": "stderr",
          "text": [
            "\rProcessing validation data:  23%|██▎       | 17/74 [00:18<00:54,  1.05it/s]"
          ]
        },
        {
          "output_type": "stream",
          "name": "stdout",
          "text": [
            "Processed patient 312 to /kaggle/working/brats/validation/patient_17\n"
          ]
        },
        {
          "output_type": "stream",
          "name": "stderr",
          "text": [
            "\rProcessing validation data:  24%|██▍       | 18/74 [00:19<00:52,  1.06it/s]"
          ]
        },
        {
          "output_type": "stream",
          "name": "stdout",
          "text": [
            "Processed patient 313 to /kaggle/working/brats/validation/patient_18\n"
          ]
        },
        {
          "output_type": "stream",
          "name": "stderr",
          "text": [
            "\rProcessing validation data:  26%|██▌       | 19/74 [00:22<01:24,  1.54s/it]"
          ]
        },
        {
          "output_type": "stream",
          "name": "stdout",
          "text": [
            "Processed patient 314 to /kaggle/working/brats/validation/patient_19\n"
          ]
        },
        {
          "output_type": "stream",
          "name": "stderr",
          "text": [
            "\rProcessing validation data:  27%|██▋       | 20/74 [00:23<01:12,  1.35s/it]"
          ]
        },
        {
          "output_type": "stream",
          "name": "stdout",
          "text": [
            "Processed patient 315 to /kaggle/working/brats/validation/patient_20\n"
          ]
        },
        {
          "output_type": "stream",
          "name": "stderr",
          "text": [
            "\rProcessing validation data:  28%|██▊       | 21/74 [00:24<01:04,  1.21s/it]"
          ]
        },
        {
          "output_type": "stream",
          "name": "stdout",
          "text": [
            "Processed patient 316 to /kaggle/working/brats/validation/patient_21\n"
          ]
        },
        {
          "output_type": "stream",
          "name": "stderr",
          "text": [
            "\rProcessing validation data:  30%|██▉       | 22/74 [00:25<00:57,  1.11s/it]"
          ]
        },
        {
          "output_type": "stream",
          "name": "stdout",
          "text": [
            "Processed patient 317 to /kaggle/working/brats/validation/patient_22\n"
          ]
        },
        {
          "output_type": "stream",
          "name": "stderr",
          "text": [
            "\rProcessing validation data:  31%|███       | 23/74 [00:26<00:54,  1.07s/it]"
          ]
        },
        {
          "output_type": "stream",
          "name": "stdout",
          "text": [
            "Processed patient 318 to /kaggle/working/brats/validation/patient_23\n"
          ]
        },
        {
          "output_type": "stream",
          "name": "stderr",
          "text": [
            "\rProcessing validation data:  32%|███▏      | 24/74 [00:26<00:51,  1.02s/it]"
          ]
        },
        {
          "output_type": "stream",
          "name": "stdout",
          "text": [
            "Processed patient 319 to /kaggle/working/brats/validation/patient_24\n"
          ]
        },
        {
          "output_type": "stream",
          "name": "stderr",
          "text": [
            "\rProcessing validation data:  34%|███▍      | 25/74 [00:27<00:48,  1.00it/s]"
          ]
        },
        {
          "output_type": "stream",
          "name": "stdout",
          "text": [
            "Processed patient 320 to /kaggle/working/brats/validation/patient_25\n"
          ]
        },
        {
          "output_type": "stream",
          "name": "stderr",
          "text": [
            "\rProcessing validation data:  35%|███▌      | 26/74 [00:28<00:46,  1.04it/s]"
          ]
        },
        {
          "output_type": "stream",
          "name": "stdout",
          "text": [
            "Processed patient 321 to /kaggle/working/brats/validation/patient_26\n"
          ]
        },
        {
          "output_type": "stream",
          "name": "stderr",
          "text": [
            "\rProcessing validation data:  36%|███▋      | 27/74 [00:29<00:45,  1.03it/s]"
          ]
        },
        {
          "output_type": "stream",
          "name": "stdout",
          "text": [
            "Processed patient 322 to /kaggle/working/brats/validation/patient_27\n"
          ]
        },
        {
          "output_type": "stream",
          "name": "stderr",
          "text": [
            "\rProcessing validation data:  38%|███▊      | 28/74 [00:30<00:45,  1.01it/s]"
          ]
        },
        {
          "output_type": "stream",
          "name": "stdout",
          "text": [
            "Processed patient 323 to /kaggle/working/brats/validation/patient_28\n"
          ]
        },
        {
          "output_type": "stream",
          "name": "stderr",
          "text": [
            "\rProcessing validation data:  39%|███▉      | 29/74 [00:31<00:44,  1.00it/s]"
          ]
        },
        {
          "output_type": "stream",
          "name": "stdout",
          "text": [
            "Processed patient 324 to /kaggle/working/brats/validation/patient_29\n"
          ]
        },
        {
          "output_type": "stream",
          "name": "stderr",
          "text": [
            "\rProcessing validation data:  41%|████      | 30/74 [00:32<00:43,  1.00it/s]"
          ]
        },
        {
          "output_type": "stream",
          "name": "stdout",
          "text": [
            "Processed patient 325 to /kaggle/working/brats/validation/patient_30\n"
          ]
        },
        {
          "output_type": "stream",
          "name": "stderr",
          "text": [
            "\rProcessing validation data:  42%|████▏     | 31/74 [00:33<00:41,  1.03it/s]"
          ]
        },
        {
          "output_type": "stream",
          "name": "stdout",
          "text": [
            "Processed patient 326 to /kaggle/working/brats/validation/patient_31\n"
          ]
        },
        {
          "output_type": "stream",
          "name": "stderr",
          "text": [
            "\rProcessing validation data:  43%|████▎     | 32/74 [00:34<00:41,  1.02it/s]"
          ]
        },
        {
          "output_type": "stream",
          "name": "stdout",
          "text": [
            "Processed patient 327 to /kaggle/working/brats/validation/patient_32\n"
          ]
        },
        {
          "output_type": "stream",
          "name": "stderr",
          "text": [
            "\rProcessing validation data:  45%|████▍     | 33/74 [00:35<00:42,  1.04s/it]"
          ]
        },
        {
          "output_type": "stream",
          "name": "stdout",
          "text": [
            "Processed patient 328 to /kaggle/working/brats/validation/patient_33\n"
          ]
        },
        {
          "output_type": "stream",
          "name": "stderr",
          "text": [
            "\rProcessing validation data:  46%|████▌     | 34/74 [00:36<00:40,  1.02s/it]"
          ]
        },
        {
          "output_type": "stream",
          "name": "stdout",
          "text": [
            "Processed patient 329 to /kaggle/working/brats/validation/patient_34\n"
          ]
        },
        {
          "output_type": "stream",
          "name": "stderr",
          "text": [
            "\rProcessing validation data:  47%|████▋     | 35/74 [00:37<00:38,  1.01it/s]"
          ]
        },
        {
          "output_type": "stream",
          "name": "stdout",
          "text": [
            "Processed patient 330 to /kaggle/working/brats/validation/patient_35\n"
          ]
        },
        {
          "output_type": "stream",
          "name": "stderr",
          "text": [
            "\rProcessing validation data:  49%|████▊     | 36/74 [00:38<00:37,  1.01it/s]"
          ]
        },
        {
          "output_type": "stream",
          "name": "stdout",
          "text": [
            "Processed patient 331 to /kaggle/working/brats/validation/patient_36\n"
          ]
        },
        {
          "output_type": "stream",
          "name": "stderr",
          "text": [
            "\rProcessing validation data:  50%|█████     | 37/74 [00:39<00:36,  1.02it/s]"
          ]
        },
        {
          "output_type": "stream",
          "name": "stdout",
          "text": [
            "Processed patient 332 to /kaggle/working/brats/validation/patient_37\n"
          ]
        },
        {
          "output_type": "stream",
          "name": "stderr",
          "text": [
            "\rProcessing validation data:  51%|█████▏    | 38/74 [00:40<00:35,  1.01it/s]"
          ]
        },
        {
          "output_type": "stream",
          "name": "stdout",
          "text": [
            "Processed patient 333 to /kaggle/working/brats/validation/patient_38\n"
          ]
        },
        {
          "output_type": "stream",
          "name": "stderr",
          "text": [
            "\rProcessing validation data:  53%|█████▎    | 39/74 [00:41<00:35,  1.00s/it]"
          ]
        },
        {
          "output_type": "stream",
          "name": "stdout",
          "text": [
            "Processed patient 334 to /kaggle/working/brats/validation/patient_39\n"
          ]
        },
        {
          "output_type": "stream",
          "name": "stderr",
          "text": [
            "\rProcessing validation data:  54%|█████▍    | 40/74 [00:42<00:34,  1.01s/it]"
          ]
        },
        {
          "output_type": "stream",
          "name": "stdout",
          "text": [
            "Processed patient 335 to /kaggle/working/brats/validation/patient_40\n"
          ]
        },
        {
          "output_type": "stream",
          "name": "stderr",
          "text": [
            "\rProcessing validation data:  55%|█████▌    | 41/74 [00:44<00:42,  1.28s/it]"
          ]
        },
        {
          "output_type": "stream",
          "name": "stdout",
          "text": [
            "Processed patient 336 to /kaggle/working/brats/validation/patient_41\n"
          ]
        },
        {
          "output_type": "stream",
          "name": "stderr",
          "text": [
            "\rProcessing validation data:  57%|█████▋    | 42/74 [00:46<00:47,  1.48s/it]"
          ]
        },
        {
          "output_type": "stream",
          "name": "stdout",
          "text": [
            "Processed patient 337 to /kaggle/working/brats/validation/patient_42\n"
          ]
        },
        {
          "output_type": "stream",
          "name": "stderr",
          "text": [
            "\rProcessing validation data:  58%|█████▊    | 43/74 [00:48<00:48,  1.58s/it]"
          ]
        },
        {
          "output_type": "stream",
          "name": "stdout",
          "text": [
            "Processed patient 338 to /kaggle/working/brats/validation/patient_43\n"
          ]
        },
        {
          "output_type": "stream",
          "name": "stderr",
          "text": [
            "\rProcessing validation data:  59%|█████▉    | 44/74 [00:53<01:15,  2.52s/it]"
          ]
        },
        {
          "output_type": "stream",
          "name": "stdout",
          "text": [
            "Processed patient 339 to /kaggle/working/brats/validation/patient_44\n"
          ]
        },
        {
          "output_type": "stream",
          "name": "stderr",
          "text": [
            "\rProcessing validation data:  61%|██████    | 45/74 [00:55<01:08,  2.36s/it]"
          ]
        },
        {
          "output_type": "stream",
          "name": "stdout",
          "text": [
            "Processed patient 340 to /kaggle/working/brats/validation/patient_45\n"
          ]
        },
        {
          "output_type": "stream",
          "name": "stderr",
          "text": [
            "\rProcessing validation data:  62%|██████▏   | 46/74 [00:57<01:01,  2.20s/it]"
          ]
        },
        {
          "output_type": "stream",
          "name": "stdout",
          "text": [
            "Processed patient 341 to /kaggle/working/brats/validation/patient_46\n"
          ]
        },
        {
          "output_type": "stream",
          "name": "stderr",
          "text": [
            "\rProcessing validation data:  64%|██████▎   | 47/74 [00:58<00:56,  2.10s/it]"
          ]
        },
        {
          "output_type": "stream",
          "name": "stdout",
          "text": [
            "Processed patient 342 to /kaggle/working/brats/validation/patient_47\n"
          ]
        },
        {
          "output_type": "stream",
          "name": "stderr",
          "text": [
            "\rProcessing validation data:  65%|██████▍   | 48/74 [01:00<00:53,  2.07s/it]"
          ]
        },
        {
          "output_type": "stream",
          "name": "stdout",
          "text": [
            "Processed patient 343 to /kaggle/working/brats/validation/patient_48\n"
          ]
        },
        {
          "output_type": "stream",
          "name": "stderr",
          "text": [
            "\rProcessing validation data:  66%|██████▌   | 49/74 [01:02<00:49,  1.99s/it]"
          ]
        },
        {
          "output_type": "stream",
          "name": "stdout",
          "text": [
            "Processed patient 344 to /kaggle/working/brats/validation/patient_49\n"
          ]
        },
        {
          "output_type": "stream",
          "name": "stderr",
          "text": [
            "\rProcessing validation data:  68%|██████▊   | 50/74 [01:04<00:46,  1.96s/it]"
          ]
        },
        {
          "output_type": "stream",
          "name": "stdout",
          "text": [
            "Processed patient 345 to /kaggle/working/brats/validation/patient_50\n"
          ]
        },
        {
          "output_type": "stream",
          "name": "stderr",
          "text": [
            "\rProcessing validation data:  69%|██████▉   | 51/74 [01:08<01:00,  2.65s/it]"
          ]
        },
        {
          "output_type": "stream",
          "name": "stdout",
          "text": [
            "Processed patient 346 to /kaggle/working/brats/validation/patient_51\n"
          ]
        },
        {
          "output_type": "stream",
          "name": "stderr",
          "text": [
            "\rProcessing validation data:  70%|███████   | 52/74 [01:10<00:52,  2.37s/it]"
          ]
        },
        {
          "output_type": "stream",
          "name": "stdout",
          "text": [
            "Processed patient 347 to /kaggle/working/brats/validation/patient_52\n"
          ]
        },
        {
          "output_type": "stream",
          "name": "stderr",
          "text": [
            "\rProcessing validation data:  72%|███████▏  | 53/74 [01:12<00:46,  2.22s/it]"
          ]
        },
        {
          "output_type": "stream",
          "name": "stdout",
          "text": [
            "Processed patient 348 to /kaggle/working/brats/validation/patient_53\n"
          ]
        },
        {
          "output_type": "stream",
          "name": "stderr",
          "text": [
            "\rProcessing validation data:  73%|███████▎  | 54/74 [01:13<00:40,  2.02s/it]"
          ]
        },
        {
          "output_type": "stream",
          "name": "stdout",
          "text": [
            "Processed patient 349 to /kaggle/working/brats/validation/patient_54\n"
          ]
        },
        {
          "output_type": "stream",
          "name": "stderr",
          "text": [
            "\rProcessing validation data:  74%|███████▍  | 55/74 [01:15<00:37,  1.95s/it]"
          ]
        },
        {
          "output_type": "stream",
          "name": "stdout",
          "text": [
            "Processed patient 350 to /kaggle/working/brats/validation/patient_55\n"
          ]
        },
        {
          "output_type": "stream",
          "name": "stderr",
          "text": [
            "\rProcessing validation data:  76%|███████▌  | 56/74 [01:19<00:42,  2.34s/it]"
          ]
        },
        {
          "output_type": "stream",
          "name": "stdout",
          "text": [
            "Processed patient 351 to /kaggle/working/brats/validation/patient_56\n"
          ]
        },
        {
          "output_type": "stream",
          "name": "stderr",
          "text": [
            "\rProcessing validation data:  77%|███████▋  | 57/74 [01:20<00:37,  2.19s/it]"
          ]
        },
        {
          "output_type": "stream",
          "name": "stdout",
          "text": [
            "Processed patient 352 to /kaggle/working/brats/validation/patient_57\n"
          ]
        },
        {
          "output_type": "stream",
          "name": "stderr",
          "text": [
            "\rProcessing validation data:  78%|███████▊  | 58/74 [01:22<00:32,  2.05s/it]"
          ]
        },
        {
          "output_type": "stream",
          "name": "stdout",
          "text": [
            "Processed patient 353 to /kaggle/working/brats/validation/patient_58\n"
          ]
        },
        {
          "output_type": "stream",
          "name": "stderr",
          "text": [
            "\rProcessing validation data:  80%|███████▉  | 59/74 [01:24<00:28,  1.93s/it]"
          ]
        },
        {
          "output_type": "stream",
          "name": "stdout",
          "text": [
            "Processed patient 354 to /kaggle/working/brats/validation/patient_59\n",
            "Unknown modality in file W39_1998.09.19_Segm.nii. Skipping.\n"
          ]
        },
        {
          "output_type": "stream",
          "name": "stderr",
          "text": [
            "\rProcessing validation data:  81%|████████  | 60/74 [01:25<00:25,  1.83s/it]"
          ]
        },
        {
          "output_type": "stream",
          "name": "stdout",
          "text": [
            "Processed patient 355 to /kaggle/working/brats/validation/patient_60\n"
          ]
        },
        {
          "output_type": "stream",
          "name": "stderr",
          "text": [
            "\rProcessing validation data:  82%|████████▏ | 61/74 [01:28<00:27,  2.08s/it]"
          ]
        },
        {
          "output_type": "stream",
          "name": "stdout",
          "text": [
            "Processed patient 356 to /kaggle/working/brats/validation/patient_61\n"
          ]
        },
        {
          "output_type": "stream",
          "name": "stderr",
          "text": [
            "\rProcessing validation data:  84%|████████▍ | 62/74 [01:30<00:23,  1.96s/it]"
          ]
        },
        {
          "output_type": "stream",
          "name": "stdout",
          "text": [
            "Processed patient 357 to /kaggle/working/brats/validation/patient_62\n"
          ]
        },
        {
          "output_type": "stream",
          "name": "stderr",
          "text": [
            "\rProcessing validation data:  85%|████████▌ | 63/74 [01:32<00:21,  1.95s/it]"
          ]
        },
        {
          "output_type": "stream",
          "name": "stdout",
          "text": [
            "Processed patient 358 to /kaggle/working/brats/validation/patient_63\n"
          ]
        },
        {
          "output_type": "stream",
          "name": "stderr",
          "text": [
            "\rProcessing validation data:  86%|████████▋ | 64/74 [01:33<00:19,  1.93s/it]"
          ]
        },
        {
          "output_type": "stream",
          "name": "stdout",
          "text": [
            "Processed patient 359 to /kaggle/working/brats/validation/patient_64\n"
          ]
        },
        {
          "output_type": "stream",
          "name": "stderr",
          "text": [
            "\rProcessing validation data:  88%|████████▊ | 65/74 [01:35<00:16,  1.86s/it]"
          ]
        },
        {
          "output_type": "stream",
          "name": "stdout",
          "text": [
            "Processed patient 360 to /kaggle/working/brats/validation/patient_65\n"
          ]
        },
        {
          "output_type": "stream",
          "name": "stderr",
          "text": [
            "\rProcessing validation data:  89%|████████▉ | 66/74 [01:40<00:21,  2.70s/it]"
          ]
        },
        {
          "output_type": "stream",
          "name": "stdout",
          "text": [
            "Processed patient 361 to /kaggle/working/brats/validation/patient_66\n"
          ]
        },
        {
          "output_type": "stream",
          "name": "stderr",
          "text": [
            "\rProcessing validation data:  91%|█████████ | 67/74 [01:42<00:17,  2.51s/it]"
          ]
        },
        {
          "output_type": "stream",
          "name": "stdout",
          "text": [
            "Processed patient 362 to /kaggle/working/brats/validation/patient_67\n"
          ]
        },
        {
          "output_type": "stream",
          "name": "stderr",
          "text": [
            "\rProcessing validation data:  92%|█████████▏| 68/74 [01:44<00:13,  2.29s/it]"
          ]
        },
        {
          "output_type": "stream",
          "name": "stdout",
          "text": [
            "Processed patient 363 to /kaggle/working/brats/validation/patient_68\n"
          ]
        },
        {
          "output_type": "stream",
          "name": "stderr",
          "text": [
            "\rProcessing validation data:  93%|█████████▎| 69/74 [01:46<00:10,  2.19s/it]"
          ]
        },
        {
          "output_type": "stream",
          "name": "stdout",
          "text": [
            "Processed patient 364 to /kaggle/working/brats/validation/patient_69\n"
          ]
        },
        {
          "output_type": "stream",
          "name": "stderr",
          "text": [
            "\rProcessing validation data:  95%|█████████▍| 70/74 [01:47<00:08,  2.05s/it]"
          ]
        },
        {
          "output_type": "stream",
          "name": "stdout",
          "text": [
            "Processed patient 365 to /kaggle/working/brats/validation/patient_70\n"
          ]
        },
        {
          "output_type": "stream",
          "name": "stderr",
          "text": [
            "\rProcessing validation data:  96%|█████████▌| 71/74 [01:49<00:05,  1.92s/it]"
          ]
        },
        {
          "output_type": "stream",
          "name": "stdout",
          "text": [
            "Processed patient 366 to /kaggle/working/brats/validation/patient_71\n"
          ]
        },
        {
          "output_type": "stream",
          "name": "stderr",
          "text": [
            "\rProcessing validation data:  97%|█████████▋| 72/74 [01:51<00:03,  1.92s/it]"
          ]
        },
        {
          "output_type": "stream",
          "name": "stdout",
          "text": [
            "Processed patient 367 to /kaggle/working/brats/validation/patient_72\n"
          ]
        },
        {
          "output_type": "stream",
          "name": "stderr",
          "text": [
            "\rProcessing validation data:  99%|█████████▊| 73/74 [01:53<00:01,  1.92s/it]"
          ]
        },
        {
          "output_type": "stream",
          "name": "stdout",
          "text": [
            "Processed patient 368 to /kaggle/working/brats/validation/patient_73\n"
          ]
        },
        {
          "output_type": "stream",
          "name": "stderr",
          "text": [
            "Processing validation data: 100%|██████████| 74/74 [01:55<00:00,  1.56s/it]"
          ]
        },
        {
          "output_type": "stream",
          "name": "stdout",
          "text": [
            "Processed patient 369 to /kaggle/working/brats/validation/patient_74\n",
            "Successfully created the dataset structure:\n",
            "Training patients: 295\n",
            "Validation patients: 74\n",
            "Data located at: /kaggle/working/brats\n"
          ]
        },
        {
          "output_type": "stream",
          "name": "stderr",
          "text": [
            "\n"
          ]
        }
      ]
    },
    {
      "cell_type": "code",
      "source": [
        "!ls /kaggle/working/brats/validation/patient_01"
      ],
      "metadata": {
        "colab": {
          "base_uri": "https://localhost:8080/"
        },
        "id": "GL4rrkC6eIaI",
        "outputId": "cc7e3427-28fb-420e-ac2e-802199f05ff8"
      },
      "execution_count": 69,
      "outputs": [
        {
          "output_type": "stream",
          "name": "stdout",
          "text": [
            "brats_val_296_flair_123_w.nii  brats_val_296_t1ce_123_w.nii\n",
            "brats_val_296_seg_123_w.nii    brats_val_296_t2_123_w.nii\n",
            "brats_val_296_t1_123_w.nii\n"
          ]
        }
      ]
    },
    {
      "cell_type": "code",
      "source": [
        "import nibabel as nib\n",
        "import matplotlib.pyplot as plt\n",
        "\n",
        "# Path to the MRI file\n",
        "mri_file = '/kaggle/working/brats/validation/patient_01/brats_val_296_seg_123_w.nii'  # Replace with your desired file\n",
        "\n",
        "# Load the MRI file using nibabel\n",
        "img = nib.load(mri_file)\n",
        "data = img.get_fdata()\n",
        "\n",
        "# Select a slice to display\n",
        "slice_num = data.shape[2] // 2  # Display the middle slice\n",
        "\n",
        "# Display the slice using matplotlib\n",
        "plt.imshow(data[:, :, slice_num], cmap='gray')\n",
        "plt.title('MRI Slice')\n",
        "plt.axis('off')  # Hide axes\n",
        "plt.show()"
      ],
      "metadata": {
        "colab": {
          "base_uri": "https://localhost:8080/",
          "height": 428
        },
        "id": "tg-fQglGeUwr",
        "outputId": "c340be37-a61c-4954-b1d1-97373f6026ef"
      },
      "execution_count": 76,
      "outputs": [
        {
          "output_type": "display_data",
          "data": {
            "text/plain": [
              "<Figure size 640x480 with 1 Axes>"
            ],
            "image/png": "[encoded data removed]"
          },
          "metadata": {}
        }
      ]
    },
    {
      "cell_type": "code",
      "execution_count": 52,
      "metadata": {
        "collapsed": true,
        "id": "X3KfrcTjJ8VL",
        "colab": {
          "base_uri": "https://localhost:8080/",
          "height": 1000
        },
        "outputId": "c666ef1e-18e3-4e86-8d00-23905944220b"
      },
      "outputs": [
        {
          "output_type": "stream",
          "name": "stdout",
          "text": [
            "Requirement already satisfied: blobfile in /usr/local/lib/python3.11/dist-packages (3.0.0)\n",
            "Requirement already satisfied: pycryptodomex>=3.8 in /usr/local/lib/python3.11/dist-packages (from blobfile) (3.22.0)\n",
            "Requirement already satisfied: urllib3<3,>=1.25.3 in /usr/local/lib/python3.11/dist-packages (from blobfile) (2.4.0)\n",
            "Requirement already satisfied: lxml>=4.9 in /usr/local/lib/python3.11/dist-packages (from blobfile) (5.4.0)\n",
            "Requirement already satisfied: filelock>=3.0 in /usr/local/lib/python3.11/dist-packages (from blobfile) (3.18.0)\n",
            "Requirement already satisfied: nibabel in /usr/local/lib/python3.11/dist-packages (5.3.2)\n",
            "Requirement already satisfied: importlib-resources>=5.12 in /usr/local/lib/python3.11/dist-packages (from nibabel) (6.5.2)\n",
            "Requirement already satisfied: numpy>=1.22 in /usr/local/lib/python3.11/dist-packages (from nibabel) (2.0.2)\n",
            "Requirement already satisfied: packaging>=20 in /usr/local/lib/python3.11/dist-packages (from nibabel) (24.2)\n",
            "Requirement already satisfied: typing-extensions>=4.6 in /usr/local/lib/python3.11/dist-packages (from nibabel) (4.13.2)\n",
            "Requirement already satisfied: visdom in /usr/local/lib/python3.11/dist-packages (0.2.4)\n",
            "Requirement already satisfied: numpy>=1.8 in /usr/local/lib/python3.11/dist-packages (from visdom) (2.0.2)\n",
            "Requirement already satisfied: scipy in /usr/local/lib/python3.11/dist-packages (from visdom) (1.15.2)\n",
            "Requirement already satisfied: requests in /usr/local/lib/python3.11/dist-packages (from visdom) (2.32.3)\n",
            "Requirement already satisfied: tornado in /usr/local/lib/python3.11/dist-packages (from visdom) (6.4.2)\n",
            "Requirement already satisfied: six in /usr/local/lib/python3.11/dist-packages (from visdom) (1.17.0)\n",
            "Requirement already satisfied: jsonpatch in /usr/local/lib/python3.11/dist-packages (from visdom) (1.33)\n",
            "Requirement already satisfied: websocket-client in /usr/local/lib/python3.11/dist-packages (from visdom) (1.8.0)\n",
            "Requirement already satisfied: networkx in /usr/local/lib/python3.11/dist-packages (from visdom) (3.4.2)\n",
            "Requirement already satisfied: pillow in /usr/local/lib/python3.11/dist-packages (from visdom) (11.2.1)\n",
            "Requirement already satisfied: jsonpointer>=1.9 in /usr/local/lib/python3.11/dist-packages (from jsonpatch->visdom) (3.0.0)\n",
            "Requirement already satisfied: charset-normalizer<4,>=2 in /usr/local/lib/python3.11/dist-packages (from requests->visdom) (3.4.1)\n",
            "Requirement already satisfied: idna<4,>=2.5 in /usr/local/lib/python3.11/dist-packages (from requests->visdom) (3.10)\n",
            "Requirement already satisfied: urllib3<3,>=1.21.1 in /usr/local/lib/python3.11/dist-packages (from requests->visdom) (2.4.0)\n",
            "Requirement already satisfied: certifi>=2017.4.17 in /usr/local/lib/python3.11/dist-packages (from requests->visdom) (2025.4.26)\n",
            "Requirement already satisfied: torchsummary in /usr/local/lib/python3.11/dist-packages (1.5.1)\n",
            "Requirement already satisfied: batchgenerators in /usr/local/lib/python3.11/dist-packages (0.25.1)\n",
            "Requirement already satisfied: pillow>=7.1.2 in /usr/local/lib/python3.11/dist-packages (from batchgenerators) (11.2.1)\n",
            "Requirement already satisfied: numpy>=1.10.2 in /usr/local/lib/python3.11/dist-packages (from batchgenerators) (2.0.2)\n",
            "Requirement already satisfied: scipy in /usr/local/lib/python3.11/dist-packages (from batchgenerators) (1.15.2)\n",
            "Requirement already satisfied: scikit-image in /usr/local/lib/python3.11/dist-packages (from batchgenerators) (0.25.2)\n",
            "Requirement already satisfied: scikit-learn in /usr/local/lib/python3.11/dist-packages (from batchgenerators) (1.6.1)\n",
            "Requirement already satisfied: future in /usr/local/lib/python3.11/dist-packages (from batchgenerators) (1.0.0)\n",
            "Requirement already satisfied: pandas in /usr/local/lib/python3.11/dist-packages (from batchgenerators) (2.2.2)\n",
            "Requirement already satisfied: unittest2 in /usr/local/lib/python3.11/dist-packages (from batchgenerators) (1.1.0)\n",
            "Requirement already satisfied: threadpoolctl in /usr/local/lib/python3.11/dist-packages (from batchgenerators) (3.6.0)\n",
            "Requirement already satisfied: python-dateutil>=2.8.2 in /usr/local/lib/python3.11/dist-packages (from pandas->batchgenerators) (2.9.0.post0)\n",
            "Requirement already satisfied: pytz>=2020.1 in /usr/local/lib/python3.11/dist-packages (from pandas->batchgenerators) (2025.2)\n",
            "Requirement already satisfied: tzdata>=2022.7 in /usr/local/lib/python3.11/dist-packages (from pandas->batchgenerators) (2025.2)\n",
            "Requirement already satisfied: networkx>=3.0 in /usr/local/lib/python3.11/dist-packages (from scikit-image->batchgenerators) (3.4.2)\n",
            "Requirement already satisfied: imageio!=2.35.0,>=2.33 in /usr/local/lib/python3.11/dist-packages (from scikit-image->batchgenerators) (2.37.0)\n",
            "Requirement already satisfied: tifffile>=2022.8.12 in /usr/local/lib/python3.11/dist-packages (from scikit-image->batchgenerators) (2025.3.30)\n",
            "Requirement already satisfied: packaging>=21 in /usr/local/lib/python3.11/dist-packages (from scikit-image->batchgenerators) (24.2)\n",
            "Requirement already satisfied: lazy-loader>=0.4 in /usr/local/lib/python3.11/dist-packages (from scikit-image->batchgenerators) (0.4)\n",
            "Requirement already satisfied: joblib>=1.2.0 in /usr/local/lib/python3.11/dist-packages (from scikit-learn->batchgenerators) (1.4.2)\n",
            "Collecting argparse (from unittest2->batchgenerators)\n",
            "  Using cached argparse-1.4.0-py2.py3-none-any.whl.metadata (2.8 kB)\n",
            "Requirement already satisfied: six>=1.4 in /usr/local/lib/python3.11/dist-packages (from unittest2->batchgenerators) (1.17.0)\n",
            "Requirement already satisfied: traceback2 in /usr/local/lib/python3.11/dist-packages (from unittest2->batchgenerators) (1.4.0)\n",
            "Requirement already satisfied: linecache2 in /usr/local/lib/python3.11/dist-packages (from traceback2->unittest2->batchgenerators) (1.0.0)\n",
            "Using cached argparse-1.4.0-py2.py3-none-any.whl (23 kB)\n",
            "Installing collected packages: argparse\n",
            "Successfully installed argparse-1.4.0\n"
          ]
        },
        {
          "output_type": "display_data",
          "data": {
            "application/vnd.colab-display-data+json": {
              "pip_warning": {
                "packages": [
                  "argparse"
                ]
              },
              "id": "d839f55cb1cb45a1a207fa3c85bfb583"
            }
          },
          "metadata": {}
        },
        {
          "output_type": "stream",
          "name": "stdout",
          "text": [
            "Requirement already satisfied: mpi4py in /usr/local/lib/python3.11/dist-packages (4.0.3)\n"
          ]
        }
      ],
      "source": [
        "!pip install blobfile\n",
        "!pip install nibabel\n",
        "!pip install visdom\n",
        "!pip install torchsummary\n",
        "!pip install batchgenerators\n",
        "!pip install mpi4py"
      ]
    },
    {
      "cell_type": "code",
      "source": [
        "import pdb"
      ],
      "metadata": {
        "id": "eep4KKwVuOyi"
      },
      "execution_count": null,
      "outputs": []
    },
    {
      "cell_type": "code",
      "execution_count": null,
      "metadata": {
        "id": "2Z6pr6GhgFOG"
      },
      "outputs": [],
      "source": [
        "import sys\n",
        "import os\n",
        "sys.path.append(\"/content/scripts\")\n",
        "sys.path.append(\"./\")\n",
        "from ssl import OP_NO_TLSv1\n",
        "import nibabel as nib\n",
        "import sys\n",
        "import random\n",
        "import numpy as np\n",
        "import time\n",
        "from PIL import Image\n",
        "import torch.distributed as dist\n",
        "import torchvision.utils as vutils\n",
        "from guided_diffusion import dist_util, logger\n",
        "from guided_diffusion.resample import create_named_schedule_sampler\n",
        "from guided_diffusion.bratsloader import BRATSDataset, BRATSDataset3D\n",
        "from guided_diffusion.isicloader import ISICDataset\n",
        "from guided_diffusion.custom_dataset_loader import CustomDataset\n",
        "from guided_diffusion.script_util import (\n",
        "    NUM_CLASSES,\n",
        "    model_and_diffusion_defaults,\n",
        "    create_model_and_diffusion,\n",
        "    args_to_dict,\n",
        "    add_dict_to_argparser,\n",
        ")\n",
        "import torch as th\n",
        "from guided_diffusion.train_util import TrainLoop\n",
        "from guided_diffusion.utils import staple\n",
        "import torchvision.transforms as transforms\n",
        "from torchsummary import summary\n",
        "\n",
        "from dataclasses import dataclass\n",
        "\n",
        "@dataclass\n",
        "class Args:\n",
        "  data_name: str\n",
        "  data_dir: str\n",
        "  out_dir: str\n",
        "  image_size: int\n",
        "  num_channels: int\n",
        "  class_cond: bool\n",
        "  num_res_blocks: int\n",
        "  num_heads: int\n",
        "  learn_sigma: bool\n",
        "  use_scale_shift_norm: bool\n",
        "  attention_resolutions: str\n",
        "  diffusion_steps: int\n",
        "  noise_schedule: str\n",
        "  rescale_learned_sigmas: bool\n",
        "  rescale_timesteps: bool\n",
        "  lr: float\n",
        "  batch_size: int\n",
        "  patience: int\n",
        "  min_delta: float\n",
        "  microbatch: int\n",
        "  ema_rate: str\n",
        "  log_interval: int\n",
        "  save_interval: int\n",
        "  resume_checkpoint: str\n",
        "  schedule_sampler: str\n",
        "  weight_decay: float\n",
        "  lr_anneal_steps: int\n",
        "  use_fp16: bool\n",
        "  fp16_scale_growth: float\n",
        "  gpu_dev: str\n",
        "  multi_gpu: str\n",
        "  in_ch: int\n",
        "  num_heads_upsample: int\n",
        "  num_head_channels: int\n",
        "  resblock_updown: bool\n",
        "  dpm_solver: bool\n",
        "  version: str\n",
        "  channel_mult: str\n",
        "  dropout: float\n",
        "  use_checkpoint: bool\n",
        "  use_new_attention_order: bool\n",
        "  timestep_respacing: str\n",
        "  use_kl: bool\n",
        "  predict_xstart: bool\n",
        "  model_path: str\n",
        "  num_ensemble: int\n",
        "  use_ddim: bool\n",
        "  clip_denoised: bool\n",
        "\n",
        "argsdict = dict(\n",
        "  data_name = 'BRATS',\n",
        "  data_dir = \"/kaggle/working/brats\",\n",
        "  out_dir = \"/kaggle/working/out\",\n",
        "  image_size = 256,\n",
        "  num_channels = 128,\n",
        "  class_cond = False,\n",
        "  num_res_blocks = 2,\n",
        "  num_heads = 1,\n",
        "  learn_sigma = True,\n",
        "  use_scale_shift_norm = False,\n",
        "  attention_resolutions = \"16\",\n",
        "  diffusion_steps = 1000,\n",
        "  noise_schedule = 'linear',\n",
        "  rescale_learned_sigmas = False,\n",
        "  rescale_timesteps = False,\n",
        "  lr = 1e-4,\n",
        "  batch_size = 4,\n",
        "  patience = 2,\n",
        "  min_delta = 0.001,\n",
        "  microbatch = -1,  # -1 disables microbatches\n",
        "  ema_rate = \"0.9999\",  # comma-separated list of EMA values\n",
        "  log_interval = 100,\n",
        "  save_interval = 5000,\n",
        "  resume_checkpoint = None, #\"/results/pretrainedmodel.pt\"\n",
        "  schedule_sampler=\"uniform\",\n",
        "  weight_decay=0.0,\n",
        "  lr_anneal_steps=400, # used for early stopping\n",
        "  use_fp16=False,\n",
        "  fp16_scale_growth=1e-3,\n",
        "  gpu_dev = \"0\",\n",
        "  multi_gpu = None, #\"0,1,2\"\n",
        "\n",
        "  # useful for sampling only:\n",
        "  model_path = \"/kaggle/working/out/savedmodel000400.pt\",\n",
        "  num_ensemble = 5,\n",
        "  use_ddim = False, #originally False\n",
        "  clip_denoised = True,\n",
        ")\n",
        "argsdict.update(model_and_diffusion_defaults())\n",
        "\n",
        "args = Args(**argsdict)\n",
        "\n",
        "seed=10\n",
        "th.manual_seed(seed)\n",
        "th.cuda.manual_seed_all(seed)\n",
        "np.random.seed(seed)\n",
        "random.seed(seed)"
      ]
    },
    {
      "cell_type": "code",
      "source": [
        "# See BRATS Data Structure\n",
        "!ls /kaggle/working/brats/training/patient_01"
      ],
      "metadata": {
        "colab": {
          "base_uri": "https://localhost:8080/"
        },
        "id": "gEQPGat_5N-C",
        "outputId": "aeb42f78-91ca-4628-ed8c-b2665605a1cd"
      },
      "execution_count": null,
      "outputs": [
        {
          "output_type": "stream",
          "name": "stdout",
          "text": [
            "brats_train_001_flair_123_w.nii  brats_train_001_t1ce_123_w.nii\n",
            "brats_train_001_seg_123_w.nii\t brats_train_001_t2_123_w.nii\n",
            "brats_train_001_t1_123_w.nii\n"
          ]
        }
      ]
    },
    {
      "cell_type": "code",
      "source": [
        "def custom_brats_loader():\n",
        "    \"\"\"Create a custom BraTS dataset loader that adapts to your data structure\"\"\"\n",
        "    import os\n",
        "    import glob\n",
        "    import nibabel as nib\n",
        "    import torch\n",
        "    import numpy as np\n",
        "    import matplotlib.pyplot as plt\n",
        "    from torch.utils.data import Dataset, DataLoader\n",
        "    import torchvision.transforms as transforms\n",
        "\n",
        "    class CustomBratsDataset(Dataset):\n",
        "        def __init__(self, data_dir, image_size=256, mode='train'):\n",
        "            self.data_dir = data_dir\n",
        "            self.mode = mode\n",
        "            self.image_size = image_size\n",
        "            self.transform = transforms.Compose([\n",
        "                transforms.Resize((image_size, image_size)),\n",
        "                transforms.ToTensor()\n",
        "            ])\n",
        "\n",
        "            # First check what files are available\n",
        "            print(f\"Scanning {data_dir} for BraTS data...\")\n",
        "            all_files = glob.glob(os.path.join(data_dir, \"**/*.*\"), recursive=True)\n",
        "            print(f\"Found {len(all_files)} total files\")\n",
        "\n",
        "            # Print some files to see naming pattern\n",
        "            for file in all_files[:5]:\n",
        "                print(f\"Sample file: {file}\")\n",
        "\n",
        "            # Find all modalities available\n",
        "            modalities = set()\n",
        "            for file in all_files:\n",
        "                filename = os.path.basename(file).lower()\n",
        "                if 't1.' in filename or '_t1_' in filename:\n",
        "                    modalities.add('t1')\n",
        "                if 't1ce' in filename or 't1gd' in filename or 't1+c' in filename:\n",
        "                    modalities.add('t1ce')\n",
        "                if 't2.' in filename or '_t2_' in filename:\n",
        "                    modalities.add('t2')\n",
        "                if 'flair' in filename:\n",
        "                    modalities.add('flair')\n",
        "                if 'seg' in filename or 'mask' in filename or 'label' in filename:\n",
        "                    modalities.add('seg')\n",
        "\n",
        "            print(f\"Detected modalities: {modalities}\")\n",
        "\n",
        "            # Group files by patient/case\n",
        "            self.samples = []\n",
        "\n",
        "            # Pattern matching approach - adapt based on your file naming\n",
        "            for root, dirs, files in os.walk(data_dir):\n",
        "                case_files = {}\n",
        "\n",
        "                for file in files:\n",
        "                    filepath = os.path.join(root, file)\n",
        "                    filename = file.lower()\n",
        "\n",
        "                    # Check if this is a NIfTI file\n",
        "                    if not (filename.endswith('.nii') or filename.endswith('.nii.gz')):\n",
        "                        continue\n",
        "\n",
        "                    # Detect modality from filename\n",
        "                    modality = None\n",
        "                    if 't1ce' in filename or 't1gd' in filename or 't1+c' in filename:\n",
        "                        modality = 't1ce'\n",
        "                    elif 't1.' in filename or '_t1_' in filename:\n",
        "                        modality = 't1'\n",
        "                    elif 't2.' in filename or '_t2_' in filename:\n",
        "                        modality = 't2'\n",
        "                    elif 'flair' in filename:\n",
        "                        modality = 'flair'\n",
        "                    elif 'seg' in filename or 'mask' in filename or 'label' in filename:\n",
        "                        modality = 'seg'\n",
        "\n",
        "                    if modality:\n",
        "                        case_files[modality] = filepath\n",
        "\n",
        "                # Add to samples if we have at least 3 modalities\n",
        "                if len(case_files) >= 3:\n",
        "                    self.samples.append(case_files)\n",
        "\n",
        "            print(f\"Found {len(self.samples)} valid BraTS cases\")\n",
        "\n",
        "            # Show what modalities each case has\n",
        "            for i, case in enumerate(self.samples[:3]):\n",
        "                print(f\"Case {i+1} has modalities: {list(case.keys())}\")\n",
        "\n",
        "        def __len__(self):\n",
        "            return len(self.samples)\n",
        "\n",
        "        def __getitem__(self, idx):\n",
        "            case = self.samples[idx]\n",
        "\n",
        "            # Initialize input tensor with zeros (4 modalities)\n",
        "            input_tensor = torch.zeros((4, self.image_size, self.image_size))\n",
        "            mask_tensor = torch.zeros((1, self.image_size, self.image_size))\n",
        "\n",
        "            # Map modalities to tensor indices\n",
        "            modality_map = {'t1': 0, 't1ce': 1, 't2': 2, 'flair': 3}\n",
        "\n",
        "            # Load each available modality\n",
        "            for modality, path in case.items():\n",
        "                if modality in modality_map:\n",
        "                    try:\n",
        "                        # Load NIfTI file\n",
        "                        nii_img = nib.load(path)\n",
        "                        data = nii_img.get_fdata()\n",
        "\n",
        "                        # For simplicity, take a middle slice\n",
        "                        middle_slice = data.shape[2] // 2\n",
        "                        slice_data = data[:, :, middle_slice]\n",
        "\n",
        "                        # Normalize slice\n",
        "                        slice_data = (slice_data - slice_data.min()) / (slice_data.max() - slice_data.min() + 1e-8)\n",
        "\n",
        "                        # Resize to expected dimensions\n",
        "                        slice_tensor = torch.tensor(slice_data).float()\n",
        "                        slice_tensor = transforms.Resize((self.image_size, self.image_size))(slice_tensor.unsqueeze(0)).squeeze(0)\n",
        "\n",
        "                        # Place in the correct channel\n",
        "                        input_tensor[modality_map[modality]] = slice_tensor\n",
        "                    except Exception as e:\n",
        "                        print(f\"Error loading {modality} for case {idx}: {e}\")\n",
        "\n",
        "                # Load segmentation mask if available\n",
        "                elif modality == 'seg':\n",
        "                    try:\n",
        "                        nii_img = nib.load(path)\n",
        "                        data = nii_img.get_fdata()\n",
        "\n",
        "                        # Take same middle slice\n",
        "                        middle_slice = data.shape[2] // 2\n",
        "                        mask_data = data[:, :, middle_slice]\n",
        "\n",
        "                        # Binarize mask (any value > 0 is considered part of tumor)\n",
        "                        mask_data = (mask_data > 0).astype(np.float32)\n",
        "\n",
        "                        # Resize to expected dimensions\n",
        "                        mask_tensor = torch.tensor(mask_data).float()\n",
        "                        mask_tensor = transforms.Resize((self.image_size, self.image_size))(mask_tensor.unsqueeze(0))\n",
        "                    except Exception as e:\n",
        "                        print(f\"Error loading segmentation for case {idx}: {e}\")\n",
        "\n",
        "            return input_tensor, mask_tensor, str(case.get('t1', list(case.values())[0]))\n",
        "\n",
        "    # Create and return the custom dataset\n",
        "    dataset = CustomBratsDataset(args.data_dir, image_size=args.image_size)\n",
        "\n",
        "    # Show a sample\n",
        "    if len(dataset) > 0:\n",
        "        sample_input, sample_mask, sample_path = dataset[0]\n",
        "\n",
        "        plt.figure(figsize=(15, 8))\n",
        "        plt.subplot(2, 3, 1)\n",
        "        plt.imshow(sample_input[0], cmap='gray')\n",
        "        plt.title('T1')\n",
        "        plt.axis('off')\n",
        "\n",
        "        plt.subplot(2, 3, 2)\n",
        "        plt.imshow(sample_input[1], cmap='gray')\n",
        "        plt.title('T1CE')\n",
        "        plt.axis('off')\n",
        "\n",
        "        plt.subplot(2, 3, 3)\n",
        "        plt.imshow(sample_input[2], cmap='gray')\n",
        "        plt.title('T2')\n",
        "        plt.axis('off')\n",
        "\n",
        "        plt.subplot(2, 3, 4)\n",
        "        plt.imshow(sample_input[3], cmap='gray')\n",
        "        plt.title('FLAIR')\n",
        "        plt.axis('off')\n",
        "\n",
        "        plt.subplot(2, 3, 5)\n",
        "        plt.imshow(sample_mask[0], cmap='gray')\n",
        "        plt.title('Segmentation Mask')\n",
        "        plt.axis('off')\n",
        "\n",
        "        plt.tight_layout()\n",
        "        plt.savefig('/kaggle/working/brats_sample.png')\n",
        "        plt.close()\n",
        "\n",
        "    return dataset"
      ],
      "metadata": {
        "id": "R1ALvco1Fb6w"
      },
      "execution_count": null,
      "outputs": []
    },
    {
      "cell_type": "code",
      "source": [
        "## Train with Save Function\n",
        "\n",
        "def train_with_custom_loader():\n",
        "    \"\"\"Training function that uses our custom BraTS loader\"\"\"\n",
        "    dist_util.setup_dist(args)\n",
        "    logger.configure(dir = args.out_dir)\n",
        "    logger.log(\"Creating data loader with custom approach...\")\n",
        "\n",
        "    if args.data_name == 'ISIC':\n",
        "        # Original ISIC loading code\n",
        "        tran_list = [transforms.Resize((args.image_size,args.image_size)), transforms.ToTensor(),]\n",
        "        transform_train = transforms.Compose(tran_list)\n",
        "        ds = ISICDataset(args, args.data_dir, transform_train)\n",
        "        args.in_ch = 4\n",
        "    elif args.data_name == 'BRATS':\n",
        "        # Use our custom loader instead\n",
        "        ds = custom_brats_loader()\n",
        "        args.in_ch = 5 # 4 MRI modalities + 1 noise channel\n",
        "    else:\n",
        "        tran_list = [transforms.Resize((args.image_size,args.image_size)), transforms.ToTensor(),]\n",
        "        transform_train = transforms.Compose(tran_list)\n",
        "        print(\"Your current directory : \", args.data_dir)\n",
        "        ds = CustomDataset(args, args.data_dir, transform_train)\n",
        "        args.in_ch = 4\n",
        "\n",
        "    # Check if we have a valid dataset\n",
        "    if len(ds) == 0:\n",
        "        logger.log(\"No valid data samples found. Please check your data directory.\")\n",
        "        return\n",
        "\n",
        "    logger.log(f\"Dataset loaded with {len(ds)} samples\")\n",
        "\n",
        "    # Set batch size to 1 if dataset is very small\n",
        "    if len(ds) < args.batch_size:\n",
        "        logger.log(f\"Dataset has {len(ds)} samples, reducing batch size to 1\")\n",
        "        args.batch_size = 1\n",
        "\n",
        "    datal = th.utils.data.DataLoader(\n",
        "        ds,\n",
        "        batch_size=args.batch_size,\n",
        "        shuffle=True)\n",
        "    data = iter(datal)\n",
        "\n",
        "    logger.log(\"Creating model and diffusion...\")\n",
        "    model, diffusion = create_model_and_diffusion(\n",
        "        **args_to_dict(args, model_and_diffusion_defaults().keys())\n",
        "    )\n",
        "\n",
        "    if args.multi_gpu:\n",
        "        model = th.nn.DataParallel(model,device_ids=[int(id) for id in args.multi_gpu.split(',')])\n",
        "        model.to(device = th.device('cuda', int(args.gpu_dev)))\n",
        "    else:\n",
        "        model.to(dist_util.dev())\n",
        "\n",
        "    schedule_sampler = create_named_schedule_sampler(args.schedule_sampler, diffusion, maxt=args.diffusion_steps)\n",
        "\n",
        "    logger.log(\"Training model...\")\n",
        "\n",
        "    # Add try-except to catch and diagnose any errors during training\n",
        "    try:\n",
        "        TrainLoop(\n",
        "            model=model,\n",
        "            diffusion=diffusion,\n",
        "            classifier=None,\n",
        "            data=data,\n",
        "            dataloader=datal,\n",
        "            batch_size=args.batch_size,\n",
        "            microbatch=args.microbatch,\n",
        "            lr=args.lr,\n",
        "            ema_rate=args.ema_rate,\n",
        "            log_interval=args.log_interval,\n",
        "            save_interval=args.save_interval,\n",
        "            resume_checkpoint=args.resume_checkpoint,\n",
        "            use_fp16=args.use_fp16,\n",
        "            fp16_scale_growth=args.fp16_scale_growth,\n",
        "            schedule_sampler=schedule_sampler,\n",
        "            weight_decay=args.weight_decay,\n",
        "            lr_anneal_steps= 3000,\n",
        "        ).run_loop()\n",
        "        # lr_anneal_steps=args.lr_anneal_steps,\n",
        "\n",
        "    except Exception as e:\n",
        "        logger.log(f\"Error during training: {e}\")\n",
        "        import traceback\n",
        "        traceback.print_exc()\n",
        "\n",
        "        # Try to save model before exiting\n",
        "        if hasattr(model, 'module'):\n",
        "            th.save(model.module.state_dict(), os.path.join(args.out_dir, \"model_error_checkpoint.pt\"))\n",
        "        else:\n",
        "            th.save(model.state_dict(), os.path.join(args.out_dir, \"model_error_checkpoint.pt\"))\n",
        "        logger.log(\"Saved model checkpoint despite error\")\n",
        "\n",
        "    # Save to Google Drive\n",
        "    save_model_to_drive(model, args)\n",
        "\n",
        "# Function to save model to Google Drive\n",
        "def save_model_to_drive(model, args):\n",
        "    \"\"\"\n",
        "    Save the model to Google Drive to ensure it persists outside the Colab environment\n",
        "    \"\"\"\n",
        "    logger.log(\"Saving model to Google Drive...\")\n",
        "\n",
        "    try:\n",
        "        # First check if Google Drive is mounted\n",
        "        from google.colab import drive\n",
        "        import os\n",
        "\n",
        "        # Check if drive is already mounted\n",
        "        drive_mounted = os.path.exists('/content/drive')\n",
        "\n",
        "        if not drive_mounted:\n",
        "            logger.log(\"Mounting Google Drive...\")\n",
        "            drive.mount('/content/drive')\n",
        "\n",
        "        # Create directory for model in Google Drive if it doesn't exist\n",
        "        save_dir = f'/content/drive/MyDrive/medsegdiff_models/{args.data_name}'\n",
        "        os.makedirs(save_dir, exist_ok=True)\n",
        "\n",
        "        # Generate a timestamp for the filename\n",
        "        from datetime import datetime\n",
        "        timestamp = datetime.now().strftime('%Y%m%d_%H%M%S')\n",
        "\n",
        "        # Save the model\n",
        "        if hasattr(model, 'module'):\n",
        "            model_path = os.path.join(save_dir, f\"{args.data_name}_model_{timestamp}.pt\")\n",
        "            th.save(model.module.state_dict(), model_path)\n",
        "        else:\n",
        "            model_path = os.path.join(save_dir, f\"{args.data_name}_model_{timestamp}.pt\")\n",
        "            th.save(model.state_dict(), model_path)\n",
        "\n",
        "        # Also save a copy of the configuration\n",
        "        import json\n",
        "        config_path = os.path.join(save_dir, f\"{args.data_name}_config_{timestamp}.json\")\n",
        "        with open(config_path, 'w') as f:\n",
        "            # Convert args to dictionary\n",
        "            config_dict = vars(args)\n",
        "            # Convert any non-serializable objects to strings\n",
        "            for key, value in config_dict.items():\n",
        "                if not isinstance(value, (str, int, float, bool, list, dict, type(None))):\n",
        "                    config_dict[key] = str(value)\n",
        "            json.dump(config_dict, f, indent=4)\n",
        "\n",
        "        logger.log(f\"Model saved successfully to Google Drive at: {model_path}\")\n",
        "        logger.log(f\"Config saved at: {config_path}\")\n",
        "\n",
        "        # Create a convenience symlink to the latest model\n",
        "        latest_model_path = os.path.join(save_dir, f\"{args.data_name}_model_latest.pt\")\n",
        "        latest_config_path = os.path.join(save_dir, f\"{args.data_name}_config_latest.json\")\n",
        "\n",
        "        # Remove existing symlinks if they exist\n",
        "        if os.path.exists(latest_model_path):\n",
        "            os.remove(latest_model_path)\n",
        "        if os.path.exists(latest_config_path):\n",
        "            os.remove(latest_config_path)\n",
        "\n",
        "        # Create new symlinks\n",
        "        os.symlink(model_path, latest_model_path)\n",
        "        os.symlink(config_path, latest_config_path)\n",
        "\n",
        "        logger.log(f\"Created symlinks for easy access to latest model and config\")\n",
        "\n",
        "        return model_path\n",
        "\n",
        "    except Exception as e:\n",
        "        logger.log(f\"Error saving model to Google Drive: {e}\")\n",
        "        import traceback\n",
        "        traceback.print_exc()\n",
        "\n",
        "        # Try to save locally as fallback\n",
        "        local_path = os.path.join(args.out_dir, f\"{args.data_name}_model_local.pt\")\n",
        "        if hasattr(model, 'module'):\n",
        "            th.save(model.module.state_dict(), local_path)\n",
        "        else:\n",
        "            th.save(model.state_dict(), local_path)\n",
        "        logger.log(f\"Model could not be saved to Drive, but was saved locally at: {local_path}\")\n",
        "        logger.log(\"You should manually copy this file to persistent storage before the Colab session ends\")\n",
        "\n",
        "        return local_path\n",
        "\n",
        "# Add a function to load a saved model from Google Drive\n",
        "def load_model_from_drive(model, model_path=None, data_name=None):\n",
        "    \"\"\"\n",
        "    Load a saved model from Google Drive\n",
        "\n",
        "    Args:\n",
        "        model: The model to load weights into\n",
        "        model_path: Specific path to the model file, if None will use latest\n",
        "        data_name: Type of data model was trained on (BRATS, ISIC, etc.)\n",
        "\n",
        "    Returns:\n",
        "        The model with loaded weights\n",
        "    \"\"\"\n",
        "    logger.log(\"Loading model from Google Drive...\")\n",
        "\n",
        "    try:\n",
        "        # First check if Google Drive is mounted\n",
        "        from google.colab import drive\n",
        "        import os\n",
        "\n",
        "        # Check if drive is already mounted\n",
        "        drive_mounted = os.path.exists('/content/drive')\n",
        "\n",
        "        if not drive_mounted:\n",
        "            logger.log(\"Mounting Google Drive...\")\n",
        "            drive.mount('/content/drive')\n",
        "\n",
        "        # If no specific path is given, try to load the latest model\n",
        "        if model_path is None:\n",
        "            if data_name is None:\n",
        "                raise ValueError(\"Either model_path or data_name must be provided\")\n",
        "\n",
        "            model_path = f'/content/drive/MyDrive/medsegdiff_models/{data_name}/{data_name}_model_latest.pt'\n",
        "\n",
        "        # Check if the model exists\n",
        "        if not os.path.exists(model_path):\n",
        "            logger.log(f\"Model not found at {model_path}\")\n",
        "            return None\n",
        "\n",
        "        # Load the state dict\n",
        "        state_dict = th.load(model_path, map_location='cpu')\n",
        "\n",
        "        # Process the state dict to handle DataParallel models\n",
        "        from collections import OrderedDict\n",
        "        new_state_dict = OrderedDict()\n",
        "        for k, v in state_dict.items():\n",
        "            # Remove 'module.' if present and model is not DataParallel\n",
        "            if k.startswith('module.') and not isinstance(model, th.nn.DataParallel):\n",
        "                new_state_dict[k[7:]] = v\n",
        "            # Add 'module.' if not present and model is DataParallel\n",
        "            elif not k.startswith('module.') and isinstance(model, th.nn.DataParallel):\n",
        "                new_state_dict[f'module.{k}'] = v\n",
        "            else:\n",
        "                new_state_dict[k] = v\n",
        "\n",
        "        # Load the weights\n",
        "        model.load_state_dict(new_state_dict)\n",
        "        logger.log(f\"Model loaded successfully from {model_path}\")\n",
        "\n",
        "        return model\n",
        "\n",
        "    except Exception as e:\n",
        "        logger.log(f\"Error loading model from Google Drive: {e}\")\n",
        "        import traceback\n",
        "        traceback.print_exc()\n",
        "        return None"
      ],
      "metadata": {
        "id": "lK-lmrSd2T23"
      },
      "execution_count": null,
      "outputs": []
    },
    {
      "cell_type": "code",
      "source": [
        "train_with_custom_loader()"
      ],
      "metadata": {
        "id": "IGQ1YgmHi3Vx",
        "colab": {
          "base_uri": "https://localhost:8080/"
        },
        "outputId": "94e0da16-e7ae-4d38-d343-6afcc152d18f"
      },
      "execution_count": null,
      "outputs": [
        {
          "output_type": "stream",
          "name": "stdout",
          "text": [
            "Logging to /kaggle/working/out\n",
            "Creating data loader with custom approach...\n",
            "Scanning /kaggle/working/brats for BraTS data...\n",
            "Found 1844 total files\n",
            "Sample file: /kaggle/working/brats/validation/patient_11/brats_val_306_t1_123_w.nii\n",
            "Sample file: /kaggle/working/brats/validation/patient_11/brats_val_306_t1ce_123_w.nii\n",
            "Sample file: /kaggle/working/brats/validation/patient_11/brats_val_306_seg_123_w.nii\n",
            "Sample file: /kaggle/working/brats/validation/patient_11/brats_val_306_flair_123_w.nii\n",
            "Sample file: /kaggle/working/brats/validation/patient_11/brats_val_306_t2_123_w.nii\n",
            "Detected modalities: {'t1', 'flair', 't1ce', 'seg', 't2'}\n",
            "Found 369 valid BraTS cases\n",
            "Case 1 has modalities: ['t1', 't1ce', 'seg', 'flair', 't2']\n",
            "Case 2 has modalities: ['t2', 'flair', 't1ce', 't1', 'seg']\n",
            "Case 3 has modalities: ['t1ce', 't2', 'flair', 't1', 'seg']\n",
            "Dataset loaded with 369 samples\n",
            "Creating model and diffusion...\n",
            "Training model...\n",
            "---------------------------\n",
            "| grad_norm    | 10.9     |\n",
            "| loss         | 1        |\n",
            "| loss_cal     | 0.282    |\n",
            "| loss_cal_q0  | 0.269    |\n",
            "| loss_cal_q2  | 0.26     |\n",
            "| loss_cal_q3  | 0.338    |\n",
            "| loss_diff    | 1        |\n",
            "| loss_diff_q0 | 1.01     |\n",
            "| loss_diff_q2 | 0.995    |\n",
            "| loss_diff_q3 | 1.01     |\n",
            "| loss_q0      | 1.01     |\n",
            "| loss_q2      | 0.995    |\n",
            "| loss_q3      | 1.01     |\n",
            "| param_norm   | 227      |\n",
            "| samples      | 4        |\n",
            "| step         | 0        |\n",
            "---------------------------\n",
            "saving model 0...\n",
            "saving model 0.9999...\n",
            "---------------------------\n",
            "| grad_norm    | 7.3      |\n",
            "| loss         | 0.243    |\n",
            "| loss_cal     | 0.177    |\n",
            "| loss_cal_q0  | 0.172    |\n",
            "| loss_cal_q1  | 0.18     |\n",
            "| loss_cal_q2  | 0.186    |\n",
            "| loss_cal_q3  | 0.172    |\n",
            "| loss_diff    | 0.243    |\n",
            "| loss_diff_q0 | 0.296    |\n",
            "| loss_diff_q1 | 0.247    |\n",
            "| loss_diff_q2 | 0.226    |\n",
            "| loss_diff_q3 | 0.206    |\n",
            "| loss_q0      | 0.296    |\n",
            "| loss_q1      | 0.247    |\n",
            "| loss_q2      | 0.226    |\n",
            "| loss_q3      | 0.206    |\n",
            "| param_norm   | 227      |\n",
            "| samples      | 404      |\n",
            "| step         | 100      |\n",
            "---------------------------\n",
            "---------------------------\n",
            "| grad_norm    | 4.72     |\n",
            "| loss         | 0.0378   |\n",
            "| loss_cal     | 0.111    |\n",
            "| loss_cal_q0  | 0.111    |\n",
            "| loss_cal_q1  | 0.11     |\n",
            "| loss_cal_q2  | 0.114    |\n",
            "| loss_cal_q3  | 0.111    |\n",
            "| loss_diff    | 0.0378   |\n",
            "| loss_diff_q0 | 0.101    |\n",
            "| loss_diff_q1 | 0.0203   |\n",
            "| loss_diff_q2 | 0.0148   |\n",
            "| loss_diff_q3 | 0.015    |\n",
            "| loss_q0      | 0.101    |\n",
            "| loss_q1      | 0.0203   |\n",
            "| loss_q2      | 0.0148   |\n",
            "| loss_q3      | 0.015    |\n",
            "| param_norm   | 228      |\n",
            "| samples      | 804      |\n",
            "| step         | 200      |\n",
            "---------------------------\n",
            "---------------------------\n",
            "| grad_norm    | 3.82     |\n",
            "| loss         | 0.0196   |\n",
            "| loss_cal     | 0.0815   |\n",
            "| loss_cal_q0  | 0.0821   |\n",
            "| loss_cal_q1  | 0.0809   |\n",
            "| loss_cal_q2  | 0.0792   |\n",
            "| loss_cal_q3  | 0.0834   |\n",
            "| loss_diff    | 0.0196   |\n",
            "| loss_diff_q0 | 0.0535   |\n",
            "| loss_diff_q1 | 0.00957  |\n",
            "| loss_diff_q2 | 0.00537  |\n",
            "| loss_diff_q3 | 0.00507  |\n",
            "| loss_q0      | 0.0535   |\n",
            "| loss_q1      | 0.00957  |\n",
            "| loss_q2      | 0.00537  |\n",
            "| loss_q3      | 0.00507  |\n",
            "| param_norm   | 228      |\n",
            "| samples      | 1.2e+03  |\n",
            "| step         | 300      |\n",
            "---------------------------\n",
            "---------------------------\n",
            "| grad_norm    | 3.29     |\n",
            "| loss         | 0.0186   |\n",
            "| loss_cal     | 0.0663   |\n",
            "| loss_cal_q0  | 0.0678   |\n",
            "| loss_cal_q1  | 0.0663   |\n",
            "| loss_cal_q2  | 0.0641   |\n",
            "| loss_cal_q3  | 0.0675   |\n",
            "| loss_diff    | 0.0186   |\n",
            "| loss_diff_q0 | 0.0582   |\n",
            "| loss_diff_q1 | 0.0101   |\n",
            "| loss_diff_q2 | 0.00534  |\n",
            "| loss_diff_q3 | 0.00533  |\n",
            "| loss_q0      | 0.0582   |\n",
            "| loss_q1      | 0.0101   |\n",
            "| loss_q2      | 0.00534  |\n",
            "| loss_q3      | 0.00533  |\n",
            "| param_norm   | 228      |\n",
            "| samples      | 1.6e+03  |\n",
            "| step         | 400      |\n",
            "---------------------------\n",
            "---------------------------\n",
            "| grad_norm    | 2.73     |\n",
            "| loss         | 0.0134   |\n",
            "| loss_cal     | 0.0546   |\n",
            "| loss_cal_q0  | 0.0568   |\n",
            "| loss_cal_q1  | 0.0538   |\n",
            "| loss_cal_q2  | 0.0536   |\n",
            "| loss_cal_q3  | 0.0538   |\n",
            "| loss_diff    | 0.0134   |\n",
            "| loss_diff_q0 | 0.0371   |\n",
            "| loss_diff_q1 | 0.00769  |\n",
            "| loss_diff_q2 | 0.00331  |\n",
            "| loss_diff_q3 | 0.00292  |\n",
            "| loss_q0      | 0.0371   |\n",
            "| loss_q1      | 0.00769  |\n",
            "| loss_q2      | 0.00331  |\n",
            "| loss_q3      | 0.00292  |\n",
            "| param_norm   | 228      |\n",
            "| samples      | 2e+03    |\n",
            "| step         | 500      |\n",
            "---------------------------\n",
            "---------------------------\n",
            "| grad_norm    | 2.75     |\n",
            "| loss         | 0.0145   |\n",
            "| loss_cal     | 0.0487   |\n",
            "| loss_cal_q0  | 0.0481   |\n",
            "| loss_cal_q1  | 0.0506   |\n",
            "| loss_cal_q2  | 0.0493   |\n",
            "| loss_cal_q3  | 0.0466   |\n",
            "| loss_diff    | 0.0145   |\n",
            "| loss_diff_q0 | 0.0396   |\n",
            "| loss_diff_q1 | 0.00681  |\n",
            "| loss_diff_q2 | 0.00284  |\n",
            "| loss_diff_q3 | 0.00265  |\n",
            "| loss_q0      | 0.0396   |\n",
            "| loss_q1      | 0.00681  |\n",
            "| loss_q2      | 0.00284  |\n",
            "| loss_q3      | 0.00265  |\n",
            "| param_norm   | 228      |\n",
            "| samples      | 2.4e+03  |\n",
            "| step         | 600      |\n",
            "---------------------------\n",
            "---------------------------\n",
            "| grad_norm    | 2.43     |\n",
            "| loss         | 0.0115   |\n",
            "| loss_cal     | 0.0445   |\n",
            "| loss_cal_q0  | 0.0434   |\n",
            "| loss_cal_q1  | 0.0423   |\n",
            "| loss_cal_q2  | 0.0451   |\n",
            "| loss_cal_q3  | 0.0473   |\n",
            "| loss_diff    | 0.0115   |\n",
            "| loss_diff_q0 | 0.0329   |\n",
            "| loss_diff_q1 | 0.0056   |\n",
            "| loss_diff_q2 | 0.0024   |\n",
            "| loss_diff_q3 | 0.0019   |\n",
            "| loss_q0      | 0.0329   |\n",
            "| loss_q1      | 0.0056   |\n",
            "| loss_q2      | 0.0024   |\n",
            "| loss_q3      | 0.0019   |\n",
            "| param_norm   | 228      |\n",
            "| samples      | 2.8e+03  |\n",
            "| step         | 700      |\n",
            "---------------------------\n",
            "---------------------------\n",
            "| grad_norm    | 2.37     |\n",
            "| loss         | 0.0121   |\n",
            "| loss_cal     | 0.0394   |\n",
            "| loss_cal_q0  | 0.04     |\n",
            "| loss_cal_q1  | 0.039    |\n",
            "| loss_cal_q2  | 0.0385   |\n",
            "| loss_cal_q3  | 0.0398   |\n",
            "| loss_diff    | 0.0121   |\n",
            "| loss_diff_q0 | 0.0358   |\n",
            "| loss_diff_q1 | 0.00622  |\n",
            "| loss_diff_q2 | 0.00235  |\n",
            "| loss_diff_q3 | 0.00191  |\n",
            "| loss_q0      | 0.0358   |\n",
            "| loss_q1      | 0.00622  |\n",
            "| loss_q2      | 0.00235  |\n",
            "| loss_q3      | 0.00191  |\n",
            "| param_norm   | 228      |\n",
            "| samples      | 3.2e+03  |\n",
            "| step         | 800      |\n",
            "---------------------------\n",
            "---------------------------\n",
            "| grad_norm    | 2.33     |\n",
            "| loss         | 0.0077   |\n",
            "| loss_cal     | 0.0381   |\n",
            "| loss_cal_q0  | 0.037    |\n",
            "| loss_cal_q1  | 0.0391   |\n",
            "| loss_cal_q2  | 0.038    |\n",
            "| loss_cal_q3  | 0.0381   |\n",
            "| loss_diff    | 0.0077   |\n",
            "| loss_diff_q0 | 0.0217   |\n",
            "| loss_diff_q1 | 0.00512  |\n",
            "| loss_diff_q2 | 0.00205  |\n",
            "| loss_diff_q3 | 0.00142  |\n",
            "| loss_q0      | 0.0217   |\n",
            "| loss_q1      | 0.00512  |\n",
            "| loss_q2      | 0.00205  |\n",
            "| loss_q3      | 0.00142  |\n",
            "| param_norm   | 228      |\n",
            "| samples      | 3.6e+03  |\n",
            "| step         | 900      |\n",
            "---------------------------\n",
            "---------------------------\n",
            "| grad_norm    | 2.19     |\n",
            "| loss         | 0.00768  |\n",
            "| loss_cal     | 0.0358   |\n",
            "| loss_cal_q0  | 0.0369   |\n",
            "| loss_cal_q1  | 0.0356   |\n",
            "| loss_cal_q2  | 0.0344   |\n",
            "| loss_cal_q3  | 0.0367   |\n",
            "| loss_diff    | 0.00768  |\n",
            "| loss_diff_q0 | 0.0216   |\n",
            "| loss_diff_q1 | 0.00559  |\n",
            "| loss_diff_q2 | 0.00176  |\n",
            "| loss_diff_q3 | 0.00137  |\n",
            "| loss_q0      | 0.0216   |\n",
            "| loss_q1      | 0.00559  |\n",
            "| loss_q2      | 0.00176  |\n",
            "| loss_q3      | 0.00137  |\n",
            "| param_norm   | 228      |\n",
            "| samples      | 4e+03    |\n",
            "| step         | 1e+03    |\n",
            "---------------------------\n",
            "---------------------------\n",
            "| grad_norm    | 2.01     |\n",
            "| loss         | 0.00988  |\n",
            "| loss_cal     | 0.0328   |\n",
            "| loss_cal_q0  | 0.0323   |\n",
            "| loss_cal_q1  | 0.0333   |\n",
            "| loss_cal_q2  | 0.0327   |\n",
            "| loss_cal_q3  | 0.0327   |\n",
            "| loss_diff    | 0.00988  |\n",
            "| loss_diff_q0 | 0.031    |\n",
            "| loss_diff_q1 | 0.00555  |\n",
            "| loss_diff_q2 | 0.00207  |\n",
            "| loss_diff_q3 | 0.00171  |\n",
            "| loss_q0      | 0.031    |\n",
            "| loss_q1      | 0.00555  |\n",
            "| loss_q2      | 0.00207  |\n",
            "| loss_q3      | 0.00171  |\n",
            "| param_norm   | 228      |\n",
            "| samples      | 4.4e+03  |\n",
            "| step         | 1.1e+03  |\n",
            "---------------------------\n",
            "---------------------------\n",
            "| grad_norm    | 2.02     |\n",
            "| loss         | 0.00806  |\n",
            "| loss_cal     | 0.0314   |\n",
            "| loss_cal_q0  | 0.0317   |\n",
            "| loss_cal_q1  | 0.0307   |\n",
            "| loss_cal_q2  | 0.0335   |\n",
            "| loss_cal_q3  | 0.0301   |\n",
            "| loss_diff    | 0.00806  |\n",
            "| loss_diff_q0 | 0.0236   |\n",
            "| loss_diff_q1 | 0.00498  |\n",
            "| loss_diff_q2 | 0.00188  |\n",
            "| loss_diff_q3 | 0.00125  |\n",
            "| loss_q0      | 0.0236   |\n",
            "| loss_q1      | 0.00498  |\n",
            "| loss_q2      | 0.00188  |\n",
            "| loss_q3      | 0.00125  |\n",
            "| param_norm   | 228      |\n",
            "| samples      | 4.8e+03  |\n",
            "| step         | 1.2e+03  |\n",
            "---------------------------\n",
            "---------------------------\n",
            "| grad_norm    | 2.07     |\n",
            "| loss         | 0.00715  |\n",
            "| loss_cal     | 0.0306   |\n",
            "| loss_cal_q0  | 0.0293   |\n",
            "| loss_cal_q1  | 0.0332   |\n",
            "| loss_cal_q2  | 0.0304   |\n",
            "| loss_cal_q3  | 0.0286   |\n",
            "| loss_diff    | 0.00715  |\n",
            "| loss_diff_q0 | 0.0204   |\n",
            "| loss_diff_q1 | 0.00515  |\n",
            "| loss_diff_q2 | 0.00172  |\n",
            "| loss_diff_q3 | 0.00128  |\n",
            "| loss_q0      | 0.0204   |\n",
            "| loss_q1      | 0.00515  |\n",
            "| loss_q2      | 0.00172  |\n",
            "| loss_q3      | 0.00128  |\n",
            "| param_norm   | 228      |\n",
            "| samples      | 5.2e+03  |\n",
            "| step         | 1.3e+03  |\n",
            "---------------------------\n",
            "---------------------------\n",
            "| grad_norm    | 2.01     |\n",
            "| loss         | 0.00947  |\n",
            "| loss_cal     | 0.0296   |\n",
            "| loss_cal_q0  | 0.0274   |\n",
            "| loss_cal_q1  | 0.0321   |\n",
            "| loss_cal_q2  | 0.0307   |\n",
            "| loss_cal_q3  | 0.0287   |\n",
            "| loss_diff    | 0.00947  |\n",
            "| loss_diff_q0 | 0.0269   |\n",
            "| loss_diff_q1 | 0.00494  |\n",
            "| loss_diff_q2 | 0.00217  |\n",
            "| loss_diff_q3 | 0.00149  |\n",
            "| loss_q0      | 0.0269   |\n",
            "| loss_q1      | 0.00494  |\n",
            "| loss_q2      | 0.00217  |\n",
            "| loss_q3      | 0.00149  |\n",
            "| param_norm   | 228      |\n",
            "| samples      | 5.6e+03  |\n",
            "| step         | 1.4e+03  |\n",
            "---------------------------\n",
            "---------------------------\n",
            "| grad_norm    | 2.03     |\n",
            "| loss         | 0.00681  |\n",
            "| loss_cal     | 0.0299   |\n",
            "| loss_cal_q0  | 0.0307   |\n",
            "| loss_cal_q1  | 0.0276   |\n",
            "| loss_cal_q2  | 0.0294   |\n",
            "| loss_cal_q3  | 0.0326   |\n",
            "| loss_diff    | 0.00681  |\n",
            "| loss_diff_q0 | 0.0211   |\n",
            "| loss_diff_q1 | 0.00404  |\n",
            "| loss_diff_q2 | 0.00146  |\n",
            "| loss_diff_q3 | 0.000939 |\n",
            "| loss_q0      | 0.0211   |\n",
            "| loss_q1      | 0.00404  |\n",
            "| loss_q2      | 0.00146  |\n",
            "| loss_q3      | 0.000939 |\n",
            "| param_norm   | 228      |\n",
            "| samples      | 6e+03    |\n",
            "| step         | 1.5e+03  |\n",
            "---------------------------\n",
            "---------------------------\n",
            "| grad_norm    | 1.87     |\n",
            "| loss         | 0.00889  |\n",
            "| loss_cal     | 0.0282   |\n",
            "| loss_cal_q0  | 0.0286   |\n",
            "| loss_cal_q1  | 0.0284   |\n",
            "| loss_cal_q2  | 0.0279   |\n",
            "| loss_cal_q3  | 0.0276   |\n",
            "| loss_diff    | 0.00889  |\n",
            "| loss_diff_q0 | 0.0262   |\n",
            "| loss_diff_q1 | 0.00465  |\n",
            "| loss_diff_q2 | 0.00159  |\n",
            "| loss_diff_q3 | 0.00109  |\n",
            "| loss_q0      | 0.0262   |\n",
            "| loss_q1      | 0.00465  |\n",
            "| loss_q2      | 0.00159  |\n",
            "| loss_q3      | 0.00109  |\n",
            "| param_norm   | 228      |\n",
            "| samples      | 6.4e+03  |\n",
            "| step         | 1.6e+03  |\n",
            "---------------------------\n",
            "---------------------------\n",
            "| grad_norm    | 1.8      |\n",
            "| loss         | 0.00956  |\n",
            "| loss_cal     | 0.0271   |\n",
            "| loss_cal_q0  | 0.028    |\n",
            "| loss_cal_q1  | 0.0291   |\n",
            "| loss_cal_q2  | 0.0252   |\n",
            "| loss_cal_q3  | 0.0261   |\n",
            "| loss_diff    | 0.00956  |\n",
            "| loss_diff_q0 | 0.0279   |\n",
            "| loss_diff_q1 | 0.00502  |\n",
            "| loss_diff_q2 | 0.00166  |\n",
            "| loss_diff_q3 | 0.00122  |\n",
            "| loss_q0      | 0.0279   |\n",
            "| loss_q1      | 0.00502  |\n",
            "| loss_q2      | 0.00166  |\n",
            "| loss_q3      | 0.00122  |\n",
            "| param_norm   | 228      |\n",
            "| samples      | 6.8e+03  |\n",
            "| step         | 1.7e+03  |\n",
            "---------------------------\n",
            "---------------------------\n",
            "| grad_norm    | 1.81     |\n",
            "| loss         | 0.00671  |\n",
            "| loss_cal     | 0.026    |\n",
            "| loss_cal_q0  | 0.0264   |\n",
            "| loss_cal_q1  | 0.0257   |\n",
            "| loss_cal_q2  | 0.0257   |\n",
            "| loss_cal_q3  | 0.0262   |\n",
            "| loss_diff    | 0.00671  |\n",
            "| loss_diff_q0 | 0.0164   |\n",
            "| loss_diff_q1 | 0.00412  |\n",
            "| loss_diff_q2 | 0.00133  |\n",
            "| loss_diff_q3 | 0.000876 |\n",
            "| loss_q0      | 0.0164   |\n",
            "| loss_q1      | 0.00412  |\n",
            "| loss_q2      | 0.00133  |\n",
            "| loss_q3      | 0.000876 |\n",
            "| param_norm   | 228      |\n",
            "| samples      | 7.2e+03  |\n",
            "| step         | 1.8e+03  |\n",
            "---------------------------\n",
            "---------------------------\n",
            "| grad_norm    | 1.7      |\n",
            "| loss         | 0.00736  |\n",
            "| loss_cal     | 0.0251   |\n",
            "| loss_cal_q0  | 0.0244   |\n",
            "| loss_cal_q1  | 0.0283   |\n",
            "| loss_cal_q2  | 0.0237   |\n",
            "| loss_cal_q3  | 0.024    |\n",
            "| loss_diff    | 0.00736  |\n",
            "| loss_diff_q0 | 0.0218   |\n",
            "| loss_diff_q1 | 0.00429  |\n",
            "| loss_diff_q2 | 0.00142  |\n",
            "| loss_diff_q3 | 0.00101  |\n",
            "| loss_q0      | 0.0218   |\n",
            "| loss_q1      | 0.00429  |\n",
            "| loss_q2      | 0.00142  |\n",
            "| loss_q3      | 0.00101  |\n",
            "| param_norm   | 228      |\n",
            "| samples      | 7.6e+03  |\n",
            "| step         | 1.9e+03  |\n",
            "---------------------------\n",
            "---------------------------\n",
            "| grad_norm    | 1.8      |\n",
            "| loss         | 0.00438  |\n",
            "| loss_cal     | 0.0254   |\n",
            "| loss_cal_q0  | 0.0278   |\n",
            "| loss_cal_q1  | 0.0239   |\n",
            "| loss_cal_q2  | 0.0239   |\n",
            "| loss_cal_q3  | 0.0259   |\n",
            "| loss_diff    | 0.00438  |\n",
            "| loss_diff_q0 | 0.0127   |\n",
            "| loss_diff_q1 | 0.00382  |\n",
            "| loss_diff_q2 | 0.00123  |\n",
            "| loss_diff_q3 | 0.0007   |\n",
            "| loss_q0      | 0.0127   |\n",
            "| loss_q1      | 0.00382  |\n",
            "| loss_q2      | 0.00123  |\n",
            "| loss_q3      | 0.0007   |\n",
            "| param_norm   | 228      |\n",
            "| samples      | 8e+03    |\n",
            "| step         | 2e+03    |\n",
            "---------------------------\n",
            "---------------------------\n",
            "| grad_norm    | 1.8      |\n",
            "| loss         | 0.00585  |\n",
            "| loss_cal     | 0.0244   |\n",
            "| loss_cal_q0  | 0.0228   |\n",
            "| loss_cal_q1  | 0.0267   |\n",
            "| loss_cal_q2  | 0.0259   |\n",
            "| loss_cal_q3  | 0.0229   |\n",
            "| loss_diff    | 0.00585  |\n",
            "| loss_diff_q0 | 0.016    |\n",
            "| loss_diff_q1 | 0.004    |\n",
            "| loss_diff_q2 | 0.00124  |\n",
            "| loss_diff_q3 | 0.000773 |\n",
            "| loss_q0      | 0.016    |\n",
            "| loss_q1      | 0.004    |\n",
            "| loss_q2      | 0.00124  |\n",
            "| loss_q3      | 0.000773 |\n",
            "| param_norm   | 228      |\n",
            "| samples      | 8.4e+03  |\n",
            "| step         | 2.1e+03  |\n",
            "---------------------------\n",
            "---------------------------\n",
            "| grad_norm    | 1.68     |\n",
            "| loss         | 0.00547  |\n",
            "| loss_cal     | 0.0244   |\n",
            "| loss_cal_q0  | 0.0242   |\n",
            "| loss_cal_q1  | 0.0245   |\n",
            "| loss_cal_q2  | 0.0254   |\n",
            "| loss_cal_q3  | 0.0234   |\n",
            "| loss_diff    | 0.00547  |\n",
            "| loss_diff_q0 | 0.0148   |\n",
            "| loss_diff_q1 | 0.00354  |\n",
            "| loss_diff_q2 | 0.00121  |\n",
            "| loss_diff_q3 | 0.000761 |\n",
            "| loss_q0      | 0.0148   |\n",
            "| loss_q1      | 0.00354  |\n",
            "| loss_q2      | 0.00121  |\n",
            "| loss_q3      | 0.000761 |\n",
            "| param_norm   | 228      |\n",
            "| samples      | 8.8e+03  |\n",
            "| step         | 2.2e+03  |\n",
            "---------------------------\n",
            "---------------------------\n",
            "| grad_norm    | 1.7      |\n",
            "| loss         | 0.0052   |\n",
            "| loss_cal     | 0.0245   |\n",
            "| loss_cal_q0  | 0.0243   |\n",
            "| loss_cal_q1  | 0.0242   |\n",
            "| loss_cal_q2  | 0.0239   |\n",
            "| loss_cal_q3  | 0.025    |\n",
            "| loss_diff    | 0.0052   |\n",
            "| loss_diff_q0 | 0.0176   |\n",
            "| loss_diff_q1 | 0.00345  |\n",
            "| loss_diff_q2 | 0.00112  |\n",
            "| loss_diff_q3 | 0.000703 |\n",
            "| loss_q0      | 0.0176   |\n",
            "| loss_q1      | 0.00345  |\n",
            "| loss_q2      | 0.00112  |\n",
            "| loss_q3      | 0.000703 |\n",
            "| param_norm   | 228      |\n",
            "| samples      | 9.2e+03  |\n",
            "| step         | 2.3e+03  |\n",
            "---------------------------\n",
            "---------------------------\n",
            "| grad_norm    | 1.75     |\n",
            "| loss         | 0.00539  |\n",
            "| loss_cal     | 0.0233   |\n",
            "| loss_cal_q0  | 0.0243   |\n",
            "| loss_cal_q1  | 0.0222   |\n",
            "| loss_cal_q2  | 0.0236   |\n",
            "| loss_cal_q3  | 0.0237   |\n",
            "| loss_diff    | 0.00539  |\n",
            "| loss_diff_q0 | 0.0182   |\n",
            "| loss_diff_q1 | 0.0035   |\n",
            "| loss_diff_q2 | 0.00111  |\n",
            "| loss_diff_q3 | 0.000759 |\n",
            "| loss_q0      | 0.0182   |\n",
            "| loss_q1      | 0.0035   |\n",
            "| loss_q2      | 0.00111  |\n",
            "| loss_q3      | 0.000759 |\n",
            "| param_norm   | 228      |\n",
            "| samples      | 9.6e+03  |\n",
            "| step         | 2.4e+03  |\n",
            "---------------------------\n",
            "---------------------------\n",
            "| grad_norm    | 1.74     |\n",
            "| loss         | 0.00521  |\n",
            "| loss_cal     | 0.0243   |\n",
            "| loss_cal_q0  | 0.0251   |\n",
            "| loss_cal_q1  | 0.0225   |\n",
            "| loss_cal_q2  | 0.0249   |\n",
            "| loss_cal_q3  | 0.0245   |\n",
            "| loss_diff    | 0.00521  |\n",
            "| loss_diff_q0 | 0.0163   |\n",
            "| loss_diff_q1 | 0.00332  |\n",
            "| loss_diff_q2 | 0.00107  |\n",
            "| loss_diff_q3 | 0.000626 |\n",
            "| loss_q0      | 0.0163   |\n",
            "| loss_q1      | 0.00332  |\n",
            "| loss_q2      | 0.00107  |\n",
            "| loss_q3      | 0.000626 |\n",
            "| param_norm   | 228      |\n",
            "| samples      | 1e+04    |\n",
            "| step         | 2.5e+03  |\n",
            "---------------------------\n",
            "---------------------------\n",
            "| grad_norm    | 1.69     |\n",
            "| loss         | 0.00453  |\n",
            "| loss_cal     | 0.0238   |\n",
            "| loss_cal_q0  | 0.0245   |\n",
            "| loss_cal_q1  | 0.0222   |\n",
            "| loss_cal_q2  | 0.0241   |\n",
            "| loss_cal_q3  | 0.0243   |\n",
            "| loss_diff    | 0.00453  |\n",
            "| loss_diff_q0 | 0.0131   |\n",
            "| loss_diff_q1 | 0.00322  |\n",
            "| loss_diff_q2 | 0.001    |\n",
            "| loss_diff_q3 | 0.000591 |\n",
            "| loss_q0      | 0.0131   |\n",
            "| loss_q1      | 0.00322  |\n",
            "| loss_q2      | 0.001    |\n",
            "| loss_q3      | 0.000591 |\n",
            "| param_norm   | 228      |\n",
            "| samples      | 1.04e+04 |\n",
            "| step         | 2.6e+03  |\n",
            "---------------------------\n",
            "---------------------------\n",
            "| grad_norm    | 1.59     |\n",
            "| loss         | 0.00421  |\n",
            "| loss_cal     | 0.0222   |\n",
            "| loss_cal_q0  | 0.022    |\n",
            "| loss_cal_q1  | 0.0209   |\n",
            "| loss_cal_q2  | 0.0239   |\n",
            "| loss_cal_q3  | 0.0222   |\n",
            "| loss_diff    | 0.00421  |\n",
            "| loss_diff_q0 | 0.0119   |\n",
            "| loss_diff_q1 | 0.00338  |\n",
            "| loss_diff_q2 | 0.00101  |\n",
            "| loss_diff_q3 | 0.00055  |\n",
            "| loss_q0      | 0.0119   |\n",
            "| loss_q1      | 0.00338  |\n",
            "| loss_q2      | 0.00101  |\n",
            "| loss_q3      | 0.00055  |\n",
            "| param_norm   | 228      |\n",
            "| samples      | 1.08e+04 |\n",
            "| step         | 2.7e+03  |\n",
            "---------------------------\n",
            "---------------------------\n",
            "| grad_norm    | 1.67     |\n",
            "| loss         | 0.00566  |\n",
            "| loss_cal     | 0.0226   |\n",
            "| loss_cal_q0  | 0.0232   |\n",
            "| loss_cal_q1  | 0.0227   |\n",
            "| loss_cal_q2  | 0.0223   |\n",
            "| loss_cal_q3  | 0.0222   |\n",
            "| loss_diff    | 0.00566  |\n",
            "| loss_diff_q0 | 0.0168   |\n",
            "| loss_diff_q1 | 0.00317  |\n",
            "| loss_diff_q2 | 0.00091  |\n",
            "| loss_diff_q3 | 0.000578 |\n",
            "| loss_q0      | 0.0168   |\n",
            "| loss_q1      | 0.00317  |\n",
            "| loss_q2      | 0.00091  |\n",
            "| loss_q3      | 0.000578 |\n",
            "| param_norm   | 228      |\n",
            "| samples      | 1.12e+04 |\n",
            "| step         | 2.8e+03  |\n",
            "---------------------------\n",
            "---------------------------\n",
            "| grad_norm    | 1.61     |\n",
            "| loss         | 0.00415  |\n",
            "| loss_cal     | 0.0225   |\n",
            "| loss_cal_q0  | 0.0218   |\n",
            "| loss_cal_q1  | 0.0226   |\n",
            "| loss_cal_q2  | 0.0236   |\n",
            "| loss_cal_q3  | 0.0219   |\n",
            "| loss_diff    | 0.00415  |\n",
            "| loss_diff_q0 | 0.0119   |\n",
            "| loss_diff_q1 | 0.00312  |\n",
            "| loss_diff_q2 | 0.000876 |\n",
            "| loss_diff_q3 | 0.000527 |\n",
            "| loss_q0      | 0.0119   |\n",
            "| loss_q1      | 0.00312  |\n",
            "| loss_q2      | 0.000876 |\n",
            "| loss_q3      | 0.000527 |\n",
            "| param_norm   | 228      |\n",
            "| samples      | 1.16e+04 |\n",
            "| step         | 2.9e+03  |\n",
            "---------------------------\n",
            "saving model 0...\n",
            "saving model 0.9999...\n",
            "Saving model to Google Drive...\n",
            "Mounting Google Drive...\n",
            "Error saving model to Google Drive: mount failed\n"
          ]
        },
        {
          "output_type": "stream",
          "name": "stderr",
          "text": [
            "Traceback (most recent call last):\n",
            "  File \"<ipython-input-19-2b4ca40c5158>\", line 114, in save_model_to_drive\n",
            "    drive.mount('/content/drive')\n",
            "  File \"/usr/local/lib/python3.11/dist-packages/google/colab/drive.py\", line 100, in mount\n",
            "    return _mount(\n",
            "           ^^^^^^^\n",
            "  File \"/usr/local/lib/python3.11/dist-packages/google/colab/drive.py\", line 279, in _mount\n",
            "    raise ValueError('mount failed' + extra_reason)\n",
            "ValueError: mount failed\n"
          ]
        },
        {
          "output_type": "stream",
          "name": "stdout",
          "text": [
            "Model could not be saved to Drive, but was saved locally at: /kaggle/working/out/BRATS_model_local.pt\n",
            "You should manually copy this file to persistent storage before the Colab session ends\n"
          ]
        }
      ]
    },
    {
      "cell_type": "code",
      "source": [
        "try:\n",
        "    from google.colab import drive\n",
        "    drive.mount('/content/drive')\n",
        "\n",
        "    # Create a folder in Google Drive\n",
        "    import os\n",
        "    os.makedirs('/content/drive/MyDrive/brats_models', exist_ok=True)\n",
        "\n",
        "    # Copy the model file to Google Drive\n",
        "    os.system('cp /kaggle/working/out/BRATS_model_local.pt /content/drive/MyDrive/brats_models/')\n",
        "\n",
        "    print(\"Model saved to Google Drive at: /content/drive/MyDrive/brats_models/BRATS_model_local.pt\")\n",
        "except:\n",
        "    print(\"This method only works in Google Colab. Please use another method.\")"
      ],
      "metadata": {
        "colab": {
          "base_uri": "https://localhost:8080/"
        },
        "id": "11PHBgPS8Aqd",
        "outputId": "f447e7f6-15d9-4e98-b20b-002a07d844a0"
      },
      "execution_count": null,
      "outputs": [
        {
          "output_type": "stream",
          "name": "stdout",
          "text": [
            "Mounted at /content/drive\n",
            "Model saved to Google Drive at: /content/drive/MyDrive/brats_models/BRATS_model_local.pt\n"
          ]
        }
      ]
    },
    {
      "cell_type": "code",
      "source": [
        "def visualize(img):\n",
        "    _min = img.min()\n",
        "    _max = img.max()\n",
        "    normalized_img = (img - _min)/ (_max - _min)\n",
        "    return normalized_img"
      ],
      "metadata": {
        "id": "QicWQEhJ0cS_"
      },
      "execution_count": null,
      "outputs": []
    },
    {
      "cell_type": "code",
      "source": [
        "def sample():\n",
        "    dist_util.setup_dist(args)\n",
        "    logger.configure(dir=args.out_dir)\n",
        "\n",
        "    # Import necessary modules\n",
        "    import torch\n",
        "    from torch.utils.data import Dataset, DataLoader\n",
        "    import os\n",
        "    import glob\n",
        "    import nibabel as nib\n",
        "    import numpy as np\n",
        "    import matplotlib.pyplot as plt\n",
        "\n",
        "    # Replace the original BRATs dataset loading with your custom loader\n",
        "    if args.data_name == 'ISIC':\n",
        "        tran_list = [transforms.Resize((args.image_size,args.image_size)), transforms.ToTensor(),]\n",
        "        transform_test = transforms.Compose(tran_list)\n",
        "\n",
        "        ds = ISICDataset(args, args.data_dir, transform_test, mode='Test')\n",
        "        args.in_ch = 4\n",
        "    elif args.data_name == 'BRATS':\n",
        "        # Use the custom BraTS dataset loader but only for validation data\n",
        "        logger.log(\"Loading only validation data from BraTS dataset...\")\n",
        "\n",
        "        class CustomBratsValidationDataset(Dataset):\n",
        "            def __init__(self, data_dir, image_size=256):\n",
        "                self.data_dir = data_dir\n",
        "                self.image_size = image_size\n",
        "                self.transform = transforms.Compose([\n",
        "                    transforms.Resize((image_size, image_size)),\n",
        "                    transforms.ToTensor()\n",
        "                ])\n",
        "\n",
        "                print(f\"Scanning {data_dir} for BraTS validation data...\")\n",
        "                # Specifically target validation directory\n",
        "                validation_dir = os.path.join(data_dir, \"validation\")\n",
        "                if not os.path.exists(validation_dir):\n",
        "                    print(f\"Warning: Validation directory not found at {validation_dir}\")\n",
        "                    print(\"Attempting to find validation data in the main directory...\")\n",
        "                    validation_dir = data_dir\n",
        "\n",
        "                all_files = glob.glob(os.path.join(validation_dir, \"**/*.*\"), recursive=True)\n",
        "                print(f\"Found {len(all_files)} total files in validation directory\")\n",
        "\n",
        "                # Group files by patient/case\n",
        "                self.samples = []\n",
        "\n",
        "                for root, dirs, files in os.walk(validation_dir):\n",
        "                    case_files = {}\n",
        "\n",
        "                    for file in files:\n",
        "                        filepath = os.path.join(root, file)\n",
        "                        filename = file.lower()\n",
        "\n",
        "                        # Check if this is a NIfTI file\n",
        "                        if not (filename.endswith('.nii') or filename.endswith('.nii.gz')):\n",
        "                            continue\n",
        "\n",
        "                        # Detect modality from filename\n",
        "                        modality = None\n",
        "                        if 't1ce' in filename or 't1gd' in filename or 't1+c' in filename:\n",
        "                            modality = 't1ce'\n",
        "                        elif 't1.' in filename or '_t1_' in filename:\n",
        "                            modality = 't1'\n",
        "                        elif 't2.' in filename or '_t2_' in filename:\n",
        "                            modality = 't2'\n",
        "                        elif 'flair' in filename:\n",
        "                            modality = 'flair'\n",
        "                        elif 'seg' in filename or 'mask' in filename or 'label' in filename:\n",
        "                            modality = 'seg'\n",
        "\n",
        "                        if modality:\n",
        "                            case_files[modality] = filepath\n",
        "\n",
        "                    # Add to samples if we have at least 3 modalities\n",
        "                    if len(case_files) >= 3:\n",
        "                        self.samples.append(case_files)\n",
        "\n",
        "                print(f\"Found {len(self.samples)} valid BraTS validation cases\")\n",
        "\n",
        "                # Show what modalities each case has\n",
        "                for i, case in enumerate(self.samples[:3]):\n",
        "                    print(f\"Validation case {i+1} has modalities: {list(case.keys())}\")\n",
        "\n",
        "            def __len__(self):\n",
        "                return len(self.samples)\n",
        "\n",
        "            def __getitem__(self, idx):\n",
        "                case = self.samples[idx]\n",
        "\n",
        "                # Initialize input tensor with zeros (4 modalities)\n",
        "                input_tensor = torch.zeros((4, self.image_size, self.image_size))\n",
        "                mask_tensor = torch.zeros((1, self.image_size, self.image_size))\n",
        "\n",
        "                # Map modalities to tensor indices\n",
        "                modality_map = {'t1': 0, 't1ce': 1, 't2': 2, 'flair': 3}\n",
        "\n",
        "                # Load each available modality\n",
        "                for modality, path in case.items():\n",
        "                    if modality in modality_map:\n",
        "                        try:\n",
        "                            # Load NIfTI file\n",
        "                            nii_img = nib.load(path)\n",
        "                            data = nii_img.get_fdata()\n",
        "\n",
        "                            # For simplicity, take a middle slice\n",
        "                            middle_slice = data.shape[2] // 2\n",
        "                            slice_data = data[:, :, middle_slice]\n",
        "\n",
        "                            # Normalize slice\n",
        "                            slice_data = (slice_data - slice_data.min()) / (slice_data.max() - slice_data.min() + 1e-8)\n",
        "\n",
        "                            # Resize to expected dimensions\n",
        "                            slice_tensor = torch.tensor(slice_data).float()\n",
        "                            slice_tensor = transforms.Resize((self.image_size, self.image_size))(slice_tensor.unsqueeze(0)).squeeze(0)\n",
        "\n",
        "                            # Place in the correct channel\n",
        "                            input_tensor[modality_map[modality]] = slice_tensor\n",
        "                        except Exception as e:\n",
        "                            print(f\"Error loading {modality} for case {idx}: {e}\")\n",
        "\n",
        "                    # Load segmentation mask if available\n",
        "                    elif modality == 'seg':\n",
        "                        try:\n",
        "                            nii_img = nib.load(path)\n",
        "                            data = nii_img.get_fdata()\n",
        "\n",
        "                            # Take same middle slice\n",
        "                            middle_slice = data.shape[2] // 2\n",
        "                            mask_data = data[:, :, middle_slice]\n",
        "\n",
        "                            # Binarize mask (any value > 0 is considered part of tumor)\n",
        "                            mask_data = (mask_data > 0).astype(np.float32)\n",
        "\n",
        "                            # Resize to expected dimensions\n",
        "                            mask_tensor = torch.tensor(mask_data).float()\n",
        "                            mask_tensor = transforms.Resize((self.image_size, self.image_size))(mask_tensor.unsqueeze(0))\n",
        "                        except Exception as e:\n",
        "                            print(f\"Error loading segmentation for case {idx}: {e}\")\n",
        "\n",
        "                return input_tensor, mask_tensor, str(case.get('t1', list(case.values())[0]))\n",
        "\n",
        "        # Create validation-specific dataset\n",
        "        ds = CustomBratsValidationDataset(args.data_dir, image_size=args.image_size)\n",
        "        args.in_ch = 5  # Keep the original channel configuration\n",
        "    else:\n",
        "        tran_list = [transforms.Resize((args.image_size,args.image_size)), transforms.ToTensor()]\n",
        "        transform_test = transforms.Compose(tran_list)\n",
        "\n",
        "        ds = CustomDataset(args, args.data_dir, transform_test, mode='Test')\n",
        "        args.in_ch = 4\n",
        "\n",
        "    # Set default values for missing attributes\n",
        "    if not hasattr(args, 'num_samples'):\n",
        "        args.num_samples = 5  # Default to 5 samples if not specified\n",
        "        logger.log(f\"num_samples not specified, defaulting to {args.num_samples}\")\n",
        "\n",
        "    if not hasattr(args, 'num_ensemble'):\n",
        "        args.num_ensemble = 5  # Default to 5 ensemble members if not specified\n",
        "        logger.log(f\"num_ensemble not specified, defaulting to {args.num_ensemble}\")\n",
        "\n",
        "    if not hasattr(args, 'version'):\n",
        "        args.version = 'new'  # Default to 'new' version if not specified\n",
        "        logger.log(f\"version not specified, defaulting to '{args.version}'\")\n",
        "\n",
        "    if not hasattr(args, 'debug'):\n",
        "        args.debug = True  # Default to debug mode being on\n",
        "        logger.log(f\"debug not specified, defaulting to {args.debug}\")\n",
        "\n",
        "    datal = th.utils.data.DataLoader(\n",
        "        ds,\n",
        "        batch_size=args.batch_size,\n",
        "        shuffle=True)\n",
        "    data = iter(datal)\n",
        "\n",
        "    logger.log(\"creating model and diffusion...\")\n",
        "\n",
        "    model, diffusion = create_model_and_diffusion(\n",
        "        **args_to_dict(args, model_and_diffusion_defaults().keys())\n",
        "    )\n",
        "    all_images = []\n",
        "\n",
        "    state_dict = dist_util.load_state_dict(args.model_path, map_location=\"cpu\")\n",
        "\n",
        "    from collections import OrderedDict\n",
        "    new_state_dict = OrderedDict()\n",
        "    for k, v in state_dict.items():\n",
        "        if 'module.' in k:\n",
        "            new_state_dict[k[7:]] = v\n",
        "        else:\n",
        "            new_state_dict = state_dict\n",
        "\n",
        "    model.load_state_dict(new_state_dict)\n",
        "\n",
        "    model.to(dist_util.dev())\n",
        "    if args.use_fp16:\n",
        "        model.convert_to_fp16()\n",
        "    model.eval()\n",
        "\n",
        "    # Use try/except to handle any issues\n",
        "    try:\n",
        "        for _ in range(args.num_samples):\n",
        "            b, m, path = next(data)  # should return an image from the dataloader \"data\"\n",
        "            c = th.randn_like(b[:, :1, ...])\n",
        "            img = th.cat((b, c), dim=1)  # add a noise channel\n",
        "\n",
        "            # Adjust the slice_ID extraction to match the format from your custom loader\n",
        "            if args.data_name == 'ISIC':\n",
        "                slice_ID = path[0].split(\"_\")[-1].split('.')[0]\n",
        "            elif args.data_name == 'BRATS':\n",
        "                # Extract a more simplified ID from the path\n",
        "                # This extracts just the base filename without the extension\n",
        "                slice_ID = os.path.basename(path[0]).split('.')[0]\n",
        "\n",
        "            logger.log(\"sampling...\")\n",
        "\n",
        "            start = th.cuda.Event(enable_timing=True)\n",
        "            end = th.cuda.Event(enable_timing=True)\n",
        "            enslist = []\n",
        "\n",
        "            # Store all predictions for uncertainty calculation\n",
        "            all_predictions = []\n",
        "\n",
        "            for i in range(args.num_ensemble):  # this is for the generation of an ensemble of masks\n",
        "                model_kwargs = {}\n",
        "                start.record()\n",
        "                sample_fn = (\n",
        "                    diffusion.p_sample_loop_known if not args.use_ddim else diffusion.ddim_sample_loop_known\n",
        "                )\n",
        "\n",
        "                sample, x_noisy, org, cal, cal_out = sample_fn(\n",
        "                    model,\n",
        "                    (args.batch_size, 3, args.image_size, args.image_size), img,\n",
        "                    step=args.diffusion_steps,\n",
        "                    clip_denoised=args.clip_denoised,\n",
        "                    model_kwargs=model_kwargs,\n",
        "                )\n",
        "\n",
        "                end.record()\n",
        "                th.cuda.synchronize()\n",
        "                print('time for 1 sample', start.elapsed_time(end))\n",
        "\n",
        "                co = th.tensor(cal_out)\n",
        "\n",
        "                # Store prediction for uncertainty calculation\n",
        "                if args.version == 'new':\n",
        "                    pred = sample[:,-1,:,:]\n",
        "                    enslist.append(pred)\n",
        "                    all_predictions.append(pred)\n",
        "                else:\n",
        "                    enslist.append(co)\n",
        "                    all_predictions.append(co)\n",
        "\n",
        "                if args.debug:\n",
        "                    if args.data_name == 'BRATS':\n",
        "                        # Adjust the debug visualization for your custom loader format\n",
        "                        s = th.tensor(sample)[:,-1,:,:].unsqueeze(1)\n",
        "                        m_tensor = th.tensor(m.to(device='cuda:0'))\n",
        "\n",
        "                        # Make sure m_tensor is the right shape\n",
        "                        if len(m_tensor.shape) == 4:\n",
        "                            m_display = m_tensor[:,0,:,:].unsqueeze(1)\n",
        "                        else:\n",
        "                            m_display = m_tensor  # Assuming it's already [B,1,H,W]\n",
        "\n",
        "                        # Display the 4 modalities from org\n",
        "                        o1 = th.tensor(org)[:,0,:,:].unsqueeze(1)\n",
        "                        o2 = th.tensor(org)[:,1,:,:].unsqueeze(1)\n",
        "                        o3 = th.tensor(org)[:,2,:,:].unsqueeze(1)\n",
        "                        o4 = th.tensor(org)[:,3,:,:].unsqueeze(1)\n",
        "                        c = th.tensor(cal)\n",
        "\n",
        "                        # Normalize for better visualization\n",
        "                        o1_norm = o1/o1.max() if o1.max() > 0 else o1\n",
        "                        o2_norm = o2/o2.max() if o2.max() > 0 else o2\n",
        "                        o3_norm = o3/o3.max() if o3.max() > 0 else o3\n",
        "                        o4_norm = o4/o4.max() if o4.max() > 0 else o4\n",
        "\n",
        "                        tup = (o1_norm, o2_norm, o3_norm, o4_norm, m_display, s, c, co)\n",
        "                        compose = th.cat(tup, 0)\n",
        "                        vutils.save_image(compose, fp=os.path.join(args.out_dir, f\"{slice_ID}_output{i}.png\"), nrow=1, padding=10)\n",
        "\n",
        "                    # Keep the original ISIC visualization code\n",
        "                    elif args.data_name == 'ISIC':\n",
        "                        o = th.tensor(org)[:,:-1,:,:]\n",
        "                        c = th.tensor(cal).repeat(1, 3, 1, 1)\n",
        "\n",
        "                        s = sample[:,-1,:,:]\n",
        "                        b,h,w = s.size()\n",
        "                        ss = s.clone()\n",
        "                        ss = ss.view(s.size(0), -1)\n",
        "                        ss -= ss.min(1, keepdim=True)[0]\n",
        "                        ss /= ss.max(1, keepdim=True)[0]\n",
        "                        ss = ss.view(b, h, w)\n",
        "                        ss = ss.unsqueeze(1).repeat(1, 3, 1, 1)\n",
        "\n",
        "                        tup = (ss, o, c)\n",
        "                        compose = th.cat(tup, 0)\n",
        "                        vutils.save_image(compose, fp=os.path.join(args.out_dir, f\"{slice_ID}_output{i}.png\"), nrow=1, padding=10)\n",
        "\n",
        "            # Create uncertainty map\n",
        "            if len(all_predictions) > 1:\n",
        "                # Stack all predictions\n",
        "                stacked_preds = th.stack(all_predictions, dim=0)\n",
        "\n",
        "                # Mean prediction across all samples\n",
        "                mean_pred = th.mean(stacked_preds, dim=0)\n",
        "\n",
        "                # Calculate pixel-wise standard deviation as uncertainty measure\n",
        "                uncertainty_map = th.std(stacked_preds, dim=0)\n",
        "\n",
        "                # Normalize uncertainty map for visualization\n",
        "                b, h, w = uncertainty_map.size()\n",
        "                norm_uncertainty = uncertainty_map.clone()\n",
        "                norm_uncertainty = norm_uncertainty.view(b, -1)\n",
        "                norm_uncertainty -= norm_uncertainty.min(1, keepdim=True)[0]\n",
        "                norm_uncertainty /= norm_uncertainty.max(1, keepdim=True)[0]\n",
        "                norm_uncertainty = norm_uncertainty.view(b, h, w)\n",
        "\n",
        "                # Save uncertainty map\n",
        "                uncertainty_vis = norm_uncertainty.unsqueeze(1).repeat(1, 3, 1, 1)\n",
        "                vutils.save_image(uncertainty_vis, fp=os.path.join(args.out_dir, f\"{slice_ID}_uncertainty_map.png\"), nrow=1, padding=10)\n",
        "\n",
        "                # Save colormap version of uncertainty\n",
        "                import matplotlib.pyplot as plt\n",
        "                import matplotlib.cm as cm\n",
        "\n",
        "                for b_idx in range(b):\n",
        "                    unc_np = norm_uncertainty[b_idx].cpu().numpy()\n",
        "                    plt.figure(figsize=(10, 8))\n",
        "                    plt.imshow(unc_np, cmap='jet')\n",
        "                    plt.colorbar(label='Normalized Uncertainty')\n",
        "                    plt.title(f'Uncertainty Map - {slice_ID}')\n",
        "                    plt.axis('off')\n",
        "                    plt.tight_layout()\n",
        "                    plt.savefig(os.path.join(args.out_dir, f\"{slice_ID}_uncertainty_heatmap.png\"), dpi=150)\n",
        "                    plt.close()\n",
        "\n",
        "                # Create overlay of uncertainty on input image\n",
        "                if args.data_name == 'BRATS':\n",
        "                    # Use T1CE (contrast enhanced) as background\n",
        "                    background = th.tensor(org)[:,1,:,:].unsqueeze(1)\n",
        "\n",
        "                    # Normalize background for better visualization\n",
        "                    b, c, h, w = background.size()\n",
        "                    norm_bg = background.clone()\n",
        "                    norm_bg = norm_bg.view(b, c, -1)\n",
        "                    norm_bg -= norm_bg.min(2, keepdim=True)[0]\n",
        "                    norm_bg /= norm_bg.max(2, keepdim=True)[0]\n",
        "                    norm_bg = norm_bg.view(b, c, h, w)\n",
        "\n",
        "                    # Create RGB version of background\n",
        "                    bg_rgb = norm_bg.repeat(1, 3, 1, 1)\n",
        "\n",
        "                    # Convert to numpy for matplotlib overlay\n",
        "                    for b_idx in range(b):\n",
        "                        # Get background image and uncertainty map for this batch item\n",
        "                        bg_np = bg_rgb[b_idx].permute(1, 2, 0).cpu().numpy()\n",
        "                        unc_np = norm_uncertainty[b_idx].cpu().numpy()\n",
        "\n",
        "                        # Create overlay figure\n",
        "                        plt.figure(figsize=(12, 10))\n",
        "                        plt.imshow(bg_np, cmap='gray')\n",
        "                        plt.imshow(unc_np, cmap='jet', alpha=0.5)\n",
        "                        plt.colorbar(label='Uncertainty')\n",
        "                        plt.title(f'Uncertainty Overlay - {slice_ID}')\n",
        "                        plt.axis('off')\n",
        "                        plt.tight_layout()\n",
        "                        plt.savefig(os.path.join(args.out_dir, f\"{slice_ID}_uncertainty_overlay.png\"), dpi=150)\n",
        "                        plt.close()\n",
        "\n",
        "            # Check that staple function exists before calling it\n",
        "            if 'staple' in globals():\n",
        "                # Generate the ensemble result\n",
        "                ensres = staple(th.stack(enslist, dim=0)).squeeze(0)\n",
        "                vutils.save_image(ensres, fp=os.path.join(args.out_dir, f\"{slice_ID}_output_ens.png\"), nrow=1, padding=10)\n",
        "            else:\n",
        "                # If staple function doesn't exist, use average instead\n",
        "                logger.log(\"staple function not found, using simple average for ensemble\")\n",
        "                ensres = th.mean(th.stack(enslist, dim=0), dim=0).squeeze(0)\n",
        "                vutils.save_image(ensres, fp=os.path.join(args.out_dir, f\"{slice_ID}_output_ens_avg.png\"), nrow=1, padding=10)\n",
        "\n",
        "    except Exception as e:\n",
        "        logger.log(f\"Error during sampling: {e}\")\n",
        "        import traceback\n",
        "        traceback.print_exc()\n",
        "\n",
        "    return args.out_dir"
      ],
      "metadata": {
        "id": "iplaPx4WMLDj"
      },
      "execution_count": null,
      "outputs": []
    },
    {
      "cell_type": "code",
      "source": [
        "output_dir = sample()"
      ],
      "metadata": {
        "colab": {
          "base_uri": "https://localhost:8080/"
        },
        "id": "8qxdfJAPMPWs",
        "outputId": "f933b5c2-62c9-4029-f3ec-49fd57972751"
      },
      "execution_count": null,
      "outputs": [
        {
          "metadata": {
            "tags": null
          },
          "name": "stdout",
          "output_type": "stream",
          "text": [
            "Logging to /kaggle/working/out\n",
            "Loading only validation data from BraTS dataset...\n",
            "Scanning /kaggle/working/brats for BraTS validation data...\n",
            "Found 369 total files in validation directory\n",
            "Found 74 valid BraTS validation cases\n",
            "Validation case 1 has modalities: ['t1', 't1ce', 'seg', 'flair', 't2']\n",
            "Validation case 2 has modalities: ['t2', 'flair', 't1ce', 't1', 'seg']\n",
            "Validation case 3 has modalities: ['t1ce', 't2', 'flair', 't1', 'seg']\n",
            "creating model and diffusion...\n",
            "sampling...\n",
            "no dpm-solver\n",
            "time for 1 sample 76489.8046875\n",
            "no dpm-solver\n"
          ]
        },
        {
          "metadata": {
            "tags": null
          },
          "name": "stderr",
          "output_type": "stream",
          "text": [
            "<ipython-input-35-f7a884cddbda>:243: UserWarning: To copy construct from a tensor, it is recommended to use sourceTensor.clone().detach() or sourceTensor.clone().detach().requires_grad_(True), rather than torch.tensor(sourceTensor).\n",
            "  co = th.tensor(cal_out)\n",
            "<ipython-input-35-f7a884cddbda>:257: UserWarning: To copy construct from a tensor, it is recommended to use sourceTensor.clone().detach() or sourceTensor.clone().detach().requires_grad_(True), rather than torch.tensor(sourceTensor).\n",
            "  s = th.tensor(sample)[:,-1,:,:].unsqueeze(1)\n",
            "<ipython-input-35-f7a884cddbda>:258: UserWarning: To copy construct from a tensor, it is recommended to use sourceTensor.clone().detach() or sourceTensor.clone().detach().requires_grad_(True), rather than torch.tensor(sourceTensor).\n",
            "  m_tensor = th.tensor(m.to(device='cuda:0'))\n",
            "<ipython-input-35-f7a884cddbda>:267: UserWarning: To copy construct from a tensor, it is recommended to use sourceTensor.clone().detach() or sourceTensor.clone().detach().requires_grad_(True), rather than torch.tensor(sourceTensor).\n",
            "  o1 = th.tensor(org)[:,0,:,:].unsqueeze(1)\n",
            "<ipython-input-35-f7a884cddbda>:268: UserWarning: To copy construct from a tensor, it is recommended to use sourceTensor.clone().detach() or sourceTensor.clone().detach().requires_grad_(True), rather than torch.tensor(sourceTensor).\n",
            "  o2 = th.tensor(org)[:,1,:,:].unsqueeze(1)\n",
            "<ipython-input-35-f7a884cddbda>:269: UserWarning: To copy construct from a tensor, it is recommended to use sourceTensor.clone().detach() or sourceTensor.clone().detach().requires_grad_(True), rather than torch.tensor(sourceTensor).\n",
            "  o3 = th.tensor(org)[:,2,:,:].unsqueeze(1)\n",
            "<ipython-input-35-f7a884cddbda>:270: UserWarning: To copy construct from a tensor, it is recommended to use sourceTensor.clone().detach() or sourceTensor.clone().detach().requires_grad_(True), rather than torch.tensor(sourceTensor).\n",
            "  o4 = th.tensor(org)[:,3,:,:].unsqueeze(1)\n",
            "<ipython-input-35-f7a884cddbda>:271: UserWarning: To copy construct from a tensor, it is recommended to use sourceTensor.clone().detach() or sourceTensor.clone().detach().requires_grad_(True), rather than torch.tensor(sourceTensor).\n",
            "  c = th.tensor(cal)\n"
          ]
        },
        {
          "metadata": {
            "tags": null
          },
          "name": "stdout",
          "output_type": "stream",
          "text": [
            "time for 1 sample 76055.1484375\n",
            "no dpm-solver\n",
            "time for 1 sample 76076.5859375\n",
            "no dpm-solver\n",
            "time for 1 sample 76155.4375\n",
            "no dpm-solver\n",
            "time for 1 sample 76096.0625\n"
          ]
        },
        {
          "metadata": {
            "tags": null
          },
          "name": "stderr",
          "output_type": "stream",
          "text": [
            "<ipython-input-35-f7a884cddbda>:342: UserWarning: To copy construct from a tensor, it is recommended to use sourceTensor.clone().detach() or sourceTensor.clone().detach().requires_grad_(True), rather than torch.tensor(sourceTensor).\n",
            "  background = th.tensor(org)[:,1,:,:].unsqueeze(1)\n"
          ]
        },
        {
          "output_type": "stream",
          "name": "stdout",
          "text": [
            "sampling...\n",
            "no dpm-solver\n",
            "time for 1 sample 76306.2890625\n",
            "no dpm-solver\n",
            "time for 1 sample 76037.1875\n",
            "no dpm-solver\n",
            "time for 1 sample 76035.203125\n",
            "no dpm-solver\n",
            "time for 1 sample 75995.3671875\n",
            "no dpm-solver\n",
            "time for 1 sample 76073.7109375\n",
            "sampling...\n",
            "no dpm-solver\n",
            "time for 1 sample 76218.0\n",
            "no dpm-solver\n",
            "time for 1 sample 75917.921875\n",
            "no dpm-solver\n",
            "time for 1 sample 75841.203125\n",
            "no dpm-solver\n",
            "time for 1 sample 76032.4453125\n",
            "no dpm-solver\n",
            "time for 1 sample 76009.6953125\n",
            "sampling...\n",
            "no dpm-solver\n",
            "time for 1 sample 76151.9609375\n",
            "no dpm-solver\n",
            "time for 1 sample 75934.8515625\n",
            "no dpm-solver\n",
            "time for 1 sample 75901.9609375\n",
            "no dpm-solver\n",
            "time for 1 sample 75962.484375\n",
            "no dpm-solver\n",
            "time for 1 sample 76044.609375\n",
            "sampling...\n",
            "no dpm-solver\n",
            "time for 1 sample 76201.9453125\n",
            "no dpm-solver\n",
            "time for 1 sample 75946.1875\n",
            "no dpm-solver\n",
            "time for 1 sample 75886.0859375\n",
            "no dpm-solver\n",
            "time for 1 sample 75871.8515625\n",
            "no dpm-solver\n",
            "time for 1 sample 75964.734375\n"
          ]
        }
      ]
    },
    {
      "cell_type": "markdown",
      "source": [
        "CURRENT VERSION"
      ],
      "metadata": {
        "id": "wikkZDm9gQLR"
      }
    },
    {
      "cell_type": "code",
      "source": [
        "def sample():\n",
        "    dist_util.setup_dist(args)\n",
        "    logger.configure(dir=args.out_dir)\n",
        "\n",
        "    # Import necessary modules\n",
        "    import torch\n",
        "    from torch.utils.data import Dataset, DataLoader\n",
        "    import os\n",
        "    import glob\n",
        "    import nibabel as nib\n",
        "    import numpy as np\n",
        "    import matplotlib.pyplot as plt\n",
        "\n",
        "    # Replace the original BRATs dataset loading with your custom loader\n",
        "    if args.data_name == 'ISIC':\n",
        "        tran_list = [transforms.Resize((args.image_size,args.image_size)), transforms.ToTensor(),]\n",
        "        transform_test = transforms.Compose(tran_list)\n",
        "\n",
        "        ds = ISICDataset(args, args.data_dir, transform_test, mode='Test')\n",
        "        args.in_ch = 4\n",
        "    elif args.data_name == 'BRATS':\n",
        "        # Use the custom BraTS dataset loader but only for validation data\n",
        "        logger.log(\"Loading only validation data from BraTS dataset...\")\n",
        "\n",
        "        class CustomBratsValidationDataset(Dataset):\n",
        "            def __init__(self, data_dir, image_size=256):\n",
        "                self.data_dir = data_dir\n",
        "                self.image_size = image_size\n",
        "                self.transform = transforms.Compose([\n",
        "                    transforms.Resize((image_size, image_size)),\n",
        "                    transforms.ToTensor()\n",
        "                ])\n",
        "\n",
        "                print(f\"Scanning {data_dir} for BraTS validation data...\")\n",
        "                # Specifically target validation directory\n",
        "                validation_dir = os.path.join(data_dir, \"validation\")\n",
        "                if not os.path.exists(validation_dir):\n",
        "                    print(f\"Warning: Validation directory not found at {validation_dir}\")\n",
        "                    print(\"Attempting to find validation data in the main directory...\")\n",
        "                    validation_dir = data_dir\n",
        "\n",
        "                all_files = glob.glob(os.path.join(validation_dir, \"**/*.*\"), recursive=True)\n",
        "                print(f\"Found {len(all_files)} total files in validation directory\")\n",
        "\n",
        "                # Group files by patient/case\n",
        "                self.samples = []\n",
        "\n",
        "                for root, dirs, files in os.walk(validation_dir):\n",
        "                    case_files = {}\n",
        "\n",
        "                    for file in files:\n",
        "                        filepath = os.path.join(root, file)\n",
        "                        filename = file.lower()\n",
        "\n",
        "                        # Check if this is a NIfTI file\n",
        "                        if not (filename.endswith('.nii') or filename.endswith('.nii.gz')):\n",
        "                            continue\n",
        "\n",
        "                        # Detect modality from filename\n",
        "                        modality = None\n",
        "                        if 't1ce' in filename or 't1gd' in filename or 't1+c' in filename:\n",
        "                            modality = 't1ce'\n",
        "                        elif 't1.' in filename or '_t1_' in filename:\n",
        "                            modality = 't1'\n",
        "                        elif 't2.' in filename or '_t2_' in filename:\n",
        "                            modality = 't2'\n",
        "                        elif 'flair' in filename:\n",
        "                            modality = 'flair'\n",
        "                        elif 'seg' in filename or 'mask' in filename or 'label' in filename:\n",
        "                            modality = 'seg'\n",
        "\n",
        "                        if modality:\n",
        "                            case_files[modality] = filepath\n",
        "\n",
        "                    # Add to samples if we have at least 3 modalities\n",
        "                    if len(case_files) >= 3:\n",
        "                        self.samples.append(case_files)\n",
        "\n",
        "                print(f\"Found {len(self.samples)} valid BraTS validation cases\")\n",
        "\n",
        "                # Show what modalities each case has\n",
        "                for i, case in enumerate(self.samples[:3]):\n",
        "                    print(f\"Validation case {i+1} has modalities: {list(case.keys())}\")\n",
        "\n",
        "            def __len__(self):\n",
        "                return len(self.samples)\n",
        "\n",
        "            def __getitem__(self, idx):\n",
        "                case = self.samples[idx]\n",
        "\n",
        "                # Initialize input tensor with zeros (4 modalities)\n",
        "                input_tensor = torch.zeros((4, self.image_size, self.image_size))\n",
        "                mask_tensor = torch.zeros((1, self.image_size, self.image_size))\n",
        "\n",
        "                # Map modalities to tensor indices\n",
        "                modality_map = {'t1': 0, 't1ce': 1, 't2': 2, 'flair': 3}\n",
        "\n",
        "                # Load each available modality\n",
        "                for modality, path in case.items():\n",
        "                    if modality in modality_map:\n",
        "                        try:\n",
        "                            # Load NIfTI file\n",
        "                            nii_img = nib.load(path)\n",
        "                            data = nii_img.get_fdata()\n",
        "\n",
        "                            # For simplicity, take a middle slice\n",
        "                            middle_slice = data.shape[2] // 2\n",
        "                            slice_data = data[:, :, middle_slice]\n",
        "\n",
        "                            # Normalize slice\n",
        "                            slice_data = (slice_data - slice_data.min()) / (slice_data.max() - slice_data.min() + 1e-8)\n",
        "\n",
        "                            # Resize to expected dimensions\n",
        "                            slice_tensor = torch.tensor(slice_data).float()\n",
        "                            slice_tensor = transforms.Resize((self.image_size, self.image_size))(slice_tensor.unsqueeze(0)).squeeze(0)\n",
        "\n",
        "                            # Place in the correct channel\n",
        "                            input_tensor[modality_map[modality]] = slice_tensor\n",
        "                        except Exception as e:\n",
        "                            print(f\"Error loading {modality} for case {idx}: {e}\")\n",
        "\n",
        "                    # Load segmentation mask if available\n",
        "                    elif modality == 'seg':\n",
        "                        try:\n",
        "                            nii_img = nib.load(path)\n",
        "                            data = nii_img.get_fdata()\n",
        "\n",
        "                            # Take same middle slice\n",
        "                            middle_slice = data.shape[2] // 2\n",
        "                            mask_data = data[:, :, middle_slice]\n",
        "\n",
        "                            # Binarize mask (any value > 0 is considered part of tumor)\n",
        "                            mask_data = (mask_data > 0).astype(np.float32)\n",
        "\n",
        "                            # Resize to expected dimensions\n",
        "                            mask_tensor = torch.tensor(mask_data).float()\n",
        "                            mask_tensor = transforms.Resize((self.image_size, self.image_size))(mask_tensor.unsqueeze(0))\n",
        "                        except Exception as e:\n",
        "                            print(f\"Error loading segmentation for case {idx}: {e}\")\n",
        "\n",
        "                return input_tensor, mask_tensor, str(case.get('t1', list(case.values())[0]))\n",
        "\n",
        "        # Create validation-specific dataset\n",
        "        ds = CustomBratsValidationDataset(args.data_dir, image_size=args.image_size)\n",
        "        args.in_ch = 5  # Keep the original channel configuration\n",
        "    else:\n",
        "        tran_list = [transforms.Resize((args.image_size,args.image_size)), transforms.ToTensor()]\n",
        "        transform_test = transforms.Compose(tran_list)\n",
        "\n",
        "        ds = CustomDataset(args, args.data_dir, transform_test, mode='Test')\n",
        "        args.in_ch = 4\n",
        "\n",
        "    # Set default values for missing attributes\n",
        "    if not hasattr(args, 'num_samples'):\n",
        "        args.num_samples = 5  # Default to 5 samples if not specified\n",
        "        logger.log(f\"num_samples not specified, defaulting to {args.num_samples}\")\n",
        "\n",
        "    if not hasattr(args, 'num_ensemble'):\n",
        "        args.num_ensemble = 5  # Default to 5 ensemble members if not specified\n",
        "        logger.log(f\"num_ensemble not specified, defaulting to {args.num_ensemble}\")\n",
        "\n",
        "    if not hasattr(args, 'version'):\n",
        "        args.version = 'new'  # Default to 'new' version if not specified\n",
        "        logger.log(f\"version not specified, defaulting to '{args.version}'\")\n",
        "\n",
        "    if not hasattr(args, 'debug'):\n",
        "        args.debug = True  # Default to debug mode being on\n",
        "        logger.log(f\"debug not specified, defaulting to {args.debug}\")\n",
        "\n",
        "    datal = th.utils.data.DataLoader(\n",
        "        ds,\n",
        "        batch_size=args.batch_size,\n",
        "        shuffle=True)\n",
        "    data = iter(datal)\n",
        "\n",
        "    logger.log(\"creating model and diffusion...\")\n",
        "\n",
        "    model, diffusion = create_model_and_diffusion(\n",
        "        **args_to_dict(args, model_and_diffusion_defaults().keys())\n",
        "    )\n",
        "    all_images = []\n",
        "\n",
        "    # Use the specific model path provided\n",
        "    model_path = \"/kaggle/working/out/BRATS_model_local.pt\"\n",
        "    logger.log(f\"Loading model from {model_path}...\")\n",
        "\n",
        "    state_dict = dist_util.load_state_dict(model_path, map_location=\"cpu\")\n",
        "\n",
        "    from collections import OrderedDict\n",
        "    new_state_dict = OrderedDict()\n",
        "    for k, v in state_dict.items():\n",
        "        if 'module.' in k:\n",
        "            new_state_dict[k[7:]] = v\n",
        "        else:\n",
        "            new_state_dict = state_dict\n",
        "\n",
        "    model.load_state_dict(new_state_dict)\n",
        "\n",
        "    model.to(dist_util.dev())\n",
        "    if args.use_fp16:\n",
        "        model.convert_to_fp16()\n",
        "    model.eval()\n",
        "\n",
        "    # Create subdirectories for each MRI modality\n",
        "    if args.data_name == 'BRATS':\n",
        "        os.makedirs(os.path.join(args.out_dir, \"t1\"), exist_ok=True)\n",
        "        os.makedirs(os.path.join(args.out_dir, \"t1ce\"), exist_ok=True)\n",
        "        os.makedirs(os.path.join(args.out_dir, \"t2\"), exist_ok=True)\n",
        "        os.makedirs(os.path.join(args.out_dir, \"flair\"), exist_ok=True)\n",
        "        os.makedirs(os.path.join(args.out_dir, \"mask\"), exist_ok=True)\n",
        "        os.makedirs(os.path.join(args.out_dir, \"prediction\"), exist_ok=True)\n",
        "        os.makedirs(os.path.join(args.out_dir, \"calibration\"), exist_ok=True)\n",
        "        os.makedirs(os.path.join(args.out_dir, \"uncertainty\"), exist_ok=True)\n",
        "\n",
        "    # Use try/except to handle any issues\n",
        "    try:\n",
        "        for _ in range(args.num_samples):\n",
        "            b, m, path = next(data)  # should return an image from the dataloader \"data\"\n",
        "            c = th.randn_like(b[:, :1, ...])\n",
        "            img = th.cat((b, c), dim=1)  # add a noise channel\n",
        "\n",
        "            # Adjust the slice_ID extraction to match the format from your custom loader\n",
        "            if args.data_name == 'ISIC':\n",
        "                slice_ID = path[0].split(\"_\")[-1].split('.')[0]\n",
        "            elif args.data_name == 'BRATS':\n",
        "                # Extract a more simplified ID from the path\n",
        "                # This extracts just the base filename without the extension\n",
        "                slice_ID = os.path.basename(path[0]).split('.')[0]\n",
        "\n",
        "            logger.log(\"sampling...\")\n",
        "\n",
        "            start = th.cuda.Event(enable_timing=True)\n",
        "            end = th.cuda.Event(enable_timing=True)\n",
        "            enslist = []\n",
        "\n",
        "            # Store all predictions for uncertainty calculation\n",
        "            all_predictions = []\n",
        "\n",
        "            for i in range(args.num_ensemble):  # this is for the generation of an ensemble of masks\n",
        "                model_kwargs = {}\n",
        "                start.record()\n",
        "                sample_fn = (\n",
        "                    diffusion.p_sample_loop_known if not args.use_ddim else diffusion.ddim_sample_loop_known\n",
        "                )\n",
        "\n",
        "                sample, x_noisy, org, cal, cal_out = sample_fn(\n",
        "                    model,\n",
        "                    (args.batch_size, 3, args.image_size, args.image_size), img,\n",
        "                    step=args.diffusion_steps,\n",
        "                    clip_denoised=args.clip_denoised,\n",
        "                    model_kwargs=model_kwargs,\n",
        "                )\n",
        "\n",
        "                end.record()\n",
        "                th.cuda.synchronize()\n",
        "                print('time for 1 sample', start.elapsed_time(end))\n",
        "\n",
        "                co = th.tensor(cal_out)\n",
        "\n",
        "                # Store prediction for uncertainty calculation\n",
        "                if args.version == 'new':\n",
        "                    pred = sample[:,-1,:,:]\n",
        "                    enslist.append(pred)\n",
        "                    all_predictions.append(pred)\n",
        "                else:\n",
        "                    enslist.append(co)\n",
        "                    all_predictions.append(co)\n",
        "\n",
        "                if args.debug:\n",
        "                    if args.data_name == 'BRATS':\n",
        "                        # Adjust the debug visualization for your custom loader format\n",
        "                        s = th.tensor(sample)[:,-1,:,:].unsqueeze(1)\n",
        "                        m_tensor = th.tensor(m.to(device='cuda:0'))\n",
        "\n",
        "                        # Make sure m_tensor is the right shape\n",
        "                        if len(m_tensor.shape) == 4:\n",
        "                            m_display = m_tensor[:,0,:,:].unsqueeze(1)\n",
        "                        else:\n",
        "                            m_display = m_tensor  # Assuming it's already [B,1,H,W]\n",
        "\n",
        "                        # Get the 4 modalities from org\n",
        "                        o1 = th.tensor(org)[:,0,:,:].unsqueeze(1)  # T1\n",
        "                        o2 = th.tensor(org)[:,1,:,:].unsqueeze(1)  # T1CE\n",
        "                        o3 = th.tensor(org)[:,2,:,:].unsqueeze(1)  # T2\n",
        "                        o4 = th.tensor(org)[:,3,:,:].unsqueeze(1)  # FLAIR\n",
        "                        c = th.tensor(cal)\n",
        "\n",
        "                        # Normalize for better visualization\n",
        "                        o1_norm = o1/o1.max() if o1.max() > 0 else o1\n",
        "                        o2_norm = o2/o2.max() if o2.max() > 0 else o2\n",
        "                        o3_norm = o3/o3.max() if o3.max() > 0 else o3\n",
        "                        o4_norm = o4/o4.max() if o4.max() > 0 else o4\n",
        "\n",
        "                        # Save each modality as a separate file\n",
        "                        vutils.save_image(o1_norm, fp=os.path.join(args.out_dir, \"t1\", f\"{slice_ID}_t1_{i}.png\"), nrow=1, padding=10)\n",
        "                        vutils.save_image(o2_norm, fp=os.path.join(args.out_dir, \"t1ce\", f\"{slice_ID}_t1ce_{i}.png\"), nrow=1, padding=10)\n",
        "                        vutils.save_image(o3_norm, fp=os.path.join(args.out_dir, \"t2\", f\"{slice_ID}_t2_{i}.png\"), nrow=1, padding=10)\n",
        "                        vutils.save_image(o4_norm, fp=os.path.join(args.out_dir, \"flair\", f\"{slice_ID}_flair_{i}.png\"), nrow=1, padding=10)\n",
        "                        vutils.save_image(m_display, fp=os.path.join(args.out_dir, \"mask\", f\"{slice_ID}_mask_{i}.png\"), nrow=1, padding=10)\n",
        "                        vutils.save_image(s, fp=os.path.join(args.out_dir, \"prediction\", f\"{slice_ID}_pred_{i}.png\"), nrow=1, padding=10)\n",
        "                        vutils.save_image(c, fp=os.path.join(args.out_dir, \"calibration\", f\"{slice_ID}_cal_{i}.png\"), nrow=1, padding=10)\n",
        "                        vutils.save_image(co, fp=os.path.join(args.out_dir, \"calibration\", f\"{slice_ID}_calout_{i}.png\"), nrow=1, padding=10)\n",
        "\n",
        "                    # Keep the original ISIC visualization code\n",
        "                    elif args.data_name == 'ISIC':\n",
        "                        o = th.tensor(org)[:,:-1,:,:]\n",
        "                        c = th.tensor(cal).repeat(1, 3, 1, 1)\n",
        "\n",
        "                        s = sample[:,-1,:,:]\n",
        "                        b,h,w = s.size()\n",
        "                        ss = s.clone()\n",
        "                        ss = ss.view(s.size(0), -1)\n",
        "                        ss -= ss.min(1, keepdim=True)[0]\n",
        "                        ss /= ss.max(1, keepdim=True)[0]\n",
        "                        ss = ss.view(b, h, w)\n",
        "                        ss = ss.unsqueeze(1).repeat(1, 3, 1, 1)\n",
        "\n",
        "                        tup = (ss, o, c)\n",
        "                        compose = th.cat(tup, 0)\n",
        "                        vutils.save_image(compose, fp=os.path.join(args.out_dir, f\"{slice_ID}_output{i}.png\"), nrow=1, padding=10)\n",
        "\n",
        "            # Create uncertainty map (Keep this part unchanged)\n",
        "            if len(all_predictions) > 1:\n",
        "                # Stack all predictions\n",
        "                stacked_preds = th.stack(all_predictions, dim=0)\n",
        "\n",
        "                # Mean prediction across all samples\n",
        "                mean_pred = th.mean(stacked_preds, dim=0)\n",
        "\n",
        "                # Calculate pixel-wise standard deviation as uncertainty measure\n",
        "                uncertainty_map = th.std(stacked_preds, dim=0)\n",
        "\n",
        "                # Normalize uncertainty map for visualization\n",
        "                b, h, w = uncertainty_map.size()\n",
        "                norm_uncertainty = uncertainty_map.clone()\n",
        "                norm_uncertainty = norm_uncertainty.view(b, -1)\n",
        "                norm_uncertainty -= norm_uncertainty.min(1, keepdim=True)[0]\n",
        "                norm_uncertainty /= norm_uncertainty.max(1, keepdim=True)[0]\n",
        "                norm_uncertainty = norm_uncertainty.view(b, h, w)\n",
        "\n",
        "                # Save uncertainty map\n",
        "                uncertainty_vis = norm_uncertainty.unsqueeze(1).repeat(1, 3, 1, 1)\n",
        "                vutils.save_image(uncertainty_vis, fp=os.path.join(args.out_dir, \"uncertainty\", f\"{slice_ID}_uncertainty_map.png\"), nrow=1, padding=10)\n",
        "\n",
        "                # Save colormap version of uncertainty\n",
        "                import matplotlib.pyplot as plt\n",
        "                import matplotlib.cm as cm\n",
        "\n",
        "                for b_idx in range(b):\n",
        "                    unc_np = norm_uncertainty[b_idx].cpu().numpy()\n",
        "                    plt.figure(figsize=(10, 8))\n",
        "                    plt.imshow(unc_np, cmap='jet')\n",
        "                    plt.colorbar(label='Normalized Uncertainty')\n",
        "                    plt.title(f'Uncertainty Map - {slice_ID}')\n",
        "                    plt.axis('off')\n",
        "                    plt.tight_layout()\n",
        "                    plt.savefig(os.path.join(args.out_dir, \"uncertainty\", f\"{slice_ID}_uncertainty_heatmap.png\"), dpi=150)\n",
        "                    plt.close()\n",
        "\n",
        "                # Create overlay of uncertainty on input image\n",
        "                if args.data_name == 'BRATS':\n",
        "                    # Use T1CE (contrast enhanced) as background\n",
        "                    background = th.tensor(org)[:,1,:,:].unsqueeze(1)\n",
        "\n",
        "                    # Normalize background for better visualization\n",
        "                    b, c, h, w = background.size()\n",
        "                    norm_bg = background.clone()\n",
        "                    norm_bg = norm_bg.view(b, c, -1)\n",
        "                    norm_bg -= norm_bg.min(2, keepdim=True)[0]\n",
        "                    norm_bg /= norm_bg.max(2, keepdim=True)[0]\n",
        "                    norm_bg = norm_bg.view(b, c, h, w)\n",
        "\n",
        "                    # Create RGB version of background\n",
        "                    bg_rgb = norm_bg.repeat(1, 3, 1, 1)\n",
        "\n",
        "                    # Convert to numpy for matplotlib overlay\n",
        "                    for b_idx in range(b):\n",
        "                        # Get background image and uncertainty map for this batch item\n",
        "                        bg_np = bg_rgb[b_idx].permute(1, 2, 0).cpu().numpy()\n",
        "                        unc_np = norm_uncertainty[b_idx].cpu().numpy()\n",
        "\n",
        "                        # Create overlay figure\n",
        "                        plt.figure(figsize=(12, 10))\n",
        "                        plt.imshow(bg_np, cmap='gray')\n",
        "                        plt.imshow(unc_np, cmap='jet', alpha=0.5)\n",
        "                        plt.colorbar(label='Uncertainty')\n",
        "                        plt.title(f'Uncertainty Overlay - {slice_ID}')\n",
        "                        plt.axis('off')\n",
        "                        plt.tight_layout()\n",
        "                        plt.savefig(os.path.join(args.out_dir, \"uncertainty\", f\"{slice_ID}_uncertainty_overlay.png\"), dpi=150)\n",
        "                        plt.close()\n",
        "\n",
        "            # Check that staple function exists before calling it\n",
        "            if 'staple' in globals():\n",
        "                # Generate the ensemble result\n",
        "                ensres = staple(th.stack(enslist, dim=0)).squeeze(0)\n",
        "                vutils.save_image(ensres, fp=os.path.join(args.out_dir, \"prediction\", f\"{slice_ID}_output_ens.png\"), nrow=1, padding=10)\n",
        "            else:\n",
        "                # If staple function doesn't exist, use average instead\n",
        "                logger.log(\"staple function not found, using simple average for ensemble\")\n",
        "                ensres = th.mean(th.stack(enslist, dim=0), dim=0).squeeze(0)\n",
        "                vutils.save_image(ensres, fp=os.path.join(args.out_dir, \"prediction\", f\"{slice_ID}_output_ens_avg.png\"), nrow=1, padding=10)\n",
        "\n",
        "    except Exception as e:\n",
        "        logger.log(f\"Error during sampling: {e}\")\n",
        "        import traceback\n",
        "        traceback.print_exc()\n",
        "\n",
        "    return args.out_dir"
      ],
      "metadata": {
        "id": "L7hr9BdFb4rm"
      },
      "execution_count": null,
      "outputs": []
    },
    {
      "cell_type": "code",
      "source": [
        "output = sample()"
      ],
      "metadata": {
        "colab": {
          "base_uri": "https://localhost:8080/"
        },
        "id": "o3GOo3ABb6FK",
        "outputId": "d60e3b69-6a6f-4595-ade6-1a989b0f1c13"
      },
      "execution_count": 38,
      "outputs": [
        {
          "metadata": {
            "tags": null
          },
          "name": "stdout",
          "output_type": "stream",
          "text": [
            "Logging to /kaggle/working/out\n",
            "Loading only validation data from BraTS dataset...\n",
            "Scanning /kaggle/working/brats for BraTS validation data...\n",
            "Found 369 total files in validation directory\n",
            "Found 74 valid BraTS validation cases\n",
            "Validation case 1 has modalities: ['t1', 't1ce', 'seg', 'flair', 't2']\n",
            "Validation case 2 has modalities: ['t2', 'flair', 't1ce', 't1', 'seg']\n",
            "Validation case 3 has modalities: ['t1ce', 't2', 'flair', 't1', 'seg']\n",
            "creating model and diffusion...\n",
            "Loading model from /kaggle/working/out/BRATS_model_local.pt...\n",
            "sampling...\n",
            "no dpm-solver\n",
            "time for 1 sample 72735.2109375\n",
            "no dpm-solver\n"
          ]
        },
        {
          "metadata": {
            "tags": null
          },
          "name": "stderr",
          "output_type": "stream",
          "text": [
            "<ipython-input-37-9b603c4146b7>:258: UserWarning: To copy construct from a tensor, it is recommended to use sourceTensor.clone().detach() or sourceTensor.clone().detach().requires_grad_(True), rather than torch.tensor(sourceTensor).\n",
            "  co = th.tensor(cal_out)\n",
            "<ipython-input-37-9b603c4146b7>:272: UserWarning: To copy construct from a tensor, it is recommended to use sourceTensor.clone().detach() or sourceTensor.clone().detach().requires_grad_(True), rather than torch.tensor(sourceTensor).\n",
            "  s = th.tensor(sample)[:,-1,:,:].unsqueeze(1)\n",
            "<ipython-input-37-9b603c4146b7>:273: UserWarning: To copy construct from a tensor, it is recommended to use sourceTensor.clone().detach() or sourceTensor.clone().detach().requires_grad_(True), rather than torch.tensor(sourceTensor).\n",
            "  m_tensor = th.tensor(m.to(device='cuda:0'))\n",
            "<ipython-input-37-9b603c4146b7>:282: UserWarning: To copy construct from a tensor, it is recommended to use sourceTensor.clone().detach() or sourceTensor.clone().detach().requires_grad_(True), rather than torch.tensor(sourceTensor).\n",
            "  o1 = th.tensor(org)[:,0,:,:].unsqueeze(1)  # T1\n",
            "<ipython-input-37-9b603c4146b7>:283: UserWarning: To copy construct from a tensor, it is recommended to use sourceTensor.clone().detach() or sourceTensor.clone().detach().requires_grad_(True), rather than torch.tensor(sourceTensor).\n",
            "  o2 = th.tensor(org)[:,1,:,:].unsqueeze(1)  # T1CE\n",
            "<ipython-input-37-9b603c4146b7>:284: UserWarning: To copy construct from a tensor, it is recommended to use sourceTensor.clone().detach() or sourceTensor.clone().detach().requires_grad_(True), rather than torch.tensor(sourceTensor).\n",
            "  o3 = th.tensor(org)[:,2,:,:].unsqueeze(1)  # T2\n",
            "<ipython-input-37-9b603c4146b7>:285: UserWarning: To copy construct from a tensor, it is recommended to use sourceTensor.clone().detach() or sourceTensor.clone().detach().requires_grad_(True), rather than torch.tensor(sourceTensor).\n",
            "  o4 = th.tensor(org)[:,3,:,:].unsqueeze(1)  # FLAIR\n",
            "<ipython-input-37-9b603c4146b7>:286: UserWarning: To copy construct from a tensor, it is recommended to use sourceTensor.clone().detach() or sourceTensor.clone().detach().requires_grad_(True), rather than torch.tensor(sourceTensor).\n",
            "  c = th.tensor(cal)\n"
          ]
        },
        {
          "metadata": {
            "tags": null
          },
          "name": "stdout",
          "output_type": "stream",
          "text": [
            "time for 1 sample 75228.6328125\n",
            "no dpm-solver\n",
            "time for 1 sample 74400.2734375\n",
            "no dpm-solver\n",
            "time for 1 sample 74276.8515625\n",
            "no dpm-solver\n",
            "time for 1 sample 74240.359375\n"
          ]
        },
        {
          "metadata": {
            "tags": null
          },
          "name": "stderr",
          "output_type": "stream",
          "text": [
            "<ipython-input-37-9b603c4146b7>:363: UserWarning: To copy construct from a tensor, it is recommended to use sourceTensor.clone().detach() or sourceTensor.clone().detach().requires_grad_(True), rather than torch.tensor(sourceTensor).\n",
            "  background = th.tensor(org)[:,1,:,:].unsqueeze(1)\n"
          ]
        },
        {
          "output_type": "stream",
          "name": "stdout",
          "text": [
            "sampling...\n",
            "no dpm-solver\n",
            "time for 1 sample 74582.4375\n",
            "no dpm-solver\n",
            "time for 1 sample 74225.5078125\n",
            "no dpm-solver\n",
            "time for 1 sample 74374.046875\n",
            "no dpm-solver\n",
            "time for 1 sample 74252.6328125\n",
            "no dpm-solver\n",
            "time for 1 sample 74182.546875\n",
            "sampling...\n",
            "no dpm-solver\n",
            "time for 1 sample 74376.296875\n",
            "no dpm-solver\n",
            "time for 1 sample 74280.2265625\n",
            "no dpm-solver\n",
            "time for 1 sample 74263.0546875\n",
            "no dpm-solver\n",
            "time for 1 sample 74222.921875\n",
            "no dpm-solver\n",
            "time for 1 sample 74284.53125\n",
            "sampling...\n",
            "no dpm-solver\n",
            "time for 1 sample 74451.203125\n",
            "no dpm-solver\n",
            "time for 1 sample 74275.8984375\n",
            "no dpm-solver\n",
            "time for 1 sample 74132.625\n",
            "no dpm-solver\n",
            "time for 1 sample 74197.53125\n",
            "no dpm-solver\n",
            "time for 1 sample 74226.2578125\n",
            "sampling...\n",
            "no dpm-solver\n",
            "time for 1 sample 74325.59375\n",
            "no dpm-solver\n",
            "time for 1 sample 74242.34375\n",
            "no dpm-solver\n",
            "time for 1 sample 74206.5703125\n",
            "no dpm-solver\n",
            "time for 1 sample 74262.015625\n",
            "no dpm-solver\n",
            "time for 1 sample 74173.28125\n",
            "sampling...\n",
            "no dpm-solver\n",
            "time for 1 sample 74324.234375\n",
            "no dpm-solver\n",
            "time for 1 sample 74166.1484375\n",
            "no dpm-solver\n",
            "time for 1 sample 74195.09375\n",
            "no dpm-solver\n",
            "time for 1 sample 74190.0078125\n",
            "no dpm-solver\n",
            "time for 1 sample 74135.6640625\n",
            "sampling...\n",
            "no dpm-solver\n",
            "time for 1 sample 74298.9609375\n",
            "no dpm-solver\n",
            "time for 1 sample 74126.3359375\n",
            "no dpm-solver\n",
            "time for 1 sample 74086.2265625\n",
            "no dpm-solver\n",
            "time for 1 sample 74034.8515625\n",
            "no dpm-solver\n",
            "time for 1 sample 74099.171875\n",
            "sampling...\n",
            "no dpm-solver\n",
            "time for 1 sample 74228.8671875\n",
            "no dpm-solver\n",
            "time for 1 sample 74019.453125\n",
            "no dpm-solver\n",
            "time for 1 sample 74098.3671875\n",
            "no dpm-solver\n",
            "time for 1 sample 73945.3984375\n",
            "no dpm-solver\n",
            "time for 1 sample 74049.8203125\n",
            "sampling...\n",
            "no dpm-solver\n",
            "time for 1 sample 74168.5859375\n",
            "no dpm-solver\n",
            "time for 1 sample 74307.625\n",
            "no dpm-solver\n",
            "time for 1 sample 74290.125\n",
            "no dpm-solver\n",
            "time for 1 sample 74285.1015625\n",
            "no dpm-solver\n",
            "time for 1 sample 74127.7734375\n",
            "sampling...\n",
            "no dpm-solver\n",
            "time for 1 sample 74309.8984375\n",
            "no dpm-solver\n",
            "time for 1 sample 74116.4765625\n",
            "no dpm-solver\n",
            "time for 1 sample 74109.703125\n",
            "no dpm-solver\n",
            "time for 1 sample 74149.765625\n",
            "no dpm-solver\n",
            "time for 1 sample 74097.3125\n",
            "sampling...\n",
            "no dpm-solver\n",
            "time for 1 sample 74197.53125\n",
            "no dpm-solver\n",
            "time for 1 sample 74177.8046875\n",
            "no dpm-solver\n",
            "time for 1 sample 74182.578125\n",
            "no dpm-solver\n",
            "time for 1 sample 74163.171875\n",
            "no dpm-solver\n",
            "time for 1 sample 74204.8828125\n",
            "sampling...\n",
            "no dpm-solver\n",
            "time for 1 sample 74315.953125\n",
            "no dpm-solver\n",
            "time for 1 sample 74140.7109375\n",
            "no dpm-solver\n",
            "time for 1 sample 74072.6640625\n",
            "no dpm-solver\n",
            "time for 1 sample 74165.1171875\n",
            "no dpm-solver\n",
            "time for 1 sample 74119.515625\n",
            "sampling...\n",
            "no dpm-solver\n",
            "time for 1 sample 74265.5390625\n",
            "no dpm-solver\n",
            "time for 1 sample 74141.1875\n",
            "no dpm-solver\n",
            "time for 1 sample 74080.3359375\n",
            "no dpm-solver\n",
            "time for 1 sample 74324.328125\n",
            "no dpm-solver\n",
            "time for 1 sample 74335.875\n",
            "sampling...\n",
            "no dpm-solver\n",
            "time for 1 sample 74439.5\n",
            "no dpm-solver\n",
            "time for 1 sample 74039.8046875\n",
            "no dpm-solver\n",
            "time for 1 sample 73967.625\n",
            "no dpm-solver\n",
            "time for 1 sample 74143.78125\n",
            "no dpm-solver\n",
            "time for 1 sample 74091.1796875\n",
            "sampling...\n",
            "no dpm-solver\n",
            "time for 1 sample 74320.296875\n",
            "no dpm-solver\n",
            "time for 1 sample 74097.171875\n",
            "no dpm-solver\n",
            "time for 1 sample 74195.4453125\n",
            "no dpm-solver\n",
            "time for 1 sample 74073.09375\n",
            "no dpm-solver\n",
            "time for 1 sample 74104.7734375\n"
          ]
        }
      ]
    },
    {
      "cell_type": "code",
      "source": [
        "!ls /kaggle/working/out/uncertainty"
      ],
      "metadata": {
        "colab": {
          "base_uri": "https://localhost:8080/"
        },
        "id": "Uh4T4E_KVDgf",
        "outputId": "8cf42bfa-11d9-4b5b-c414-9d454f270080"
      },
      "execution_count": 54,
      "outputs": [
        {
          "output_type": "stream",
          "name": "stdout",
          "text": [
            "brats_val_299_t1_123_w_uncertainty_heatmap.png\n",
            "brats_val_299_t1_123_w_uncertainty_map.png\n",
            "brats_val_299_t1_123_w_uncertainty_overlay.png\n",
            "brats_val_300_t1_123_w_uncertainty_heatmap.png\n",
            "brats_val_300_t1_123_w_uncertainty_map.png\n",
            "brats_val_300_t1_123_w_uncertainty_overlay.png\n",
            "brats_val_303_t1_123_w_uncertainty_heatmap.png\n",
            "brats_val_303_t1_123_w_uncertainty_map.png\n",
            "brats_val_303_t1_123_w_uncertainty_overlay.png\n",
            "brats_val_311_t1_123_w_uncertainty_heatmap.png\n",
            "brats_val_311_t1_123_w_uncertainty_map.png\n",
            "brats_val_311_t1_123_w_uncertainty_overlay.png\n",
            "brats_val_314_t1_123_w_uncertainty_heatmap.png\n",
            "brats_val_314_t1_123_w_uncertainty_map.png\n",
            "brats_val_314_t1_123_w_uncertainty_overlay.png\n",
            "brats_val_315_t1_123_w_uncertainty_heatmap.png\n",
            "brats_val_315_t1_123_w_uncertainty_map.png\n",
            "brats_val_315_t1_123_w_uncertainty_overlay.png\n",
            "brats_val_316_t1_123_w_uncertainty_heatmap.png\n",
            "brats_val_316_t1_123_w_uncertainty_map.png\n",
            "brats_val_316_t1_123_w_uncertainty_overlay.png\n",
            "brats_val_318_t1_123_w_uncertainty_heatmap.png\n",
            "brats_val_318_t1_123_w_uncertainty_map.png\n",
            "brats_val_318_t1_123_w_uncertainty_overlay.png\n",
            "brats_val_322_t1_123_w_uncertainty_heatmap.png\n",
            "brats_val_322_t1_123_w_uncertainty_map.png\n",
            "brats_val_322_t1_123_w_uncertainty_overlay.png\n",
            "brats_val_323_t1_123_w_uncertainty_heatmap.png\n",
            "brats_val_323_t1_123_w_uncertainty_map.png\n",
            "brats_val_323_t1_123_w_uncertainty_overlay.png\n",
            "brats_val_329_t1_123_w_uncertainty_heatmap.png\n",
            "brats_val_329_t1_123_w_uncertainty_map.png\n",
            "brats_val_329_t1_123_w_uncertainty_overlay.png\n",
            "brats_val_331_t1_123_w_uncertainty_heatmap.png\n",
            "brats_val_331_t1_123_w_uncertainty_map.png\n",
            "brats_val_331_t1_123_w_uncertainty_overlay.png\n",
            "brats_val_336_t1_123_w_uncertainty_heatmap.png\n",
            "brats_val_336_t1_123_w_uncertainty_map.png\n",
            "brats_val_336_t1_123_w_uncertainty_overlay.png\n",
            "brats_val_353_t1_123_w_uncertainty_heatmap.png\n",
            "brats_val_353_t1_123_w_uncertainty_map.png\n",
            "brats_val_353_t1_123_w_uncertainty_overlay.png\n",
            "brats_val_367_t1_123_w_uncertainty_heatmap.png\n",
            "brats_val_367_t1_123_w_uncertainty_map.png\n",
            "brats_val_367_t1_123_w_uncertainty_overlay.png\n"
          ]
        }
      ]
    },
    {
      "cell_type": "code",
      "source": [],
      "metadata": {
        "id": "9j8CwCBXUe7-"
      },
      "execution_count": null,
      "outputs": []
    },
    {
      "cell_type": "code",
      "source": [
        "display(Image.open('/kaggle/working/out/uncertainty/brats_val_323_t1_123_w_uncertainty_overlay.png'))"
      ],
      "metadata": {
        "colab": {
          "base_uri": "https://localhost:8080/",
          "height": 720
        },
        "id": "0q7jObp6VNYa",
        "outputId": "c8fb3266-ee00-432a-a1c6-d4f3bf6fbcc7"
      },
      "execution_count": 59,
      "outputs": [
        {
          "output_type": "display_data",
          "data": {
            "text/plain": [
              "<PIL.PngImagePlugin.PngImageFile image mode=RGBA size=1800x1500>"
            ],
            "image/png": "[encoded data removed]"
          },
          "metadata": {}
        }
      ]
    },
    {
      "cell_type": "code",
      "source": [
        "# Mount Google Drive\n",
        "from google.colab import drive\n",
        "drive.mount('/content/drive')\n",
        "\n",
        "# Create directory in Google Drive to store the files\n",
        "import os\n",
        "output_dir = '/content/drive/MyDrive/brats_model_output_2'\n",
        "os.makedirs(output_dir, exist_ok=True)\n",
        "\n",
        "# Copy all files from /kaggle/working/out/ to Google Drive\n",
        "import shutil\n",
        "import glob\n",
        "\n",
        "# Get list of all files in the output directory\n",
        "files = glob.glob('/kaggle/working/out/*')\n",
        "print(f\"Found {len(files)} files to copy\")\n",
        "\n",
        "# Copy each file to Google Drive\n",
        "for file in files:\n",
        "    filename = os.path.basename(file)\n",
        "    destination = os.path.join(output_dir, filename)\n",
        "\n",
        "    if os.path.isfile(file):\n",
        "        shutil.copy2(file, destination)\n",
        "        print(f\"Copied {filename} to Google Drive\")\n",
        "    elif os.path.isdir(file):\n",
        "        # If it's a directory, create it and copy contents\n",
        "        dir_dest = os.path.join(output_dir, filename)\n",
        "        shutil.copytree(file, dir_dest, dirs_exist_ok=True)\n",
        "        print(f\"Copied directory {filename} to Google Drive\")\n",
        "\n",
        "print(f\"All files copied to {output_dir}\")"
      ],
      "metadata": {
        "colab": {
          "base_uri": "https://localhost:8080/"
        },
        "id": "Hgsrzlt7VixW",
        "outputId": "bd33c0c0-e222-46d2-b039-9c2c8e1a5d9c"
      },
      "execution_count": 60,
      "outputs": [
        {
          "output_type": "stream",
          "name": "stdout",
          "text": [
            "Drive already mounted at /content/drive; to attempt to forcibly remount, call drive.mount(\"/content/drive\", force_remount=True).\n",
            "Found 35 files to copy\n",
            "Copied directory t1_images to Google Drive\n",
            "Copied directory uncertainty to Google Drive\n",
            "Copied directory flair to Google Drive\n",
            "Copied brats_val_301_t1_123_w_original_output3.png to Google Drive\n",
            "Copied directory t1ce_images to Google Drive\n",
            "Copied directory side_by_side to Google Drive\n",
            "Copied savedmodel000000.pt to Google Drive\n",
            "Copied directory mask to Google Drive\n",
            "Copied brats_val_307_t1_123_w_original_output1.png to Google Drive\n",
            "Copied brats_val_307_t1_123_w_original_output3.png to Google Drive\n",
            "Copied directory prediction to Google Drive\n",
            "Copied directory ground_truth to Google Drive\n",
            "Copied directory t1ce to Google Drive\n",
            "Copied brats_val_307_t1_123_w_original_output4.png to Google Drive\n",
            "Copied directory t1 to Google Drive\n",
            "Copied emasavedmodel_0.9999_000000.pt to Google Drive\n",
            "Copied brats_val_301_t1_123_w_original_output0.png to Google Drive\n",
            "Copied directory calibration to Google Drive\n",
            "Copied directory predictions to Google Drive\n",
            "Copied optsavedmodel000000.pt to Google Drive\n",
            "Copied directory t2 to Google Drive\n",
            "Copied directory t2_images to Google Drive\n",
            "Copied optsavedmodel003000.pt to Google Drive\n",
            "Copied savedmodel003000.pt to Google Drive\n",
            "Copied brats_val_307_t1_123_w_original_output0.png to Google Drive\n",
            "Copied brats_val_307_t1_123_w_original_output2.png to Google Drive\n",
            "Copied directory flair_images to Google Drive\n",
            "Copied progress.csv to Google Drive\n",
            "Copied BRATS_model_local.pt to Google Drive\n",
            "Copied brats_val_301_t1_123_w_original_output1.png to Google Drive\n",
            "Copied directory ensemble to Google Drive\n",
            "Copied log.txt to Google Drive\n",
            "Copied brats_val_301_t1_123_w_original_output2.png to Google Drive\n",
            "Copied emasavedmodel_0.9999_003000.pt to Google Drive\n",
            "Copied brats_val_301_t1_123_w_original_output4.png to Google Drive\n",
            "All files copied to /content/drive/MyDrive/brats_model_output_2\n"
          ]
        }
      ]
    },
    {
      "cell_type": "code",
      "execution_count": null,
      "metadata": {
        "id": "udrPkrJqL9_k"
      },
      "outputs": [],
      "source": [
        "%cd /kaggle/working/out\n",
        "from IPython.display import FileLink\n",
        "FileLink('/kaggle/working/out/optsavedmodel000000.pt')"
      ]
    },
    {
      "cell_type": "code",
      "execution_count": null,
      "metadata": {
        "id": "B_3tkd7lMAMR"
      },
      "outputs": [],
      "source": [
        "!tar -cf models.tar /kaggle/working/out"
      ]
    },
    {
      "cell_type": "code",
      "execution_count": null,
      "metadata": {
        "id": "MLMGVTlMMBrp"
      },
      "outputs": [],
      "source": [
        "!ls /kaggle/working/out"
      ]
    }
  ],
  "metadata": {
    "accelerator": "GPU",
    "colab": {
      "gpuType": "T4",
      "provenance": []
    },
    "kernelspec": {
      "display_name": "Python 3",
      "name": "python3"
    },
    "language_info": {
      "name": "python"
    }
  },
  "nbformat": 4,
  "nbformat_minor": 0
}