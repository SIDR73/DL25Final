{
  "cells": [
    {
      "cell_type": "code",
      "execution_count": 3,
      "metadata": {
        "colab": {
          "base_uri": "https://localhost:8080/"
        },
        "id": "pjHp7SysJf-f",
        "outputId": "274bfe5f-9be5-43c5-c493-44662130adfc"
      },
      "outputs": [
        {
          "output_type": "stream",
          "name": "stdout",
          "text": [
            "Path to dataset files: /kaggle/input/brats20-dataset-training-validation\n"
          ]
        }
      ],
      "source": [
        "import kagglehub\n",
        "\n",
        "# Download latest version\n",
        "path = kagglehub.dataset_download(\"awsaf49/brats20-dataset-training-validation\")\n",
        "\n",
        "print(\"Path to dataset files:\", path)"
      ]
    },
    {
      "cell_type": "code",
      "source": [
        "!ls /kaggle/input/brats20-dataset-training-validation"
      ],
      "metadata": {
        "colab": {
          "base_uri": "https://localhost:8080/"
        },
        "id": "GlnXI3086s3Y",
        "outputId": "ca496b21-9f46-49d4-b169-47b5d2eb4cec"
      },
      "execution_count": 4,
      "outputs": [
        {
          "output_type": "stream",
          "name": "stdout",
          "text": [
            "BraTS2020_TrainingData\tBraTS2020_ValidationData\n"
          ]
        }
      ]
    },
    {
      "cell_type": "code",
      "execution_count": 5,
      "metadata": {
        "colab": {
          "base_uri": "https://localhost:8080/"
        },
        "id": "IysWIYJdLvzA",
        "outputId": "765ff38c-7b5e-4adf-8dd8-a797ea394347"
      },
      "outputs": [
        {
          "output_type": "stream",
          "name": "stdout",
          "text": [
            "Cloning into 'MedSegDiff'...\n",
            "remote: Enumerating objects: 716, done.\u001b[K\n",
            "remote: Counting objects: 100% (397/397), done.\u001b[K\n",
            "remote: Compressing objects: 100% (149/149), done.\u001b[K\n",
            "remote: Total 716 (delta 340), reused 248 (delta 248), pack-reused 319 (from 2)\u001b[K\n",
            "Receiving objects: 100% (716/716), 3.90 MiB | 24.68 MiB/s, done.\n",
            "Resolving deltas: 100% (396/396), done.\n"
          ]
        }
      ],
      "source": [
        "!git clone https://github.com/WuJunde/MedSegDiff.git\n",
        "!mv MedSegDiff/* ./"
      ]
    },
    {
      "cell_type": "code",
      "execution_count": 6,
      "metadata": {
        "colab": {
          "base_uri": "https://localhost:8080/"
        },
        "id": "ExdmMQJmKbpQ",
        "outputId": "83fbb594-67af-4073-872f-9467d76cebe6"
      },
      "outputs": [
        {
          "output_type": "stream",
          "name": "stdout",
          "text": [
            "mkdir: cannot create directory ‘/kaggle’: File exists\n"
          ]
        }
      ],
      "source": [
        "!mkdir /kaggle"
      ]
    },
    {
      "cell_type": "code",
      "execution_count": 7,
      "metadata": {
        "id": "kqDGAVprODFj"
      },
      "outputs": [],
      "source": [
        "!mkdir /kaggle/working"
      ]
    },
    {
      "cell_type": "code",
      "execution_count": 8,
      "metadata": {
        "id": "wPgkhLO1ODi0"
      },
      "outputs": [],
      "source": [
        "!mkdir /kaggle/working/out"
      ]
    },
    {
      "cell_type": "code",
      "execution_count": 9,
      "metadata": {
        "id": "fj_l69maOFoc"
      },
      "outputs": [],
      "source": [
        "!mkdir /kaggle/working/isic"
      ]
    },
    {
      "cell_type": "code",
      "source": [
        "!mkdir /kaggle/working/brats"
      ],
      "metadata": {
        "id": "WTcfugGI5F3v"
      },
      "execution_count": 10,
      "outputs": []
    },
    {
      "cell_type": "code",
      "source": [
        "import os\n",
        "import glob\n",
        "import shutil\n",
        "from tqdm import tqdm\n",
        "\n",
        "def setup_brats_patient_structure():\n",
        "    # Create the main directories\n",
        "    base_dir = \"/kaggle/working/brats\"\n",
        "    training_dir = os.path.join(base_dir, \"training\")\n",
        "    validation_dir = os.path.join(base_dir, \"validation\")\n",
        "\n",
        "    # Create directories if they don't exist\n",
        "    os.makedirs(training_dir, exist_ok=True)\n",
        "    os.makedirs(validation_dir, exist_ok=True)\n",
        "\n",
        "    # Source directory with the copied BraTS data\n",
        "    source_dir = path + \"/BraTS2020_TrainingData/MICCAI_BraTS2020_TrainingData\"\n",
        "\n",
        "    # Get all patient folders\n",
        "    patient_folders = sorted(glob.glob(os.path.join(source_dir, \"BraTS20_Training_*\")))\n",
        "\n",
        "    # Use 80% for training, 20% for validation\n",
        "    split_idx = int(len(patient_folders) * 0.8)\n",
        "    training_patients = patient_folders[:split_idx]\n",
        "    validation_patients = patient_folders[split_idx:]\n",
        "\n",
        "    # Process training patients\n",
        "    for i, patient_folder in enumerate(tqdm(training_patients, desc=\"Processing training data\")):\n",
        "        patient_id = os.path.basename(patient_folder).split('_')[-1]\n",
        "        # Format patient_dir with a fixed width zero-padded number\n",
        "        patient_dir = os.path.join(training_dir, f\"patient_{i+1:02d}\")\n",
        "        os.makedirs(patient_dir, exist_ok=True)\n",
        "\n",
        "        # Find all nifti files for this patient\n",
        "        try:\n",
        "            # List all files in the directory\n",
        "            files = os.listdir(patient_folder)\n",
        "\n",
        "            # Filter to get only the nifti files\n",
        "            nifti_files = [f for f in files if f.endswith('.nii')]\n",
        "\n",
        "            if not nifti_files:\n",
        "                print(f\"No .nii files found in {patient_folder}. Skipping.\")\n",
        "                continue\n",
        "\n",
        "            # Process each modality\n",
        "            for file in nifti_files:\n",
        "                # Determine modality from filename\n",
        "                if '_t1.' in file.lower():\n",
        "                    modality = 't1'\n",
        "                elif '_t1ce.' in file.lower():\n",
        "                    modality = 't1ce'\n",
        "                elif '_t2.' in file.lower():\n",
        "                    modality = 't2'\n",
        "                elif '_flair.' in file.lower():\n",
        "                    modality = 'flair'\n",
        "                elif '_seg.' in file.lower():\n",
        "                    modality = 'seg'\n",
        "                else:\n",
        "                    print(f\"Unknown modality in file {file}. Skipping.\")\n",
        "                    continue\n",
        "\n",
        "                # Create new filename - fix the string formatting here\n",
        "                # Use string format with zfill for zero-padding\n",
        "                new_file = f\"brats_train_{patient_id.zfill(3)}_{modality}_123_w.nii\"\n",
        "\n",
        "                # Copy and rename the file\n",
        "                shutil.copy(\n",
        "                    os.path.join(patient_folder, file),\n",
        "                    os.path.join(patient_dir, new_file)\n",
        "                )\n",
        "\n",
        "            print(f\"Processed patient {patient_id} to {patient_dir}\")\n",
        "        except Exception as e:\n",
        "            print(f\"Error processing {patient_folder}: {e}\")\n",
        "\n",
        "    # Process validation patients\n",
        "    for i, patient_folder in enumerate(tqdm(validation_patients, desc=\"Processing validation data\")):\n",
        "        patient_id = os.path.basename(patient_folder).split('_')[-1]\n",
        "        # Format patient_dir with a fixed width zero-padded number\n",
        "        patient_dir = os.path.join(validation_dir, f\"patient_{i+1:02d}\")\n",
        "        os.makedirs(patient_dir, exist_ok=True)\n",
        "\n",
        "        # Find all nifti files for this patient\n",
        "        try:\n",
        "            # List all files in the directory\n",
        "            files = os.listdir(patient_folder)\n",
        "\n",
        "            # Filter to get only the nifti files\n",
        "            nifti_files = [f for f in files if f.endswith('.nii')]\n",
        "\n",
        "            if not nifti_files:\n",
        "                print(f\"No .nii files found in {patient_folder}. Skipping.\")\n",
        "                continue\n",
        "\n",
        "            # Process each modality\n",
        "            for file in nifti_files:\n",
        "                # Determine modality from filename\n",
        "                if '_t1.' in file.lower():\n",
        "                    modality = 't1'\n",
        "                elif '_t1ce.' in file.lower():\n",
        "                    modality = 't1ce'\n",
        "                elif '_t2.' in file.lower():\n",
        "                    modality = 't2'\n",
        "                elif '_flair.' in file.lower():\n",
        "                    modality = 'flair'\n",
        "                elif '_seg.' in file.lower():\n",
        "                    modality = 'seg'\n",
        "                else:\n",
        "                    print(f\"Unknown modality in file {file}. Skipping.\")\n",
        "                    continue\n",
        "\n",
        "                # Create new filename - fix the string formatting here\n",
        "                # Use string format with zfill for zero-padding\n",
        "                new_file = f\"brats_val_{patient_id.zfill(3)}_{modality}_123_w.nii\"\n",
        "\n",
        "                # Copy and rename the file\n",
        "                shutil.copy(\n",
        "                    os.path.join(patient_folder, file),\n",
        "                    os.path.join(patient_dir, new_file)\n",
        "                )\n",
        "\n",
        "            print(f\"Processed patient {patient_id} to {patient_dir}\")\n",
        "        except Exception as e:\n",
        "            print(f\"Error processing {patient_folder}: {e}\")\n",
        "\n",
        "    # Print summary\n",
        "    num_training = len(os.listdir(training_dir))\n",
        "    num_validation = len(os.listdir(validation_dir))\n",
        "\n",
        "    print(f\"Successfully created the dataset structure:\")\n",
        "    print(f\"Training patients: {num_training}\")\n",
        "    print(f\"Validation patients: {num_validation}\")\n",
        "    print(f\"Data located at: {base_dir}\")\n",
        "\n",
        "    return base_dir\n",
        "\n",
        "# Call the function to set up the data structure\n",
        "brats_data_dir = setup_brats_patient_structure()"
      ],
      "metadata": {
        "colab": {
          "base_uri": "https://localhost:8080/"
        },
        "collapsed": true,
        "id": "vMK9N6slBR_t",
        "outputId": "ede8bb40-4530-4d5b-b7c4-1256f6c378bc"
      },
      "execution_count": 11,
      "outputs": [
        {
          "output_type": "stream",
          "name": "stderr",
          "text": [
            "Processing training data:   0%|          | 1/295 [00:01<05:17,  1.08s/it]"
          ]
        },
        {
          "output_type": "stream",
          "name": "stdout",
          "text": [
            "Processed patient 001 to /kaggle/working/brats/training/patient_01\n"
          ]
        },
        {
          "output_type": "stream",
          "name": "stderr",
          "text": [
            "\rProcessing training data:   1%|          | 2/295 [00:01<04:24,  1.11it/s]"
          ]
        },
        {
          "output_type": "stream",
          "name": "stdout",
          "text": [
            "Processed patient 002 to /kaggle/working/brats/training/patient_02\n"
          ]
        },
        {
          "output_type": "stream",
          "name": "stderr",
          "text": [
            "\rProcessing training data:   1%|          | 3/295 [00:02<03:48,  1.28it/s]"
          ]
        },
        {
          "output_type": "stream",
          "name": "stdout",
          "text": [
            "Processed patient 003 to /kaggle/working/brats/training/patient_03\n"
          ]
        },
        {
          "output_type": "stream",
          "name": "stderr",
          "text": [
            "\rProcessing training data:   1%|▏         | 4/295 [00:03<03:42,  1.31it/s]"
          ]
        },
        {
          "output_type": "stream",
          "name": "stdout",
          "text": [
            "Processed patient 004 to /kaggle/working/brats/training/patient_04\n"
          ]
        },
        {
          "output_type": "stream",
          "name": "stderr",
          "text": [
            "\rProcessing training data:   2%|▏         | 5/295 [00:03<03:28,  1.39it/s]"
          ]
        },
        {
          "output_type": "stream",
          "name": "stdout",
          "text": [
            "Processed patient 005 to /kaggle/working/brats/training/patient_05\n"
          ]
        },
        {
          "output_type": "stream",
          "name": "stderr",
          "text": [
            "\rProcessing training data:   2%|▏         | 6/295 [00:04<03:17,  1.47it/s]"
          ]
        },
        {
          "output_type": "stream",
          "name": "stdout",
          "text": [
            "Processed patient 006 to /kaggle/working/brats/training/patient_06\n"
          ]
        },
        {
          "output_type": "stream",
          "name": "stderr",
          "text": [
            "\rProcessing training data:   2%|▏         | 7/295 [00:05<03:17,  1.46it/s]"
          ]
        },
        {
          "output_type": "stream",
          "name": "stdout",
          "text": [
            "Processed patient 007 to /kaggle/working/brats/training/patient_07\n"
          ]
        },
        {
          "output_type": "stream",
          "name": "stderr",
          "text": [
            "\rProcessing training data:   3%|▎         | 8/295 [00:05<03:15,  1.47it/s]"
          ]
        },
        {
          "output_type": "stream",
          "name": "stdout",
          "text": [
            "Processed patient 008 to /kaggle/working/brats/training/patient_08\n"
          ]
        },
        {
          "output_type": "stream",
          "name": "stderr",
          "text": [
            "\rProcessing training data:   3%|▎         | 9/295 [00:06<03:12,  1.49it/s]"
          ]
        },
        {
          "output_type": "stream",
          "name": "stdout",
          "text": [
            "Processed patient 009 to /kaggle/working/brats/training/patient_09\n"
          ]
        },
        {
          "output_type": "stream",
          "name": "stderr",
          "text": [
            "\rProcessing training data:   3%|▎         | 10/295 [00:07<03:09,  1.50it/s]"
          ]
        },
        {
          "output_type": "stream",
          "name": "stdout",
          "text": [
            "Processed patient 010 to /kaggle/working/brats/training/patient_10\n"
          ]
        },
        {
          "output_type": "stream",
          "name": "stderr",
          "text": [
            "\rProcessing training data:   4%|▎         | 11/295 [00:07<03:10,  1.49it/s]"
          ]
        },
        {
          "output_type": "stream",
          "name": "stdout",
          "text": [
            "Processed patient 011 to /kaggle/working/brats/training/patient_11\n"
          ]
        },
        {
          "output_type": "stream",
          "name": "stderr",
          "text": [
            "\rProcessing training data:   4%|▍         | 12/295 [00:08<03:07,  1.51it/s]"
          ]
        },
        {
          "output_type": "stream",
          "name": "stdout",
          "text": [
            "Processed patient 012 to /kaggle/working/brats/training/patient_12\n"
          ]
        },
        {
          "output_type": "stream",
          "name": "stderr",
          "text": [
            "\rProcessing training data:   4%|▍         | 13/295 [00:09<03:01,  1.55it/s]"
          ]
        },
        {
          "output_type": "stream",
          "name": "stdout",
          "text": [
            "Processed patient 013 to /kaggle/working/brats/training/patient_13\n"
          ]
        },
        {
          "output_type": "stream",
          "name": "stderr",
          "text": [
            "\rProcessing training data:   5%|▍         | 14/295 [00:09<03:03,  1.53it/s]"
          ]
        },
        {
          "output_type": "stream",
          "name": "stdout",
          "text": [
            "Processed patient 014 to /kaggle/working/brats/training/patient_14\n"
          ]
        },
        {
          "output_type": "stream",
          "name": "stderr",
          "text": [
            "\rProcessing training data:   5%|▌         | 15/295 [00:10<02:58,  1.57it/s]"
          ]
        },
        {
          "output_type": "stream",
          "name": "stdout",
          "text": [
            "Processed patient 015 to /kaggle/working/brats/training/patient_15\n"
          ]
        },
        {
          "output_type": "stream",
          "name": "stderr",
          "text": [
            "\rProcessing training data:   5%|▌         | 16/295 [00:11<02:58,  1.56it/s]"
          ]
        },
        {
          "output_type": "stream",
          "name": "stdout",
          "text": [
            "Processed patient 016 to /kaggle/working/brats/training/patient_16\n"
          ]
        },
        {
          "output_type": "stream",
          "name": "stderr",
          "text": [
            "\rProcessing training data:   6%|▌         | 17/295 [00:11<02:57,  1.56it/s]"
          ]
        },
        {
          "output_type": "stream",
          "name": "stdout",
          "text": [
            "Processed patient 017 to /kaggle/working/brats/training/patient_17\n"
          ]
        },
        {
          "output_type": "stream",
          "name": "stderr",
          "text": [
            "\rProcessing training data:   6%|▌         | 18/295 [00:15<08:00,  1.73s/it]"
          ]
        },
        {
          "output_type": "stream",
          "name": "stdout",
          "text": [
            "Processed patient 018 to /kaggle/working/brats/training/patient_18\n"
          ]
        },
        {
          "output_type": "stream",
          "name": "stderr",
          "text": [
            "\rProcessing training data:   6%|▋         | 19/295 [00:16<06:23,  1.39s/it]"
          ]
        },
        {
          "output_type": "stream",
          "name": "stdout",
          "text": [
            "Processed patient 019 to /kaggle/working/brats/training/patient_19\n"
          ]
        },
        {
          "output_type": "stream",
          "name": "stderr",
          "text": [
            "\rProcessing training data:   7%|▋         | 20/295 [00:17<05:16,  1.15s/it]"
          ]
        },
        {
          "output_type": "stream",
          "name": "stdout",
          "text": [
            "Processed patient 020 to /kaggle/working/brats/training/patient_20\n"
          ]
        },
        {
          "output_type": "stream",
          "name": "stderr",
          "text": [
            "\rProcessing training data:   7%|▋         | 21/295 [00:17<04:33,  1.00it/s]"
          ]
        },
        {
          "output_type": "stream",
          "name": "stdout",
          "text": [
            "Processed patient 021 to /kaggle/working/brats/training/patient_21\n"
          ]
        },
        {
          "output_type": "stream",
          "name": "stderr",
          "text": [
            "\rProcessing training data:   7%|▋         | 22/295 [00:18<04:09,  1.09it/s]"
          ]
        },
        {
          "output_type": "stream",
          "name": "stdout",
          "text": [
            "Processed patient 022 to /kaggle/working/brats/training/patient_22\n"
          ]
        },
        {
          "output_type": "stream",
          "name": "stderr",
          "text": [
            "\rProcessing training data:   8%|▊         | 23/295 [00:19<03:51,  1.17it/s]"
          ]
        },
        {
          "output_type": "stream",
          "name": "stdout",
          "text": [
            "Processed patient 023 to /kaggle/working/brats/training/patient_23\n"
          ]
        },
        {
          "output_type": "stream",
          "name": "stderr",
          "text": [
            "\rProcessing training data:   8%|▊         | 24/295 [00:19<03:42,  1.22it/s]"
          ]
        },
        {
          "output_type": "stream",
          "name": "stdout",
          "text": [
            "Processed patient 024 to /kaggle/working/brats/training/patient_24\n"
          ]
        },
        {
          "output_type": "stream",
          "name": "stderr",
          "text": [
            "\rProcessing training data:   8%|▊         | 25/295 [00:20<03:32,  1.27it/s]"
          ]
        },
        {
          "output_type": "stream",
          "name": "stdout",
          "text": [
            "Processed patient 025 to /kaggle/working/brats/training/patient_25\n"
          ]
        },
        {
          "output_type": "stream",
          "name": "stderr",
          "text": [
            "\rProcessing training data:   9%|▉         | 26/295 [00:21<03:25,  1.31it/s]"
          ]
        },
        {
          "output_type": "stream",
          "name": "stdout",
          "text": [
            "Processed patient 026 to /kaggle/working/brats/training/patient_26\n"
          ]
        },
        {
          "output_type": "stream",
          "name": "stderr",
          "text": [
            "\rProcessing training data:   9%|▉         | 27/295 [00:22<03:21,  1.33it/s]"
          ]
        },
        {
          "output_type": "stream",
          "name": "stdout",
          "text": [
            "Processed patient 027 to /kaggle/working/brats/training/patient_27\n"
          ]
        },
        {
          "output_type": "stream",
          "name": "stderr",
          "text": [
            "\rProcessing training data:   9%|▉         | 28/295 [00:22<03:22,  1.32it/s]"
          ]
        },
        {
          "output_type": "stream",
          "name": "stdout",
          "text": [
            "Processed patient 028 to /kaggle/working/brats/training/patient_28\n"
          ]
        },
        {
          "output_type": "stream",
          "name": "stderr",
          "text": [
            "\rProcessing training data:  10%|▉         | 29/295 [00:26<06:37,  1.49s/it]"
          ]
        },
        {
          "output_type": "stream",
          "name": "stdout",
          "text": [
            "Processed patient 029 to /kaggle/working/brats/training/patient_29\n"
          ]
        },
        {
          "output_type": "stream",
          "name": "stderr",
          "text": [
            "\rProcessing training data:  10%|█         | 30/295 [00:26<05:33,  1.26s/it]"
          ]
        },
        {
          "output_type": "stream",
          "name": "stdout",
          "text": [
            "Processed patient 030 to /kaggle/working/brats/training/patient_30\n"
          ]
        },
        {
          "output_type": "stream",
          "name": "stderr",
          "text": [
            "\rProcessing training data:  11%|█         | 31/295 [00:27<04:47,  1.09s/it]"
          ]
        },
        {
          "output_type": "stream",
          "name": "stdout",
          "text": [
            "Processed patient 031 to /kaggle/working/brats/training/patient_31\n"
          ]
        },
        {
          "output_type": "stream",
          "name": "stderr",
          "text": [
            "\rProcessing training data:  11%|█         | 32/295 [00:28<04:15,  1.03it/s]"
          ]
        },
        {
          "output_type": "stream",
          "name": "stdout",
          "text": [
            "Processed patient 032 to /kaggle/working/brats/training/patient_32\n"
          ]
        },
        {
          "output_type": "stream",
          "name": "stderr",
          "text": [
            "\rProcessing training data:  11%|█         | 33/295 [00:28<03:55,  1.11it/s]"
          ]
        },
        {
          "output_type": "stream",
          "name": "stdout",
          "text": [
            "Processed patient 033 to /kaggle/working/brats/training/patient_33\n"
          ]
        },
        {
          "output_type": "stream",
          "name": "stderr",
          "text": [
            "\rProcessing training data:  12%|█▏        | 34/295 [00:29<03:37,  1.20it/s]"
          ]
        },
        {
          "output_type": "stream",
          "name": "stdout",
          "text": [
            "Processed patient 034 to /kaggle/working/brats/training/patient_34\n"
          ]
        },
        {
          "output_type": "stream",
          "name": "stderr",
          "text": [
            "\rProcessing training data:  12%|█▏        | 35/295 [00:30<03:24,  1.27it/s]"
          ]
        },
        {
          "output_type": "stream",
          "name": "stdout",
          "text": [
            "Processed patient 035 to /kaggle/working/brats/training/patient_35\n"
          ]
        },
        {
          "output_type": "stream",
          "name": "stderr",
          "text": [
            "\rProcessing training data:  12%|█▏        | 36/295 [00:30<03:17,  1.31it/s]"
          ]
        },
        {
          "output_type": "stream",
          "name": "stdout",
          "text": [
            "Processed patient 036 to /kaggle/working/brats/training/patient_36\n"
          ]
        },
        {
          "output_type": "stream",
          "name": "stderr",
          "text": [
            "\rProcessing training data:  13%|█▎        | 37/295 [00:31<03:10,  1.35it/s]"
          ]
        },
        {
          "output_type": "stream",
          "name": "stdout",
          "text": [
            "Processed patient 037 to /kaggle/working/brats/training/patient_37\n"
          ]
        },
        {
          "output_type": "stream",
          "name": "stderr",
          "text": [
            "\rProcessing training data:  13%|█▎        | 38/295 [00:32<03:03,  1.40it/s]"
          ]
        },
        {
          "output_type": "stream",
          "name": "stdout",
          "text": [
            "Processed patient 038 to /kaggle/working/brats/training/patient_38\n"
          ]
        },
        {
          "output_type": "stream",
          "name": "stderr",
          "text": [
            "\rProcessing training data:  13%|█▎        | 39/295 [00:32<03:02,  1.40it/s]"
          ]
        },
        {
          "output_type": "stream",
          "name": "stdout",
          "text": [
            "Processed patient 039 to /kaggle/working/brats/training/patient_39\n"
          ]
        },
        {
          "output_type": "stream",
          "name": "stderr",
          "text": [
            "\rProcessing training data:  14%|█▎        | 40/295 [00:33<03:00,  1.41it/s]"
          ]
        },
        {
          "output_type": "stream",
          "name": "stdout",
          "text": [
            "Processed patient 040 to /kaggle/working/brats/training/patient_40\n"
          ]
        },
        {
          "output_type": "stream",
          "name": "stderr",
          "text": [
            "\rProcessing training data:  14%|█▍        | 41/295 [00:34<03:00,  1.41it/s]"
          ]
        },
        {
          "output_type": "stream",
          "name": "stdout",
          "text": [
            "Processed patient 041 to /kaggle/working/brats/training/patient_41\n"
          ]
        },
        {
          "output_type": "stream",
          "name": "stderr",
          "text": [
            "\rProcessing training data:  14%|█▍        | 42/295 [00:35<02:55,  1.44it/s]"
          ]
        },
        {
          "output_type": "stream",
          "name": "stdout",
          "text": [
            "Processed patient 042 to /kaggle/working/brats/training/patient_42\n"
          ]
        },
        {
          "output_type": "stream",
          "name": "stderr",
          "text": [
            "\rProcessing training data:  15%|█▍        | 43/295 [00:35<02:51,  1.47it/s]"
          ]
        },
        {
          "output_type": "stream",
          "name": "stdout",
          "text": [
            "Processed patient 043 to /kaggle/working/brats/training/patient_43\n"
          ]
        },
        {
          "output_type": "stream",
          "name": "stderr",
          "text": [
            "\rProcessing training data:  15%|█▍        | 44/295 [00:36<02:46,  1.51it/s]"
          ]
        },
        {
          "output_type": "stream",
          "name": "stdout",
          "text": [
            "Processed patient 044 to /kaggle/working/brats/training/patient_44\n"
          ]
        },
        {
          "output_type": "stream",
          "name": "stderr",
          "text": [
            "\rProcessing training data:  15%|█▌        | 45/295 [00:36<02:41,  1.54it/s]"
          ]
        },
        {
          "output_type": "stream",
          "name": "stdout",
          "text": [
            "Processed patient 045 to /kaggle/working/brats/training/patient_45\n"
          ]
        },
        {
          "output_type": "stream",
          "name": "stderr",
          "text": [
            "\rProcessing training data:  16%|█▌        | 46/295 [00:37<02:43,  1.52it/s]"
          ]
        },
        {
          "output_type": "stream",
          "name": "stdout",
          "text": [
            "Processed patient 046 to /kaggle/working/brats/training/patient_46\n"
          ]
        },
        {
          "output_type": "stream",
          "name": "stderr",
          "text": [
            "\rProcessing training data:  16%|█▌        | 47/295 [00:38<02:41,  1.54it/s]"
          ]
        },
        {
          "output_type": "stream",
          "name": "stdout",
          "text": [
            "Processed patient 047 to /kaggle/working/brats/training/patient_47\n"
          ]
        },
        {
          "output_type": "stream",
          "name": "stderr",
          "text": [
            "\rProcessing training data:  16%|█▋        | 48/295 [00:39<03:05,  1.33it/s]"
          ]
        },
        {
          "output_type": "stream",
          "name": "stdout",
          "text": [
            "Processed patient 048 to /kaggle/working/brats/training/patient_48\n"
          ]
        },
        {
          "output_type": "stream",
          "name": "stderr",
          "text": [
            "\rProcessing training data:  17%|█▋        | 49/295 [00:39<03:01,  1.35it/s]"
          ]
        },
        {
          "output_type": "stream",
          "name": "stdout",
          "text": [
            "Processed patient 049 to /kaggle/working/brats/training/patient_49\n"
          ]
        },
        {
          "output_type": "stream",
          "name": "stderr",
          "text": [
            "\rProcessing training data:  17%|█▋        | 50/295 [00:40<02:57,  1.38it/s]"
          ]
        },
        {
          "output_type": "stream",
          "name": "stdout",
          "text": [
            "Processed patient 050 to /kaggle/working/brats/training/patient_50\n"
          ]
        },
        {
          "output_type": "stream",
          "name": "stderr",
          "text": [
            "\rProcessing training data:  17%|█▋        | 51/295 [00:41<02:52,  1.42it/s]"
          ]
        },
        {
          "output_type": "stream",
          "name": "stdout",
          "text": [
            "Processed patient 051 to /kaggle/working/brats/training/patient_51\n"
          ]
        },
        {
          "output_type": "stream",
          "name": "stderr",
          "text": [
            "\rProcessing training data:  18%|█▊        | 52/295 [00:41<02:48,  1.44it/s]"
          ]
        },
        {
          "output_type": "stream",
          "name": "stdout",
          "text": [
            "Processed patient 052 to /kaggle/working/brats/training/patient_52\n"
          ]
        },
        {
          "output_type": "stream",
          "name": "stderr",
          "text": [
            "\rProcessing training data:  18%|█▊        | 53/295 [00:42<02:50,  1.42it/s]"
          ]
        },
        {
          "output_type": "stream",
          "name": "stdout",
          "text": [
            "Processed patient 053 to /kaggle/working/brats/training/patient_53\n"
          ]
        },
        {
          "output_type": "stream",
          "name": "stderr",
          "text": [
            "\rProcessing training data:  18%|█▊        | 54/295 [00:44<03:59,  1.01it/s]"
          ]
        },
        {
          "output_type": "stream",
          "name": "stdout",
          "text": [
            "Processed patient 054 to /kaggle/working/brats/training/patient_54\n"
          ]
        },
        {
          "output_type": "stream",
          "name": "stderr",
          "text": [
            "\rProcessing training data:  19%|█▊        | 55/295 [00:45<03:33,  1.12it/s]"
          ]
        },
        {
          "output_type": "stream",
          "name": "stdout",
          "text": [
            "Processed patient 055 to /kaggle/working/brats/training/patient_55\n"
          ]
        },
        {
          "output_type": "stream",
          "name": "stderr",
          "text": [
            "\rProcessing training data:  19%|█▉        | 56/295 [00:45<03:12,  1.24it/s]"
          ]
        },
        {
          "output_type": "stream",
          "name": "stdout",
          "text": [
            "Processed patient 056 to /kaggle/working/brats/training/patient_56\n"
          ]
        },
        {
          "output_type": "stream",
          "name": "stderr",
          "text": [
            "\rProcessing training data:  19%|█▉        | 57/295 [00:46<03:01,  1.31it/s]"
          ]
        },
        {
          "output_type": "stream",
          "name": "stdout",
          "text": [
            "Processed patient 057 to /kaggle/working/brats/training/patient_57\n"
          ]
        },
        {
          "output_type": "stream",
          "name": "stderr",
          "text": [
            "\rProcessing training data:  20%|█▉        | 58/295 [00:46<02:52,  1.37it/s]"
          ]
        },
        {
          "output_type": "stream",
          "name": "stdout",
          "text": [
            "Processed patient 058 to /kaggle/working/brats/training/patient_58\n"
          ]
        },
        {
          "output_type": "stream",
          "name": "stderr",
          "text": [
            "\rProcessing training data:  20%|██        | 59/295 [00:47<02:41,  1.46it/s]"
          ]
        },
        {
          "output_type": "stream",
          "name": "stdout",
          "text": [
            "Processed patient 059 to /kaggle/working/brats/training/patient_59\n"
          ]
        },
        {
          "output_type": "stream",
          "name": "stderr",
          "text": [
            "\rProcessing training data:  20%|██        | 60/295 [00:48<02:39,  1.47it/s]"
          ]
        },
        {
          "output_type": "stream",
          "name": "stdout",
          "text": [
            "Processed patient 060 to /kaggle/working/brats/training/patient_60\n"
          ]
        },
        {
          "output_type": "stream",
          "name": "stderr",
          "text": [
            "\rProcessing training data:  21%|██        | 61/295 [00:49<03:07,  1.25it/s]"
          ]
        },
        {
          "output_type": "stream",
          "name": "stdout",
          "text": [
            "Processed patient 061 to /kaggle/working/brats/training/patient_61\n"
          ]
        },
        {
          "output_type": "stream",
          "name": "stderr",
          "text": [
            "\rProcessing training data:  21%|██        | 62/295 [00:49<02:59,  1.30it/s]"
          ]
        },
        {
          "output_type": "stream",
          "name": "stdout",
          "text": [
            "Processed patient 062 to /kaggle/working/brats/training/patient_62\n"
          ]
        },
        {
          "output_type": "stream",
          "name": "stderr",
          "text": [
            "\rProcessing training data:  21%|██▏       | 63/295 [00:50<02:51,  1.35it/s]"
          ]
        },
        {
          "output_type": "stream",
          "name": "stdout",
          "text": [
            "Processed patient 063 to /kaggle/working/brats/training/patient_63\n"
          ]
        },
        {
          "output_type": "stream",
          "name": "stderr",
          "text": [
            "\rProcessing training data:  22%|██▏       | 64/295 [00:51<02:45,  1.39it/s]"
          ]
        },
        {
          "output_type": "stream",
          "name": "stdout",
          "text": [
            "Processed patient 064 to /kaggle/working/brats/training/patient_64\n"
          ]
        },
        {
          "output_type": "stream",
          "name": "stderr",
          "text": [
            "\rProcessing training data:  22%|██▏       | 65/295 [00:51<02:42,  1.41it/s]"
          ]
        },
        {
          "output_type": "stream",
          "name": "stdout",
          "text": [
            "Processed patient 065 to /kaggle/working/brats/training/patient_65\n"
          ]
        },
        {
          "output_type": "stream",
          "name": "stderr",
          "text": [
            "\rProcessing training data:  22%|██▏       | 66/295 [00:52<02:38,  1.44it/s]"
          ]
        },
        {
          "output_type": "stream",
          "name": "stdout",
          "text": [
            "Processed patient 066 to /kaggle/working/brats/training/patient_66\n"
          ]
        },
        {
          "output_type": "stream",
          "name": "stderr",
          "text": [
            "\rProcessing training data:  23%|██▎       | 67/295 [00:53<02:37,  1.45it/s]"
          ]
        },
        {
          "output_type": "stream",
          "name": "stdout",
          "text": [
            "Processed patient 067 to /kaggle/working/brats/training/patient_67\n"
          ]
        },
        {
          "output_type": "stream",
          "name": "stderr",
          "text": [
            "\rProcessing training data:  23%|██▎       | 68/295 [00:56<05:58,  1.58s/it]"
          ]
        },
        {
          "output_type": "stream",
          "name": "stdout",
          "text": [
            "Processed patient 068 to /kaggle/working/brats/training/patient_68\n"
          ]
        },
        {
          "output_type": "stream",
          "name": "stderr",
          "text": [
            "\rProcessing training data:  23%|██▎       | 69/295 [00:57<04:51,  1.29s/it]"
          ]
        },
        {
          "output_type": "stream",
          "name": "stdout",
          "text": [
            "Processed patient 069 to /kaggle/working/brats/training/patient_69\n"
          ]
        },
        {
          "output_type": "stream",
          "name": "stderr",
          "text": [
            "\rProcessing training data:  24%|██▎       | 70/295 [00:58<04:08,  1.10s/it]"
          ]
        },
        {
          "output_type": "stream",
          "name": "stdout",
          "text": [
            "Processed patient 070 to /kaggle/working/brats/training/patient_70\n"
          ]
        },
        {
          "output_type": "stream",
          "name": "stderr",
          "text": [
            "\rProcessing training data:  24%|██▍       | 71/295 [00:58<03:42,  1.01it/s]"
          ]
        },
        {
          "output_type": "stream",
          "name": "stdout",
          "text": [
            "Processed patient 071 to /kaggle/working/brats/training/patient_71\n"
          ]
        },
        {
          "output_type": "stream",
          "name": "stderr",
          "text": [
            "\rProcessing training data:  24%|██▍       | 72/295 [00:59<03:23,  1.10it/s]"
          ]
        },
        {
          "output_type": "stream",
          "name": "stdout",
          "text": [
            "Processed patient 072 to /kaggle/working/brats/training/patient_72\n"
          ]
        },
        {
          "output_type": "stream",
          "name": "stderr",
          "text": [
            "\rProcessing training data:  25%|██▍       | 73/295 [01:00<03:05,  1.20it/s]"
          ]
        },
        {
          "output_type": "stream",
          "name": "stdout",
          "text": [
            "Processed patient 073 to /kaggle/working/brats/training/patient_73\n"
          ]
        },
        {
          "output_type": "stream",
          "name": "stderr",
          "text": [
            "\rProcessing training data:  25%|██▌       | 74/295 [01:01<02:53,  1.27it/s]"
          ]
        },
        {
          "output_type": "stream",
          "name": "stdout",
          "text": [
            "Processed patient 074 to /kaggle/working/brats/training/patient_74\n"
          ]
        },
        {
          "output_type": "stream",
          "name": "stderr",
          "text": [
            "\rProcessing training data:  25%|██▌       | 75/295 [01:01<02:48,  1.30it/s]"
          ]
        },
        {
          "output_type": "stream",
          "name": "stdout",
          "text": [
            "Processed patient 075 to /kaggle/working/brats/training/patient_75\n"
          ]
        },
        {
          "output_type": "stream",
          "name": "stderr",
          "text": [
            "\rProcessing training data:  26%|██▌       | 76/295 [01:02<02:40,  1.36it/s]"
          ]
        },
        {
          "output_type": "stream",
          "name": "stdout",
          "text": [
            "Processed patient 076 to /kaggle/working/brats/training/patient_76\n"
          ]
        },
        {
          "output_type": "stream",
          "name": "stderr",
          "text": [
            "\rProcessing training data:  26%|██▌       | 77/295 [01:03<02:38,  1.37it/s]"
          ]
        },
        {
          "output_type": "stream",
          "name": "stdout",
          "text": [
            "Processed patient 077 to /kaggle/working/brats/training/patient_77\n"
          ]
        },
        {
          "output_type": "stream",
          "name": "stderr",
          "text": [
            "\rProcessing training data:  26%|██▋       | 78/295 [01:03<02:34,  1.40it/s]"
          ]
        },
        {
          "output_type": "stream",
          "name": "stdout",
          "text": [
            "Processed patient 078 to /kaggle/working/brats/training/patient_78\n"
          ]
        },
        {
          "output_type": "stream",
          "name": "stderr",
          "text": [
            "\rProcessing training data:  27%|██▋       | 79/295 [01:06<05:09,  1.43s/it]"
          ]
        },
        {
          "output_type": "stream",
          "name": "stdout",
          "text": [
            "Processed patient 079 to /kaggle/working/brats/training/patient_79\n"
          ]
        },
        {
          "output_type": "stream",
          "name": "stderr",
          "text": [
            "\rProcessing training data:  27%|██▋       | 80/295 [01:07<04:16,  1.19s/it]"
          ]
        },
        {
          "output_type": "stream",
          "name": "stdout",
          "text": [
            "Processed patient 080 to /kaggle/working/brats/training/patient_80\n"
          ]
        },
        {
          "output_type": "stream",
          "name": "stderr",
          "text": [
            "\rProcessing training data:  27%|██▋       | 81/295 [01:08<03:41,  1.04s/it]"
          ]
        },
        {
          "output_type": "stream",
          "name": "stdout",
          "text": [
            "Processed patient 081 to /kaggle/working/brats/training/patient_81\n"
          ]
        },
        {
          "output_type": "stream",
          "name": "stderr",
          "text": [
            "\rProcessing training data:  28%|██▊       | 82/295 [01:08<03:14,  1.10it/s]"
          ]
        },
        {
          "output_type": "stream",
          "name": "stdout",
          "text": [
            "Processed patient 082 to /kaggle/working/brats/training/patient_82\n"
          ]
        },
        {
          "output_type": "stream",
          "name": "stderr",
          "text": [
            "\rProcessing training data:  28%|██▊       | 83/295 [01:09<02:59,  1.18it/s]"
          ]
        },
        {
          "output_type": "stream",
          "name": "stdout",
          "text": [
            "Processed patient 083 to /kaggle/working/brats/training/patient_83\n"
          ]
        },
        {
          "output_type": "stream",
          "name": "stderr",
          "text": [
            "\rProcessing training data:  28%|██▊       | 84/295 [01:10<02:49,  1.25it/s]"
          ]
        },
        {
          "output_type": "stream",
          "name": "stdout",
          "text": [
            "Processed patient 084 to /kaggle/working/brats/training/patient_84\n"
          ]
        },
        {
          "output_type": "stream",
          "name": "stderr",
          "text": [
            "\rProcessing training data:  29%|██▉       | 85/295 [01:10<02:37,  1.33it/s]"
          ]
        },
        {
          "output_type": "stream",
          "name": "stdout",
          "text": [
            "Processed patient 085 to /kaggle/working/brats/training/patient_85\n"
          ]
        },
        {
          "output_type": "stream",
          "name": "stderr",
          "text": [
            "\rProcessing training data:  29%|██▉       | 86/295 [01:11<02:31,  1.38it/s]"
          ]
        },
        {
          "output_type": "stream",
          "name": "stdout",
          "text": [
            "Processed patient 086 to /kaggle/working/brats/training/patient_86\n"
          ]
        },
        {
          "output_type": "stream",
          "name": "stderr",
          "text": [
            "\rProcessing training data:  29%|██▉       | 87/295 [01:12<02:23,  1.45it/s]"
          ]
        },
        {
          "output_type": "stream",
          "name": "stdout",
          "text": [
            "Processed patient 087 to /kaggle/working/brats/training/patient_87\n"
          ]
        },
        {
          "output_type": "stream",
          "name": "stderr",
          "text": [
            "\rProcessing training data:  30%|██▉       | 88/295 [01:12<02:20,  1.48it/s]"
          ]
        },
        {
          "output_type": "stream",
          "name": "stdout",
          "text": [
            "Processed patient 088 to /kaggle/working/brats/training/patient_88\n"
          ]
        },
        {
          "output_type": "stream",
          "name": "stderr",
          "text": [
            "\rProcessing training data:  30%|███       | 89/295 [01:13<02:24,  1.42it/s]"
          ]
        },
        {
          "output_type": "stream",
          "name": "stdout",
          "text": [
            "Processed patient 089 to /kaggle/working/brats/training/patient_89\n"
          ]
        },
        {
          "output_type": "stream",
          "name": "stderr",
          "text": [
            "\rProcessing training data:  31%|███       | 90/295 [01:17<05:27,  1.60s/it]"
          ]
        },
        {
          "output_type": "stream",
          "name": "stdout",
          "text": [
            "Processed patient 090 to /kaggle/working/brats/training/patient_90\n"
          ]
        },
        {
          "output_type": "stream",
          "name": "stderr",
          "text": [
            "\rProcessing training data:  31%|███       | 91/295 [01:18<04:34,  1.35s/it]"
          ]
        },
        {
          "output_type": "stream",
          "name": "stdout",
          "text": [
            "Processed patient 091 to /kaggle/working/brats/training/patient_91\n"
          ]
        },
        {
          "output_type": "stream",
          "name": "stderr",
          "text": [
            "\rProcessing training data:  31%|███       | 92/295 [01:18<03:57,  1.17s/it]"
          ]
        },
        {
          "output_type": "stream",
          "name": "stdout",
          "text": [
            "Processed patient 092 to /kaggle/working/brats/training/patient_92\n"
          ]
        },
        {
          "output_type": "stream",
          "name": "stderr",
          "text": [
            "\rProcessing training data:  32%|███▏      | 93/295 [01:19<03:30,  1.04s/it]"
          ]
        },
        {
          "output_type": "stream",
          "name": "stdout",
          "text": [
            "Processed patient 093 to /kaggle/working/brats/training/patient_93\n"
          ]
        },
        {
          "output_type": "stream",
          "name": "stderr",
          "text": [
            "\rProcessing training data:  32%|███▏      | 94/295 [01:20<03:11,  1.05it/s]"
          ]
        },
        {
          "output_type": "stream",
          "name": "stdout",
          "text": [
            "Processed patient 094 to /kaggle/working/brats/training/patient_94\n"
          ]
        },
        {
          "output_type": "stream",
          "name": "stderr",
          "text": [
            "\rProcessing training data:  32%|███▏      | 95/295 [01:21<03:22,  1.01s/it]"
          ]
        },
        {
          "output_type": "stream",
          "name": "stdout",
          "text": [
            "Processed patient 095 to /kaggle/working/brats/training/patient_95\n"
          ]
        },
        {
          "output_type": "stream",
          "name": "stderr",
          "text": [
            "\rProcessing training data:  33%|███▎      | 96/295 [01:22<03:04,  1.08it/s]"
          ]
        },
        {
          "output_type": "stream",
          "name": "stdout",
          "text": [
            "Processed patient 096 to /kaggle/working/brats/training/patient_96\n"
          ]
        },
        {
          "output_type": "stream",
          "name": "stderr",
          "text": [
            "\rProcessing training data:  33%|███▎      | 97/295 [01:22<02:53,  1.14it/s]"
          ]
        },
        {
          "output_type": "stream",
          "name": "stdout",
          "text": [
            "Processed patient 097 to /kaggle/working/brats/training/patient_97\n"
          ]
        },
        {
          "output_type": "stream",
          "name": "stderr",
          "text": [
            "\rProcessing training data:  33%|███▎      | 98/295 [01:23<02:41,  1.22it/s]"
          ]
        },
        {
          "output_type": "stream",
          "name": "stdout",
          "text": [
            "Processed patient 098 to /kaggle/working/brats/training/patient_98\n"
          ]
        },
        {
          "output_type": "stream",
          "name": "stderr",
          "text": [
            "\rProcessing training data:  34%|███▎      | 99/295 [01:24<02:35,  1.26it/s]"
          ]
        },
        {
          "output_type": "stream",
          "name": "stdout",
          "text": [
            "Processed patient 099 to /kaggle/working/brats/training/patient_99\n"
          ]
        },
        {
          "output_type": "stream",
          "name": "stderr",
          "text": [
            "\rProcessing training data:  34%|███▍      | 100/295 [01:25<02:32,  1.28it/s]"
          ]
        },
        {
          "output_type": "stream",
          "name": "stdout",
          "text": [
            "Processed patient 100 to /kaggle/working/brats/training/patient_100\n"
          ]
        },
        {
          "output_type": "stream",
          "name": "stderr",
          "text": [
            "\rProcessing training data:  34%|███▍      | 101/295 [01:25<02:30,  1.29it/s]"
          ]
        },
        {
          "output_type": "stream",
          "name": "stdout",
          "text": [
            "Processed patient 101 to /kaggle/working/brats/training/patient_101\n"
          ]
        },
        {
          "output_type": "stream",
          "name": "stderr",
          "text": [
            "\rProcessing training data:  35%|███▍      | 102/295 [01:26<02:27,  1.31it/s]"
          ]
        },
        {
          "output_type": "stream",
          "name": "stdout",
          "text": [
            "Processed patient 102 to /kaggle/working/brats/training/patient_102\n"
          ]
        },
        {
          "output_type": "stream",
          "name": "stderr",
          "text": [
            "\rProcessing training data:  35%|███▍      | 103/295 [01:27<02:22,  1.34it/s]"
          ]
        },
        {
          "output_type": "stream",
          "name": "stdout",
          "text": [
            "Processed patient 103 to /kaggle/working/brats/training/patient_103\n"
          ]
        },
        {
          "output_type": "stream",
          "name": "stderr",
          "text": [
            "\rProcessing training data:  35%|███▌      | 104/295 [01:28<02:23,  1.33it/s]"
          ]
        },
        {
          "output_type": "stream",
          "name": "stdout",
          "text": [
            "Processed patient 104 to /kaggle/working/brats/training/patient_104\n"
          ]
        },
        {
          "output_type": "stream",
          "name": "stderr",
          "text": [
            "\rProcessing training data:  36%|███▌      | 105/295 [01:28<02:23,  1.33it/s]"
          ]
        },
        {
          "output_type": "stream",
          "name": "stdout",
          "text": [
            "Processed patient 105 to /kaggle/working/brats/training/patient_105\n"
          ]
        },
        {
          "output_type": "stream",
          "name": "stderr",
          "text": [
            "\rProcessing training data:  36%|███▌      | 106/295 [01:29<02:23,  1.31it/s]"
          ]
        },
        {
          "output_type": "stream",
          "name": "stdout",
          "text": [
            "Processed patient 106 to /kaggle/working/brats/training/patient_106\n"
          ]
        },
        {
          "output_type": "stream",
          "name": "stderr",
          "text": [
            "\rProcessing training data:  36%|███▋      | 107/295 [01:31<03:43,  1.19s/it]"
          ]
        },
        {
          "output_type": "stream",
          "name": "stdout",
          "text": [
            "Processed patient 107 to /kaggle/working/brats/training/patient_107\n"
          ]
        },
        {
          "output_type": "stream",
          "name": "stderr",
          "text": [
            "\rProcessing training data:  37%|███▋      | 108/295 [01:32<03:15,  1.04s/it]"
          ]
        },
        {
          "output_type": "stream",
          "name": "stdout",
          "text": [
            "Processed patient 108 to /kaggle/working/brats/training/patient_108\n"
          ]
        },
        {
          "output_type": "stream",
          "name": "stderr",
          "text": [
            "\rProcessing training data:  37%|███▋      | 109/295 [01:33<02:58,  1.04it/s]"
          ]
        },
        {
          "output_type": "stream",
          "name": "stdout",
          "text": [
            "Processed patient 109 to /kaggle/working/brats/training/patient_109\n"
          ]
        },
        {
          "output_type": "stream",
          "name": "stderr",
          "text": [
            "\rProcessing training data:  37%|███▋      | 110/295 [01:33<02:41,  1.15it/s]"
          ]
        },
        {
          "output_type": "stream",
          "name": "stdout",
          "text": [
            "Processed patient 110 to /kaggle/working/brats/training/patient_110\n"
          ]
        },
        {
          "output_type": "stream",
          "name": "stderr",
          "text": [
            "\rProcessing training data:  38%|███▊      | 111/295 [01:34<02:30,  1.23it/s]"
          ]
        },
        {
          "output_type": "stream",
          "name": "stdout",
          "text": [
            "Processed patient 111 to /kaggle/working/brats/training/patient_111\n"
          ]
        },
        {
          "output_type": "stream",
          "name": "stderr",
          "text": [
            "\rProcessing training data:  38%|███▊      | 112/295 [01:37<04:38,  1.52s/it]"
          ]
        },
        {
          "output_type": "stream",
          "name": "stdout",
          "text": [
            "Processed patient 112 to /kaggle/working/brats/training/patient_112\n"
          ]
        },
        {
          "output_type": "stream",
          "name": "stderr",
          "text": [
            "\rProcessing training data:  38%|███▊      | 113/295 [01:38<03:51,  1.27s/it]"
          ]
        },
        {
          "output_type": "stream",
          "name": "stdout",
          "text": [
            "Processed patient 113 to /kaggle/working/brats/training/patient_113\n"
          ]
        },
        {
          "output_type": "stream",
          "name": "stderr",
          "text": [
            "\rProcessing training data:  39%|███▊      | 114/295 [01:39<03:20,  1.11s/it]"
          ]
        },
        {
          "output_type": "stream",
          "name": "stdout",
          "text": [
            "Processed patient 114 to /kaggle/working/brats/training/patient_114\n"
          ]
        },
        {
          "output_type": "stream",
          "name": "stderr",
          "text": [
            "\rProcessing training data:  39%|███▉      | 115/295 [01:39<02:58,  1.01it/s]"
          ]
        },
        {
          "output_type": "stream",
          "name": "stdout",
          "text": [
            "Processed patient 115 to /kaggle/working/brats/training/patient_115\n"
          ]
        },
        {
          "output_type": "stream",
          "name": "stderr",
          "text": [
            "\rProcessing training data:  39%|███▉      | 116/295 [01:40<02:46,  1.08it/s]"
          ]
        },
        {
          "output_type": "stream",
          "name": "stdout",
          "text": [
            "Processed patient 116 to /kaggle/working/brats/training/patient_116\n"
          ]
        },
        {
          "output_type": "stream",
          "name": "stderr",
          "text": [
            "\rProcessing training data:  40%|███▉      | 117/295 [01:43<04:48,  1.62s/it]"
          ]
        },
        {
          "output_type": "stream",
          "name": "stdout",
          "text": [
            "Processed patient 117 to /kaggle/working/brats/training/patient_117\n"
          ]
        },
        {
          "output_type": "stream",
          "name": "stderr",
          "text": [
            "\rProcessing training data:  40%|████      | 118/295 [01:44<04:00,  1.36s/it]"
          ]
        },
        {
          "output_type": "stream",
          "name": "stdout",
          "text": [
            "Processed patient 118 to /kaggle/working/brats/training/patient_118\n"
          ]
        },
        {
          "output_type": "stream",
          "name": "stderr",
          "text": [
            "\rProcessing training data:  40%|████      | 119/295 [01:45<03:22,  1.15s/it]"
          ]
        },
        {
          "output_type": "stream",
          "name": "stdout",
          "text": [
            "Processed patient 119 to /kaggle/working/brats/training/patient_119\n"
          ]
        },
        {
          "output_type": "stream",
          "name": "stderr",
          "text": [
            "\rProcessing training data:  41%|████      | 120/295 [01:46<02:56,  1.01s/it]"
          ]
        },
        {
          "output_type": "stream",
          "name": "stdout",
          "text": [
            "Processed patient 120 to /kaggle/working/brats/training/patient_120\n"
          ]
        },
        {
          "output_type": "stream",
          "name": "stderr",
          "text": [
            "\rProcessing training data:  41%|████      | 121/295 [01:46<02:39,  1.09it/s]"
          ]
        },
        {
          "output_type": "stream",
          "name": "stdout",
          "text": [
            "Processed patient 121 to /kaggle/working/brats/training/patient_121\n"
          ]
        },
        {
          "output_type": "stream",
          "name": "stderr",
          "text": [
            "\rProcessing training data:  41%|████▏     | 122/295 [01:50<04:46,  1.66s/it]"
          ]
        },
        {
          "output_type": "stream",
          "name": "stdout",
          "text": [
            "Processed patient 122 to /kaggle/working/brats/training/patient_122\n"
          ]
        },
        {
          "output_type": "stream",
          "name": "stderr",
          "text": [
            "\rProcessing training data:  42%|████▏     | 123/295 [01:50<03:58,  1.39s/it]"
          ]
        },
        {
          "output_type": "stream",
          "name": "stdout",
          "text": [
            "Processed patient 123 to /kaggle/working/brats/training/patient_123\n"
          ]
        },
        {
          "output_type": "stream",
          "name": "stderr",
          "text": [
            "\rProcessing training data:  42%|████▏     | 124/295 [01:51<03:24,  1.19s/it]"
          ]
        },
        {
          "output_type": "stream",
          "name": "stdout",
          "text": [
            "Processed patient 124 to /kaggle/working/brats/training/patient_124\n"
          ]
        },
        {
          "output_type": "stream",
          "name": "stderr",
          "text": [
            "\rProcessing training data:  42%|████▏     | 125/295 [01:52<03:04,  1.08s/it]"
          ]
        },
        {
          "output_type": "stream",
          "name": "stdout",
          "text": [
            "Processed patient 125 to /kaggle/working/brats/training/patient_125\n"
          ]
        },
        {
          "output_type": "stream",
          "name": "stderr",
          "text": [
            "\rProcessing training data:  43%|████▎     | 126/295 [01:53<02:45,  1.02it/s]"
          ]
        },
        {
          "output_type": "stream",
          "name": "stdout",
          "text": [
            "Processed patient 126 to /kaggle/working/brats/training/patient_126\n"
          ]
        },
        {
          "output_type": "stream",
          "name": "stderr",
          "text": [
            "\rProcessing training data:  43%|████▎     | 127/295 [01:56<05:04,  1.81s/it]"
          ]
        },
        {
          "output_type": "stream",
          "name": "stdout",
          "text": [
            "Processed patient 127 to /kaggle/working/brats/training/patient_127\n"
          ]
        },
        {
          "output_type": "stream",
          "name": "stderr",
          "text": [
            "\rProcessing training data:  43%|████▎     | 128/295 [01:58<04:35,  1.65s/it]"
          ]
        },
        {
          "output_type": "stream",
          "name": "stdout",
          "text": [
            "Processed patient 128 to /kaggle/working/brats/training/patient_128\n"
          ]
        },
        {
          "output_type": "stream",
          "name": "stderr",
          "text": [
            "\rProcessing training data:  44%|████▎     | 129/295 [01:59<04:07,  1.49s/it]"
          ]
        },
        {
          "output_type": "stream",
          "name": "stdout",
          "text": [
            "Processed patient 129 to /kaggle/working/brats/training/patient_129\n"
          ]
        },
        {
          "output_type": "stream",
          "name": "stderr",
          "text": [
            "\rProcessing training data:  44%|████▍     | 130/295 [02:00<03:34,  1.30s/it]"
          ]
        },
        {
          "output_type": "stream",
          "name": "stdout",
          "text": [
            "Processed patient 130 to /kaggle/working/brats/training/patient_130\n"
          ]
        },
        {
          "output_type": "stream",
          "name": "stderr",
          "text": [
            "\rProcessing training data:  44%|████▍     | 131/295 [02:01<03:20,  1.22s/it]"
          ]
        },
        {
          "output_type": "stream",
          "name": "stdout",
          "text": [
            "Processed patient 131 to /kaggle/working/brats/training/patient_131\n"
          ]
        },
        {
          "output_type": "stream",
          "name": "stderr",
          "text": [
            "\rProcessing training data:  45%|████▍     | 132/295 [02:01<02:54,  1.07s/it]"
          ]
        },
        {
          "output_type": "stream",
          "name": "stdout",
          "text": [
            "Processed patient 132 to /kaggle/working/brats/training/patient_132\n"
          ]
        },
        {
          "output_type": "stream",
          "name": "stderr",
          "text": [
            "\rProcessing training data:  45%|████▌     | 133/295 [02:02<02:35,  1.04it/s]"
          ]
        },
        {
          "output_type": "stream",
          "name": "stdout",
          "text": [
            "Processed patient 133 to /kaggle/working/brats/training/patient_133\n"
          ]
        },
        {
          "output_type": "stream",
          "name": "stderr",
          "text": [
            "\rProcessing training data:  45%|████▌     | 134/295 [02:03<02:25,  1.11it/s]"
          ]
        },
        {
          "output_type": "stream",
          "name": "stdout",
          "text": [
            "Processed patient 134 to /kaggle/working/brats/training/patient_134\n"
          ]
        },
        {
          "output_type": "stream",
          "name": "stderr",
          "text": [
            "\rProcessing training data:  46%|████▌     | 135/295 [02:06<04:08,  1.55s/it]"
          ]
        },
        {
          "output_type": "stream",
          "name": "stdout",
          "text": [
            "Processed patient 135 to /kaggle/working/brats/training/patient_135\n"
          ]
        },
        {
          "output_type": "stream",
          "name": "stderr",
          "text": [
            "\rProcessing training data:  46%|████▌     | 136/295 [02:07<03:28,  1.31s/it]"
          ]
        },
        {
          "output_type": "stream",
          "name": "stdout",
          "text": [
            "Processed patient 136 to /kaggle/working/brats/training/patient_136\n"
          ]
        },
        {
          "output_type": "stream",
          "name": "stderr",
          "text": [
            "\rProcessing training data:  46%|████▋     | 137/295 [02:07<03:00,  1.14s/it]"
          ]
        },
        {
          "output_type": "stream",
          "name": "stdout",
          "text": [
            "Processed patient 137 to /kaggle/working/brats/training/patient_137\n"
          ]
        },
        {
          "output_type": "stream",
          "name": "stderr",
          "text": [
            "\rProcessing training data:  47%|████▋     | 138/295 [02:08<02:38,  1.01s/it]"
          ]
        },
        {
          "output_type": "stream",
          "name": "stdout",
          "text": [
            "Processed patient 138 to /kaggle/working/brats/training/patient_138\n"
          ]
        },
        {
          "output_type": "stream",
          "name": "stderr",
          "text": [
            "\rProcessing training data:  47%|████▋     | 139/295 [02:09<02:22,  1.09it/s]"
          ]
        },
        {
          "output_type": "stream",
          "name": "stdout",
          "text": [
            "Processed patient 139 to /kaggle/working/brats/training/patient_139\n"
          ]
        },
        {
          "output_type": "stream",
          "name": "stderr",
          "text": [
            "\rProcessing training data:  47%|████▋     | 140/295 [02:10<02:30,  1.03it/s]"
          ]
        },
        {
          "output_type": "stream",
          "name": "stdout",
          "text": [
            "Processed patient 140 to /kaggle/working/brats/training/patient_140\n"
          ]
        },
        {
          "output_type": "stream",
          "name": "stderr",
          "text": [
            "\rProcessing training data:  48%|████▊     | 141/295 [02:11<02:14,  1.14it/s]"
          ]
        },
        {
          "output_type": "stream",
          "name": "stdout",
          "text": [
            "Processed patient 141 to /kaggle/working/brats/training/patient_141\n"
          ]
        },
        {
          "output_type": "stream",
          "name": "stderr",
          "text": [
            "\rProcessing training data:  48%|████▊     | 142/295 [02:11<02:06,  1.21it/s]"
          ]
        },
        {
          "output_type": "stream",
          "name": "stdout",
          "text": [
            "Processed patient 142 to /kaggle/working/brats/training/patient_142\n"
          ]
        },
        {
          "output_type": "stream",
          "name": "stderr",
          "text": [
            "\rProcessing training data:  48%|████▊     | 143/295 [02:12<02:02,  1.24it/s]"
          ]
        },
        {
          "output_type": "stream",
          "name": "stdout",
          "text": [
            "Processed patient 143 to /kaggle/working/brats/training/patient_143\n"
          ]
        },
        {
          "output_type": "stream",
          "name": "stderr",
          "text": [
            "\rProcessing training data:  49%|████▉     | 144/295 [02:13<01:56,  1.30it/s]"
          ]
        },
        {
          "output_type": "stream",
          "name": "stdout",
          "text": [
            "Processed patient 144 to /kaggle/working/brats/training/patient_144\n"
          ]
        },
        {
          "output_type": "stream",
          "name": "stderr",
          "text": [
            "\rProcessing training data:  49%|████▉     | 145/295 [02:14<01:55,  1.30it/s]"
          ]
        },
        {
          "output_type": "stream",
          "name": "stdout",
          "text": [
            "Processed patient 145 to /kaggle/working/brats/training/patient_145\n"
          ]
        },
        {
          "output_type": "stream",
          "name": "stderr",
          "text": [
            "\rProcessing training data:  49%|████▉     | 146/295 [02:15<02:23,  1.04it/s]"
          ]
        },
        {
          "output_type": "stream",
          "name": "stdout",
          "text": [
            "Processed patient 146 to /kaggle/working/brats/training/patient_146\n"
          ]
        },
        {
          "output_type": "stream",
          "name": "stderr",
          "text": [
            "\rProcessing training data:  50%|████▉     | 147/295 [02:16<02:14,  1.10it/s]"
          ]
        },
        {
          "output_type": "stream",
          "name": "stdout",
          "text": [
            "Processed patient 147 to /kaggle/working/brats/training/patient_147\n"
          ]
        },
        {
          "output_type": "stream",
          "name": "stderr",
          "text": [
            "\rProcessing training data:  50%|█████     | 148/295 [02:16<02:05,  1.17it/s]"
          ]
        },
        {
          "output_type": "stream",
          "name": "stdout",
          "text": [
            "Processed patient 148 to /kaggle/working/brats/training/patient_148\n"
          ]
        },
        {
          "output_type": "stream",
          "name": "stderr",
          "text": [
            "\rProcessing training data:  51%|█████     | 149/295 [02:17<01:59,  1.22it/s]"
          ]
        },
        {
          "output_type": "stream",
          "name": "stdout",
          "text": [
            "Processed patient 149 to /kaggle/working/brats/training/patient_149\n"
          ]
        },
        {
          "output_type": "stream",
          "name": "stderr",
          "text": [
            "\rProcessing training data:  51%|█████     | 150/295 [02:18<01:51,  1.30it/s]"
          ]
        },
        {
          "output_type": "stream",
          "name": "stdout",
          "text": [
            "Processed patient 150 to /kaggle/working/brats/training/patient_150\n"
          ]
        },
        {
          "output_type": "stream",
          "name": "stderr",
          "text": [
            "\rProcessing training data:  51%|█████     | 151/295 [02:19<01:50,  1.31it/s]"
          ]
        },
        {
          "output_type": "stream",
          "name": "stdout",
          "text": [
            "Processed patient 151 to /kaggle/working/brats/training/patient_151\n"
          ]
        },
        {
          "output_type": "stream",
          "name": "stderr",
          "text": [
            "\rProcessing training data:  52%|█████▏    | 152/295 [02:22<03:43,  1.56s/it]"
          ]
        },
        {
          "output_type": "stream",
          "name": "stdout",
          "text": [
            "Processed patient 152 to /kaggle/working/brats/training/patient_152\n"
          ]
        },
        {
          "output_type": "stream",
          "name": "stderr",
          "text": [
            "\rProcessing training data:  52%|█████▏    | 153/295 [02:23<03:06,  1.31s/it]"
          ]
        },
        {
          "output_type": "stream",
          "name": "stdout",
          "text": [
            "Processed patient 153 to /kaggle/working/brats/training/patient_153\n"
          ]
        },
        {
          "output_type": "stream",
          "name": "stderr",
          "text": [
            "\rProcessing training data:  52%|█████▏    | 154/295 [02:23<02:39,  1.13s/it]"
          ]
        },
        {
          "output_type": "stream",
          "name": "stdout",
          "text": [
            "Processed patient 154 to /kaggle/working/brats/training/patient_154\n"
          ]
        },
        {
          "output_type": "stream",
          "name": "stderr",
          "text": [
            "\rProcessing training data:  53%|█████▎    | 155/295 [02:24<02:21,  1.01s/it]"
          ]
        },
        {
          "output_type": "stream",
          "name": "stdout",
          "text": [
            "Processed patient 155 to /kaggle/working/brats/training/patient_155\n"
          ]
        },
        {
          "output_type": "stream",
          "name": "stderr",
          "text": [
            "\rProcessing training data:  53%|█████▎    | 156/295 [02:25<02:09,  1.07it/s]"
          ]
        },
        {
          "output_type": "stream",
          "name": "stdout",
          "text": [
            "Processed patient 156 to /kaggle/working/brats/training/patient_156\n"
          ]
        },
        {
          "output_type": "stream",
          "name": "stderr",
          "text": [
            "\rProcessing training data:  53%|█████▎    | 157/295 [02:28<03:52,  1.69s/it]"
          ]
        },
        {
          "output_type": "stream",
          "name": "stdout",
          "text": [
            "Processed patient 157 to /kaggle/working/brats/training/patient_157\n"
          ]
        },
        {
          "output_type": "stream",
          "name": "stderr",
          "text": [
            "\rProcessing training data:  54%|█████▎    | 158/295 [02:29<03:11,  1.40s/it]"
          ]
        },
        {
          "output_type": "stream",
          "name": "stdout",
          "text": [
            "Processed patient 158 to /kaggle/working/brats/training/patient_158\n"
          ]
        },
        {
          "output_type": "stream",
          "name": "stderr",
          "text": [
            "\rProcessing training data:  54%|█████▍    | 159/295 [02:30<02:42,  1.20s/it]"
          ]
        },
        {
          "output_type": "stream",
          "name": "stdout",
          "text": [
            "Processed patient 159 to /kaggle/working/brats/training/patient_159\n"
          ]
        },
        {
          "output_type": "stream",
          "name": "stderr",
          "text": [
            "\rProcessing training data:  54%|█████▍    | 160/295 [02:31<02:21,  1.05s/it]"
          ]
        },
        {
          "output_type": "stream",
          "name": "stdout",
          "text": [
            "Processed patient 160 to /kaggle/working/brats/training/patient_160\n"
          ]
        },
        {
          "output_type": "stream",
          "name": "stderr",
          "text": [
            "\rProcessing training data:  55%|█████▍    | 161/295 [02:31<02:05,  1.07it/s]"
          ]
        },
        {
          "output_type": "stream",
          "name": "stdout",
          "text": [
            "Processed patient 161 to /kaggle/working/brats/training/patient_161\n"
          ]
        },
        {
          "output_type": "stream",
          "name": "stderr",
          "text": [
            "\rProcessing training data:  55%|█████▍    | 162/295 [02:32<01:55,  1.15it/s]"
          ]
        },
        {
          "output_type": "stream",
          "name": "stdout",
          "text": [
            "Processed patient 162 to /kaggle/working/brats/training/patient_162\n"
          ]
        },
        {
          "output_type": "stream",
          "name": "stderr",
          "text": [
            "\rProcessing training data:  55%|█████▌    | 163/295 [02:33<01:45,  1.25it/s]"
          ]
        },
        {
          "output_type": "stream",
          "name": "stdout",
          "text": [
            "Processed patient 163 to /kaggle/working/brats/training/patient_163\n"
          ]
        },
        {
          "output_type": "stream",
          "name": "stderr",
          "text": [
            "\rProcessing training data:  56%|█████▌    | 164/295 [02:33<01:38,  1.33it/s]"
          ]
        },
        {
          "output_type": "stream",
          "name": "stdout",
          "text": [
            "Processed patient 164 to /kaggle/working/brats/training/patient_164\n"
          ]
        },
        {
          "output_type": "stream",
          "name": "stderr",
          "text": [
            "\rProcessing training data:  56%|█████▌    | 165/295 [02:34<01:34,  1.38it/s]"
          ]
        },
        {
          "output_type": "stream",
          "name": "stdout",
          "text": [
            "Processed patient 165 to /kaggle/working/brats/training/patient_165\n"
          ]
        },
        {
          "output_type": "stream",
          "name": "stderr",
          "text": [
            "\rProcessing training data:  56%|█████▋    | 166/295 [02:35<01:32,  1.39it/s]"
          ]
        },
        {
          "output_type": "stream",
          "name": "stdout",
          "text": [
            "Processed patient 166 to /kaggle/working/brats/training/patient_166\n"
          ]
        },
        {
          "output_type": "stream",
          "name": "stderr",
          "text": [
            "\rProcessing training data:  57%|█████▋    | 167/295 [02:39<03:40,  1.72s/it]"
          ]
        },
        {
          "output_type": "stream",
          "name": "stdout",
          "text": [
            "Processed patient 167 to /kaggle/working/brats/training/patient_167\n"
          ]
        },
        {
          "output_type": "stream",
          "name": "stderr",
          "text": [
            "\rProcessing training data:  57%|█████▋    | 168/295 [02:39<02:57,  1.40s/it]"
          ]
        },
        {
          "output_type": "stream",
          "name": "stdout",
          "text": [
            "Processed patient 168 to /kaggle/working/brats/training/patient_168\n"
          ]
        },
        {
          "output_type": "stream",
          "name": "stderr",
          "text": [
            "\rProcessing training data:  57%|█████▋    | 169/295 [02:40<02:29,  1.19s/it]"
          ]
        },
        {
          "output_type": "stream",
          "name": "stdout",
          "text": [
            "Processed patient 169 to /kaggle/working/brats/training/patient_169\n"
          ]
        },
        {
          "output_type": "stream",
          "name": "stderr",
          "text": [
            "\rProcessing training data:  58%|█████▊    | 170/295 [02:41<02:07,  1.02s/it]"
          ]
        },
        {
          "output_type": "stream",
          "name": "stdout",
          "text": [
            "Processed patient 170 to /kaggle/working/brats/training/patient_170\n"
          ]
        },
        {
          "output_type": "stream",
          "name": "stderr",
          "text": [
            "\rProcessing training data:  58%|█████▊    | 171/295 [02:41<01:53,  1.09it/s]"
          ]
        },
        {
          "output_type": "stream",
          "name": "stdout",
          "text": [
            "Processed patient 171 to /kaggle/working/brats/training/patient_171\n"
          ]
        },
        {
          "output_type": "stream",
          "name": "stderr",
          "text": [
            "\rProcessing training data:  58%|█████▊    | 172/295 [02:42<01:42,  1.20it/s]"
          ]
        },
        {
          "output_type": "stream",
          "name": "stdout",
          "text": [
            "Processed patient 172 to /kaggle/working/brats/training/patient_172\n"
          ]
        },
        {
          "output_type": "stream",
          "name": "stderr",
          "text": [
            "\rProcessing training data:  59%|█████▊    | 173/295 [02:45<03:02,  1.50s/it]"
          ]
        },
        {
          "output_type": "stream",
          "name": "stdout",
          "text": [
            "Processed patient 173 to /kaggle/working/brats/training/patient_173\n"
          ]
        },
        {
          "output_type": "stream",
          "name": "stderr",
          "text": [
            "\rProcessing training data:  59%|█████▉    | 174/295 [02:46<02:31,  1.25s/it]"
          ]
        },
        {
          "output_type": "stream",
          "name": "stdout",
          "text": [
            "Processed patient 174 to /kaggle/working/brats/training/patient_174\n"
          ]
        },
        {
          "output_type": "stream",
          "name": "stderr",
          "text": [
            "\rProcessing training data:  59%|█████▉    | 175/295 [02:46<02:08,  1.07s/it]"
          ]
        },
        {
          "output_type": "stream",
          "name": "stdout",
          "text": [
            "Processed patient 175 to /kaggle/working/brats/training/patient_175\n"
          ]
        },
        {
          "output_type": "stream",
          "name": "stderr",
          "text": [
            "\rProcessing training data:  60%|█████▉    | 176/295 [02:47<01:53,  1.05it/s]"
          ]
        },
        {
          "output_type": "stream",
          "name": "stdout",
          "text": [
            "Processed patient 176 to /kaggle/working/brats/training/patient_176\n"
          ]
        },
        {
          "output_type": "stream",
          "name": "stderr",
          "text": [
            "\rProcessing training data:  60%|██████    | 177/295 [02:48<01:42,  1.15it/s]"
          ]
        },
        {
          "output_type": "stream",
          "name": "stdout",
          "text": [
            "Processed patient 177 to /kaggle/working/brats/training/patient_177\n"
          ]
        },
        {
          "output_type": "stream",
          "name": "stderr",
          "text": [
            "\rProcessing training data:  60%|██████    | 178/295 [02:48<01:36,  1.21it/s]"
          ]
        },
        {
          "output_type": "stream",
          "name": "stdout",
          "text": [
            "Processed patient 178 to /kaggle/working/brats/training/patient_178\n"
          ]
        },
        {
          "output_type": "stream",
          "name": "stderr",
          "text": [
            "\rProcessing training data:  61%|██████    | 179/295 [02:49<01:33,  1.24it/s]"
          ]
        },
        {
          "output_type": "stream",
          "name": "stdout",
          "text": [
            "Processed patient 179 to /kaggle/working/brats/training/patient_179\n"
          ]
        },
        {
          "output_type": "stream",
          "name": "stderr",
          "text": [
            "\rProcessing training data:  61%|██████    | 180/295 [02:50<01:29,  1.29it/s]"
          ]
        },
        {
          "output_type": "stream",
          "name": "stdout",
          "text": [
            "Processed patient 180 to /kaggle/working/brats/training/patient_180\n"
          ]
        },
        {
          "output_type": "stream",
          "name": "stderr",
          "text": [
            "\rProcessing training data:  61%|██████▏   | 181/295 [02:50<01:24,  1.35it/s]"
          ]
        },
        {
          "output_type": "stream",
          "name": "stdout",
          "text": [
            "Processed patient 181 to /kaggle/working/brats/training/patient_181\n"
          ]
        },
        {
          "output_type": "stream",
          "name": "stderr",
          "text": [
            "\rProcessing training data:  62%|██████▏   | 182/295 [02:51<01:22,  1.37it/s]"
          ]
        },
        {
          "output_type": "stream",
          "name": "stdout",
          "text": [
            "Processed patient 182 to /kaggle/working/brats/training/patient_182\n"
          ]
        },
        {
          "output_type": "stream",
          "name": "stderr",
          "text": [
            "\rProcessing training data:  62%|██████▏   | 183/295 [02:55<03:01,  1.62s/it]"
          ]
        },
        {
          "output_type": "stream",
          "name": "stdout",
          "text": [
            "Processed patient 183 to /kaggle/working/brats/training/patient_183\n"
          ]
        },
        {
          "output_type": "stream",
          "name": "stderr",
          "text": [
            "\rProcessing training data:  62%|██████▏   | 184/295 [02:56<02:27,  1.33s/it]"
          ]
        },
        {
          "output_type": "stream",
          "name": "stdout",
          "text": [
            "Processed patient 184 to /kaggle/working/brats/training/patient_184\n"
          ]
        },
        {
          "output_type": "stream",
          "name": "stderr",
          "text": [
            "\rProcessing training data:  63%|██████▎   | 185/295 [02:56<02:05,  1.14s/it]"
          ]
        },
        {
          "output_type": "stream",
          "name": "stdout",
          "text": [
            "Processed patient 185 to /kaggle/working/brats/training/patient_185\n"
          ]
        },
        {
          "output_type": "stream",
          "name": "stderr",
          "text": [
            "\rProcessing training data:  63%|██████▎   | 186/295 [02:57<01:48,  1.01it/s]"
          ]
        },
        {
          "output_type": "stream",
          "name": "stdout",
          "text": [
            "Processed patient 186 to /kaggle/working/brats/training/patient_186\n"
          ]
        },
        {
          "output_type": "stream",
          "name": "stderr",
          "text": [
            "\rProcessing training data:  63%|██████▎   | 187/295 [02:58<01:39,  1.09it/s]"
          ]
        },
        {
          "output_type": "stream",
          "name": "stdout",
          "text": [
            "Processed patient 187 to /kaggle/working/brats/training/patient_187\n"
          ]
        },
        {
          "output_type": "stream",
          "name": "stderr",
          "text": [
            "\rProcessing training data:  64%|██████▎   | 188/295 [02:58<01:30,  1.19it/s]"
          ]
        },
        {
          "output_type": "stream",
          "name": "stdout",
          "text": [
            "Processed patient 188 to /kaggle/working/brats/training/patient_188\n"
          ]
        },
        {
          "output_type": "stream",
          "name": "stderr",
          "text": [
            "\rProcessing training data:  64%|██████▍   | 189/295 [02:59<01:33,  1.14it/s]"
          ]
        },
        {
          "output_type": "stream",
          "name": "stdout",
          "text": [
            "Processed patient 189 to /kaggle/working/brats/training/patient_189\n"
          ]
        },
        {
          "output_type": "stream",
          "name": "stderr",
          "text": [
            "\rProcessing training data:  64%|██████▍   | 190/295 [03:00<01:27,  1.20it/s]"
          ]
        },
        {
          "output_type": "stream",
          "name": "stdout",
          "text": [
            "Processed patient 190 to /kaggle/working/brats/training/patient_190\n"
          ]
        },
        {
          "output_type": "stream",
          "name": "stderr",
          "text": [
            "\rProcessing training data:  65%|██████▍   | 191/295 [03:01<01:23,  1.24it/s]"
          ]
        },
        {
          "output_type": "stream",
          "name": "stdout",
          "text": [
            "Processed patient 191 to /kaggle/working/brats/training/patient_191\n"
          ]
        },
        {
          "output_type": "stream",
          "name": "stderr",
          "text": [
            "\rProcessing training data:  65%|██████▌   | 192/295 [03:01<01:19,  1.29it/s]"
          ]
        },
        {
          "output_type": "stream",
          "name": "stdout",
          "text": [
            "Processed patient 192 to /kaggle/working/brats/training/patient_192\n"
          ]
        },
        {
          "output_type": "stream",
          "name": "stderr",
          "text": [
            "\rProcessing training data:  65%|██████▌   | 193/295 [03:02<01:16,  1.33it/s]"
          ]
        },
        {
          "output_type": "stream",
          "name": "stdout",
          "text": [
            "Processed patient 193 to /kaggle/working/brats/training/patient_193\n"
          ]
        },
        {
          "output_type": "stream",
          "name": "stderr",
          "text": [
            "\rProcessing training data:  66%|██████▌   | 194/295 [03:03<01:12,  1.40it/s]"
          ]
        },
        {
          "output_type": "stream",
          "name": "stdout",
          "text": [
            "Processed patient 194 to /kaggle/working/brats/training/patient_194\n"
          ]
        },
        {
          "output_type": "stream",
          "name": "stderr",
          "text": [
            "\rProcessing training data:  66%|██████▌   | 195/295 [03:04<01:21,  1.22it/s]"
          ]
        },
        {
          "output_type": "stream",
          "name": "stdout",
          "text": [
            "Processed patient 195 to /kaggle/working/brats/training/patient_195\n"
          ]
        },
        {
          "output_type": "stream",
          "name": "stderr",
          "text": [
            "\rProcessing training data:  66%|██████▋   | 196/295 [03:04<01:16,  1.29it/s]"
          ]
        },
        {
          "output_type": "stream",
          "name": "stdout",
          "text": [
            "Processed patient 196 to /kaggle/working/brats/training/patient_196\n"
          ]
        },
        {
          "output_type": "stream",
          "name": "stderr",
          "text": [
            "\rProcessing training data:  67%|██████▋   | 197/295 [03:05<01:12,  1.36it/s]"
          ]
        },
        {
          "output_type": "stream",
          "name": "stdout",
          "text": [
            "Processed patient 197 to /kaggle/working/brats/training/patient_197\n"
          ]
        },
        {
          "output_type": "stream",
          "name": "stderr",
          "text": [
            "\rProcessing training data:  67%|██████▋   | 198/295 [03:06<01:08,  1.42it/s]"
          ]
        },
        {
          "output_type": "stream",
          "name": "stdout",
          "text": [
            "Processed patient 198 to /kaggle/working/brats/training/patient_198\n"
          ]
        },
        {
          "output_type": "stream",
          "name": "stderr",
          "text": [
            "\rProcessing training data:  67%|██████▋   | 199/295 [03:06<01:07,  1.43it/s]"
          ]
        },
        {
          "output_type": "stream",
          "name": "stdout",
          "text": [
            "Processed patient 199 to /kaggle/working/brats/training/patient_199\n"
          ]
        },
        {
          "output_type": "stream",
          "name": "stderr",
          "text": [
            "\rProcessing training data:  68%|██████▊   | 200/295 [03:07<01:03,  1.48it/s]"
          ]
        },
        {
          "output_type": "stream",
          "name": "stdout",
          "text": [
            "Processed patient 200 to /kaggle/working/brats/training/patient_200\n"
          ]
        },
        {
          "output_type": "stream",
          "name": "stderr",
          "text": [
            "\rProcessing training data:  68%|██████▊   | 201/295 [03:08<01:04,  1.46it/s]"
          ]
        },
        {
          "output_type": "stream",
          "name": "stdout",
          "text": [
            "Processed patient 201 to /kaggle/working/brats/training/patient_201\n"
          ]
        },
        {
          "output_type": "stream",
          "name": "stderr",
          "text": [
            "\rProcessing training data:  68%|██████▊   | 202/295 [03:08<01:03,  1.47it/s]"
          ]
        },
        {
          "output_type": "stream",
          "name": "stdout",
          "text": [
            "Processed patient 202 to /kaggle/working/brats/training/patient_202\n"
          ]
        },
        {
          "output_type": "stream",
          "name": "stderr",
          "text": [
            "\rProcessing training data:  69%|██████▉   | 203/295 [03:09<01:02,  1.46it/s]"
          ]
        },
        {
          "output_type": "stream",
          "name": "stdout",
          "text": [
            "Processed patient 203 to /kaggle/working/brats/training/patient_203\n"
          ]
        },
        {
          "output_type": "stream",
          "name": "stderr",
          "text": [
            "\rProcessing training data:  69%|██████▉   | 204/295 [03:10<01:01,  1.47it/s]"
          ]
        },
        {
          "output_type": "stream",
          "name": "stdout",
          "text": [
            "Processed patient 204 to /kaggle/working/brats/training/patient_204\n"
          ]
        },
        {
          "output_type": "stream",
          "name": "stderr",
          "text": [
            "\rProcessing training data:  69%|██████▉   | 205/295 [03:10<00:59,  1.50it/s]"
          ]
        },
        {
          "output_type": "stream",
          "name": "stdout",
          "text": [
            "Processed patient 205 to /kaggle/working/brats/training/patient_205\n"
          ]
        },
        {
          "output_type": "stream",
          "name": "stderr",
          "text": [
            "\rProcessing training data:  70%|██████▉   | 206/295 [03:11<00:57,  1.54it/s]"
          ]
        },
        {
          "output_type": "stream",
          "name": "stdout",
          "text": [
            "Processed patient 206 to /kaggle/working/brats/training/patient_206\n"
          ]
        },
        {
          "output_type": "stream",
          "name": "stderr",
          "text": [
            "\rProcessing training data:  70%|███████   | 207/295 [03:16<02:41,  1.83s/it]"
          ]
        },
        {
          "output_type": "stream",
          "name": "stdout",
          "text": [
            "Processed patient 207 to /kaggle/working/brats/training/patient_207\n"
          ]
        },
        {
          "output_type": "stream",
          "name": "stderr",
          "text": [
            "\rProcessing training data:  71%|███████   | 208/295 [03:16<02:08,  1.48s/it]"
          ]
        },
        {
          "output_type": "stream",
          "name": "stdout",
          "text": [
            "Processed patient 208 to /kaggle/working/brats/training/patient_208\n"
          ]
        },
        {
          "output_type": "stream",
          "name": "stderr",
          "text": [
            "\rProcessing training data:  71%|███████   | 209/295 [03:17<01:47,  1.25s/it]"
          ]
        },
        {
          "output_type": "stream",
          "name": "stdout",
          "text": [
            "Processed patient 209 to /kaggle/working/brats/training/patient_209\n"
          ]
        },
        {
          "output_type": "stream",
          "name": "stderr",
          "text": [
            "\rProcessing training data:  71%|███████   | 210/295 [03:18<01:31,  1.08s/it]"
          ]
        },
        {
          "output_type": "stream",
          "name": "stdout",
          "text": [
            "Processed patient 210 to /kaggle/working/brats/training/patient_210\n"
          ]
        },
        {
          "output_type": "stream",
          "name": "stderr",
          "text": [
            "\rProcessing training data:  72%|███████▏  | 211/295 [03:18<01:22,  1.02it/s]"
          ]
        },
        {
          "output_type": "stream",
          "name": "stdout",
          "text": [
            "Processed patient 211 to /kaggle/working/brats/training/patient_211\n"
          ]
        },
        {
          "output_type": "stream",
          "name": "stderr",
          "text": [
            "\rProcessing training data:  72%|███████▏  | 212/295 [03:19<01:13,  1.12it/s]"
          ]
        },
        {
          "output_type": "stream",
          "name": "stdout",
          "text": [
            "Processed patient 212 to /kaggle/working/brats/training/patient_212\n"
          ]
        },
        {
          "output_type": "stream",
          "name": "stderr",
          "text": [
            "\rProcessing training data:  72%|███████▏  | 213/295 [03:20<01:09,  1.18it/s]"
          ]
        },
        {
          "output_type": "stream",
          "name": "stdout",
          "text": [
            "Processed patient 213 to /kaggle/working/brats/training/patient_213\n"
          ]
        },
        {
          "output_type": "stream",
          "name": "stderr",
          "text": [
            "\rProcessing training data:  73%|███████▎  | 214/295 [03:21<01:05,  1.23it/s]"
          ]
        },
        {
          "output_type": "stream",
          "name": "stdout",
          "text": [
            "Processed patient 214 to /kaggle/working/brats/training/patient_214\n"
          ]
        },
        {
          "output_type": "stream",
          "name": "stderr",
          "text": [
            "\rProcessing training data:  73%|███████▎  | 215/295 [03:21<01:01,  1.30it/s]"
          ]
        },
        {
          "output_type": "stream",
          "name": "stdout",
          "text": [
            "Processed patient 215 to /kaggle/working/brats/training/patient_215\n"
          ]
        },
        {
          "output_type": "stream",
          "name": "stderr",
          "text": [
            "\rProcessing training data:  73%|███████▎  | 216/295 [03:22<00:57,  1.38it/s]"
          ]
        },
        {
          "output_type": "stream",
          "name": "stdout",
          "text": [
            "Processed patient 216 to /kaggle/working/brats/training/patient_216\n"
          ]
        },
        {
          "output_type": "stream",
          "name": "stderr",
          "text": [
            "\rProcessing training data:  74%|███████▎  | 217/295 [03:26<02:14,  1.73s/it]"
          ]
        },
        {
          "output_type": "stream",
          "name": "stdout",
          "text": [
            "Processed patient 217 to /kaggle/working/brats/training/patient_217\n"
          ]
        },
        {
          "output_type": "stream",
          "name": "stderr",
          "text": [
            "\rProcessing training data:  74%|███████▍  | 218/295 [03:27<01:49,  1.42s/it]"
          ]
        },
        {
          "output_type": "stream",
          "name": "stdout",
          "text": [
            "Processed patient 218 to /kaggle/working/brats/training/patient_218\n"
          ]
        },
        {
          "output_type": "stream",
          "name": "stderr",
          "text": [
            "\rProcessing training data:  74%|███████▍  | 219/295 [03:27<01:30,  1.19s/it]"
          ]
        },
        {
          "output_type": "stream",
          "name": "stdout",
          "text": [
            "Processed patient 219 to /kaggle/working/brats/training/patient_219\n"
          ]
        },
        {
          "output_type": "stream",
          "name": "stderr",
          "text": [
            "\rProcessing training data:  75%|███████▍  | 220/295 [03:28<01:18,  1.04s/it]"
          ]
        },
        {
          "output_type": "stream",
          "name": "stdout",
          "text": [
            "Processed patient 220 to /kaggle/working/brats/training/patient_220\n"
          ]
        },
        {
          "output_type": "stream",
          "name": "stderr",
          "text": [
            "\rProcessing training data:  75%|███████▍  | 221/295 [03:32<02:14,  1.82s/it]"
          ]
        },
        {
          "output_type": "stream",
          "name": "stdout",
          "text": [
            "Processed patient 221 to /kaggle/working/brats/training/patient_221\n"
          ]
        },
        {
          "output_type": "stream",
          "name": "stderr",
          "text": [
            "\rProcessing training data:  75%|███████▌  | 222/295 [03:32<01:46,  1.46s/it]"
          ]
        },
        {
          "output_type": "stream",
          "name": "stdout",
          "text": [
            "Processed patient 222 to /kaggle/working/brats/training/patient_222\n"
          ]
        },
        {
          "output_type": "stream",
          "name": "stderr",
          "text": [
            "\rProcessing training data:  76%|███████▌  | 223/295 [03:33<01:28,  1.23s/it]"
          ]
        },
        {
          "output_type": "stream",
          "name": "stdout",
          "text": [
            "Processed patient 223 to /kaggle/working/brats/training/patient_223\n"
          ]
        },
        {
          "output_type": "stream",
          "name": "stderr",
          "text": [
            "\rProcessing training data:  76%|███████▌  | 224/295 [03:34<01:14,  1.06s/it]"
          ]
        },
        {
          "output_type": "stream",
          "name": "stdout",
          "text": [
            "Processed patient 224 to /kaggle/working/brats/training/patient_224\n"
          ]
        },
        {
          "output_type": "stream",
          "name": "stderr",
          "text": [
            "\rProcessing training data:  76%|███████▋  | 225/295 [03:34<01:05,  1.07it/s]"
          ]
        },
        {
          "output_type": "stream",
          "name": "stdout",
          "text": [
            "Processed patient 225 to /kaggle/working/brats/training/patient_225\n"
          ]
        },
        {
          "output_type": "stream",
          "name": "stderr",
          "text": [
            "\rProcessing training data:  77%|███████▋  | 226/295 [03:38<02:01,  1.77s/it]"
          ]
        },
        {
          "output_type": "stream",
          "name": "stdout",
          "text": [
            "Processed patient 226 to /kaggle/working/brats/training/patient_226\n"
          ]
        },
        {
          "output_type": "stream",
          "name": "stderr",
          "text": [
            "\rProcessing training data:  77%|███████▋  | 227/295 [03:39<01:37,  1.43s/it]"
          ]
        },
        {
          "output_type": "stream",
          "name": "stdout",
          "text": [
            "Processed patient 227 to /kaggle/working/brats/training/patient_227\n"
          ]
        },
        {
          "output_type": "stream",
          "name": "stderr",
          "text": [
            "\rProcessing training data:  77%|███████▋  | 228/295 [03:39<01:19,  1.19s/it]"
          ]
        },
        {
          "output_type": "stream",
          "name": "stdout",
          "text": [
            "Processed patient 228 to /kaggle/working/brats/training/patient_228\n"
          ]
        },
        {
          "output_type": "stream",
          "name": "stderr",
          "text": [
            "\rProcessing training data:  78%|███████▊  | 229/295 [03:40<01:07,  1.02s/it]"
          ]
        },
        {
          "output_type": "stream",
          "name": "stdout",
          "text": [
            "Processed patient 229 to /kaggle/working/brats/training/patient_229\n"
          ]
        },
        {
          "output_type": "stream",
          "name": "stderr",
          "text": [
            "\rProcessing training data:  78%|███████▊  | 230/295 [03:40<00:58,  1.11it/s]"
          ]
        },
        {
          "output_type": "stream",
          "name": "stdout",
          "text": [
            "Processed patient 230 to /kaggle/working/brats/training/patient_230\n"
          ]
        },
        {
          "output_type": "stream",
          "name": "stderr",
          "text": [
            "\rProcessing training data:  78%|███████▊  | 231/295 [03:44<01:53,  1.77s/it]"
          ]
        },
        {
          "output_type": "stream",
          "name": "stdout",
          "text": [
            "Processed patient 231 to /kaggle/working/brats/training/patient_231\n"
          ]
        },
        {
          "output_type": "stream",
          "name": "stderr",
          "text": [
            "\rProcessing training data:  79%|███████▊  | 232/295 [03:45<01:30,  1.44s/it]"
          ]
        },
        {
          "output_type": "stream",
          "name": "stdout",
          "text": [
            "Processed patient 232 to /kaggle/working/brats/training/patient_232\n"
          ]
        },
        {
          "output_type": "stream",
          "name": "stderr",
          "text": [
            "\rProcessing training data:  79%|███████▉  | 233/295 [03:46<01:14,  1.21s/it]"
          ]
        },
        {
          "output_type": "stream",
          "name": "stdout",
          "text": [
            "Processed patient 233 to /kaggle/working/brats/training/patient_233\n"
          ]
        },
        {
          "output_type": "stream",
          "name": "stderr",
          "text": [
            "\rProcessing training data:  79%|███████▉  | 234/295 [03:46<01:04,  1.06s/it]"
          ]
        },
        {
          "output_type": "stream",
          "name": "stdout",
          "text": [
            "Processed patient 234 to /kaggle/working/brats/training/patient_234\n"
          ]
        },
        {
          "output_type": "stream",
          "name": "stderr",
          "text": [
            "\rProcessing training data:  80%|███████▉  | 235/295 [03:48<01:12,  1.20s/it]"
          ]
        },
        {
          "output_type": "stream",
          "name": "stdout",
          "text": [
            "Processed patient 235 to /kaggle/working/brats/training/patient_235\n"
          ]
        },
        {
          "output_type": "stream",
          "name": "stderr",
          "text": [
            "\rProcessing training data:  80%|████████  | 236/295 [03:49<01:02,  1.06s/it]"
          ]
        },
        {
          "output_type": "stream",
          "name": "stdout",
          "text": [
            "Processed patient 236 to /kaggle/working/brats/training/patient_236\n"
          ]
        },
        {
          "output_type": "stream",
          "name": "stderr",
          "text": [
            "\rProcessing training data:  80%|████████  | 237/295 [03:49<00:55,  1.04it/s]"
          ]
        },
        {
          "output_type": "stream",
          "name": "stdout",
          "text": [
            "Processed patient 237 to /kaggle/working/brats/training/patient_237\n"
          ]
        },
        {
          "output_type": "stream",
          "name": "stderr",
          "text": [
            "\rProcessing training data:  81%|████████  | 238/295 [03:50<00:51,  1.11it/s]"
          ]
        },
        {
          "output_type": "stream",
          "name": "stdout",
          "text": [
            "Processed patient 238 to /kaggle/working/brats/training/patient_238\n"
          ]
        },
        {
          "output_type": "stream",
          "name": "stderr",
          "text": [
            "\rProcessing training data:  81%|████████  | 239/295 [03:51<00:46,  1.21it/s]"
          ]
        },
        {
          "output_type": "stream",
          "name": "stdout",
          "text": [
            "Processed patient 239 to /kaggle/working/brats/training/patient_239\n"
          ]
        },
        {
          "output_type": "stream",
          "name": "stderr",
          "text": [
            "\rProcessing training data:  81%|████████▏ | 240/295 [03:52<00:45,  1.20it/s]"
          ]
        },
        {
          "output_type": "stream",
          "name": "stdout",
          "text": [
            "Processed patient 240 to /kaggle/working/brats/training/patient_240\n"
          ]
        },
        {
          "output_type": "stream",
          "name": "stderr",
          "text": [
            "\rProcessing training data:  82%|████████▏ | 241/295 [03:55<01:19,  1.47s/it]"
          ]
        },
        {
          "output_type": "stream",
          "name": "stdout",
          "text": [
            "Processed patient 241 to /kaggle/working/brats/training/patient_241\n"
          ]
        },
        {
          "output_type": "stream",
          "name": "stderr",
          "text": [
            "\rProcessing training data:  82%|████████▏ | 242/295 [03:55<01:04,  1.22s/it]"
          ]
        },
        {
          "output_type": "stream",
          "name": "stdout",
          "text": [
            "Processed patient 242 to /kaggle/working/brats/training/patient_242\n"
          ]
        },
        {
          "output_type": "stream",
          "name": "stderr",
          "text": [
            "\rProcessing training data:  82%|████████▏ | 243/295 [03:56<00:54,  1.05s/it]"
          ]
        },
        {
          "output_type": "stream",
          "name": "stdout",
          "text": [
            "Processed patient 243 to /kaggle/working/brats/training/patient_243\n"
          ]
        },
        {
          "output_type": "stream",
          "name": "stderr",
          "text": [
            "\rProcessing training data:  83%|████████▎ | 244/295 [03:56<00:47,  1.07it/s]"
          ]
        },
        {
          "output_type": "stream",
          "name": "stdout",
          "text": [
            "Processed patient 244 to /kaggle/working/brats/training/patient_244\n"
          ]
        },
        {
          "output_type": "stream",
          "name": "stderr",
          "text": [
            "\rProcessing training data:  83%|████████▎ | 245/295 [03:57<00:42,  1.17it/s]"
          ]
        },
        {
          "output_type": "stream",
          "name": "stdout",
          "text": [
            "Processed patient 245 to /kaggle/working/brats/training/patient_245\n"
          ]
        },
        {
          "output_type": "stream",
          "name": "stderr",
          "text": [
            "\rProcessing training data:  83%|████████▎ | 246/295 [03:58<00:43,  1.13it/s]"
          ]
        },
        {
          "output_type": "stream",
          "name": "stdout",
          "text": [
            "Processed patient 246 to /kaggle/working/brats/training/patient_246\n"
          ]
        },
        {
          "output_type": "stream",
          "name": "stderr",
          "text": [
            "\rProcessing training data:  84%|████████▎ | 247/295 [03:59<00:41,  1.15it/s]"
          ]
        },
        {
          "output_type": "stream",
          "name": "stdout",
          "text": [
            "Processed patient 247 to /kaggle/working/brats/training/patient_247\n"
          ]
        },
        {
          "output_type": "stream",
          "name": "stderr",
          "text": [
            "\rProcessing training data:  84%|████████▍ | 248/295 [04:00<00:40,  1.16it/s]"
          ]
        },
        {
          "output_type": "stream",
          "name": "stdout",
          "text": [
            "Processed patient 248 to /kaggle/working/brats/training/patient_248\n"
          ]
        },
        {
          "output_type": "stream",
          "name": "stderr",
          "text": [
            "\rProcessing training data:  84%|████████▍ | 249/295 [04:00<00:36,  1.24it/s]"
          ]
        },
        {
          "output_type": "stream",
          "name": "stdout",
          "text": [
            "Processed patient 249 to /kaggle/working/brats/training/patient_249\n"
          ]
        },
        {
          "output_type": "stream",
          "name": "stderr",
          "text": [
            "\rProcessing training data:  85%|████████▍ | 250/295 [04:01<00:35,  1.27it/s]"
          ]
        },
        {
          "output_type": "stream",
          "name": "stdout",
          "text": [
            "Processed patient 250 to /kaggle/working/brats/training/patient_250\n"
          ]
        },
        {
          "output_type": "stream",
          "name": "stderr",
          "text": [
            "\rProcessing training data:  85%|████████▌ | 251/295 [04:02<00:33,  1.32it/s]"
          ]
        },
        {
          "output_type": "stream",
          "name": "stdout",
          "text": [
            "Processed patient 251 to /kaggle/working/brats/training/patient_251\n"
          ]
        },
        {
          "output_type": "stream",
          "name": "stderr",
          "text": [
            "\rProcessing training data:  85%|████████▌ | 252/295 [04:05<01:00,  1.41s/it]"
          ]
        },
        {
          "output_type": "stream",
          "name": "stdout",
          "text": [
            "Processed patient 252 to /kaggle/working/brats/training/patient_252\n"
          ]
        },
        {
          "output_type": "stream",
          "name": "stderr",
          "text": [
            "\rProcessing training data:  86%|████████▌ | 253/295 [04:05<00:50,  1.19s/it]"
          ]
        },
        {
          "output_type": "stream",
          "name": "stdout",
          "text": [
            "Processed patient 253 to /kaggle/working/brats/training/patient_253\n"
          ]
        },
        {
          "output_type": "stream",
          "name": "stderr",
          "text": [
            "\rProcessing training data:  86%|████████▌ | 254/295 [04:06<00:42,  1.04s/it]"
          ]
        },
        {
          "output_type": "stream",
          "name": "stdout",
          "text": [
            "Processed patient 254 to /kaggle/working/brats/training/patient_254\n"
          ]
        },
        {
          "output_type": "stream",
          "name": "stderr",
          "text": [
            "\rProcessing training data:  86%|████████▋ | 255/295 [04:07<00:37,  1.07it/s]"
          ]
        },
        {
          "output_type": "stream",
          "name": "stdout",
          "text": [
            "Processed patient 255 to /kaggle/working/brats/training/patient_255\n"
          ]
        },
        {
          "output_type": "stream",
          "name": "stderr",
          "text": [
            "\rProcessing training data:  87%|████████▋ | 256/295 [04:08<00:33,  1.16it/s]"
          ]
        },
        {
          "output_type": "stream",
          "name": "stdout",
          "text": [
            "Processed patient 256 to /kaggle/working/brats/training/patient_256\n"
          ]
        },
        {
          "output_type": "stream",
          "name": "stderr",
          "text": [
            "\rProcessing training data:  87%|████████▋ | 257/295 [04:08<00:30,  1.24it/s]"
          ]
        },
        {
          "output_type": "stream",
          "name": "stdout",
          "text": [
            "Processed patient 257 to /kaggle/working/brats/training/patient_257\n"
          ]
        },
        {
          "output_type": "stream",
          "name": "stderr",
          "text": [
            "\rProcessing training data:  87%|████████▋ | 258/295 [04:09<00:29,  1.25it/s]"
          ]
        },
        {
          "output_type": "stream",
          "name": "stdout",
          "text": [
            "Processed patient 258 to /kaggle/working/brats/training/patient_258\n"
          ]
        },
        {
          "output_type": "stream",
          "name": "stderr",
          "text": [
            "\rProcessing training data:  88%|████████▊ | 259/295 [04:10<00:27,  1.31it/s]"
          ]
        },
        {
          "output_type": "stream",
          "name": "stdout",
          "text": [
            "Processed patient 259 to /kaggle/working/brats/training/patient_259\n"
          ]
        },
        {
          "output_type": "stream",
          "name": "stderr",
          "text": [
            "\rProcessing training data:  88%|████████▊ | 260/295 [04:10<00:26,  1.32it/s]"
          ]
        },
        {
          "output_type": "stream",
          "name": "stdout",
          "text": [
            "Processed patient 260 to /kaggle/working/brats/training/patient_260\n"
          ]
        },
        {
          "output_type": "stream",
          "name": "stderr",
          "text": [
            "\rProcessing training data:  88%|████████▊ | 261/295 [04:11<00:25,  1.33it/s]"
          ]
        },
        {
          "output_type": "stream",
          "name": "stdout",
          "text": [
            "Processed patient 261 to /kaggle/working/brats/training/patient_261\n"
          ]
        },
        {
          "output_type": "stream",
          "name": "stderr",
          "text": [
            "\rProcessing training data:  89%|████████▉ | 262/295 [04:15<00:55,  1.67s/it]"
          ]
        },
        {
          "output_type": "stream",
          "name": "stdout",
          "text": [
            "Processed patient 262 to /kaggle/working/brats/training/patient_262\n"
          ]
        },
        {
          "output_type": "stream",
          "name": "stderr",
          "text": [
            "\rProcessing training data:  89%|████████▉ | 263/295 [04:16<00:44,  1.38s/it]"
          ]
        },
        {
          "output_type": "stream",
          "name": "stdout",
          "text": [
            "Processed patient 263 to /kaggle/working/brats/training/patient_263\n"
          ]
        },
        {
          "output_type": "stream",
          "name": "stderr",
          "text": [
            "\rProcessing training data:  89%|████████▉ | 264/295 [04:16<00:36,  1.18s/it]"
          ]
        },
        {
          "output_type": "stream",
          "name": "stdout",
          "text": [
            "Processed patient 264 to /kaggle/working/brats/training/patient_264\n"
          ]
        },
        {
          "output_type": "stream",
          "name": "stderr",
          "text": [
            "\rProcessing training data:  90%|████████▉ | 265/295 [04:17<00:31,  1.04s/it]"
          ]
        },
        {
          "output_type": "stream",
          "name": "stdout",
          "text": [
            "Processed patient 265 to /kaggle/working/brats/training/patient_265\n"
          ]
        },
        {
          "output_type": "stream",
          "name": "stderr",
          "text": [
            "\rProcessing training data:  90%|█████████ | 266/295 [04:18<00:31,  1.07s/it]"
          ]
        },
        {
          "output_type": "stream",
          "name": "stdout",
          "text": [
            "Processed patient 266 to /kaggle/working/brats/training/patient_266\n"
          ]
        },
        {
          "output_type": "stream",
          "name": "stderr",
          "text": [
            "\rProcessing training data:  91%|█████████ | 267/295 [04:20<00:31,  1.12s/it]"
          ]
        },
        {
          "output_type": "stream",
          "name": "stdout",
          "text": [
            "Processed patient 267 to /kaggle/working/brats/training/patient_267\n"
          ]
        },
        {
          "output_type": "stream",
          "name": "stderr",
          "text": [
            "\rProcessing training data:  91%|█████████ | 268/295 [04:20<00:27,  1.02s/it]"
          ]
        },
        {
          "output_type": "stream",
          "name": "stdout",
          "text": [
            "Processed patient 268 to /kaggle/working/brats/training/patient_268\n"
          ]
        },
        {
          "output_type": "stream",
          "name": "stderr",
          "text": [
            "\rProcessing training data:  91%|█████████ | 269/295 [04:21<00:24,  1.07it/s]"
          ]
        },
        {
          "output_type": "stream",
          "name": "stdout",
          "text": [
            "Processed patient 269 to /kaggle/working/brats/training/patient_269\n"
          ]
        },
        {
          "output_type": "stream",
          "name": "stderr",
          "text": [
            "\rProcessing training data:  92%|█████████▏| 270/295 [04:22<00:22,  1.13it/s]"
          ]
        },
        {
          "output_type": "stream",
          "name": "stdout",
          "text": [
            "Processed patient 270 to /kaggle/working/brats/training/patient_270\n"
          ]
        },
        {
          "output_type": "stream",
          "name": "stderr",
          "text": [
            "\rProcessing training data:  92%|█████████▏| 271/295 [04:23<00:20,  1.19it/s]"
          ]
        },
        {
          "output_type": "stream",
          "name": "stdout",
          "text": [
            "Processed patient 271 to /kaggle/working/brats/training/patient_271\n"
          ]
        },
        {
          "output_type": "stream",
          "name": "stderr",
          "text": [
            "\rProcessing training data:  92%|█████████▏| 272/295 [04:25<00:32,  1.41s/it]"
          ]
        },
        {
          "output_type": "stream",
          "name": "stdout",
          "text": [
            "Processed patient 272 to /kaggle/working/brats/training/patient_272\n"
          ]
        },
        {
          "output_type": "stream",
          "name": "stderr",
          "text": [
            "\rProcessing training data:  93%|█████████▎| 273/295 [04:26<00:26,  1.22s/it]"
          ]
        },
        {
          "output_type": "stream",
          "name": "stdout",
          "text": [
            "Processed patient 273 to /kaggle/working/brats/training/patient_273\n"
          ]
        },
        {
          "output_type": "stream",
          "name": "stderr",
          "text": [
            "\rProcessing training data:  93%|█████████▎| 274/295 [04:27<00:22,  1.07s/it]"
          ]
        },
        {
          "output_type": "stream",
          "name": "stdout",
          "text": [
            "Processed patient 274 to /kaggle/working/brats/training/patient_274\n"
          ]
        },
        {
          "output_type": "stream",
          "name": "stderr",
          "text": [
            "\rProcessing training data:  93%|█████████▎| 275/295 [04:27<00:18,  1.07it/s]"
          ]
        },
        {
          "output_type": "stream",
          "name": "stdout",
          "text": [
            "Processed patient 275 to /kaggle/working/brats/training/patient_275\n"
          ]
        },
        {
          "output_type": "stream",
          "name": "stderr",
          "text": [
            "\rProcessing training data:  94%|█████████▎| 276/295 [04:28<00:16,  1.17it/s]"
          ]
        },
        {
          "output_type": "stream",
          "name": "stdout",
          "text": [
            "Processed patient 276 to /kaggle/working/brats/training/patient_276\n"
          ]
        },
        {
          "output_type": "stream",
          "name": "stderr",
          "text": [
            "\rProcessing training data:  94%|█████████▍| 277/295 [04:31<00:28,  1.57s/it]"
          ]
        },
        {
          "output_type": "stream",
          "name": "stdout",
          "text": [
            "Processed patient 277 to /kaggle/working/brats/training/patient_277\n"
          ]
        },
        {
          "output_type": "stream",
          "name": "stderr",
          "text": [
            "\rProcessing training data:  94%|█████████▍| 278/295 [04:32<00:21,  1.29s/it]"
          ]
        },
        {
          "output_type": "stream",
          "name": "stdout",
          "text": [
            "Processed patient 278 to /kaggle/working/brats/training/patient_278\n"
          ]
        },
        {
          "output_type": "stream",
          "name": "stderr",
          "text": [
            "\rProcessing training data:  95%|█████████▍| 279/295 [04:33<00:17,  1.12s/it]"
          ]
        },
        {
          "output_type": "stream",
          "name": "stdout",
          "text": [
            "Processed patient 279 to /kaggle/working/brats/training/patient_279\n"
          ]
        },
        {
          "output_type": "stream",
          "name": "stderr",
          "text": [
            "\rProcessing training data:  95%|█████████▍| 280/295 [04:33<00:14,  1.01it/s]"
          ]
        },
        {
          "output_type": "stream",
          "name": "stdout",
          "text": [
            "Processed patient 280 to /kaggle/working/brats/training/patient_280\n"
          ]
        },
        {
          "output_type": "stream",
          "name": "stderr",
          "text": [
            "\rProcessing training data:  95%|█████████▌| 281/295 [04:34<00:12,  1.08it/s]"
          ]
        },
        {
          "output_type": "stream",
          "name": "stdout",
          "text": [
            "Processed patient 281 to /kaggle/working/brats/training/patient_281\n"
          ]
        },
        {
          "output_type": "stream",
          "name": "stderr",
          "text": [
            "\rProcessing training data:  96%|█████████▌| 282/295 [04:37<00:20,  1.58s/it]"
          ]
        },
        {
          "output_type": "stream",
          "name": "stdout",
          "text": [
            "Processed patient 282 to /kaggle/working/brats/training/patient_282\n"
          ]
        },
        {
          "output_type": "stream",
          "name": "stderr",
          "text": [
            "\rProcessing training data:  96%|█████████▌| 283/295 [04:38<00:15,  1.31s/it]"
          ]
        },
        {
          "output_type": "stream",
          "name": "stdout",
          "text": [
            "Processed patient 283 to /kaggle/working/brats/training/patient_283\n"
          ]
        },
        {
          "output_type": "stream",
          "name": "stderr",
          "text": [
            "\rProcessing training data:  96%|█████████▋| 284/295 [04:39<00:12,  1.13s/it]"
          ]
        },
        {
          "output_type": "stream",
          "name": "stdout",
          "text": [
            "Processed patient 284 to /kaggle/working/brats/training/patient_284\n"
          ]
        },
        {
          "output_type": "stream",
          "name": "stderr",
          "text": [
            "\rProcessing training data:  97%|█████████▋| 285/295 [04:39<00:09,  1.01it/s]"
          ]
        },
        {
          "output_type": "stream",
          "name": "stdout",
          "text": [
            "Processed patient 285 to /kaggle/working/brats/training/patient_285\n"
          ]
        },
        {
          "output_type": "stream",
          "name": "stderr",
          "text": [
            "\rProcessing training data:  97%|█████████▋| 286/295 [04:40<00:07,  1.13it/s]"
          ]
        },
        {
          "output_type": "stream",
          "name": "stdout",
          "text": [
            "Processed patient 286 to /kaggle/working/brats/training/patient_286\n"
          ]
        },
        {
          "output_type": "stream",
          "name": "stderr",
          "text": [
            "\rProcessing training data:  97%|█████████▋| 287/295 [04:41<00:06,  1.24it/s]"
          ]
        },
        {
          "output_type": "stream",
          "name": "stdout",
          "text": [
            "Processed patient 287 to /kaggle/working/brats/training/patient_287\n"
          ]
        },
        {
          "output_type": "stream",
          "name": "stderr",
          "text": [
            "\rProcessing training data:  98%|█████████▊| 288/295 [04:44<00:10,  1.55s/it]"
          ]
        },
        {
          "output_type": "stream",
          "name": "stdout",
          "text": [
            "Processed patient 288 to /kaggle/working/brats/training/patient_288\n"
          ]
        },
        {
          "output_type": "stream",
          "name": "stderr",
          "text": [
            "\rProcessing training data:  98%|█████████▊| 289/295 [04:45<00:07,  1.30s/it]"
          ]
        },
        {
          "output_type": "stream",
          "name": "stdout",
          "text": [
            "Processed patient 289 to /kaggle/working/brats/training/patient_289\n"
          ]
        },
        {
          "output_type": "stream",
          "name": "stderr",
          "text": [
            "\rProcessing training data:  98%|█████████▊| 290/295 [04:45<00:05,  1.12s/it]"
          ]
        },
        {
          "output_type": "stream",
          "name": "stdout",
          "text": [
            "Processed patient 290 to /kaggle/working/brats/training/patient_290\n"
          ]
        },
        {
          "output_type": "stream",
          "name": "stderr",
          "text": [
            "\rProcessing training data:  99%|█████████▊| 291/295 [04:46<00:03,  1.00it/s]"
          ]
        },
        {
          "output_type": "stream",
          "name": "stdout",
          "text": [
            "Processed patient 291 to /kaggle/working/brats/training/patient_291\n"
          ]
        },
        {
          "output_type": "stream",
          "name": "stderr",
          "text": [
            "\rProcessing training data:  99%|█████████▉| 292/295 [04:47<00:02,  1.11it/s]"
          ]
        },
        {
          "output_type": "stream",
          "name": "stdout",
          "text": [
            "Processed patient 292 to /kaggle/working/brats/training/patient_292\n"
          ]
        },
        {
          "output_type": "stream",
          "name": "stderr",
          "text": [
            "\rProcessing training data:  99%|█████████▉| 293/295 [04:50<00:03,  1.58s/it]"
          ]
        },
        {
          "output_type": "stream",
          "name": "stdout",
          "text": [
            "Processed patient 293 to /kaggle/working/brats/training/patient_293\n"
          ]
        },
        {
          "output_type": "stream",
          "name": "stderr",
          "text": [
            "\rProcessing training data: 100%|█████████▉| 294/295 [04:51<00:01,  1.32s/it]"
          ]
        },
        {
          "output_type": "stream",
          "name": "stdout",
          "text": [
            "Processed patient 294 to /kaggle/working/brats/training/patient_294\n"
          ]
        },
        {
          "output_type": "stream",
          "name": "stderr",
          "text": [
            "Processing training data: 100%|██████████| 295/295 [04:51<00:00,  1.01it/s]\n"
          ]
        },
        {
          "output_type": "stream",
          "name": "stdout",
          "text": [
            "Processed patient 295 to /kaggle/working/brats/training/patient_295\n"
          ]
        },
        {
          "output_type": "stream",
          "name": "stderr",
          "text": [
            "Processing validation data:   1%|▏         | 1/74 [00:00<00:47,  1.55it/s]"
          ]
        },
        {
          "output_type": "stream",
          "name": "stdout",
          "text": [
            "Processed patient 296 to /kaggle/working/brats/validation/patient_01\n"
          ]
        },
        {
          "output_type": "stream",
          "name": "stderr",
          "text": [
            "\rProcessing validation data:   3%|▎         | 2/74 [00:01<00:50,  1.41it/s]"
          ]
        },
        {
          "output_type": "stream",
          "name": "stdout",
          "text": [
            "Processed patient 297 to /kaggle/working/brats/validation/patient_02\n"
          ]
        },
        {
          "output_type": "stream",
          "name": "stderr",
          "text": [
            "\rProcessing validation data:   4%|▍         | 3/74 [00:04<02:10,  1.84s/it]"
          ]
        },
        {
          "output_type": "stream",
          "name": "stdout",
          "text": [
            "Processed patient 298 to /kaggle/working/brats/validation/patient_03\n"
          ]
        },
        {
          "output_type": "stream",
          "name": "stderr",
          "text": [
            "\rProcessing validation data:   5%|▌         | 4/74 [00:05<01:39,  1.42s/it]"
          ]
        },
        {
          "output_type": "stream",
          "name": "stdout",
          "text": [
            "Processed patient 299 to /kaggle/working/brats/validation/patient_04\n"
          ]
        },
        {
          "output_type": "stream",
          "name": "stderr",
          "text": [
            "\rProcessing validation data:   7%|▋         | 5/74 [00:06<01:21,  1.19s/it]"
          ]
        },
        {
          "output_type": "stream",
          "name": "stdout",
          "text": [
            "Processed patient 300 to /kaggle/working/brats/validation/patient_05\n"
          ]
        },
        {
          "output_type": "stream",
          "name": "stderr",
          "text": [
            "\rProcessing validation data:   8%|▊         | 6/74 [00:06<01:09,  1.02s/it]"
          ]
        },
        {
          "output_type": "stream",
          "name": "stdout",
          "text": [
            "Processed patient 301 to /kaggle/working/brats/validation/patient_06\n"
          ]
        },
        {
          "output_type": "stream",
          "name": "stderr",
          "text": [
            "\rProcessing validation data:   9%|▉         | 7/74 [00:07<01:03,  1.06it/s]"
          ]
        },
        {
          "output_type": "stream",
          "name": "stdout",
          "text": [
            "Processed patient 302 to /kaggle/working/brats/validation/patient_07\n"
          ]
        },
        {
          "output_type": "stream",
          "name": "stderr",
          "text": [
            "\rProcessing validation data:  11%|█         | 8/74 [00:08<00:56,  1.16it/s]"
          ]
        },
        {
          "output_type": "stream",
          "name": "stdout",
          "text": [
            "Processed patient 303 to /kaggle/working/brats/validation/patient_08\n"
          ]
        },
        {
          "output_type": "stream",
          "name": "stderr",
          "text": [
            "\rProcessing validation data:  12%|█▏        | 9/74 [00:08<00:51,  1.26it/s]"
          ]
        },
        {
          "output_type": "stream",
          "name": "stdout",
          "text": [
            "Processed patient 304 to /kaggle/working/brats/validation/patient_09\n"
          ]
        },
        {
          "output_type": "stream",
          "name": "stderr",
          "text": [
            "\rProcessing validation data:  14%|█▎        | 10/74 [00:09<00:50,  1.27it/s]"
          ]
        },
        {
          "output_type": "stream",
          "name": "stdout",
          "text": [
            "Processed patient 305 to /kaggle/working/brats/validation/patient_10\n"
          ]
        },
        {
          "output_type": "stream",
          "name": "stderr",
          "text": [
            "\rProcessing validation data:  15%|█▍        | 11/74 [00:10<00:48,  1.31it/s]"
          ]
        },
        {
          "output_type": "stream",
          "name": "stdout",
          "text": [
            "Processed patient 306 to /kaggle/working/brats/validation/patient_11\n"
          ]
        },
        {
          "output_type": "stream",
          "name": "stderr",
          "text": [
            "\rProcessing validation data:  16%|█▌        | 12/74 [00:11<00:46,  1.32it/s]"
          ]
        },
        {
          "output_type": "stream",
          "name": "stdout",
          "text": [
            "Processed patient 307 to /kaggle/working/brats/validation/patient_12\n"
          ]
        },
        {
          "output_type": "stream",
          "name": "stderr",
          "text": [
            "\rProcessing validation data:  18%|█▊        | 13/74 [00:14<01:39,  1.63s/it]"
          ]
        },
        {
          "output_type": "stream",
          "name": "stdout",
          "text": [
            "Processed patient 308 to /kaggle/working/brats/validation/patient_13\n"
          ]
        },
        {
          "output_type": "stream",
          "name": "stderr",
          "text": [
            "\rProcessing validation data:  19%|█▉        | 14/74 [00:15<01:20,  1.35s/it]"
          ]
        },
        {
          "output_type": "stream",
          "name": "stdout",
          "text": [
            "Processed patient 309 to /kaggle/working/brats/validation/patient_14\n"
          ]
        },
        {
          "output_type": "stream",
          "name": "stderr",
          "text": [
            "\rProcessing validation data:  20%|██        | 15/74 [00:16<01:09,  1.17s/it]"
          ]
        },
        {
          "output_type": "stream",
          "name": "stdout",
          "text": [
            "Processed patient 310 to /kaggle/working/brats/validation/patient_15\n"
          ]
        },
        {
          "output_type": "stream",
          "name": "stderr",
          "text": [
            "\rProcessing validation data:  22%|██▏       | 16/74 [00:16<00:59,  1.02s/it]"
          ]
        },
        {
          "output_type": "stream",
          "name": "stdout",
          "text": [
            "Processed patient 311 to /kaggle/working/brats/validation/patient_16\n"
          ]
        },
        {
          "output_type": "stream",
          "name": "stderr",
          "text": [
            "\rProcessing validation data:  23%|██▎       | 17/74 [00:17<00:52,  1.08it/s]"
          ]
        },
        {
          "output_type": "stream",
          "name": "stdout",
          "text": [
            "Processed patient 312 to /kaggle/working/brats/validation/patient_17\n"
          ]
        },
        {
          "output_type": "stream",
          "name": "stderr",
          "text": [
            "\rProcessing validation data:  24%|██▍       | 18/74 [00:18<00:48,  1.17it/s]"
          ]
        },
        {
          "output_type": "stream",
          "name": "stdout",
          "text": [
            "Processed patient 313 to /kaggle/working/brats/validation/patient_18\n"
          ]
        },
        {
          "output_type": "stream",
          "name": "stderr",
          "text": [
            "\rProcessing validation data:  26%|██▌       | 19/74 [00:19<00:44,  1.25it/s]"
          ]
        },
        {
          "output_type": "stream",
          "name": "stdout",
          "text": [
            "Processed patient 314 to /kaggle/working/brats/validation/patient_19\n"
          ]
        },
        {
          "output_type": "stream",
          "name": "stderr",
          "text": [
            "\rProcessing validation data:  27%|██▋       | 20/74 [00:19<00:41,  1.31it/s]"
          ]
        },
        {
          "output_type": "stream",
          "name": "stdout",
          "text": [
            "Processed patient 315 to /kaggle/working/brats/validation/patient_20\n"
          ]
        },
        {
          "output_type": "stream",
          "name": "stderr",
          "text": [
            "\rProcessing validation data:  28%|██▊       | 21/74 [00:20<00:39,  1.36it/s]"
          ]
        },
        {
          "output_type": "stream",
          "name": "stdout",
          "text": [
            "Processed patient 316 to /kaggle/working/brats/validation/patient_21\n"
          ]
        },
        {
          "output_type": "stream",
          "name": "stderr",
          "text": [
            "\rProcessing validation data:  30%|██▉       | 22/74 [00:20<00:36,  1.41it/s]"
          ]
        },
        {
          "output_type": "stream",
          "name": "stdout",
          "text": [
            "Processed patient 317 to /kaggle/working/brats/validation/patient_22\n"
          ]
        },
        {
          "output_type": "stream",
          "name": "stderr",
          "text": [
            "\rProcessing validation data:  31%|███       | 23/74 [00:21<00:35,  1.42it/s]"
          ]
        },
        {
          "output_type": "stream",
          "name": "stdout",
          "text": [
            "Processed patient 318 to /kaggle/working/brats/validation/patient_23\n"
          ]
        },
        {
          "output_type": "stream",
          "name": "stderr",
          "text": [
            "\rProcessing validation data:  32%|███▏      | 24/74 [00:25<01:20,  1.60s/it]"
          ]
        },
        {
          "output_type": "stream",
          "name": "stdout",
          "text": [
            "Processed patient 319 to /kaggle/working/brats/validation/patient_24\n"
          ]
        },
        {
          "output_type": "stream",
          "name": "stderr",
          "text": [
            "\rProcessing validation data:  34%|███▍      | 25/74 [00:26<01:05,  1.33s/it]"
          ]
        },
        {
          "output_type": "stream",
          "name": "stdout",
          "text": [
            "Processed patient 320 to /kaggle/working/brats/validation/patient_25\n"
          ]
        },
        {
          "output_type": "stream",
          "name": "stderr",
          "text": [
            "\rProcessing validation data:  35%|███▌      | 26/74 [00:26<00:54,  1.14s/it]"
          ]
        },
        {
          "output_type": "stream",
          "name": "stdout",
          "text": [
            "Processed patient 321 to /kaggle/working/brats/validation/patient_26\n"
          ]
        },
        {
          "output_type": "stream",
          "name": "stderr",
          "text": [
            "\rProcessing validation data:  36%|███▋      | 27/74 [00:27<00:48,  1.04s/it]"
          ]
        },
        {
          "output_type": "stream",
          "name": "stdout",
          "text": [
            "Processed patient 322 to /kaggle/working/brats/validation/patient_27\n"
          ]
        },
        {
          "output_type": "stream",
          "name": "stderr",
          "text": [
            "\rProcessing validation data:  38%|███▊      | 28/74 [00:31<01:20,  1.76s/it]"
          ]
        },
        {
          "output_type": "stream",
          "name": "stdout",
          "text": [
            "Processed patient 323 to /kaggle/working/brats/validation/patient_28\n"
          ]
        },
        {
          "output_type": "stream",
          "name": "stderr",
          "text": [
            "\rProcessing validation data:  39%|███▉      | 29/74 [00:31<01:04,  1.43s/it]"
          ]
        },
        {
          "output_type": "stream",
          "name": "stdout",
          "text": [
            "Processed patient 324 to /kaggle/working/brats/validation/patient_29\n"
          ]
        },
        {
          "output_type": "stream",
          "name": "stderr",
          "text": [
            "\rProcessing validation data:  41%|████      | 30/74 [00:32<00:53,  1.22s/it]"
          ]
        },
        {
          "output_type": "stream",
          "name": "stdout",
          "text": [
            "Processed patient 325 to /kaggle/working/brats/validation/patient_30\n"
          ]
        },
        {
          "output_type": "stream",
          "name": "stderr",
          "text": [
            "\rProcessing validation data:  42%|████▏     | 31/74 [00:33<00:45,  1.05s/it]"
          ]
        },
        {
          "output_type": "stream",
          "name": "stdout",
          "text": [
            "Processed patient 326 to /kaggle/working/brats/validation/patient_31\n"
          ]
        },
        {
          "output_type": "stream",
          "name": "stderr",
          "text": [
            "\rProcessing validation data:  43%|████▎     | 32/74 [00:33<00:39,  1.06it/s]"
          ]
        },
        {
          "output_type": "stream",
          "name": "stdout",
          "text": [
            "Processed patient 327 to /kaggle/working/brats/validation/patient_32\n"
          ]
        },
        {
          "output_type": "stream",
          "name": "stderr",
          "text": [
            "\rProcessing validation data:  45%|████▍     | 33/74 [00:34<00:35,  1.14it/s]"
          ]
        },
        {
          "output_type": "stream",
          "name": "stdout",
          "text": [
            "Processed patient 328 to /kaggle/working/brats/validation/patient_33\n"
          ]
        },
        {
          "output_type": "stream",
          "name": "stderr",
          "text": [
            "\rProcessing validation data:  46%|████▌     | 34/74 [00:35<00:32,  1.24it/s]"
          ]
        },
        {
          "output_type": "stream",
          "name": "stdout",
          "text": [
            "Processed patient 329 to /kaggle/working/brats/validation/patient_34\n"
          ]
        },
        {
          "output_type": "stream",
          "name": "stderr",
          "text": [
            "\rProcessing validation data:  47%|████▋     | 35/74 [00:35<00:30,  1.28it/s]"
          ]
        },
        {
          "output_type": "stream",
          "name": "stdout",
          "text": [
            "Processed patient 330 to /kaggle/working/brats/validation/patient_35\n"
          ]
        },
        {
          "output_type": "stream",
          "name": "stderr",
          "text": [
            "\rProcessing validation data:  49%|████▊     | 36/74 [00:36<00:28,  1.35it/s]"
          ]
        },
        {
          "output_type": "stream",
          "name": "stdout",
          "text": [
            "Processed patient 331 to /kaggle/working/brats/validation/patient_36\n"
          ]
        },
        {
          "output_type": "stream",
          "name": "stderr",
          "text": [
            "\rProcessing validation data:  50%|█████     | 37/74 [00:37<00:27,  1.33it/s]"
          ]
        },
        {
          "output_type": "stream",
          "name": "stdout",
          "text": [
            "Processed patient 332 to /kaggle/working/brats/validation/patient_37\n"
          ]
        },
        {
          "output_type": "stream",
          "name": "stderr",
          "text": [
            "\rProcessing validation data:  51%|█████▏    | 38/74 [00:41<01:01,  1.71s/it]"
          ]
        },
        {
          "output_type": "stream",
          "name": "stdout",
          "text": [
            "Processed patient 333 to /kaggle/working/brats/validation/patient_38\n"
          ]
        },
        {
          "output_type": "stream",
          "name": "stderr",
          "text": [
            "\rProcessing validation data:  53%|█████▎    | 39/74 [00:41<00:49,  1.42s/it]"
          ]
        },
        {
          "output_type": "stream",
          "name": "stdout",
          "text": [
            "Processed patient 334 to /kaggle/working/brats/validation/patient_39\n"
          ]
        },
        {
          "output_type": "stream",
          "name": "stderr",
          "text": [
            "\rProcessing validation data:  54%|█████▍    | 40/74 [00:42<00:40,  1.20s/it]"
          ]
        },
        {
          "output_type": "stream",
          "name": "stdout",
          "text": [
            "Processed patient 335 to /kaggle/working/brats/validation/patient_40\n"
          ]
        },
        {
          "output_type": "stream",
          "name": "stderr",
          "text": [
            "\rProcessing validation data:  55%|█████▌    | 41/74 [00:43<00:40,  1.23s/it]"
          ]
        },
        {
          "output_type": "stream",
          "name": "stdout",
          "text": [
            "Processed patient 336 to /kaggle/working/brats/validation/patient_41\n"
          ]
        },
        {
          "output_type": "stream",
          "name": "stderr",
          "text": [
            "\rProcessing validation data:  57%|█████▋    | 42/74 [00:45<00:40,  1.27s/it]"
          ]
        },
        {
          "output_type": "stream",
          "name": "stdout",
          "text": [
            "Processed patient 337 to /kaggle/working/brats/validation/patient_42\n"
          ]
        },
        {
          "output_type": "stream",
          "name": "stderr",
          "text": [
            "\rProcessing validation data:  58%|█████▊    | 43/74 [00:46<00:40,  1.29s/it]"
          ]
        },
        {
          "output_type": "stream",
          "name": "stdout",
          "text": [
            "Processed patient 338 to /kaggle/working/brats/validation/patient_43\n"
          ]
        },
        {
          "output_type": "stream",
          "name": "stderr",
          "text": [
            "\rProcessing validation data:  59%|█████▉    | 44/74 [00:47<00:38,  1.29s/it]"
          ]
        },
        {
          "output_type": "stream",
          "name": "stdout",
          "text": [
            "Processed patient 339 to /kaggle/working/brats/validation/patient_44\n"
          ]
        },
        {
          "output_type": "stream",
          "name": "stderr",
          "text": [
            "\rProcessing validation data:  61%|██████    | 45/74 [00:51<00:55,  1.90s/it]"
          ]
        },
        {
          "output_type": "stream",
          "name": "stdout",
          "text": [
            "Processed patient 340 to /kaggle/working/brats/validation/patient_45\n"
          ]
        },
        {
          "output_type": "stream",
          "name": "stderr",
          "text": [
            "\rProcessing validation data:  62%|██████▏   | 46/74 [00:52<00:48,  1.74s/it]"
          ]
        },
        {
          "output_type": "stream",
          "name": "stdout",
          "text": [
            "Processed patient 341 to /kaggle/working/brats/validation/patient_46\n"
          ]
        },
        {
          "output_type": "stream",
          "name": "stderr",
          "text": [
            "\rProcessing validation data:  64%|██████▎   | 47/74 [00:53<00:43,  1.61s/it]"
          ]
        },
        {
          "output_type": "stream",
          "name": "stdout",
          "text": [
            "Processed patient 342 to /kaggle/working/brats/validation/patient_47\n"
          ]
        },
        {
          "output_type": "stream",
          "name": "stderr",
          "text": [
            "\rProcessing validation data:  65%|██████▍   | 48/74 [01:00<01:21,  3.14s/it]"
          ]
        },
        {
          "output_type": "stream",
          "name": "stdout",
          "text": [
            "Processed patient 343 to /kaggle/working/brats/validation/patient_48\n"
          ]
        },
        {
          "output_type": "stream",
          "name": "stderr",
          "text": [
            "\rProcessing validation data:  66%|██████▌   | 49/74 [01:01<01:04,  2.57s/it]"
          ]
        },
        {
          "output_type": "stream",
          "name": "stdout",
          "text": [
            "Processed patient 344 to /kaggle/working/brats/validation/patient_49\n"
          ]
        },
        {
          "output_type": "stream",
          "name": "stderr",
          "text": [
            "\rProcessing validation data:  68%|██████▊   | 50/74 [01:05<01:12,  3.02s/it]"
          ]
        },
        {
          "output_type": "stream",
          "name": "stdout",
          "text": [
            "Processed patient 345 to /kaggle/working/brats/validation/patient_50\n"
          ]
        },
        {
          "output_type": "stream",
          "name": "stderr",
          "text": [
            "\rProcessing validation data:  69%|██████▉   | 51/74 [01:07<00:57,  2.51s/it]"
          ]
        },
        {
          "output_type": "stream",
          "name": "stdout",
          "text": [
            "Processed patient 346 to /kaggle/working/brats/validation/patient_51\n"
          ]
        },
        {
          "output_type": "stream",
          "name": "stderr",
          "text": [
            "\rProcessing validation data:  70%|███████   | 52/74 [01:08<00:47,  2.16s/it]"
          ]
        },
        {
          "output_type": "stream",
          "name": "stdout",
          "text": [
            "Processed patient 347 to /kaggle/working/brats/validation/patient_52\n"
          ]
        },
        {
          "output_type": "stream",
          "name": "stderr",
          "text": [
            "\rProcessing validation data:  72%|███████▏  | 53/74 [01:10<00:40,  1.94s/it]"
          ]
        },
        {
          "output_type": "stream",
          "name": "stdout",
          "text": [
            "Processed patient 348 to /kaggle/working/brats/validation/patient_53\n"
          ]
        },
        {
          "output_type": "stream",
          "name": "stderr",
          "text": [
            "\rProcessing validation data:  73%|███████▎  | 54/74 [01:11<00:34,  1.70s/it]"
          ]
        },
        {
          "output_type": "stream",
          "name": "stdout",
          "text": [
            "Processed patient 349 to /kaggle/working/brats/validation/patient_54\n"
          ]
        },
        {
          "output_type": "stream",
          "name": "stderr",
          "text": [
            "\rProcessing validation data:  74%|███████▍  | 55/74 [01:12<00:29,  1.58s/it]"
          ]
        },
        {
          "output_type": "stream",
          "name": "stdout",
          "text": [
            "Processed patient 350 to /kaggle/working/brats/validation/patient_55\n"
          ]
        },
        {
          "output_type": "stream",
          "name": "stderr",
          "text": [
            "\rProcessing validation data:  76%|███████▌  | 56/74 [01:13<00:26,  1.49s/it]"
          ]
        },
        {
          "output_type": "stream",
          "name": "stdout",
          "text": [
            "Processed patient 351 to /kaggle/working/brats/validation/patient_56\n"
          ]
        },
        {
          "output_type": "stream",
          "name": "stderr",
          "text": [
            "\rProcessing validation data:  77%|███████▋  | 57/74 [01:16<00:33,  1.98s/it]"
          ]
        },
        {
          "output_type": "stream",
          "name": "stdout",
          "text": [
            "Processed patient 352 to /kaggle/working/brats/validation/patient_57\n"
          ]
        },
        {
          "output_type": "stream",
          "name": "stderr",
          "text": [
            "\rProcessing validation data:  78%|███████▊  | 58/74 [01:18<00:28,  1.77s/it]"
          ]
        },
        {
          "output_type": "stream",
          "name": "stdout",
          "text": [
            "Processed patient 353 to /kaggle/working/brats/validation/patient_58\n"
          ]
        },
        {
          "output_type": "stream",
          "name": "stderr",
          "text": [
            "\rProcessing validation data:  80%|███████▉  | 59/74 [01:19<00:24,  1.64s/it]"
          ]
        },
        {
          "output_type": "stream",
          "name": "stdout",
          "text": [
            "Processed patient 354 to /kaggle/working/brats/validation/patient_59\n",
            "Unknown modality in file W39_1998.09.19_Segm.nii. Skipping.\n"
          ]
        },
        {
          "output_type": "stream",
          "name": "stderr",
          "text": [
            "\rProcessing validation data:  81%|████████  | 60/74 [01:26<00:45,  3.23s/it]"
          ]
        },
        {
          "output_type": "stream",
          "name": "stdout",
          "text": [
            "Processed patient 355 to /kaggle/working/brats/validation/patient_60\n"
          ]
        },
        {
          "output_type": "stream",
          "name": "stderr",
          "text": [
            "\rProcessing validation data:  82%|████████▏ | 61/74 [01:27<00:34,  2.66s/it]"
          ]
        },
        {
          "output_type": "stream",
          "name": "stdout",
          "text": [
            "Processed patient 356 to /kaggle/working/brats/validation/patient_61\n"
          ]
        },
        {
          "output_type": "stream",
          "name": "stderr",
          "text": [
            "\rProcessing validation data:  84%|████████▍ | 62/74 [01:28<00:26,  2.20s/it]"
          ]
        },
        {
          "output_type": "stream",
          "name": "stdout",
          "text": [
            "Processed patient 357 to /kaggle/working/brats/validation/patient_62\n"
          ]
        },
        {
          "output_type": "stream",
          "name": "stderr",
          "text": [
            "\rProcessing validation data:  85%|████████▌ | 63/74 [01:30<00:22,  2.08s/it]"
          ]
        },
        {
          "output_type": "stream",
          "name": "stdout",
          "text": [
            "Processed patient 358 to /kaggle/working/brats/validation/patient_63\n"
          ]
        },
        {
          "output_type": "stream",
          "name": "stderr",
          "text": [
            "\rProcessing validation data:  86%|████████▋ | 64/74 [01:32<00:18,  1.88s/it]"
          ]
        },
        {
          "output_type": "stream",
          "name": "stdout",
          "text": [
            "Processed patient 359 to /kaggle/working/brats/validation/patient_64\n"
          ]
        },
        {
          "output_type": "stream",
          "name": "stderr",
          "text": [
            "\rProcessing validation data:  88%|████████▊ | 65/74 [01:36<00:23,  2.66s/it]"
          ]
        },
        {
          "output_type": "stream",
          "name": "stdout",
          "text": [
            "Processed patient 360 to /kaggle/working/brats/validation/patient_65\n"
          ]
        },
        {
          "output_type": "stream",
          "name": "stderr",
          "text": [
            "\rProcessing validation data:  89%|████████▉ | 66/74 [01:38<00:18,  2.33s/it]"
          ]
        },
        {
          "output_type": "stream",
          "name": "stdout",
          "text": [
            "Processed patient 361 to /kaggle/working/brats/validation/patient_66\n"
          ]
        },
        {
          "output_type": "stream",
          "name": "stderr",
          "text": [
            "\rProcessing validation data:  91%|█████████ | 67/74 [01:39<00:14,  2.05s/it]"
          ]
        },
        {
          "output_type": "stream",
          "name": "stdout",
          "text": [
            "Processed patient 362 to /kaggle/working/brats/validation/patient_67\n"
          ]
        },
        {
          "output_type": "stream",
          "name": "stderr",
          "text": [
            "\rProcessing validation data:  92%|█████████▏| 68/74 [01:40<00:10,  1.81s/it]"
          ]
        },
        {
          "output_type": "stream",
          "name": "stdout",
          "text": [
            "Processed patient 363 to /kaggle/working/brats/validation/patient_68\n"
          ]
        },
        {
          "output_type": "stream",
          "name": "stderr",
          "text": [
            "\rProcessing validation data:  93%|█████████▎| 69/74 [01:42<00:08,  1.66s/it]"
          ]
        },
        {
          "output_type": "stream",
          "name": "stdout",
          "text": [
            "Processed patient 364 to /kaggle/working/brats/validation/patient_69\n"
          ]
        },
        {
          "output_type": "stream",
          "name": "stderr",
          "text": [
            "\rProcessing validation data:  95%|█████████▍| 70/74 [01:43<00:06,  1.58s/it]"
          ]
        },
        {
          "output_type": "stream",
          "name": "stdout",
          "text": [
            "Processed patient 365 to /kaggle/working/brats/validation/patient_70\n"
          ]
        },
        {
          "output_type": "stream",
          "name": "stderr",
          "text": [
            "\rProcessing validation data:  96%|█████████▌| 71/74 [01:47<00:07,  2.40s/it]"
          ]
        },
        {
          "output_type": "stream",
          "name": "stdout",
          "text": [
            "Processed patient 366 to /kaggle/working/brats/validation/patient_71\n"
          ]
        },
        {
          "output_type": "stream",
          "name": "stderr",
          "text": [
            "\rProcessing validation data:  97%|█████████▋| 72/74 [01:49<00:04,  2.07s/it]"
          ]
        },
        {
          "output_type": "stream",
          "name": "stdout",
          "text": [
            "Processed patient 367 to /kaggle/working/brats/validation/patient_72\n"
          ]
        },
        {
          "output_type": "stream",
          "name": "stderr",
          "text": [
            "\rProcessing validation data:  99%|█████████▊| 73/74 [01:53<00:02,  2.72s/it]"
          ]
        },
        {
          "output_type": "stream",
          "name": "stdout",
          "text": [
            "Processed patient 368 to /kaggle/working/brats/validation/patient_73\n"
          ]
        },
        {
          "output_type": "stream",
          "name": "stderr",
          "text": [
            "Processing validation data: 100%|██████████| 74/74 [01:54<00:00,  1.55s/it]"
          ]
        },
        {
          "output_type": "stream",
          "name": "stdout",
          "text": [
            "Processed patient 369 to /kaggle/working/brats/validation/patient_74\n",
            "Successfully created the dataset structure:\n",
            "Training patients: 295\n",
            "Validation patients: 74\n",
            "Data located at: /kaggle/working/brats\n"
          ]
        },
        {
          "output_type": "stream",
          "name": "stderr",
          "text": [
            "\n"
          ]
        }
      ]
    },
    {
      "cell_type": "code",
      "execution_count": 15,
      "metadata": {
        "collapsed": true,
        "id": "X3KfrcTjJ8VL",
        "colab": {
          "base_uri": "https://localhost:8080/",
          "height": 1000
        },
        "outputId": "176af964-6fde-487b-e92e-2f3cfacab6a3"
      },
      "outputs": [
        {
          "output_type": "stream",
          "name": "stdout",
          "text": [
            "Collecting blobfile\n",
            "  Downloading blobfile-3.0.0-py3-none-any.whl.metadata (15 kB)\n",
            "Collecting pycryptodomex>=3.8 (from blobfile)\n",
            "  Downloading pycryptodomex-3.22.0-cp37-abi3-manylinux_2_17_x86_64.manylinux2014_x86_64.whl.metadata (3.4 kB)\n",
            "Requirement already satisfied: urllib3<3,>=1.25.3 in /usr/local/lib/python3.11/dist-packages (from blobfile) (2.4.0)\n",
            "Requirement already satisfied: lxml>=4.9 in /usr/local/lib/python3.11/dist-packages (from blobfile) (5.4.0)\n",
            "Requirement already satisfied: filelock>=3.0 in /usr/local/lib/python3.11/dist-packages (from blobfile) (3.18.0)\n",
            "Downloading blobfile-3.0.0-py3-none-any.whl (75 kB)\n",
            "\u001b[2K   \u001b[90m━━━━━━━━━━━━━━━━━━━━━━━━━━━━━━━━━━━━━━━━\u001b[0m \u001b[32m75.4/75.4 kB\u001b[0m \u001b[31m4.3 MB/s\u001b[0m eta \u001b[36m0:00:00\u001b[0m\n",
            "\u001b[?25hDownloading pycryptodomex-3.22.0-cp37-abi3-manylinux_2_17_x86_64.manylinux2014_x86_64.whl (2.3 MB)\n",
            "\u001b[2K   \u001b[90m━━━━━━━━━━━━━━━━━━━━━━━━━━━━━━━━━━━━━━━━\u001b[0m \u001b[32m2.3/2.3 MB\u001b[0m \u001b[31m50.0 MB/s\u001b[0m eta \u001b[36m0:00:00\u001b[0m\n",
            "\u001b[?25hInstalling collected packages: pycryptodomex, blobfile\n",
            "Successfully installed blobfile-3.0.0 pycryptodomex-3.22.0\n",
            "Requirement already satisfied: nibabel in /usr/local/lib/python3.11/dist-packages (5.3.2)\n",
            "Requirement already satisfied: importlib-resources>=5.12 in /usr/local/lib/python3.11/dist-packages (from nibabel) (6.5.2)\n",
            "Requirement already satisfied: numpy>=1.22 in /usr/local/lib/python3.11/dist-packages (from nibabel) (2.0.2)\n",
            "Requirement already satisfied: packaging>=20 in /usr/local/lib/python3.11/dist-packages (from nibabel) (24.2)\n",
            "Requirement already satisfied: typing-extensions>=4.6 in /usr/local/lib/python3.11/dist-packages (from nibabel) (4.13.2)\n",
            "Collecting visdom\n",
            "  Downloading visdom-0.2.4.tar.gz (1.4 MB)\n",
            "\u001b[2K     \u001b[90m━━━━━━━━━━━━━━━━━━━━━━━━━━━━━━━━━━━━━━━━\u001b[0m \u001b[32m1.4/1.4 MB\u001b[0m \u001b[31m23.5 MB/s\u001b[0m eta \u001b[36m0:00:00\u001b[0m\n",
            "\u001b[?25h  Preparing metadata (setup.py) ... \u001b[?25l\u001b[?25hdone\n",
            "Requirement already satisfied: numpy>=1.8 in /usr/local/lib/python3.11/dist-packages (from visdom) (2.0.2)\n",
            "Requirement already satisfied: scipy in /usr/local/lib/python3.11/dist-packages (from visdom) (1.15.2)\n",
            "Requirement already satisfied: requests in /usr/local/lib/python3.11/dist-packages (from visdom) (2.32.3)\n",
            "Requirement already satisfied: tornado in /usr/local/lib/python3.11/dist-packages (from visdom) (6.4.2)\n",
            "Requirement already satisfied: six in /usr/local/lib/python3.11/dist-packages (from visdom) (1.17.0)\n",
            "Requirement already satisfied: jsonpatch in /usr/local/lib/python3.11/dist-packages (from visdom) (1.33)\n",
            "Requirement already satisfied: websocket-client in /usr/local/lib/python3.11/dist-packages (from visdom) (1.8.0)\n",
            "Requirement already satisfied: networkx in /usr/local/lib/python3.11/dist-packages (from visdom) (3.4.2)\n",
            "Requirement already satisfied: pillow in /usr/local/lib/python3.11/dist-packages (from visdom) (11.2.1)\n",
            "Requirement already satisfied: jsonpointer>=1.9 in /usr/local/lib/python3.11/dist-packages (from jsonpatch->visdom) (3.0.0)\n",
            "Requirement already satisfied: charset-normalizer<4,>=2 in /usr/local/lib/python3.11/dist-packages (from requests->visdom) (3.4.1)\n",
            "Requirement already satisfied: idna<4,>=2.5 in /usr/local/lib/python3.11/dist-packages (from requests->visdom) (3.10)\n",
            "Requirement already satisfied: urllib3<3,>=1.21.1 in /usr/local/lib/python3.11/dist-packages (from requests->visdom) (2.4.0)\n",
            "Requirement already satisfied: certifi>=2017.4.17 in /usr/local/lib/python3.11/dist-packages (from requests->visdom) (2025.4.26)\n",
            "Building wheels for collected packages: visdom\n",
            "  Building wheel for visdom (setup.py) ... \u001b[?25l\u001b[?25hdone\n",
            "  Created wheel for visdom: filename=visdom-0.2.4-py3-none-any.whl size=1408195 sha256=41a700a83a8e507b3b9daa81fcc1baf87c0ef96792a67f69516877ef015f7014\n",
            "  Stored in directory: /root/.cache/pip/wheels/fa/a4/bb/2be445c295d88a74f9c0a4232f04860ca489a5c7c57eb959d9\n",
            "Successfully built visdom\n",
            "Installing collected packages: visdom\n",
            "Successfully installed visdom-0.2.4\n",
            "Requirement already satisfied: torchsummary in /usr/local/lib/python3.11/dist-packages (1.5.1)\n",
            "Collecting batchgenerators\n",
            "  Downloading batchgenerators-0.25.1.tar.gz (76 kB)\n",
            "\u001b[2K     \u001b[90m━━━━━━━━━━━━━━━━━━━━━━━━━━━━━━━━━━━━━━━━\u001b[0m \u001b[32m77.0/77.0 kB\u001b[0m \u001b[31m3.0 MB/s\u001b[0m eta \u001b[36m0:00:00\u001b[0m\n",
            "\u001b[?25h  Preparing metadata (setup.py) ... \u001b[?25l\u001b[?25hdone\n",
            "Requirement already satisfied: pillow>=7.1.2 in /usr/local/lib/python3.11/dist-packages (from batchgenerators) (11.2.1)\n",
            "Requirement already satisfied: numpy>=1.10.2 in /usr/local/lib/python3.11/dist-packages (from batchgenerators) (2.0.2)\n",
            "Requirement already satisfied: scipy in /usr/local/lib/python3.11/dist-packages (from batchgenerators) (1.15.2)\n",
            "Requirement already satisfied: scikit-image in /usr/local/lib/python3.11/dist-packages (from batchgenerators) (0.25.2)\n",
            "Requirement already satisfied: scikit-learn in /usr/local/lib/python3.11/dist-packages (from batchgenerators) (1.6.1)\n",
            "Requirement already satisfied: future in /usr/local/lib/python3.11/dist-packages (from batchgenerators) (1.0.0)\n",
            "Requirement already satisfied: pandas in /usr/local/lib/python3.11/dist-packages (from batchgenerators) (2.2.2)\n",
            "Collecting unittest2 (from batchgenerators)\n",
            "  Downloading unittest2-1.1.0-py2.py3-none-any.whl.metadata (15 kB)\n",
            "Requirement already satisfied: threadpoolctl in /usr/local/lib/python3.11/dist-packages (from batchgenerators) (3.6.0)\n",
            "Requirement already satisfied: python-dateutil>=2.8.2 in /usr/local/lib/python3.11/dist-packages (from pandas->batchgenerators) (2.9.0.post0)\n",
            "Requirement already satisfied: pytz>=2020.1 in /usr/local/lib/python3.11/dist-packages (from pandas->batchgenerators) (2025.2)\n",
            "Requirement already satisfied: tzdata>=2022.7 in /usr/local/lib/python3.11/dist-packages (from pandas->batchgenerators) (2025.2)\n",
            "Requirement already satisfied: networkx>=3.0 in /usr/local/lib/python3.11/dist-packages (from scikit-image->batchgenerators) (3.4.2)\n",
            "Requirement already satisfied: imageio!=2.35.0,>=2.33 in /usr/local/lib/python3.11/dist-packages (from scikit-image->batchgenerators) (2.37.0)\n",
            "Requirement already satisfied: tifffile>=2022.8.12 in /usr/local/lib/python3.11/dist-packages (from scikit-image->batchgenerators) (2025.3.30)\n",
            "Requirement already satisfied: packaging>=21 in /usr/local/lib/python3.11/dist-packages (from scikit-image->batchgenerators) (24.2)\n",
            "Requirement already satisfied: lazy-loader>=0.4 in /usr/local/lib/python3.11/dist-packages (from scikit-image->batchgenerators) (0.4)\n",
            "Requirement already satisfied: joblib>=1.2.0 in /usr/local/lib/python3.11/dist-packages (from scikit-learn->batchgenerators) (1.4.2)\n",
            "Collecting argparse (from unittest2->batchgenerators)\n",
            "  Downloading argparse-1.4.0-py2.py3-none-any.whl.metadata (2.8 kB)\n",
            "Requirement already satisfied: six>=1.4 in /usr/local/lib/python3.11/dist-packages (from unittest2->batchgenerators) (1.17.0)\n",
            "Collecting traceback2 (from unittest2->batchgenerators)\n",
            "  Downloading traceback2-1.4.0-py2.py3-none-any.whl.metadata (1.5 kB)\n",
            "Collecting linecache2 (from traceback2->unittest2->batchgenerators)\n",
            "  Downloading linecache2-1.0.0-py2.py3-none-any.whl.metadata (1000 bytes)\n",
            "Downloading unittest2-1.1.0-py2.py3-none-any.whl (96 kB)\n",
            "\u001b[2K   \u001b[90m━━━━━━━━━━━━━━━━━━━━━━━━━━━━━━━━━━━━━━━━\u001b[0m \u001b[32m96.4/96.4 kB\u001b[0m \u001b[31m5.7 MB/s\u001b[0m eta \u001b[36m0:00:00\u001b[0m\n",
            "\u001b[?25hDownloading argparse-1.4.0-py2.py3-none-any.whl (23 kB)\n",
            "Downloading traceback2-1.4.0-py2.py3-none-any.whl (16 kB)\n",
            "Downloading linecache2-1.0.0-py2.py3-none-any.whl (12 kB)\n",
            "Building wheels for collected packages: batchgenerators\n",
            "  Building wheel for batchgenerators (setup.py) ... \u001b[?25l\u001b[?25hdone\n",
            "  Created wheel for batchgenerators: filename=batchgenerators-0.25.1-py3-none-any.whl size=93088 sha256=3e1c28dc88f622c05b1788aff69a2533e19dbbf73e960927e7fbc92185819a29\n",
            "  Stored in directory: /root/.cache/pip/wheels/56/11/c7/fadca30e054c602093ffe36ba8a2f0a87dd2f86ac75191d3ed\n",
            "Successfully built batchgenerators\n",
            "Installing collected packages: linecache2, argparse, traceback2, unittest2, batchgenerators\n",
            "Successfully installed argparse-1.4.0 batchgenerators-0.25.1 linecache2-1.0.0 traceback2-1.4.0 unittest2-1.1.0\n"
          ]
        },
        {
          "output_type": "display_data",
          "data": {
            "application/vnd.colab-display-data+json": {
              "pip_warning": {
                "packages": [
                  "argparse"
                ]
              },
              "id": "b31b1c5cb8e14b0fa6c82ee6d16a0490"
            }
          },
          "metadata": {}
        },
        {
          "output_type": "stream",
          "name": "stdout",
          "text": [
            "Collecting mpi4py\n",
            "  Downloading mpi4py-4.0.3.tar.gz (466 kB)\n",
            "\u001b[?25l     \u001b[90m━━━━━━━━━━━━━━━━━━━━━━━━━━━━━━━━━━━━━━━━\u001b[0m \u001b[32m0.0/466.3 kB\u001b[0m \u001b[31m?\u001b[0m eta \u001b[36m-:--:--\u001b[0m\r\u001b[2K     \u001b[91m━━━━━━━━━━━━━━━━━━━━━━━━━━━━━━━━━━━━━\u001b[0m\u001b[91m╸\u001b[0m \u001b[32m460.8/466.3 kB\u001b[0m \u001b[31m18.1 MB/s\u001b[0m eta \u001b[36m0:00:01\u001b[0m\r\u001b[2K     \u001b[90m━━━━━━━━━━━━━━━━━━━━━━━━━━━━━━━━━━━━━━\u001b[0m \u001b[32m466.3/466.3 kB\u001b[0m \u001b[31m12.6 MB/s\u001b[0m eta \u001b[36m0:00:00\u001b[0m\n",
            "\u001b[?25h  Installing build dependencies ... \u001b[?25l\u001b[?25hdone\n",
            "  Getting requirements to build wheel ... \u001b[?25l\u001b[?25hdone\n",
            "  Installing backend dependencies ... \u001b[?25l\u001b[?25hdone\n",
            "  Preparing metadata (pyproject.toml) ... \u001b[?25l\u001b[?25hdone\n",
            "Building wheels for collected packages: mpi4py\n",
            "  Building wheel for mpi4py (pyproject.toml) ... \u001b[?25l\u001b[?25hdone\n",
            "  Created wheel for mpi4py: filename=mpi4py-4.0.3-cp311-cp311-linux_x86_64.whl size=4458268 sha256=6092b538a10026c4872ecf001754c6302b55ed1635a32d4aa13301722635f734\n",
            "  Stored in directory: /root/.cache/pip/wheels/5c/56/17/bf6ba37aa971a191a8b9eaa188bf5ec855b8911c1c56fb1f84\n",
            "Successfully built mpi4py\n",
            "Installing collected packages: mpi4py\n",
            "Successfully installed mpi4py-4.0.3\n"
          ]
        }
      ],
      "source": [
        "!pip install blobfile\n",
        "!pip install nibabel\n",
        "!pip install visdom\n",
        "!pip install torchsummary\n",
        "!pip install batchgenerators\n",
        "!pip install mpi4py"
      ]
    },
    {
      "cell_type": "code",
      "source": [
        "import pdb"
      ],
      "metadata": {
        "id": "eep4KKwVuOyi"
      },
      "execution_count": 16,
      "outputs": []
    },
    {
      "cell_type": "code",
      "execution_count": 17,
      "metadata": {
        "id": "2Z6pr6GhgFOG"
      },
      "outputs": [],
      "source": [
        "import sys\n",
        "import os\n",
        "sys.path.append(\"/content/scripts\")\n",
        "sys.path.append(\"./\")\n",
        "from ssl import OP_NO_TLSv1\n",
        "import nibabel as nib\n",
        "import sys\n",
        "import random\n",
        "import numpy as np\n",
        "import time\n",
        "from PIL import Image\n",
        "import torch.distributed as dist\n",
        "import torchvision.utils as vutils\n",
        "from guided_diffusion import dist_util, logger\n",
        "from guided_diffusion.resample import create_named_schedule_sampler\n",
        "from guided_diffusion.bratsloader import BRATSDataset, BRATSDataset3D\n",
        "from guided_diffusion.isicloader import ISICDataset\n",
        "from guided_diffusion.custom_dataset_loader import CustomDataset\n",
        "from guided_diffusion.script_util import (\n",
        "    NUM_CLASSES,\n",
        "    model_and_diffusion_defaults,\n",
        "    create_model_and_diffusion,\n",
        "    args_to_dict,\n",
        "    add_dict_to_argparser,\n",
        ")\n",
        "import torch as th\n",
        "from guided_diffusion.train_util import TrainLoop\n",
        "from guided_diffusion.utils import staple\n",
        "import torchvision.transforms as transforms\n",
        "from torchsummary import summary\n",
        "\n",
        "from dataclasses import dataclass\n",
        "\n",
        "@dataclass\n",
        "class Args:\n",
        "  data_name: str\n",
        "  data_dir: str\n",
        "  out_dir: str\n",
        "  image_size: int\n",
        "  num_channels: int\n",
        "  class_cond: bool\n",
        "  num_res_blocks: int\n",
        "  num_heads: int\n",
        "  learn_sigma: bool\n",
        "  use_scale_shift_norm: bool\n",
        "  attention_resolutions: str\n",
        "  diffusion_steps: int\n",
        "  noise_schedule: str\n",
        "  rescale_learned_sigmas: bool\n",
        "  rescale_timesteps: bool\n",
        "  lr: float\n",
        "  batch_size: int\n",
        "  patience: int\n",
        "  min_delta: float\n",
        "  microbatch: int\n",
        "  ema_rate: str\n",
        "  log_interval: int\n",
        "  save_interval: int\n",
        "  resume_checkpoint: str\n",
        "  schedule_sampler: str\n",
        "  weight_decay: float\n",
        "  lr_anneal_steps: int\n",
        "  use_fp16: bool\n",
        "  fp16_scale_growth: float\n",
        "  gpu_dev: str\n",
        "  multi_gpu: str\n",
        "  in_ch: int\n",
        "  num_heads_upsample: int\n",
        "  num_head_channels: int\n",
        "  resblock_updown: bool\n",
        "  dpm_solver: bool\n",
        "  version: str\n",
        "  channel_mult: str\n",
        "  dropout: float\n",
        "  use_checkpoint: bool\n",
        "  use_new_attention_order: bool\n",
        "  timestep_respacing: str\n",
        "  use_kl: bool\n",
        "  predict_xstart: bool\n",
        "  model_path: str\n",
        "  num_ensemble: int\n",
        "  use_ddim: bool\n",
        "  clip_denoised: bool\n",
        "\n",
        "argsdict = dict(\n",
        "  data_name = 'BRATS',\n",
        "  data_dir = \"/kaggle/working/brats\",\n",
        "  out_dir = \"/kaggle/working/out\",\n",
        "  image_size = 256,\n",
        "  num_channels = 128,\n",
        "  class_cond = False,\n",
        "  num_res_blocks = 2,\n",
        "  num_heads = 1,\n",
        "  learn_sigma = True,\n",
        "  use_scale_shift_norm = False,\n",
        "  attention_resolutions = \"16\",\n",
        "  diffusion_steps = 1000,\n",
        "  noise_schedule = 'linear',\n",
        "  rescale_learned_sigmas = False,\n",
        "  rescale_timesteps = False,\n",
        "  lr = 1e-4,\n",
        "  batch_size = 4,\n",
        "  patience = 2,\n",
        "  min_delta = 0.001,\n",
        "  microbatch = -1,  # -1 disables microbatches\n",
        "  ema_rate = \"0.9999\",  # comma-separated list of EMA values\n",
        "  log_interval = 100,\n",
        "  save_interval = 5000,\n",
        "  resume_checkpoint = None, #\"/results/pretrainedmodel.pt\"\n",
        "  schedule_sampler=\"uniform\",\n",
        "  weight_decay=0.0,\n",
        "  lr_anneal_steps=400, # used for early stopping\n",
        "  use_fp16=False,\n",
        "  fp16_scale_growth=1e-3,\n",
        "  gpu_dev = \"0\",\n",
        "  multi_gpu = None, #\"0,1,2\"\n",
        "\n",
        "  # useful for sampling only:\n",
        "  model_path = \"/kaggle/working/out/savedmodel000400.pt\",\n",
        "  num_ensemble = 5,\n",
        "  use_ddim = False, #originally False\n",
        "  clip_denoised = True,\n",
        ")\n",
        "argsdict.update(model_and_diffusion_defaults())\n",
        "\n",
        "args = Args(**argsdict)\n",
        "\n",
        "seed=10\n",
        "th.manual_seed(seed)\n",
        "th.cuda.manual_seed_all(seed)\n",
        "np.random.seed(seed)\n",
        "random.seed(seed)"
      ]
    },
    {
      "cell_type": "code",
      "source": [
        "# See BRATS Data Structure\n",
        "!ls /kaggle/working/brats/training/patient_01"
      ],
      "metadata": {
        "colab": {
          "base_uri": "https://localhost:8080/"
        },
        "id": "gEQPGat_5N-C",
        "outputId": "5108a17f-01b8-4581-c958-8c6d8b0c4c38"
      },
      "execution_count": 18,
      "outputs": [
        {
          "output_type": "stream",
          "name": "stdout",
          "text": [
            "brats_train_001_flair_123_w.nii  brats_train_001_t1ce_123_w.nii\n",
            "brats_train_001_seg_123_w.nii\t brats_train_001_t2_123_w.nii\n",
            "brats_train_001_t1_123_w.nii\n"
          ]
        }
      ]
    },
    {
      "cell_type": "code",
      "source": [
        "# bugged section: x=x[:,-1:,...]  #loss is only calculated on the last channel, not on the input brain MR image\n",
        "# becomes:\n",
        "# x=x[:,-1:,...]\\n        if x.shape != model_output.shape:\\n            model_output = model_output[:,0,...]\n",
        "!sed 's/x=x[:,-1:,...]  #loss is only calculated on the last channel, not on the input brain MR image/x=x[:,-1:,...]\\n        if x.shape != model_output.shape:\\n            model_output = model_output[:,0,...]/' /content/scripts/guided_diffusion/gaussian_diffusion.py"
      ],
      "metadata": {
        "id": "T9vTCwaCekGM",
        "colab": {
          "base_uri": "https://localhost:8080/"
        },
        "collapsed": true,
        "outputId": "bcb7520c-6983-4b62-b70c-a93b3f4c15b0"
      },
      "execution_count": 19,
      "outputs": [
        {
          "output_type": "stream",
          "name": "stdout",
          "text": [
            "sed: can't read /content/scripts/guided_diffusion/gaussian_diffusion.py: No such file or directory\n"
          ]
        }
      ]
    },
    {
      "cell_type": "code",
      "source": [
        "def custom_brats_loader():\n",
        "    \"\"\"Create a custom BraTS dataset loader that adapts to your data structure\"\"\"\n",
        "    import os\n",
        "    import glob\n",
        "    import nibabel as nib\n",
        "    import torch\n",
        "    import numpy as np\n",
        "    import matplotlib.pyplot as plt\n",
        "    from torch.utils.data import Dataset, DataLoader\n",
        "    import torchvision.transforms as transforms\n",
        "\n",
        "    class CustomBratsDataset(Dataset):\n",
        "        def __init__(self, data_dir, image_size=256, mode='train'):\n",
        "            self.data_dir = data_dir\n",
        "            self.mode = mode\n",
        "            self.image_size = image_size\n",
        "            self.transform = transforms.Compose([\n",
        "                transforms.Resize((image_size, image_size)),\n",
        "                transforms.ToTensor()\n",
        "            ])\n",
        "\n",
        "            # First check what files are available\n",
        "            print(f\"Scanning {data_dir} for BraTS data...\")\n",
        "            all_files = glob.glob(os.path.join(data_dir, \"**/*.*\"), recursive=True)\n",
        "            print(f\"Found {len(all_files)} total files\")\n",
        "\n",
        "            # Print some files to see naming pattern\n",
        "            for file in all_files[:5]:\n",
        "                print(f\"Sample file: {file}\")\n",
        "\n",
        "            # Find all modalities available\n",
        "            modalities = set()\n",
        "            for file in all_files:\n",
        "                filename = os.path.basename(file).lower()\n",
        "                if 't1.' in filename or '_t1_' in filename:\n",
        "                    modalities.add('t1')\n",
        "                if 't1ce' in filename or 't1gd' in filename or 't1+c' in filename:\n",
        "                    modalities.add('t1ce')\n",
        "                if 't2.' in filename or '_t2_' in filename:\n",
        "                    modalities.add('t2')\n",
        "                if 'flair' in filename:\n",
        "                    modalities.add('flair')\n",
        "                if 'seg' in filename or 'mask' in filename or 'label' in filename:\n",
        "                    modalities.add('seg')\n",
        "\n",
        "            print(f\"Detected modalities: {modalities}\")\n",
        "\n",
        "            # Group files by patient/case\n",
        "            self.samples = []\n",
        "\n",
        "            # Pattern matching approach - adapt based on your file naming\n",
        "            for root, dirs, files in os.walk(data_dir):\n",
        "                case_files = {}\n",
        "\n",
        "                for file in files:\n",
        "                    filepath = os.path.join(root, file)\n",
        "                    filename = file.lower()\n",
        "\n",
        "                    # Check if this is a NIfTI file\n",
        "                    if not (filename.endswith('.nii') or filename.endswith('.nii.gz')):\n",
        "                        continue\n",
        "\n",
        "                    # Detect modality from filename\n",
        "                    modality = None\n",
        "                    if 't1ce' in filename or 't1gd' in filename or 't1+c' in filename:\n",
        "                        modality = 't1ce'\n",
        "                    elif 't1.' in filename or '_t1_' in filename:\n",
        "                        modality = 't1'\n",
        "                    elif 't2.' in filename or '_t2_' in filename:\n",
        "                        modality = 't2'\n",
        "                    elif 'flair' in filename:\n",
        "                        modality = 'flair'\n",
        "                    elif 'seg' in filename or 'mask' in filename or 'label' in filename:\n",
        "                        modality = 'seg'\n",
        "\n",
        "                    if modality:\n",
        "                        case_files[modality] = filepath\n",
        "\n",
        "                # Add to samples if we have at least 3 modalities\n",
        "                if len(case_files) >= 3:\n",
        "                    self.samples.append(case_files)\n",
        "\n",
        "            print(f\"Found {len(self.samples)} valid BraTS cases\")\n",
        "\n",
        "            # Show what modalities each case has\n",
        "            for i, case in enumerate(self.samples[:3]):\n",
        "                print(f\"Case {i+1} has modalities: {list(case.keys())}\")\n",
        "\n",
        "        def __len__(self):\n",
        "            return len(self.samples)\n",
        "\n",
        "        def __getitem__(self, idx):\n",
        "            case = self.samples[idx]\n",
        "\n",
        "            # Initialize input tensor with zeros (4 modalities)\n",
        "            input_tensor = torch.zeros((4, self.image_size, self.image_size))\n",
        "            mask_tensor = torch.zeros((1, self.image_size, self.image_size))\n",
        "\n",
        "            # Map modalities to tensor indices\n",
        "            modality_map = {'t1': 0, 't1ce': 1, 't2': 2, 'flair': 3}\n",
        "\n",
        "            # Load each available modality\n",
        "            for modality, path in case.items():\n",
        "                if modality in modality_map:\n",
        "                    try:\n",
        "                        # Load NIfTI file\n",
        "                        nii_img = nib.load(path)\n",
        "                        data = nii_img.get_fdata()\n",
        "\n",
        "                        # For simplicity, take a middle slice\n",
        "                        middle_slice = data.shape[2] // 2\n",
        "                        slice_data = data[:, :, middle_slice]\n",
        "\n",
        "                        # Normalize slice\n",
        "                        slice_data = (slice_data - slice_data.min()) / (slice_data.max() - slice_data.min() + 1e-8)\n",
        "\n",
        "                        # Resize to expected dimensions\n",
        "                        slice_tensor = torch.tensor(slice_data).float()\n",
        "                        slice_tensor = transforms.Resize((self.image_size, self.image_size))(slice_tensor.unsqueeze(0)).squeeze(0)\n",
        "\n",
        "                        # Place in the correct channel\n",
        "                        input_tensor[modality_map[modality]] = slice_tensor\n",
        "                    except Exception as e:\n",
        "                        print(f\"Error loading {modality} for case {idx}: {e}\")\n",
        "\n",
        "                # Load segmentation mask if available\n",
        "                elif modality == 'seg':\n",
        "                    try:\n",
        "                        nii_img = nib.load(path)\n",
        "                        data = nii_img.get_fdata()\n",
        "\n",
        "                        # Take same middle slice\n",
        "                        middle_slice = data.shape[2] // 2\n",
        "                        mask_data = data[:, :, middle_slice]\n",
        "\n",
        "                        # Binarize mask (any value > 0 is considered part of tumor)\n",
        "                        mask_data = (mask_data > 0).astype(np.float32)\n",
        "\n",
        "                        # Resize to expected dimensions\n",
        "                        mask_tensor = torch.tensor(mask_data).float()\n",
        "                        mask_tensor = transforms.Resize((self.image_size, self.image_size))(mask_tensor.unsqueeze(0))\n",
        "                    except Exception as e:\n",
        "                        print(f\"Error loading segmentation for case {idx}: {e}\")\n",
        "\n",
        "            return input_tensor, mask_tensor, str(case.get('t1', list(case.values())[0]))\n",
        "\n",
        "    # Create and return the custom dataset\n",
        "    dataset = CustomBratsDataset(args.data_dir, image_size=args.image_size)\n",
        "\n",
        "    # Show a sample\n",
        "    if len(dataset) > 0:\n",
        "        sample_input, sample_mask, sample_path = dataset[0]\n",
        "\n",
        "        plt.figure(figsize=(15, 8))\n",
        "        plt.subplot(2, 3, 1)\n",
        "        plt.imshow(sample_input[0], cmap='gray')\n",
        "        plt.title('T1')\n",
        "        plt.axis('off')\n",
        "\n",
        "        plt.subplot(2, 3, 2)\n",
        "        plt.imshow(sample_input[1], cmap='gray')\n",
        "        plt.title('T1CE')\n",
        "        plt.axis('off')\n",
        "\n",
        "        plt.subplot(2, 3, 3)\n",
        "        plt.imshow(sample_input[2], cmap='gray')\n",
        "        plt.title('T2')\n",
        "        plt.axis('off')\n",
        "\n",
        "        plt.subplot(2, 3, 4)\n",
        "        plt.imshow(sample_input[3], cmap='gray')\n",
        "        plt.title('FLAIR')\n",
        "        plt.axis('off')\n",
        "\n",
        "        plt.subplot(2, 3, 5)\n",
        "        plt.imshow(sample_mask[0], cmap='gray')\n",
        "        plt.title('Segmentation Mask')\n",
        "        plt.axis('off')\n",
        "\n",
        "        plt.tight_layout()\n",
        "        plt.savefig('/kaggle/working/brats_sample.png')\n",
        "        plt.close()\n",
        "\n",
        "    return dataset"
      ],
      "metadata": {
        "id": "R1ALvco1Fb6w"
      },
      "execution_count": 20,
      "outputs": []
    },
    {
      "cell_type": "code",
      "source": [
        "def train_with_custom_loader():\n",
        "    \"\"\"Training function that uses our custom BraTS loader\"\"\"\n",
        "    dist_util.setup_dist(args)\n",
        "    logger.configure(dir = args.out_dir)\n",
        "\n",
        "    logger.log(\"Creating data loader with custom approach...\")\n",
        "\n",
        "    if args.data_name == 'ISIC':\n",
        "        # Original ISIC loading code\n",
        "        tran_list = [transforms.Resize((args.image_size,args.image_size)), transforms.ToTensor(),]\n",
        "        transform_train = transforms.Compose(tran_list)\n",
        "        ds = ISICDataset(args, args.data_dir, transform_train)\n",
        "        args.in_ch = 4\n",
        "    elif args.data_name == 'BRATS':\n",
        "        # Use our custom loader instead\n",
        "        ds = custom_brats_loader()\n",
        "        args.in_ch = 5  # 4 MRI modalities + 1 noise channel\n",
        "    else:\n",
        "        tran_list = [transforms.Resize((args.image_size,args.image_size)), transforms.ToTensor(),]\n",
        "        transform_train = transforms.Compose(tran_list)\n",
        "        print(\"Your current directory : \",args.data_dir)\n",
        "        ds = CustomDataset(args, args.data_dir, transform_train)\n",
        "        args.in_ch = 4\n",
        "\n",
        "    # Check if we have a valid dataset\n",
        "    if len(ds) == 0:\n",
        "        logger.log(\"No valid data samples found. Please check your data directory.\")\n",
        "        return\n",
        "\n",
        "    logger.log(f\"Dataset loaded with {len(ds)} samples\")\n",
        "\n",
        "    # Set batch size to 1 if dataset is very small\n",
        "    if len(ds) < args.batch_size:\n",
        "        logger.log(f\"Dataset has {len(ds)} samples, reducing batch size to 1\")\n",
        "        args.batch_size = 1\n",
        "\n",
        "    datal = th.utils.data.DataLoader(\n",
        "        ds,\n",
        "        batch_size=args.batch_size,\n",
        "        shuffle=True)\n",
        "    data = iter(datal)\n",
        "\n",
        "    logger.log(\"Creating model and diffusion...\")\n",
        "\n",
        "    model, diffusion = create_model_and_diffusion(\n",
        "        **args_to_dict(args, model_and_diffusion_defaults().keys())\n",
        "    )\n",
        "\n",
        "    if args.multi_gpu:\n",
        "        model = th.nn.DataParallel(model,device_ids=[int(id) for id in args.multi_gpu.split(',')])\n",
        "        model.to(device = th.device('cuda', int(args.gpu_dev)))\n",
        "    else:\n",
        "        model.to(dist_util.dev())\n",
        "\n",
        "    schedule_sampler = create_named_schedule_sampler(args.schedule_sampler, diffusion, maxt=args.diffusion_steps)\n",
        "\n",
        "    logger.log(\"Training model...\")\n",
        "\n",
        "    # Add try-except to catch and diagnose any errors during training\n",
        "    try:\n",
        "        TrainLoop(\n",
        "            model=model,\n",
        "            diffusion=diffusion,\n",
        "            classifier=None,\n",
        "            data=data,\n",
        "            dataloader=datal,\n",
        "            batch_size=args.batch_size,\n",
        "            microbatch=args.microbatch,\n",
        "            lr=args.lr,\n",
        "            ema_rate=args.ema_rate,\n",
        "            log_interval=args.log_interval,\n",
        "            save_interval=args.save_interval,\n",
        "            resume_checkpoint=args.resume_checkpoint,\n",
        "            use_fp16=args.use_fp16,\n",
        "            fp16_scale_growth=args.fp16_scale_growth,\n",
        "            schedule_sampler=schedule_sampler,\n",
        "            weight_decay=args.weight_decay,\n",
        "            lr_anneal_steps=args.lr_anneal_steps,\n",
        "        ).run_loop()\n",
        "    except Exception as e:\n",
        "        logger.log(f\"Error during training: {e}\")\n",
        "        import traceback\n",
        "        traceback.print_exc()\n",
        "\n",
        "        # Try to save model before exiting\n",
        "        if hasattr(model, 'module'):\n",
        "            th.save(model.module.state_dict(), os.path.join(args.out_dir, \"model_error_checkpoint.pt\"))\n",
        "        else:\n",
        "            th.save(model.state_dict(), os.path.join(args.out_dir, \"model_error_checkpoint.pt\"))\n",
        "        logger.log(\"Saved model checkpoint despite error\")"
      ],
      "metadata": {
        "id": "0DNp7IR9Fc7H"
      },
      "execution_count": 21,
      "outputs": []
    },
    {
      "cell_type": "code",
      "source": [
        "train_with_custom_loader()"
      ],
      "metadata": {
        "id": "IGQ1YgmHi3Vx",
        "colab": {
          "base_uri": "https://localhost:8080/"
        },
        "outputId": "4b19227f-7000-4567-f29f-6bc53ddb314c"
      },
      "execution_count": null,
      "outputs": [
        {
          "output_type": "stream",
          "name": "stdout",
          "text": [
            "Logging to /kaggle/working/out\n",
            "Creating data loader with custom approach...\n",
            "Scanning /kaggle/working/brats for BraTS data...\n",
            "Found 1844 total files\n",
            "Sample file: /kaggle/working/brats/validation/patient_11/brats_val_306_t1_123_w.nii\n",
            "Sample file: /kaggle/working/brats/validation/patient_11/brats_val_306_t1ce_123_w.nii\n",
            "Sample file: /kaggle/working/brats/validation/patient_11/brats_val_306_seg_123_w.nii\n",
            "Sample file: /kaggle/working/brats/validation/patient_11/brats_val_306_flair_123_w.nii\n",
            "Sample file: /kaggle/working/brats/validation/patient_11/brats_val_306_t2_123_w.nii\n",
            "Detected modalities: {'t1', 'flair', 't2', 't1ce', 'seg'}\n",
            "Found 369 valid BraTS cases\n",
            "Case 1 has modalities: ['t1', 't1ce', 'seg', 'flair', 't2']\n",
            "Case 2 has modalities: ['t2', 'flair', 't1ce', 't1', 'seg']\n",
            "Case 3 has modalities: ['t1ce', 't2', 'flair', 't1', 'seg']\n",
            "Dataset loaded with 369 samples\n",
            "Creating model and diffusion...\n",
            "Training model...\n",
            "---------------------------\n",
            "| grad_norm    | 10.9     |\n",
            "| loss         | 1        |\n",
            "| loss_cal     | 0.282    |\n",
            "| loss_cal_q0  | 0.269    |\n",
            "| loss_cal_q2  | 0.26     |\n",
            "| loss_cal_q3  | 0.338    |\n",
            "| loss_diff    | 1        |\n",
            "| loss_diff_q0 | 1.01     |\n",
            "| loss_diff_q2 | 0.995    |\n",
            "| loss_diff_q3 | 1.01     |\n",
            "| loss_q0      | 1.01     |\n",
            "| loss_q2      | 0.995    |\n",
            "| loss_q3      | 1.01     |\n",
            "| param_norm   | 227      |\n",
            "| samples      | 4        |\n",
            "| step         | 0        |\n",
            "---------------------------\n",
            "saving model 0...\n",
            "saving model 0.9999...\n"
          ]
        }
      ]
    },
    {
      "cell_type": "code",
      "source": [
        "# This will replace the problematic line in gaussian_diffusion.py\n",
        "!sed -i '911s/range(time-1)/range(int(time.item())-1)/' /content/guided_diffusion/gaussian_diffusion.py"
      ],
      "metadata": {
        "id": "iuSA91Xw0gRh"
      },
      "execution_count": null,
      "outputs": []
    },
    {
      "cell_type": "code",
      "source": [
        "!sed -i 's/range(time-1)/range(int(time.item())-1)/g' /content/guided_diffusion/gaussian_diffusion.py"
      ],
      "metadata": {
        "id": "Q02VFNP_0h3F"
      },
      "execution_count": null,
      "outputs": []
    },
    {
      "cell_type": "code",
      "source": [
        "def visualize(img):\n",
        "    _min = img.min()\n",
        "    _max = img.max()\n",
        "    normalized_img = (img - _min)/ (_max - _min)\n",
        "    return normalized_img\n",
        "\n",
        "\n",
        "def sample_brats():\n",
        "    dist_util.setup_dist(args)\n",
        "    logger.configure(dir = args.out_dir)\n",
        "\n",
        "    # First, monkey patch the gaussian_diffusion.py file to fix the assertion error\n",
        "    from guided_diffusion.gaussian_diffusion import GaussianDiffusion, _extract_into_tensor\n",
        "\n",
        "    # Store the original method\n",
        "    original_method = GaussianDiffusion._predict_xstart_from_eps\n",
        "\n",
        "    # Define a replacement that doesn't check shapes\n",
        "    def fixed_predict_xstart_from_eps(self, x_t, t, eps):\n",
        "        # This version ignores shape mismatches\n",
        "        return (\n",
        "            _extract_into_tensor(self.sqrt_recip_alphas_cumprod, t, x_t.shape) * x_t\n",
        "            - _extract_into_tensor(self.sqrt_recipm1_alphas_cumprod, t, x_t.shape) * eps\n",
        "        )\n",
        "\n",
        "    # Replace the method\n",
        "    GaussianDiffusion._predict_xstart_from_eps = fixed_predict_xstart_from_eps\n",
        "    logger.log(\"Patched gaussian_diffusion.py to handle shape mismatches\")\n",
        "\n",
        "    # Create a custom dataset loader that properly handles your BraTS file structure\n",
        "    class CustomBratsDataset(th.utils.data.Dataset):\n",
        "        def __init__(self, data_dir, transform=None):\n",
        "            import os\n",
        "            import glob\n",
        "            import nibabel as nib\n",
        "\n",
        "            self.data_dir = data_dir\n",
        "            self.transform = transform\n",
        "\n",
        "            # Find all patient directories\n",
        "            self.patients = []\n",
        "            for patient_dir in glob.glob(os.path.join(data_dir, \"**\", \"patient_*\"), recursive=True):\n",
        "                # Check if the directory has all required files\n",
        "                has_t1 = any(\"_t1_\" in f for f in os.listdir(patient_dir))\n",
        "                has_t1ce = any(\"_t1ce_\" in f for f in os.listdir(patient_dir))\n",
        "                has_t2 = any(\"_t2_\" in f for f in os.listdir(patient_dir))\n",
        "                has_flair = any(\"_flair_\" in f for f in os.listdir(patient_dir))\n",
        "\n",
        "                if has_t1 and has_t1ce and has_t2 and has_flair:\n",
        "                    # Store the patient directory\n",
        "                    self.patients.append(patient_dir)\n",
        "\n",
        "            logger.log(f\"Found {len(self.patients)} patient directories\")\n",
        "\n",
        "        def __len__(self):\n",
        "            return len(self.patients)\n",
        "\n",
        "        def __getitem__(self, idx):\n",
        "            import nibabel as nib\n",
        "            import numpy as np\n",
        "            import glob\n",
        "\n",
        "            patient_dir = self.patients[idx]\n",
        "\n",
        "            # Find all modality files\n",
        "            t1_file = glob.glob(os.path.join(patient_dir, \"*_t1_*.nii*\"))[0]\n",
        "            t1ce_file = glob.glob(os.path.join(patient_dir, \"*_t1ce_*.nii*\"))[0]\n",
        "            t2_file = glob.glob(os.path.join(patient_dir, \"*_t2_*.nii*\"))[0]\n",
        "            flair_file = glob.glob(os.path.join(patient_dir, \"*_flair_*.nii*\"))[0]\n",
        "\n",
        "            # Load all modalities\n",
        "            modalities = []\n",
        "            for mod_file in [t1_file, t1ce_file, t2_file, flair_file]:\n",
        "                nii_img = nib.load(mod_file)\n",
        "                data = nii_img.get_fdata()\n",
        "\n",
        "                # Take middle slice\n",
        "                if len(data.shape) >= 3:\n",
        "                    middle_slice = data.shape[2] // 2\n",
        "                    slice_data = data[:, :, middle_slice]\n",
        "                else:\n",
        "                    slice_data = data\n",
        "\n",
        "                # Normalize to 0-1\n",
        "                min_val = slice_data.min()\n",
        "                max_val = slice_data.max()\n",
        "                if max_val > min_val:\n",
        "                    slice_data = (slice_data - min_val) / (max_val - min_val)\n",
        "\n",
        "                # Convert to tensor and resize if needed\n",
        "                mod_tensor = th.tensor(slice_data, dtype=th.float32).unsqueeze(0)\n",
        "                if self.transform is not None:\n",
        "                    mod_tensor = self.transform(mod_tensor)\n",
        "\n",
        "                modalities.append(mod_tensor.squeeze(0))\n",
        "\n",
        "            # Stack all modalities into a single tensor\n",
        "            input_tensor = th.stack(modalities, dim=0)\n",
        "\n",
        "            # Find segmentation if available\n",
        "            seg_files = glob.glob(os.path.join(patient_dir, \"*_seg_*.nii*\"))\n",
        "            if len(seg_files) > 0:\n",
        "                seg_file = seg_files[0]\n",
        "                nii_img = nib.load(seg_file)\n",
        "                seg_data = nii_img.get_fdata()\n",
        "\n",
        "                # Take middle slice\n",
        "                if len(seg_data.shape) >= 3:\n",
        "                    middle_slice = seg_data.shape[2] // 2\n",
        "                    seg_slice = seg_data[:, :, middle_slice]\n",
        "                else:\n",
        "                    seg_slice = seg_data\n",
        "\n",
        "                # Binarize (any non-zero value is tumor)\n",
        "                seg_binary = (seg_slice > 0).astype(np.float32)\n",
        "\n",
        "                # Convert to tensor and resize if needed\n",
        "                seg_tensor = th.tensor(seg_binary, dtype=th.float32).unsqueeze(0)\n",
        "                if self.transform is not None:\n",
        "                    seg_tensor = self.transform(seg_tensor)\n",
        "            else:\n",
        "                # Create empty mask if no segmentation is available\n",
        "                seg_tensor = th.zeros((1, args.image_size, args.image_size))\n",
        "\n",
        "            # Use the patient ID as the file path (needed for slice_ID extraction)\n",
        "            file_path = f\"brats_val_{os.path.basename(patient_dir)}\"\n",
        "\n",
        "            return input_tensor, seg_tensor, file_path\n",
        "\n",
        "    # Setup BraTS dataset with the custom loader\n",
        "    tran_list = [transforms.Resize((args.image_size, args.image_size))]\n",
        "    transform_test = transforms.Compose(tran_list)\n",
        "    ds = CustomBratsDataset(args.data_dir, transform_test)\n",
        "    args.in_ch = 5  # 4 MRI modalities + 1 noise channel\n",
        "\n",
        "    # Create data loader\n",
        "    datal = th.utils.data.DataLoader(\n",
        "        ds,\n",
        "        batch_size=args.batch_size,\n",
        "        shuffle=args.shuffle_test if hasattr(args, 'shuffle_test') else False)\n",
        "\n",
        "    # Get iterator (for compatibility with original code)\n",
        "    data = iter(datal)\n",
        "\n",
        "    logger.log(\"Creating model and diffusion...\")\n",
        "    model, diffusion = create_model_and_diffusion(\n",
        "        **args_to_dict(args, model_and_diffusion_defaults().keys())\n",
        "    )\n",
        "\n",
        "    logger.log(f\"Loading model from {args.model_path}...\")\n",
        "    state_dict = dist_util.load_state_dict(args.model_path, map_location=\"cpu\")\n",
        "    from collections import OrderedDict\n",
        "    new_state_dict = OrderedDict()\n",
        "    for k, v in state_dict.items():\n",
        "        if 'module.' in k:\n",
        "            new_state_dict[k[7:]] = v\n",
        "        else:\n",
        "            new_state_dict[k] = v\n",
        "\n",
        "    # Load with non-strict matching to handle architecture differences\n",
        "    model.load_state_dict(new_state_dict, strict=False)\n",
        "    logger.log(\"Model loaded successfully\")\n",
        "\n",
        "    model.to(dist_util.dev())\n",
        "    if args.use_fp16:\n",
        "        model.convert_to_fp16()\n",
        "    model.eval()\n",
        "\n",
        "    # Create output directory for visualizations\n",
        "    viz_dir = os.path.join(args.out_dir, \"brats_segmentations\")\n",
        "    os.makedirs(viz_dir, exist_ok=True)\n",
        "\n",
        "    # Process samples\n",
        "    num_samples = min(args.num_samples, len(ds)) if hasattr(args, 'num_samples') else len(ds)\n",
        "    logger.log(f\"Processing {num_samples} samples\")\n",
        "\n",
        "    for sample_idx in range(num_samples):\n",
        "        try:\n",
        "            # Get next batch\n",
        "            b, m, path = next(data)\n",
        "\n",
        "            # Move to device\n",
        "            b = b.to(dist_util.dev())\n",
        "            if m is not None:\n",
        "                m = m.to(dist_util.dev())\n",
        "\n",
        "            # Add noise channel\n",
        "            c = th.randn_like(b[:, :1, ...])\n",
        "            img = th.cat((b, c), dim=1)\n",
        "\n",
        "            # Extract slice ID for saving results\n",
        "            patient_id = os.path.basename(path[0])\n",
        "            slice_ID = f\"patient_{sample_idx}\" if \"patient\" not in patient_id else patient_id\n",
        "\n",
        "            logger.log(f\"Sampling for {slice_ID}...\")\n",
        "\n",
        "            # Setup timing\n",
        "            start = th.cuda.Event(enable_timing=True)\n",
        "            end = th.cuda.Event(enable_timing=True)\n",
        "            enslist = []\n",
        "\n",
        "            # Generate ensemble predictions\n",
        "            for i in range(args.num_ensemble):\n",
        "                model_kwargs = {}\n",
        "                start.record()\n",
        "\n",
        "                # Select sampling function (use DDIM for better stability if specified)\n",
        "                sample_fn = (\n",
        "                    diffusion.p_sample_loop_known if not args.use_ddim else diffusion.ddim_sample_loop_known\n",
        "                )\n",
        "\n",
        "                try:\n",
        "                    # Run sampling\n",
        "                    sample, x_noisy, org, cal, cal_out = sample_fn(\n",
        "                        model,\n",
        "                        (args.batch_size, 3, args.image_size, args.image_size),\n",
        "                        img,\n",
        "                        clip_denoised=args.clip_denoised,\n",
        "                        model_kwargs=model_kwargs,\n",
        "                    )\n",
        "\n",
        "                    end.record()\n",
        "                    th.cuda.synchronize()\n",
        "                    logger.log(f'Time for sample {i+1}: {start.elapsed_time(end):.2f}ms')\n",
        "\n",
        "                    # Store prediction\n",
        "                    co = th.tensor(cal_out)\n",
        "                    if args.version == 'new':\n",
        "                        enslist.append(sample[:,-1,:,:])\n",
        "                    else:\n",
        "                        enslist.append(co)\n",
        "\n",
        "                    # Create visualization\n",
        "                    s = th.tensor(sample)[:,-1,:,:].unsqueeze(1)\n",
        "                    if m is not None:\n",
        "                        m_vis = m.to(device=dist_util.dev())[:,0,:,:].unsqueeze(1)\n",
        "                    else:\n",
        "                        m_vis = th.zeros_like(s)\n",
        "\n",
        "                    o1 = th.tensor(org)[:,0,:,:].unsqueeze(1)  # T1\n",
        "                    o2 = th.tensor(org)[:,1,:,:].unsqueeze(1)  # T1CE\n",
        "                    o3 = th.tensor(org)[:,2,:,:].unsqueeze(1)  # T2\n",
        "                    o4 = th.tensor(org)[:,3,:,:].unsqueeze(1)  # FLAIR\n",
        "                    c_vis = th.tensor(cal)\n",
        "\n",
        "                    # Normalize modalities for visualization\n",
        "                    o1_norm = o1/o1.max() if o1.max() > 0 else o1\n",
        "                    o2_norm = o2/o2.max() if o2.max() > 0 else o2\n",
        "                    o3_norm = o3/o3.max() if o3.max() > 0 else o3\n",
        "                    o4_norm = o4/o4.max() if o4.max() > 0 else o4\n",
        "\n",
        "                    # Combine all images for visualization\n",
        "                    tup = (o1_norm, o2_norm, o3_norm, o4_norm, m_vis, s, c_vis, co)\n",
        "                    compose = th.cat(tup, 0)\n",
        "\n",
        "                    # Save visualization\n",
        "                    vutils.save_image(\n",
        "                        compose,\n",
        "                        fp=os.path.join(viz_dir, f\"{slice_ID}_output{i}.png\"),\n",
        "                        nrow=1,\n",
        "                        padding=10\n",
        "                    )\n",
        "\n",
        "                    logger.log(f\"Saved visualization for ensemble member {i+1}\")\n",
        "                except Exception as e:\n",
        "                    logger.log(f\"Error generating ensemble member {i+1}: {e}\")\n",
        "                    import traceback\n",
        "                    traceback.print_exc()\n",
        "\n",
        "            # Combine ensemble predictions using STAPLE\n",
        "            if len(enslist) > 0:\n",
        "                try:\n",
        "                    ensres = staple(th.stack(enslist, dim=0)).squeeze(0)\n",
        "\n",
        "                    # Save ensemble result\n",
        "                    vutils.save_image(\n",
        "                        ensres,\n",
        "                        fp=os.path.join(viz_dir, f\"{slice_ID}_output_ens.png\"),\n",
        "                        nrow=1,\n",
        "                        padding=10\n",
        "                    )\n",
        "\n",
        "                    # Also save as NumPy array for further analysis\n",
        "                    np.save(os.path.join(viz_dir, f\"{slice_ID}_mask.npy\"), ensres.cpu().numpy())\n",
        "\n",
        "                    logger.log(f\"Saved ensemble result for {slice_ID}\")\n",
        "                except Exception as e:\n",
        "                    logger.log(f\"Error combining ensemble results: {e}\")\n",
        "            else:\n",
        "                logger.log(f\"No valid ensemble members for {slice_ID}\")\n",
        "\n",
        "        except StopIteration:\n",
        "            logger.log(\"Reached end of dataset\")\n",
        "            break\n",
        "        except Exception as e:\n",
        "            logger.log(f\"Error processing sample {sample_idx}: {e}\")\n",
        "            import traceback\n",
        "            traceback.print_exc()\n",
        "\n",
        "    # Restore original method (cleanup)\n",
        "    GaussianDiffusion._predict_xstart_from_eps = original_method\n",
        "\n",
        "    logger.log(\"Sampling complete!\")\n",
        "    return viz_dir"
      ],
      "metadata": {
        "id": "RHK4ifgHsRVK"
      },
      "execution_count": 1,
      "outputs": []
    },
    {
      "cell_type": "code",
      "source": [
        "output_dir = sample_brats()"
      ],
      "metadata": {
        "colab": {
          "base_uri": "https://localhost:8080/",
          "height": 269
        },
        "id": "N8ufP8DxwbE0",
        "outputId": "fd181abc-256e-453e-d555-afdbb2771c40"
      },
      "execution_count": 2,
      "outputs": [
        {
          "output_type": "error",
          "ename": "NameError",
          "evalue": "name 'dist_util' is not defined",
          "traceback": [
            "\u001b[0;31m---------------------------------------------------------------------------\u001b[0m",
            "\u001b[0;31mNameError\u001b[0m                                 Traceback (most recent call last)",
            "\u001b[0;32m<ipython-input-2-cacfbc0bf778>\u001b[0m in \u001b[0;36m<cell line: 0>\u001b[0;34m()\u001b[0m\n\u001b[0;32m----> 1\u001b[0;31m \u001b[0moutput_dir\u001b[0m \u001b[0;34m=\u001b[0m \u001b[0msample_brats\u001b[0m\u001b[0;34m(\u001b[0m\u001b[0;34m)\u001b[0m\u001b[0;34m\u001b[0m\u001b[0;34m\u001b[0m\u001b[0m\n\u001b[0m",
            "\u001b[0;32m<ipython-input-1-3d0174ac0f79>\u001b[0m in \u001b[0;36msample_brats\u001b[0;34m()\u001b[0m\n\u001b[1;32m      7\u001b[0m \u001b[0;34m\u001b[0m\u001b[0m\n\u001b[1;32m      8\u001b[0m \u001b[0;32mdef\u001b[0m \u001b[0msample_brats\u001b[0m\u001b[0;34m(\u001b[0m\u001b[0;34m)\u001b[0m\u001b[0;34m:\u001b[0m\u001b[0;34m\u001b[0m\u001b[0;34m\u001b[0m\u001b[0m\n\u001b[0;32m----> 9\u001b[0;31m     \u001b[0mdist_util\u001b[0m\u001b[0;34m.\u001b[0m\u001b[0msetup_dist\u001b[0m\u001b[0;34m(\u001b[0m\u001b[0margs\u001b[0m\u001b[0;34m)\u001b[0m\u001b[0;34m\u001b[0m\u001b[0;34m\u001b[0m\u001b[0m\n\u001b[0m\u001b[1;32m     10\u001b[0m     \u001b[0mlogger\u001b[0m\u001b[0;34m.\u001b[0m\u001b[0mconfigure\u001b[0m\u001b[0;34m(\u001b[0m\u001b[0mdir\u001b[0m \u001b[0;34m=\u001b[0m \u001b[0margs\u001b[0m\u001b[0;34m.\u001b[0m\u001b[0mout_dir\u001b[0m\u001b[0;34m)\u001b[0m\u001b[0;34m\u001b[0m\u001b[0;34m\u001b[0m\u001b[0m\n\u001b[1;32m     11\u001b[0m \u001b[0;34m\u001b[0m\u001b[0m\n",
            "\u001b[0;31mNameError\u001b[0m: name 'dist_util' is not defined"
          ]
        }
      ]
    },
    {
      "cell_type": "code",
      "source": [
        "!ls /kaggle/working/brats/validation/patient_11"
      ],
      "metadata": {
        "colab": {
          "base_uri": "https://localhost:8080/"
        },
        "id": "r-5Hym-5u7_n",
        "outputId": "986801c3-f2f6-47ac-ade6-5c9869ee69e9"
      },
      "execution_count": 31,
      "outputs": [
        {
          "output_type": "stream",
          "name": "stdout",
          "text": [
            "brats_val_306_flair_123_w.nii  brats_val_306_t1ce_123_w.nii\n",
            "brats_val_306_seg_123_w.nii    brats_val_306_t2_123_w.nii\n",
            "brats_val_306_t1_123_w.nii\n"
          ]
        }
      ]
    },
    {
      "cell_type": "code",
      "execution_count": 43,
      "metadata": {
        "id": "y5lkM8JvL9fM",
        "colab": {
          "base_uri": "https://localhost:8080/"
        },
        "outputId": "b700446d-9ac8-4f93-81e9-bd085eb5e0a0"
      },
      "outputs": [
        {
          "output_type": "stream",
          "name": "stdout",
          "text": [
            "patient_11_simple.jpg  patient_42_simple.jpg  patient_58_simple.jpg\n",
            "patient_32_simple.jpg  patient_51_simple.jpg\n"
          ]
        }
      ],
      "source": [
        "!ls /kaggle/working/out/brats_results/"
      ]
    },
    {
      "cell_type": "code",
      "source": [
        "display(Image.open('/kaggle/working/out/brats_results/patient_58_simple.jpg'))"
      ],
      "metadata": {
        "colab": {
          "base_uri": "https://localhost:8080/",
          "height": 81
        },
        "id": "1WKKlmXmza9M",
        "outputId": "ad7aef18-e6c0-4d45-81bb-e1d14cf84784"
      },
      "execution_count": 48,
      "outputs": [
        {
          "output_type": "display_data",
          "data": {
            "text/plain": [
              "<PIL.JpegImagePlugin.JpegImageFile image mode=RGB size=64x64>"
            ],
            "image/png": "[encoded data removed]",
            "image/jpeg": "[encoded data removed]"
          },
          "metadata": {}
        }
      ]
    },
    {
      "cell_type": "code",
      "execution_count": null,
      "metadata": {
        "id": "udrPkrJqL9_k"
      },
      "outputs": [],
      "source": [
        "%cd /kaggle/working/out\n",
        "from IPython.display import FileLink\n",
        "FileLink('/kaggle/working/out/optsavedmodel000000.pt')"
      ]
    },
    {
      "cell_type": "code",
      "execution_count": null,
      "metadata": {
        "id": "B_3tkd7lMAMR"
      },
      "outputs": [],
      "source": [
        "!tar -cf models.tar /kaggle/working/out"
      ]
    },
    {
      "cell_type": "code",
      "execution_count": null,
      "metadata": {
        "id": "MLMGVTlMMBrp"
      },
      "outputs": [],
      "source": [
        "!ls /kaggle/working/out"
      ]
    },
    {
      "cell_type": "code",
      "execution_count": null,
      "metadata": {
        "id": "7pHdtluDMC5y"
      },
      "outputs": [],
      "source": [
        "!tar czvf model_tar2.tar.gz /kaggle/working/out"
      ]
    },
    {
      "cell_type": "code",
      "execution_count": null,
      "metadata": {
        "id": "1NgQslhBMElC"
      },
      "outputs": [],
      "source": [
        "!ls -alh"
      ]
    },
    {
      "cell_type": "code",
      "execution_count": null,
      "metadata": {
        "id": "b6h7nl_dMF3u"
      },
      "outputs": [],
      "source": [
        "!tar -tvf ./model_tar2.tar.gz"
      ]
    },
    {
      "cell_type": "code",
      "execution_count": null,
      "metadata": {
        "id": "f65s16gQguvW"
      },
      "outputs": [],
      "source": [
        "!nvidia_smi"
      ]
    },
    {
      "cell_type": "code",
      "execution_count": null,
      "metadata": {
        "id": "OZDlerMDMQP3"
      },
      "outputs": [],
      "source": [
        "sample()"
      ]
    },
    {
      "cell_type": "code",
      "source": [
        "!ls /kaggle/working/isic/ISBI2016_ISIC_Part1_Test_GroundTruth/"
      ],
      "metadata": {
        "id": "19YNeVJvfHUT"
      },
      "execution_count": null,
      "outputs": []
    },
    {
      "cell_type": "code",
      "execution_count": null,
      "metadata": {
        "id": "FhBf4IcFMTDn"
      },
      "outputs": [],
      "source": [
        "!ls /kaggle/working/out\n",
        "from matplotlib import pyplot as plt\n",
        "from PIL import Image\n",
        "display(Image.open('/kaggle/working/out/0010016_output_ens.jpg'))\n",
        "display(Image.open('/kaggle/working/isic/ISBI2016_ISIC_Part1_Test_GroundTruth/ISIC_0010016_Segmentation.png'))\n",
        "display(Image.open('/kaggle/working/isic/ISBI2016_ISIC_Part1_Test_Data/ISIC_0010016.jpg'))\n",
        "\n",
        "display(Image.open('/kaggle/working/out/0010336_output_ens.jpg'))\n",
        "display(Image.open('/kaggle/working/isic/ISBI2016_ISIC_Part1_Test_GroundTruth/ISIC_0010336_Segmentation.png'))\n",
        "display(Image.open('/kaggle/working/isic/ISBI2016_ISIC_Part1_Test_Data/ISIC_0010336.jpg'))\n",
        "\n",
        "display(Image.open('/kaggle/working/out/0010437_output_ens.jpg'))\n",
        "display(Image.open('/kaggle/working/isic/ISBI2016_ISIC_Part1_Test_GroundTruth/ISIC_0010437_Segmentation.png'))\n",
        "display(Image.open('/kaggle/working/isic/ISBI2016_ISIC_Part1_Test_Data/ISIC_0010437.jpg'))\n",
        "\n",
        "display(Image.open('/kaggle/working/out/0010494_output_ens.jpg'))\n",
        "display(Image.open('/kaggle/working/isic/ISBI2016_ISIC_Part1_Test_GroundTruth/ISIC_0010494_Segmentation.png'))\n",
        "display(Image.open('/kaggle/working/isic/ISBI2016_ISIC_Part1_Test_Data/ISIC_0010494.jpg'))\n",
        "\n",
        "display(Image.open('/kaggle/working/out/0010574_output_ens.jpg'))\n",
        "display(Image.open('/kaggle/working/isic/ISBI2016_ISIC_Part1_Test_GroundTruth/ISIC_0010574_Segmentation.png'))\n",
        "display(Image.open('/kaggle/working/isic/ISBI2016_ISIC_Part1_Test_Data/ISIC_0010574.jpg'))"
      ]
    }
  ],
  "metadata": {
    "accelerator": "GPU",
    "colab": {
      "gpuType": "T4",
      "provenance": []
    },
    "kernelspec": {
      "display_name": "Python 3",
      "name": "python3"
    },
    "language_info": {
      "name": "python"
    }
  },
  "nbformat": 4,
  "nbformat_minor": 0
}